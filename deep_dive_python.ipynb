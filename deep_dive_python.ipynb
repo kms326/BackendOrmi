{
  "nbformat": 4,
  "nbformat_minor": 0,
  "metadata": {
    "colab": {
      "provenance": [],
      "authorship_tag": "ABX9TyMpH2j22GPOYJVL5HqL/Dvx",
      "include_colab_link": true
    },
    "kernelspec": {
      "name": "python3",
      "display_name": "Python 3"
    },
    "language_info": {
      "name": "python"
    }
  },
  "cells": [
    {
      "cell_type": "markdown",
      "metadata": {
        "id": "view-in-github",
        "colab_type": "text"
      },
      "source": [
        "<a href=\"https://colab.research.google.com/github/kms326/BackendOrmi/blob/main/deep_dive_python.ipynb\" target=\"_parent\"><img src=\"https://colab.research.google.com/assets/colab-badge.svg\" alt=\"Open In Colab\"/></a>"
      ]
    },
    {
      "cell_type": "markdown",
      "source": [
        "# colab 사용법\n"
      ],
      "metadata": {
        "id": "70SuH_SqvdlW"
      }
    },
    {
      "cell_type": "markdown",
      "source": [
        " 1. **실행 단축키**\n",
        "    1. (필수) `Ctrl(Command)` + `Enter` : 해당 셀 실행\n",
        "    2. `Shift` + `Enter` : 해당 셀 실행 + 커서를 다음 셀로 이동\n",
        "    3. (필수) `Alt(Option)` + `Enter` : 해당 셀 실행 + 코드 불록 하단 추가\n",
        "2. **셀 삽입/삭제 관련 단축키**\n",
        "    1. `Ctrl(Command)` + M A : 코드 셀 위에 삽입\n",
        "    2. `Ctrl(Command)` + M B : 코드 셀 아래 삽입\n",
        "    3. `Ctrl(Command)` + M D : 셀 지우기\n",
        "    4. `Ctrl(Command)` + M Y : 코드 셀로 변경\n",
        "    5. `Ctrl(Command)` + M M : 마크다운 셀로 변경\n",
        "    6. `Ctrl(Command)` + M Z : 실행 취소\n",
        "3. 수정 관련된 단축키\n",
        "    1. `Ctrl(Command)` + `Alt(Option)` + 화살표위아래 : 동시 수정\n",
        "    2. (자주) `Ctrl(Command)` + D : 같은 단어 찾아 동시 수정\n",
        "    3. `Ctrl(Command)` + `Shift` + L : 동일 단어를 전체로 찾아 동시 수정\n",
        "    4. `Alt(Option)` + `Shift` + 화살표위아래 : 해당내용을 위나 아래 복사해서 붙여넣기\n",
        "    5. `Alt(Option)` + 화살표위아래 : 해당 내용을 위나 아래로 보내기\n",
        "    6. (자주) `Ctrl(Command)` + `Alt(Option)` + 화살표위아래 : 위아래 동시 수정\n",
        "    7. (자주) Home, End : 문장의 양 끝\n",
        "    8. (필수) `Ctrl` + `/` : 주석\n",
        "    9. (필수) `Shift` + `Del` : 한 줄 지우기\n",
        "    10. (필수) `Tab`, `Ctrl` + `]` : 들여쓰기\n",
        "    11. (필수) `Shift` + `Tab`, `Ctrl` + `[` : 내어쓰기\n",
        "4. 단축키 보기 및 설정\n",
        "    1. `Ctrl(Command)` + M H : 단축키 모음\n",
        "  "
      ],
      "metadata": {
        "id": "yJ6XbPuJx9Qy"
      }
    },
    {
      "cell_type": "markdown",
      "source": [
        "# 마크다운"
      ],
      "metadata": {
        "id": "GgdaTRleyF7c"
      }
    },
    {
      "cell_type": "markdown",
      "source": [
        "* 필수 마크다운\n",
        "\n",
        "```\n",
        "  # hello\n",
        "  ## hello\n",
        "  ### hello\n",
        "\n",
        "  1. hello\n",
        "  2. hello\n",
        "  3. hello\n",
        "\n",
        "  * hello\n",
        "  * hello\n",
        "  * hello\n",
        "  ```\n",
        "* 선택 마크다운(필수가 아니니 부담가지지 마세요.)\n",
        "```\n",
        "# h1\n",
        "## h2\n",
        "### h3\n",
        "#### h4\n",
        "##### h5\n",
        "###### h6\n",
        "\n",
        "---\n",
        "\n",
        "1. hello\n",
        "2. hello\n",
        "3. hello\n",
        "\n",
        "* hello\n",
        "* hello\n",
        "* hello\n",
        "\n",
        "- hello\n",
        "- hello\n",
        "- hello\n",
        "\n",
        "__굵게__\n",
        "**굵게**\n",
        "_기울여 쓰기_\n",
        "*기울여 쓰기*\n",
        "~취소선~\n",
        "~~취소선~~\n",
        "\n",
        "> 인용문 작성하기\n",
        "`인라인 코드는 이렇게 작성해요.`\n",
        "\n",
        "[인라인 링크](https://velog.io/)\n",
        "\n",
        "![이미지 설명](이미지 링크)\n",
        "\n",
        "\n",
        "* table은 직접 만들지 마시고 https://www.tablesgenerator.com/markdown_tables 와 같은 서비스를 이용하세요.\n",
        "\n",
        "| 1 | 2     | 3 | 4 | 5     |\n",
        "|---|-------|---|---|-------|\n",
        "| 1 | hello | 3 | 4 | world |\n",
        "\n",
        "* [ ] hello\n",
        "* [X] hello\n",
        "\n",
        "```\n",
        "\n",
        "\n",
        "\n",
        "\n"
      ],
      "metadata": {
        "id": "0usAcK1jyN05"
      }
    },
    {
      "cell_type": "markdown",
      "source": [
        "# Python"
      ],
      "metadata": {
        "id": "SHzkcXHE4Dwo"
      }
    },
    {
      "cell_type": "code",
      "source": [
        "#행 단위 주석입니다.\n",
        "\n",
        "\"\"\"\n",
        "큰 따옴표로 세번 묶거나\n",
        "작은 따옴표로 세번 묶으면\n",
        "열단위 주석이 됩니다.\n",
        "\"\"\"\n",
        "#아래와 가팅 열단위 주석으로 text를 넣을 수도 있습니다.\n",
        "data='''\n",
        "큰 따옴표로 세번 묶거나\n",
        "작은 따옴표로 세번 묶으면\n",
        "열단위 주석이 됩니다.\n",
        "'''\n",
        "def connect_to_next_port(self, minimum: int) -> int:\n",
        "    \"\"\"Connects to the next available port.\n",
        "\n",
        "    Args:\n",
        "      minimum: A port value greater or equal to 1024.\n",
        "\n",
        "    Returns:\n",
        "      The new minimum port.\n",
        "\n",
        "    Raises:\n",
        "      ConnectionError: If no available port is found.\n",
        "    \"\"\"\n",
        "    if minimum < 1024:\n",
        "        # Note that this raising of ValueError is not mentioned in the doc\n",
        "        # string's \"Raises:\" section because it is not appropriate to\n",
        "        # guarantee this specific behavioral reaction to API misuse.\n",
        "        raise ValueError(f'Min. port must be at least 1024, not {minimum}.')\n",
        "    port = self._find_next_open_port(minimum)\n",
        "    if port is None:\n",
        "        raise ConnectionError(\n",
        "            f'Could not connect to service on port {minimum} or higher.')\n",
        "    assert port >= minimum, (\n",
        "        f'Unexpected port {port} when minimum was {minimum}.')\n",
        "    return port\n",
        "data\n"
      ],
      "metadata": {
        "colab": {
          "base_uri": "https://localhost:8080/",
          "height": 35
        },
        "id": "wq1hnuFk4Lo6",
        "outputId": "bcf1afc4-dfdb-4816-8094-584b6479ef36"
      },
      "execution_count": null,
      "outputs": [
        {
          "output_type": "execute_result",
          "data": {
            "text/plain": [
              "'\\n큰 따옴표로 세번 묶거나\\n작은 따옴표로 세번 묶으면\\n열단위 주석이 됩니다.\\n'"
            ],
            "application/vnd.google.colaboratory.intrinsic+json": {
              "type": "string"
            }
          },
          "metadata": {},
          "execution_count": 31
        }
      ]
    },
    {
      "cell_type": "code",
      "source": [
        "#행 단위 주석입니다.\n",
        "\n",
        "\"\"\"\n",
        "큰 따옴표로 세번 묶거나\n",
        "작은따옴표로 세번 묶으면\n",
        "열단위 주석이 됩니다.\n",
        "\"\"\"\n",
        "\n",
        "'''\n",
        "큰 따옴표로 세번 묶거나\n",
        "작은따옴표로 세번 묶으면\n",
        "열단위 주석이 됩니다.\n",
        "'''"
      ],
      "metadata": {
        "colab": {
          "base_uri": "https://localhost:8080/",
          "height": 35
        },
        "id": "lx4Eo4YjBnbb",
        "outputId": "432ea7f3-bcd5-4e6f-f581-cd8e1156c445"
      },
      "execution_count": null,
      "outputs": [
        {
          "output_type": "execute_result",
          "data": {
            "text/plain": [
              "'\\n큰 따옴표로 세번 묶거나\\n작은따옴표로 세번 묶으면\\n열단위 주석이 됩니다.\\n'"
            ],
            "application/vnd.google.colaboratory.intrinsic+json": {
              "type": "string"
            }
          },
          "metadata": {},
          "execution_count": 32
        }
      ]
    },
    {
      "cell_type": "code",
      "source": [
        "# 아래와 같이 열단위 주석으로 text를 넣을 수도 있습니다.\n",
        "data = '''\n",
        "큰 따옴표로 세번 묶거나\n",
        "작은따옴표로 세번 묶으면\n",
        "열단위 주석이 됩니다.\n",
        "'''\n",
        "\n",
        "data"
      ],
      "metadata": {
        "colab": {
          "base_uri": "https://localhost:8080/",
          "height": 35
        },
        "id": "Dw8BZZnKBjnc",
        "outputId": "6009ac53-a4eb-4e51-8668-7947445f639a"
      },
      "execution_count": null,
      "outputs": [
        {
          "output_type": "execute_result",
          "data": {
            "text/plain": [
              "'\\n큰 따옴표로 세번 묶거나\\n작은따옴표로 세번 묶으면\\n열단위 주석이 됩니다.\\n'"
            ],
            "application/vnd.google.colaboratory.intrinsic+json": {
              "type": "string"
            }
          },
          "metadata": {},
          "execution_count": 33
        }
      ]
    },
    {
      "cell_type": "markdown",
      "source": [],
      "metadata": {
        "id": "Z-jLxNq9BfMl"
      }
    },
    {
      "cell_type": "markdown",
      "source": [
        "* Code convention python\n",
        "* https://google.github.io/styleguide/\n",
        "* https://google.github.io/styleguide/pyguide.html"
      ],
      "metadata": {
        "id": "1HjxCKjZ4_BE"
      }
    },
    {
      "cell_type": "markdown",
      "source": [
        "connect_to_next_port"
      ],
      "metadata": {
        "id": "Xd6cnSeD6oRJ"
      }
    },
    {
      "cell_type": "code",
      "source": [
        "#띄어쓰기 4칸(tab(스페이스 4칸과 다릅니다!), 6칸, 7칸 다 작동합니다.)"
      ],
      "metadata": {
        "id": "UWuSqSPC6rma"
      },
      "execution_count": null,
      "outputs": []
    },
    {
      "cell_type": "code",
      "source": [
        "# 아래와 같이 탭과 띄어쓰기 4번을 혼용하시면 error가 납니다.\n",
        "for i in range(10):\n",
        "    print(i)\n",
        "    print('큰 따옴표로 세번 묶거나')"
      ],
      "metadata": {
        "colab": {
          "base_uri": "https://localhost:8080/"
        },
        "id": "if0p0ex07LZR",
        "outputId": "e4471b65-decc-4f12-a382-d5566c541215"
      },
      "execution_count": null,
      "outputs": [
        {
          "output_type": "stream",
          "name": "stdout",
          "text": [
            "0\n",
            "큰 따옴표로 세번 묶거나\n",
            "1\n",
            "큰 따옴표로 세번 묶거나\n",
            "2\n",
            "큰 따옴표로 세번 묶거나\n",
            "3\n",
            "큰 따옴표로 세번 묶거나\n",
            "4\n",
            "큰 따옴표로 세번 묶거나\n",
            "5\n",
            "큰 따옴표로 세번 묶거나\n",
            "6\n",
            "큰 따옴표로 세번 묶거나\n",
            "7\n",
            "큰 따옴표로 세번 묶거나\n",
            "8\n",
            "큰 따옴표로 세번 묶거나\n",
            "9\n",
            "큰 따옴표로 세번 묶거나\n"
          ]
        }
      ]
    },
    {
      "cell_type": "code",
      "source": [
        "a = 10     #int, 정수형\n",
        "b = 10.1   #float, 실수\n",
        "c = -1\n",
        "d = True   #bool, 논리형(부울형, 참거짓형)\n",
        "e = 'good'\n",
        "f = '10'   #str, 문자열\n",
        "g = 'kim'\n",
        "h = 'honggildong'\n",
        "i = 'example'\n",
        "j = 10 + 2j #complex, 복소수\n",
        "k = 0b110   #int, 2진법 \n",
        "l = 0o56    #int, 8진법\n",
        "m = 0xAC    #int, 16진법\n",
        "\n",
        "##########\n",
        "def hello():\n",
        "    return\n",
        "\n",
        "class A: #자동차 공장\n",
        "    pass\n",
        "\n",
        "n = hello # function\n",
        "o = print # bulit-in function (https://docs.python.org/3/library/functions.html)\n",
        "p = lambda x:x**2 # function\n",
        "q = int # type\n",
        "r = A # class\n",
        "s = A() # instance # 자동차\n",
        "##########\n",
        "\n",
        "print(f'type(10) : {type(a)}')\n",
        "print(f'type(10.1) : {type(b)}')\n",
        "print(f'type(-1) : {type(c)}')\n",
        "print(f'type(True) : {type(d)}')\n",
        "print(f'type(\\'good\\') : {type(e)}')\n",
        "print(f'type(\\'good\\'.upper) : {type(e.upper)}')\n",
        "print(f'\\'10\\' + \\'10\\' : {f + f}')\n",
        "print(f'\\'10\\' * 3 : {f * 3}')\n",
        "print(f'\\'hong\\' + \\'gildong\\' : {g + h}')\n",
        "print(f'type(\\'gildong\\') : {type(h)}')\n",
        "print(f'type(\\'gildong100!!\\') : {type(i)}')\n",
        "print(f'type(10 + 2j) : {type(j)}')\n",
        "print(f'type(0b110) : {type(k)}')\n",
        "print(k)\n",
        "print(f'type(0o56) : {type(i)}')\n",
        "print(i)\n",
        "print(f'type(0xAC) : {type(m)}')\n",
        "print(m)\n",
        "print(f'type(def func():...생략...) : {type(n)}')\n",
        "print(f'type(print) : {type(o)}')\n",
        "print(f'type(lambda x:x**2) : {type(p)}')\n",
        "print(f'type(int) : {type(int)}')"
      ],
      "metadata": {
        "colab": {
          "base_uri": "https://localhost:8080/"
        },
        "id": "htQgkuid8AIe",
        "outputId": "820c1415-0054-4bcc-f17b-6f529449f3f5"
      },
      "execution_count": null,
      "outputs": [
        {
          "output_type": "stream",
          "name": "stdout",
          "text": [
            "type(10) : <class 'int'>\n",
            "type(10.1) : <class 'float'>\n",
            "type(-1) : <class 'int'>\n",
            "type(True) : <class 'bool'>\n",
            "type('good') : <class 'str'>\n",
            "type('good'.upper) : <class 'builtin_function_or_method'>\n",
            "'10' + '10' : 1010\n",
            "'10' * 3 : 101010\n",
            "'hong' + 'gildong' : kimhonggildong\n",
            "type('gildong') : <class 'str'>\n",
            "type('gildong100!!') : <class 'str'>\n",
            "type(10 + 2j) : <class 'complex'>\n",
            "type(0b110) : <class 'int'>\n",
            "6\n",
            "type(0o56) : <class 'str'>\n",
            "example\n",
            "type(0xAC) : <class 'int'>\n",
            "172\n",
            "type(def func():...생략...) : <class 'function'>\n",
            "type(print) : <class 'builtin_function_or_method'>\n",
            "type(lambda x:x**2) : <class 'function'>\n",
            "type(int) : <class 'type'>\n"
          ]
        }
      ]
    },
    {
      "cell_type": "code",
      "source": [
        "# 이스케이프 문자\n",
        "#https://ko.wikipedia.org/wiki/%EC%9D%B4%EC%8A%A4%EC%BC%80%EC%9D%B4%ED%94%84_%EB%AC%B8%EC%9E%90\n",
        "print('hello \\n world')\n",
        "print('hello \\t world')\n",
        "print('hello \\' world')\n",
        "print('hello \\\" world')"
      ],
      "metadata": {
        "colab": {
          "base_uri": "https://localhost:8080/"
        },
        "id": "UeNFfvsu-O6v",
        "outputId": "f00732b6-07a9-4a66-a23c-ceef4679691a"
      },
      "execution_count": null,
      "outputs": [
        {
          "output_type": "stream",
          "name": "stdout",
          "text": [
            "hello \n",
            " world\n",
            "hello \t world\n",
            "hello ' world\n",
            "hello \" world\n"
          ]
        }
      ]
    },
    {
      "cell_type": "code",
      "source": [
        "# type -> string\n",
        "hello = 10\n",
        "print(r'hello \\n world') #str -> raw (Django 2.x까지 url parsing을 이렇게 사용하고 있어요.)\n",
        "print(f'hello \\n world{hello}') # 앞으로 f-string 기법\n",
        "print('hello world{}'.format(hello))"
      ],
      "metadata": {
        "colab": {
          "base_uri": "https://localhost:8080/"
        },
        "id": "5VfCYYBM_wnM",
        "outputId": "0e07502d-8b6c-4697-975b-d9b84afbbddd"
      },
      "execution_count": null,
      "outputs": [
        {
          "output_type": "stream",
          "name": "stdout",
          "text": [
            "hello \\n world\n",
            "hello \n",
            " world10\n",
            "hello world10\n"
          ]
        }
      ]
    },
    {
      "cell_type": "code",
      "source": [
        "# type -> float\n",
        "# 오일러의 수를 모른다 해서, 수학 연산이 약하다 해서 우리 수업에 문제가 되지 않습니다.\n",
        "print(2.3e3) # 무리수, 오일러 수(2.718에 수렴, 파이가 3.14인 것처럼)\n",
        "print(2.3E3)\n",
        "\n",
        "2.3 * (10 ** 3)"
      ],
      "metadata": {
        "colab": {
          "base_uri": "https://localhost:8080/"
        },
        "id": "n87exP8yEbPB",
        "outputId": "c74beabb-30fe-4b5e-bac1-296fea7658c8"
      },
      "execution_count": null,
      "outputs": [
        {
          "output_type": "stream",
          "name": "stdout",
          "text": [
            "2300.0\n",
            "2300.0\n"
          ]
        },
        {
          "output_type": "execute_result",
          "data": {
            "text/plain": [
              "2300.0"
            ]
          },
          "metadata": {},
          "execution_count": 43
        }
      ]
    },
    {
      "cell_type": "code",
      "source": [
        "print(2.3e-3) # 무리수, 오일러 수(2.718에 수렴, 파이가 3.14인 것처럼)\n",
        "print(2.3E-3)\n",
        "\n",
        "2.3 * (10 ** -3)"
      ],
      "metadata": {
        "colab": {
          "base_uri": "https://localhost:8080/"
        },
        "id": "Vt5ifhHHE2iB",
        "outputId": "8dbc806b-f450-48a2-efa5-175e437ea957"
      },
      "execution_count": null,
      "outputs": [
        {
          "output_type": "stream",
          "name": "stdout",
          "text": [
            "0.0023\n",
            "0.0023\n"
          ]
        },
        {
          "output_type": "execute_result",
          "data": {
            "text/plain": [
              "0.0023"
            ]
          },
          "metadata": {},
          "execution_count": 44
        }
      ]
    },
    {
      "cell_type": "code",
      "source": [
        "class A: # 자동차 공장\n",
        "    pass\n",
        "a= A # class\n",
        "b= A() # instance # 자동차\n",
        "\n",
        "print(type(a))\n",
        "print(type(b))\n"
      ],
      "metadata": {
        "id": "28wtew3s-zsP"
      },
      "execution_count": null,
      "outputs": []
    },
    {
      "cell_type": "code",
      "source": [],
      "metadata": {
        "id": "ZcYy6_719mXY"
      },
      "execution_count": null,
      "outputs": []
    },
    {
      "cell_type": "markdown",
      "source": [
        "dir(a)"
      ],
      "metadata": {
        "id": "44aK9CYI9ZtM"
      }
    },
    {
      "cell_type": "code",
      "source": [
        "dir(a)"
      ],
      "metadata": {
        "colab": {
          "base_uri": "https://localhost:8080/"
        },
        "id": "BP9SSpvk7srI",
        "outputId": "a93b8a55-c3ed-4efe-f6c8-103ff9b4cb04"
      },
      "execution_count": null,
      "outputs": [
        {
          "output_type": "execute_result",
          "data": {
            "text/plain": [
              "['__abs__',\n",
              " '__add__',\n",
              " '__and__',\n",
              " '__bool__',\n",
              " '__ceil__',\n",
              " '__class__',\n",
              " '__delattr__',\n",
              " '__dir__',\n",
              " '__divmod__',\n",
              " '__doc__',\n",
              " '__eq__',\n",
              " '__float__',\n",
              " '__floor__',\n",
              " '__floordiv__',\n",
              " '__format__',\n",
              " '__ge__',\n",
              " '__getattribute__',\n",
              " '__getnewargs__',\n",
              " '__gt__',\n",
              " '__hash__',\n",
              " '__index__',\n",
              " '__init__',\n",
              " '__init_subclass__',\n",
              " '__int__',\n",
              " '__invert__',\n",
              " '__le__',\n",
              " '__lshift__',\n",
              " '__lt__',\n",
              " '__mod__',\n",
              " '__mul__',\n",
              " '__ne__',\n",
              " '__neg__',\n",
              " '__new__',\n",
              " '__or__',\n",
              " '__pos__',\n",
              " '__pow__',\n",
              " '__radd__',\n",
              " '__rand__',\n",
              " '__rdivmod__',\n",
              " '__reduce__',\n",
              " '__reduce_ex__',\n",
              " '__repr__',\n",
              " '__rfloordiv__',\n",
              " '__rlshift__',\n",
              " '__rmod__',\n",
              " '__rmul__',\n",
              " '__ror__',\n",
              " '__round__',\n",
              " '__rpow__',\n",
              " '__rrshift__',\n",
              " '__rshift__',\n",
              " '__rsub__',\n",
              " '__rtruediv__',\n",
              " '__rxor__',\n",
              " '__setattr__',\n",
              " '__sizeof__',\n",
              " '__str__',\n",
              " '__sub__',\n",
              " '__subclasshook__',\n",
              " '__truediv__',\n",
              " '__trunc__',\n",
              " '__xor__',\n",
              " 'as_integer_ratio',\n",
              " 'bit_count',\n",
              " 'bit_length',\n",
              " 'conjugate',\n",
              " 'denominator',\n",
              " 'from_bytes',\n",
              " 'imag',\n",
              " 'numerator',\n",
              " 'real',\n",
              " 'to_bytes']"
            ]
          },
          "metadata": {},
          "execution_count": 39
        }
      ]
    },
    {
      "cell_type": "code",
      "source": [
        "# 실무에서 자주 사용하는 구문\n",
        "type(10)\n",
        "type(10) == int\n",
        "type(10.1) == float"
      ],
      "metadata": {
        "colab": {
          "base_uri": "https://localhost:8080/"
        },
        "id": "0lWpITEzFVaY",
        "outputId": "859ce302-8c1f-4cc3-ee3c-727b00c677f1"
      },
      "execution_count": null,
      "outputs": [
        {
          "output_type": "execute_result",
          "data": {
            "text/plain": [
              "True"
            ]
          },
          "metadata": {},
          "execution_count": 46
        }
      ]
    },
    {
      "cell_type": "code",
      "source": [
        "# 위만큼 자주사용하진 않지만 타입 확인 코드\n",
        "a = 10\n",
        "isinstance(a, int)\n",
        "isinstance(a, float)"
      ],
      "metadata": {
        "colab": {
          "base_uri": "https://localhost:8080/"
        },
        "id": "jDqv_2DNFrOz",
        "outputId": "5a5ae735-2dd4-4091-cc53-cfc8eedb8fbb"
      },
      "execution_count": null,
      "outputs": [
        {
          "output_type": "execute_result",
          "data": {
            "text/plain": [
              "False"
            ]
          },
          "metadata": {},
          "execution_count": 47
        }
      ]
    },
    {
      "cell_type": "markdown",
      "source": [
        "##변수"
      ],
      "metadata": {
        "id": "Ou7WZarSF3y4"
      }
    },
    {
      "cell_type": "code",
      "source": [
        "# CS 변수는 포스트잇\n",
        "# 변수는 메모리 공간을 가리킵니다.\n",
        "\n",
        "# x라는 포스트잇도 붙였지만,\n",
        "# y라는 포스트잇도 붙여져 있는 것입니다.\n",
        "x = 10\n",
        "y = 10\n",
        "\n",
        "id(x), id(y) # id는 누굴 가리키고 있는지 그 주소값을 반홥합니다"
      ],
      "metadata": {
        "colab": {
          "base_uri": "https://localhost:8080/"
        },
        "id": "Fq4yv8p1F9UU",
        "outputId": "2e0ff19d-fb65-46a0-d590-99f5b8dd09a7"
      },
      "execution_count": null,
      "outputs": [
        {
          "output_type": "execute_result",
          "data": {
            "text/plain": [
              "(140425315549712, 140425315549712)"
            ]
          },
          "metadata": {},
          "execution_count": 50
        }
      ]
    },
    {
      "cell_type": "code",
      "source": [
        "x is y"
      ],
      "metadata": {
        "colab": {
          "base_uri": "https://localhost:8080/"
        },
        "id": "iTArF13JHN3I",
        "outputId": "daddf715-c42d-4c93-fc9b-d099a6691c02"
      },
      "execution_count": null,
      "outputs": [
        {
          "output_type": "execute_result",
          "data": {
            "text/plain": [
              "True"
            ]
          },
          "metadata": {},
          "execution_count": 49
        }
      ]
    },
    {
      "cell_type": "code",
      "source": [
        "x = 257\n",
        "y = 257\n",
        "\n",
        "id(x), id(y)"
      ],
      "metadata": {
        "colab": {
          "base_uri": "https://localhost:8080/"
        },
        "id": "rYZFx4PGHUC_",
        "outputId": "60ab472e-706c-42bd-bbdf-ea73cfeb7741"
      },
      "execution_count": null,
      "outputs": [
        {
          "output_type": "execute_result",
          "data": {
            "text/plain": [
              "(140424067564880, 140424067573392)"
            ]
          },
          "metadata": {},
          "execution_count": 51
        }
      ]
    },
    {
      "cell_type": "code",
      "source": [
        "x is y"
      ],
      "metadata": {
        "colab": {
          "base_uri": "https://localhost:8080/"
        },
        "id": "5XL7aS99Hk6f",
        "outputId": "34ce3811-63ac-4a1e-ac87-ef79870dab9c"
      },
      "execution_count": null,
      "outputs": [
        {
          "output_type": "execute_result",
          "data": {
            "text/plain": [
              "False"
            ]
          },
          "metadata": {},
          "execution_count": 52
        }
      ]
    },
    {
      "cell_type": "code",
      "source": [
        "# Python은 자체적으로 속도를 높이기 위한 \n",
        "# 여러가지 노력들을 해왔습니다.\n",
        "# (아래 언급한 것 말고도 각각의 자료형에서 메모리를 효율적으로 관리하기 위한 노력들을 말씀드리겠습니다.)\n",
        "# 구버전도 말씀을 드릴 것인데 이유는 여러분이 실무에가서 접할 환경이 최신 버전이 아니기 때문입니다.\n",
        "# 야xx의 경우에는 Django 1.x, python 2.x를 사용하고 있어요. \n",
        "# 대부분의 기업들이 한 번 구축해놓은 시스템은 바꾸기가 쉽지 않습니다.\n",
        "\n",
        "# 그래서 -5 ~ 256은 먼저 메모리에 적재를 합니다."
      ],
      "metadata": {
        "id": "e7fdgEjJH_l4"
      },
      "execution_count": null,
      "outputs": []
    },
    {
      "cell_type": "code",
      "source": [
        "x = -5\n",
        "y = -5\n",
        "\n",
        "id(x), id(y)"
      ],
      "metadata": {
        "colab": {
          "base_uri": "https://localhost:8080/"
        },
        "id": "5Rwysq15INFj",
        "outputId": "ef4a993a-867c-4cf0-ba15-b39536a843f9"
      },
      "execution_count": null,
      "outputs": [
        {
          "output_type": "execute_result",
          "data": {
            "text/plain": [
              "(140425315549232, 140425315549232)"
            ]
          },
          "metadata": {},
          "execution_count": 55
        }
      ]
    },
    {
      "cell_type": "markdown",
      "source": [
        "* 변수의 타입이란 무엇인가?\n",
        "* 변수의 타입은 왜 있는 것일까?\n",
        "* 어떤 고민을 통해 변수의 속성을 정했을까?"
      ],
      "metadata": {
        "id": "sIP9m_7AIt-p"
      }
    },
    {
      "cell_type": "code",
      "source": [
        "'a' + 'a'"
      ],
      "metadata": {
        "colab": {
          "base_uri": "https://localhost:8080/",
          "height": 35
        },
        "id": "6JSDZL2LI-qA",
        "outputId": "4b935772-ebe8-45bb-f58b-617f5bf72195"
      },
      "execution_count": null,
      "outputs": [
        {
          "output_type": "execute_result",
          "data": {
            "text/plain": [
              "'aa'"
            ],
            "application/vnd.google.colaboratory.intrinsic+json": {
              "type": "string"
            }
          },
          "metadata": {},
          "execution_count": 56
        }
      ]
    },
    {
      "cell_type": "code",
      "source": [
        "# 왜 이어 붙였지?\n",
        "# 컴퓨터 입장에서 a는 97(인간이 보는 숫자) -> 0x61! 결국 숫자!\n"
      ],
      "metadata": {
        "id": "_cOSndlXJHGo"
      },
      "execution_count": null,
      "outputs": []
    },
    {
      "cell_type": "code",
      "source": [
        "# cpython -> 이어 붙이라고 정의가 되어 있어서\n",
        "# 사회 통념적인 약속 -> 코드로 구현\n",
        "# type, dir\n",
        "# 이러한 약속들은 메직메서드(__init__.....)를 통해 구현하게 됩니다."
      ],
      "metadata": {
        "id": "2gPh9BCRJceU"
      },
      "execution_count": null,
      "outputs": []
    },
    {
      "cell_type": "markdown",
      "source": [
        "## 변수의 속성 변경"
      ],
      "metadata": {
        "id": "MGkDFhznJ8D2"
      }
    },
    {
      "cell_type": "code",
      "source": [
        "'10' + '10'"
      ],
      "metadata": {
        "colab": {
          "base_uri": "https://localhost:8080/",
          "height": 35
        },
        "id": "FF0U-aDtKFgn",
        "outputId": "209c4b92-9f40-4836-a742-a4c8fd147a74"
      },
      "execution_count": null,
      "outputs": [
        {
          "output_type": "execute_result",
          "data": {
            "text/plain": [
              "'1010'"
            ],
            "application/vnd.google.colaboratory.intrinsic+json": {
              "type": "string"
            }
          },
          "metadata": {},
          "execution_count": 57
        }
      ]
    },
    {
      "cell_type": "code",
      "source": [
        "int('10') + int('10')"
      ],
      "metadata": {
        "colab": {
          "base_uri": "https://localhost:8080/"
        },
        "id": "F6Yg2HMZKBQV",
        "outputId": "a498a502-6099-4a45-ee72-fda329371360"
      },
      "execution_count": null,
      "outputs": [
        {
          "output_type": "execute_result",
          "data": {
            "text/plain": [
              "20"
            ]
          },
          "metadata": {},
          "execution_count": 58
        }
      ]
    },
    {
      "cell_type": "code",
      "source": [
        "# 지금 배우는 포인트는 class가 중요한 문법이 아니라\n",
        "# 이러한 '약속'을 우리가 변경할 수 있다가 중요한 포인트입니다.\n",
        "class int(int):\n",
        "    def __add__(self, a):\n",
        "        return 'leehojun'\n",
        "\n",
        "int('10') + int('10') "
      ],
      "metadata": {
        "colab": {
          "base_uri": "https://localhost:8080/",
          "height": 35
        },
        "id": "5wlEUegzKP8C",
        "outputId": "24893922-408c-4269-cd04-81819a678ed6"
      },
      "execution_count": null,
      "outputs": [
        {
          "output_type": "execute_result",
          "data": {
            "text/plain": [
              "'leehojun'"
            ],
            "application/vnd.google.colaboratory.intrinsic+json": {
              "type": "string"
            }
          },
          "metadata": {},
          "execution_count": 59
        }
      ]
    },
    {
      "cell_type": "code",
      "source": [
        "dir(10)"
      ],
      "metadata": {
        "colab": {
          "base_uri": "https://localhost:8080/"
        },
        "id": "dRuBoUHOK5XB",
        "outputId": "2576823b-ed0d-4f58-b7ac-c947eec422b4"
      },
      "execution_count": null,
      "outputs": [
        {
          "output_type": "execute_result",
          "data": {
            "text/plain": [
              "['__abs__',\n",
              " '__add__',\n",
              " '__and__',\n",
              " '__bool__',\n",
              " '__ceil__',\n",
              " '__class__',\n",
              " '__delattr__',\n",
              " '__dir__',\n",
              " '__divmod__',\n",
              " '__doc__',\n",
              " '__eq__',\n",
              " '__float__',\n",
              " '__floor__',\n",
              " '__floordiv__',\n",
              " '__format__',\n",
              " '__ge__',\n",
              " '__getattribute__',\n",
              " '__getnewargs__',\n",
              " '__gt__',\n",
              " '__hash__',\n",
              " '__index__',\n",
              " '__init__',\n",
              " '__init_subclass__',\n",
              " '__int__',\n",
              " '__invert__',\n",
              " '__le__',\n",
              " '__lshift__',\n",
              " '__lt__',\n",
              " '__mod__',\n",
              " '__mul__',\n",
              " '__ne__',\n",
              " '__neg__',\n",
              " '__new__',\n",
              " '__or__',\n",
              " '__pos__',\n",
              " '__pow__',\n",
              " '__radd__',\n",
              " '__rand__',\n",
              " '__rdivmod__',\n",
              " '__reduce__',\n",
              " '__reduce_ex__',\n",
              " '__repr__',\n",
              " '__rfloordiv__',\n",
              " '__rlshift__',\n",
              " '__rmod__',\n",
              " '__rmul__',\n",
              " '__ror__',\n",
              " '__round__',\n",
              " '__rpow__',\n",
              " '__rrshift__',\n",
              " '__rshift__',\n",
              " '__rsub__',\n",
              " '__rtruediv__',\n",
              " '__rxor__',\n",
              " '__setattr__',\n",
              " '__sizeof__',\n",
              " '__str__',\n",
              " '__sub__',\n",
              " '__subclasshook__',\n",
              " '__truediv__',\n",
              " '__trunc__',\n",
              " '__xor__',\n",
              " 'as_integer_ratio',\n",
              " 'bit_count',\n",
              " 'bit_length',\n",
              " 'conjugate',\n",
              " 'denominator',\n",
              " 'from_bytes',\n",
              " 'imag',\n",
              " 'numerator',\n",
              " 'real',\n",
              " 'to_bytes']"
            ]
          },
          "metadata": {},
          "execution_count": 61
        }
      ]
    },
    {
      "cell_type": "code",
      "source": [
        "class int(int):\n",
        "    def 제곱(self, 승수):\n",
        "        return self ** 승수\n",
        "\n",
        "value = int('10')\n",
        "print(dir(value))"
      ],
      "metadata": {
        "colab": {
          "base_uri": "https://localhost:8080/"
        },
        "id": "216465q3LgvF",
        "outputId": "562fad97-e05c-4297-f1c6-cf51b7eb9033"
      },
      "execution_count": null,
      "outputs": [
        {
          "output_type": "stream",
          "name": "stdout",
          "text": [
            "['__abs__', '__add__', '__and__', '__bool__', '__ceil__', '__class__', '__delattr__', '__dict__', '__dir__', '__divmod__', '__doc__', '__eq__', '__float__', '__floor__', '__floordiv__', '__format__', '__ge__', '__getattribute__', '__getnewargs__', '__gt__', '__hash__', '__index__', '__init__', '__init_subclass__', '__int__', '__invert__', '__le__', '__lshift__', '__lt__', '__mod__', '__module__', '__mul__', '__ne__', '__neg__', '__new__', '__or__', '__pos__', '__pow__', '__radd__', '__rand__', '__rdivmod__', '__reduce__', '__reduce_ex__', '__repr__', '__rfloordiv__', '__rlshift__', '__rmod__', '__rmul__', '__ror__', '__round__', '__rpow__', '__rrshift__', '__rshift__', '__rsub__', '__rtruediv__', '__rxor__', '__setattr__', '__sizeof__', '__str__', '__sub__', '__subclasshook__', '__truediv__', '__trunc__', '__xor__', 'as_integer_ratio', 'bit_count', 'bit_length', 'conjugate', 'denominator', 'from_bytes', 'imag', 'numerator', 'real', 'to_bytes', '제곱']\n"
          ]
        }
      ]
    },
    {
      "cell_type": "code",
      "source": [
        "value.제곱(3)"
      ],
      "metadata": {
        "colab": {
          "base_uri": "https://localhost:8080/"
        },
        "id": "-Ilc3SoiLwnZ",
        "outputId": "1bb32dfa-1db1-4feb-c3d7-f3fdcd34f602"
      },
      "execution_count": null,
      "outputs": [
        {
          "output_type": "execute_result",
          "data": {
            "text/plain": [
              "1000"
            ]
          },
          "metadata": {},
          "execution_count": 65
        }
      ]
    },
    {
      "cell_type": "code",
      "source": [
        "x = 10\n",
        "y = x\n",
        "x = 100\n",
        "\n",
        "print(x,y)\n",
        "print(id(x), id(y), )"
      ],
      "metadata": {
        "colab": {
          "base_uri": "https://localhost:8080/"
        },
        "id": "uWFAJjSpMDte",
        "outputId": "5c8780e2-8179-4a5f-8b4e-6ce5fbc5bbfe"
      },
      "execution_count": null,
      "outputs": [
        {
          "output_type": "stream",
          "name": "stdout",
          "text": [
            "100 10\n",
            "140425315552592 140425315549712 140425315549712\n"
          ]
        }
      ]
    },
    {
      "cell_type": "markdown",
      "source": [
        "## 변수의 속성"
      ],
      "metadata": {
        "id": "zCp063SFNbCL"
      }
    },
    {
      "cell_type": "markdown",
      "source": [
        "* 변수는 주로 스네이크 표기법을 많이 사용합니다. 물론 회사 컨벤션에 따르셔야 합니다.\n",
        "* 영문과 숫자를 사용할 수 있지만, 숫자로  시작하지는 못합니다.\n",
        "* 특수문자는 사용하지 않아요.(언더바(_)는  사용합니다. 스네이크 표기법, 특수문자나  이미중 사용 가능한 것들이 있기는 합니다.  권하지 않습니다.)\n",
        "* 예약어는 사용하지 않습니다.(if, elif, while, * for, etc)\n",
        "* 대소문자는 구분합니다.\n",
        "* 언더바로만 사용하거나 언더바로 시작할 수 있습니다.\n",
        "* 대문자로 시작하는 변수를 사용할 수 있지만, 관습적으로 대문자로 시작하는 변수는 Class로 만들기 때문에 소문자로 시작하는 변수를 만들기를 권합니다. Class는 보통 파스칼 표기법을 따릅니다. 다만 회사 컨벤션마다 다릅니다.\n"
      ],
      "metadata": {
        "id": "99lzzlQnNd2x"
      }
    },
    {
      "cell_type": "code",
      "source": [
        "# 스네이크 표기법(Python에서 주로)(_뱀처럼보임)\n",
        "hello_world = 10\n",
        "# 카멜 표기법(JavaScript에서 주로)(낙타등처럼 보임)\n",
        "helloWorldHello = 10\n",
        "# 파스칼 표기법(Class 같은 곳에서 많이 사용합니다.)\n",
        "Hello = 10"
      ],
      "metadata": {
        "id": "uK7GV-i1gpjI"
      },
      "execution_count": null,
      "outputs": []
    },
    {
      "cell_type": "code",
      "source": [
        "# 10hello = 100\n",
        "hello10 = 100\n",
        "파이 = 3.14 # 권하지 않습니다.\n",
        "print(파이)\n",
        "\n",
        "_ = 100 # 언더바는 자주 사용되는데 이렇게 사용되진 않습니다.\n",
        "print(_)"
      ],
      "metadata": {
        "colab": {
          "base_uri": "https://localhost:8080/"
        },
        "id": "0Yovyyd0hLT6",
        "outputId": "7483fdb6-c155-4624-ad6d-141844c4cc79"
      },
      "execution_count": null,
      "outputs": [
        {
          "output_type": "stream",
          "name": "stdout",
          "text": [
            "3.14\n",
            "100\n"
          ]
        }
      ]
    },
    {
      "cell_type": "code",
      "source": [
        "for _ in range(10): # 언더바를 순회 안에서 변수로 사용하지 않을때\n",
        "    print('hello')"
      ],
      "metadata": {
        "colab": {
          "base_uri": "https://localhost:8080/"
        },
        "id": "IjjnDNWPiZRW",
        "outputId": "f13dbd91-22c1-49c4-a689-439830e82f05"
      },
      "execution_count": null,
      "outputs": [
        {
          "output_type": "stream",
          "name": "stdout",
          "text": [
            "hello\n",
            "hello\n",
            "hello\n",
            "hello\n",
            "hello\n",
            "hello\n",
            "hello\n",
            "hello\n",
            "hello\n",
            "hello\n"
          ]
        }
      ]
    },
    {
      "cell_type": "code",
      "source": [
        "a = 100"
      ],
      "metadata": {
        "id": "CZzQimF6jAqg"
      },
      "execution_count": null,
      "outputs": []
    },
    {
      "cell_type": "code",
      "source": [
        "#if = 100\n",
        "# print = 100"
      ],
      "metadata": {
        "id": "52k2BS3CipFB"
      },
      "execution_count": null,
      "outputs": []
    },
    {
      "cell_type": "code",
      "source": [
        "print('hello')"
      ],
      "metadata": {
        "id": "qrBYd37pixq-"
      },
      "execution_count": null,
      "outputs": []
    },
    {
      "cell_type": "code",
      "source": [
        "print(a)"
      ],
      "metadata": {
        "id": "iNB6RLOLjF6H"
      },
      "execution_count": null,
      "outputs": []
    },
    {
      "cell_type": "markdown",
      "source": [
        "## 입력과 출력"
      ],
      "metadata": {
        "id": "y9cw3pPbjiE4"
      }
    },
    {
      "cell_type": "code",
      "source": [
        "x = input()\n",
        "x"
      ],
      "metadata": {
        "colab": {
          "base_uri": "https://localhost:8080/",
          "height": 54
        },
        "id": "v5wnGJL5NaEl",
        "outputId": "d374579e-75cc-4231-c258-d96be8dd5e60"
      },
      "execution_count": null,
      "outputs": [
        {
          "name": "stdout",
          "output_type": "stream",
          "text": [
            "10\n"
          ]
        },
        {
          "output_type": "execute_result",
          "data": {
            "text/plain": [
              "'10'"
            ],
            "application/vnd.google.colaboratory.intrinsic+json": {
              "type": "string"
            }
          },
          "metadata": {},
          "execution_count": 5
        }
      ]
    },
    {
      "cell_type": "code",
      "source": [
        "x + x # 사용자에게 받은 입력은 str"
      ],
      "metadata": {
        "colab": {
          "base_uri": "https://localhost:8080/",
          "height": 35
        },
        "id": "OhR5e61mj3Oc",
        "outputId": "8bfbeb4e-05be-4aec-84fc-d126a7c78fbb"
      },
      "execution_count": null,
      "outputs": [
        {
          "output_type": "execute_result",
          "data": {
            "text/plain": [
              "'1010'"
            ],
            "application/vnd.google.colaboratory.intrinsic+json": {
              "type": "string"
            }
          },
          "metadata": {},
          "execution_count": 6
        }
      ]
    },
    {
      "cell_type": "code",
      "source": [
        "print(10, 10, 10)"
      ],
      "metadata": {
        "colab": {
          "base_uri": "https://localhost:8080/"
        },
        "id": "2_PHnuW9kIlM",
        "outputId": "b4967bee-b813-4c47-9cc8-a282d190fa58"
      },
      "execution_count": null,
      "outputs": [
        {
          "output_type": "stream",
          "name": "stdout",
          "text": [
            "10 10 10\n"
          ]
        }
      ]
    },
    {
      "cell_type": "code",
      "source": [
        "print('hello', 'world', 'hello')"
      ],
      "metadata": {
        "colab": {
          "base_uri": "https://localhost:8080/"
        },
        "id": "PFOLb9nuj9LM",
        "outputId": "930b18c3-3677-4175-a1a8-4ba06d260706"
      },
      "execution_count": null,
      "outputs": [
        {
          "output_type": "stream",
          "name": "stdout",
          "text": [
            "hello world hello\n"
          ]
        }
      ]
    },
    {
      "cell_type": "code",
      "source": [
        "print(x, x)"
      ],
      "metadata": {
        "colab": {
          "base_uri": "https://localhost:8080/"
        },
        "id": "EJCQGo0MkXcA",
        "outputId": "347f2fb1-aff2-4408-b887-587c3f1cb607"
      },
      "execution_count": null,
      "outputs": [
        {
          "output_type": "stream",
          "name": "stdout",
          "text": [
            "10 10\n"
          ]
        }
      ]
    },
    {
      "cell_type": "code",
      "source": [
        "print('hello world', end='!')\n",
        "print('hello world', end='!')\n",
        "print('hello world', end='!')"
      ],
      "metadata": {
        "colab": {
          "base_uri": "https://localhost:8080/"
        },
        "id": "a54xxOf0kZgo",
        "outputId": "c5f8e200-a01c-4a11-affb-09562e2c566f"
      },
      "execution_count": null,
      "outputs": [
        {
          "output_type": "stream",
          "name": "stdout",
          "text": [
            "hello world!hello world!hello world!"
          ]
        }
      ]
    },
    {
      "cell_type": "code",
      "source": [
        "print('hello', 'world', sep='!')\n",
        "print('010', '5044', '2903', sep='-')\n"
      ],
      "metadata": {
        "colab": {
          "base_uri": "https://localhost:8080/"
        },
        "id": "MRBelX83k-zm",
        "outputId": "7cd5d6e3-493f-46b5-c2c6-713eb82c494e"
      },
      "execution_count": null,
      "outputs": [
        {
          "output_type": "stream",
          "name": "stdout",
          "text": [
            "hello!world\n",
            "010-5044-2903\n"
          ]
        }
      ]
    },
    {
      "cell_type": "code",
      "source": [
        "이름 = '이호준'\n",
        "나이 = 10\n",
        "print('1. 제 이름은 이호준입니다. 제 나이는 10입니다')\n",
        "print('2. 제 이름은 ', 이름, '입니다. 제 나이는 ', 나이, '입니다', sep='')\n",
        "print('3. 제 이름은 %s입니다. 제 나이는 %d입니다.' %(이름,나이))\n",
        "print('4. 제 이름은 {}입니다. 제 나이는 {}입니다.'.format(이름, 나이))\n",
        "print(f'4. 제 이름은 {이름}입니다. 제 나이는 {나이}입니다.')"
      ],
      "metadata": {
        "colab": {
          "base_uri": "https://localhost:8080/"
        },
        "id": "OPP6B7M2lYrE",
        "outputId": "8e61dbcd-f141-4bd9-acf9-5d600c2e5293"
      },
      "execution_count": null,
      "outputs": [
        {
          "output_type": "stream",
          "name": "stdout",
          "text": [
            "1. 제 이름은 이호준입니다. 제 나이는 10입니다\n",
            "2. 제 이름은 이호준입니다. 제 나이는 10입니다\n",
            "3. 제 이름은 이호준입니다. 제 나이는 10입니다.\n",
            "4. 제 이름은 이호준입니다. 제 나이는 10입니다.\n",
            "4. 제 이름은 이호준입니다. 제 나이는 10입니다.\n"
          ]
        }
      ]
    },
    {
      "cell_type": "markdown",
      "source": [
        "[포멧코드](https://www.notion.so/paullabworkspace/9fd33417740f4eba8715f5c4a1ed7c7b?v=e01ecdfe2f9448dcaad68b03a38057a5)"
      ],
      "metadata": {
        "id": "KXZur-_BmTYH"
      }
    },
    {
      "cell_type": "markdown",
      "source": [
        "##formatting"
      ],
      "metadata": {
        "id": "ILLPouebm6ox"
      }
    },
    {
      "cell_type": "code",
      "source": [
        "print(f'{100*10}')"
      ],
      "metadata": {
        "colab": {
          "base_uri": "https://localhost:8080/"
        },
        "id": "klvyl8iunBNt",
        "outputId": "7ec06689-9bbc-46fc-d6ad-20c069bcd094"
      },
      "execution_count": null,
      "outputs": [
        {
          "output_type": "stream",
          "name": "stdout",
          "text": [
            "1000\n"
          ]
        }
      ]
    },
    {
      "cell_type": "code",
      "source": [
        "#중괄호 안에서 복잡한 연산을 하시는 것을 권하지 않습니다. 가동성이 좋아짐\n",
        "result= 100 * 10\n",
        "print(f'{result}')"
      ],
      "metadata": {
        "id": "6adSQ72FnK_K"
      },
      "execution_count": null,
      "outputs": []
    },
    {
      "cell_type": "code",
      "source": [
        "#이런 문법은 필요에 의해 검색해 보시다 보면 익숙해집니다.\n",
        "print(f'{\"hello\":<10}')\n",
        "print(f'{\"hello\":>10}')\n",
        "print(f'{\"hello\":^10}')"
      ],
      "metadata": {
        "colab": {
          "base_uri": "https://localhost:8080/"
        },
        "id": "W20IiQiOnax9",
        "outputId": "1114aa59-9eb8-4b03-d100-a51a080fa5f5"
      },
      "execution_count": null,
      "outputs": [
        {
          "output_type": "stream",
          "name": "stdout",
          "text": [
            "hello     \n",
            "     hello\n",
            "  hello   \n"
          ]
        }
      ]
    },
    {
      "cell_type": "code",
      "source": [
        "txt = 'hello'\n",
        "i = 10\n",
        "print(f'{\"hello\":=<10}')\n",
        "print(f'{\"hello\":=>10}')\n",
        "print(f'{\"hello\":=^10}')"
      ],
      "metadata": {
        "colab": {
          "base_uri": "https://localhost:8080/"
        },
        "id": "FMOfIoGSn0ZK",
        "outputId": "193cad55-683c-47bc-c9a5-e2f442929956"
      },
      "execution_count": null,
      "outputs": [
        {
          "output_type": "stream",
          "name": "stdout",
          "text": [
            "hello=====\n",
            "=====hello\n",
            "==hello===\n"
          ]
        }
      ]
    },
    {
      "cell_type": "code",
      "source": [
        "# \n",
        "잊으셔도 됩니다.\n",
        "\n",
        "bin(9)\n",
        "print(f'{bin(9)[2:]:0>5}')\n"
      ],
      "metadata": {
        "colab": {
          "base_uri": "https://localhost:8080/"
        },
        "id": "lGGFi2_quVuI",
        "outputId": "f07eef2b-10db-4bcf-c747-fc8e317f90dd"
      },
      "execution_count": null,
      "outputs": [
        {
          "output_type": "stream",
          "name": "stdout",
          "text": [
            "01001\n"
          ]
        }
      ]
    },
    {
      "cell_type": "code",
      "source": [
        "#요정도 활용을 합니다.\n",
        "print(f'{\"start\":-^20}')"
      ],
      "metadata": {
        "colab": {
          "base_uri": "https://localhost:8080/"
        },
        "id": "f4Tj8No1vVOW",
        "outputId": "e5982dce-16ff-4023-c46d-ffde2a5ec9db"
      },
      "execution_count": null,
      "outputs": [
        {
          "output_type": "stream",
          "name": "stdout",
          "text": [
            "-------start--------\n"
          ]
        }
      ]
    },
    {
      "cell_type": "code",
      "source": [
        "print(f'{0.12345:0.2f}')"
      ],
      "metadata": {
        "colab": {
          "base_uri": "https://localhost:8080/"
        },
        "id": "d4cK4oZlvgQN",
        "outputId": "cfe5572a-d943-4de1-a3ef-db0dfb5f99fe"
      },
      "execution_count": null,
      "outputs": [
        {
          "output_type": "stream",
          "name": "stdout",
          "text": [
            "0.12\n"
          ]
        }
      ]
    },
    {
      "cell_type": "markdown",
      "source": [
        "* 이 아래 코드는 필수는 아닙니다.\n",
        "참고삼아서만 넣어드립니다."
      ],
      "metadata": {
        "id": "LFroIDaLv3gs"
      }
    },
    {
      "cell_type": "code",
      "source": [
        "# 이전 방식\n",
        "print('나의 이름은 %s입니다'%('한사람'))\n",
        "print('나의 이름은 \"%s\"입니다. 나이는 %d세이고 성별은 %s입니다.'%('한사람',33,'남성'))\n",
        "print('나이는 %d세이고 성별은 %s입니다. 나의 이름은 %s입니다. '%(33,'남성','한사람'))\n",
        "print('나이는 %03d세이고 신장은 %6.2f입니다. 나의 이름은 %s입니다. '%(33,56.789,'한사람'))\n",
        "print('-' * 40)\n",
        "\n",
        "# 파이썬(Python) 3 포맷팅 방식\n",
        "print('나의 이름은 {}입니다'.format('한사람'))\n",
        "print('나의 이름은 {0}입니다. 나이는 {1}세이고 성별은 {2}입니다.'.format('한사람',33,'남성'))\n",
        "print('나이는 {1}세이고 성별은 {2}입니다. 나의 이름은 {0}입니다. '.format('한사람',33,'남성'))\n",
        "print('나이는 {age}세이고 성별은 {gender}입니다. 나의 이름은 {name}입니다. '\n",
        "         .format(name='한사람',age=33,gender='남성'))\n",
        "print('만세삼창 :  {0}!!! {0}!!! {0}!!! '.format('만세'))\n",
        "print('삼삼칠 박수 :  {0}!!! {0}!!! {1}!!! '.format('짝'*3,'짝'*7))\n",
        "print('-' * 40)\n",
        "\n",
        "# 파이썬(Python) 3.6 f-string 방식\n",
        "something = '볼펜'\n",
        "EA = 2\n",
        "one_length = 5.343\n",
        "scale = 'cm'\n",
        "\n",
        "print(f'{something} {EA}개의 길이는 {one_length*EA}{scale} 입니다.')\n",
        "print(f'{something} {EA}개의 길이는 {one_length*EA:.1f}{scale} 입니다.')"
      ],
      "metadata": {
        "colab": {
          "base_uri": "https://localhost:8080/"
        },
        "id": "J6g7fz2-v25k",
        "outputId": "30ee6539-a62f-4fbd-cb3a-482d5e6f6eeb"
      },
      "execution_count": null,
      "outputs": [
        {
          "output_type": "stream",
          "name": "stdout",
          "text": [
            "나의 이름은 한사람입니다\n",
            "나의 이름은 \"한사람\"입니다. 나이는 33세이고 성별은 남성입니다.\n",
            "나이는 33세이고 성별은 남성입니다. 나의 이름은 한사람입니다. \n",
            "나이는 033세이고 신장은  56.79입니다. 나의 이름은 한사람입니다. \n",
            "----------------------------------------\n",
            "나의 이름은 한사람입니다\n",
            "나의 이름은 한사람입니다. 나이는 33세이고 성별은 남성입니다.\n",
            "나이는 33세이고 성별은 남성입니다. 나의 이름은 한사람입니다. \n",
            "나이는 33세이고 성별은 남성입니다. 나의 이름은 한사람입니다. \n",
            "만세삼창 :  만세!!! 만세!!! 만세!!! \n",
            "삼삼칠 박수 :  짝짝짝!!! 짝짝짝!!! 짝짝짝짝짝짝짝!!! \n",
            "----------------------------------------\n",
            "볼펜 2개의 길이는 10.686cm 입니다.\n",
            "볼펜 2개의 길이는 10.7cm 입니다.\n"
          ]
        }
      ]
    },
    {
      "cell_type": "code",
      "source": [
        "print('Python is [{:15}]'.format('good'))\n",
        "print('Python is [{:<15}]'.format('good'))\n",
        "print('Python is [{:>15}]'.format('good'))\n",
        "print('Python is [{:^15}]'.format('good'))\n",
        "print('당신의 나이는 [{:15}]세'.format(22))\n",
        "print('당신의 나이는 [{:<15}]세'.format(22))\n",
        "print('당신의 나이는 [{:>15}]세'.format(22))\n",
        "print('당신의 나이는 [{:<15}]세'.format(22))\n",
        "print('-' * 40)"
      ],
      "metadata": {
        "colab": {
          "base_uri": "https://localhost:8080/"
        },
        "id": "MTbNvj-KwZnG",
        "outputId": "f48ff6c4-6737-4811-c5f0-9ba1a1cb624d"
      },
      "execution_count": null,
      "outputs": [
        {
          "output_type": "stream",
          "name": "stdout",
          "text": [
            "Python is [good           ]\n",
            "Python is [good           ]\n",
            "Python is [           good]\n",
            "Python is [     good      ]\n",
            "당신의 나이는 [             22]세\n",
            "당신의 나이는 [22             ]세\n",
            "당신의 나이는 [             22]세\n",
            "당신의 나이는 [22             ]세\n",
            "----------------------------------------\n"
          ]
        }
      ]
    },
    {
      "cell_type": "markdown",
      "source": [
        "##int\n"
      ],
      "metadata": {
        "id": "MCzxESvYwnfY"
      }
    },
    {
      "cell_type": "markdown",
      "source": [
        "* 파이썬에서는 숫자를 정수, 실수, 복소루로\n",
        "나눠 표현합니다.\n",
        "* 2진수, 8진수, 16진수는 정수로 표현됩니다."
      ],
      "metadata": {
        "id": "k5wKWIsmwpb7"
      }
    },
    {
      "cell_type": "code",
      "source": [
        "10 # 정수\n",
        "-10 # 정수\n",
        "10.1 # 실수\n",
        "\n",
        "a= 10\n",
        "type(a)\n",
        "dir(a)"
      ],
      "metadata": {
        "colab": {
          "base_uri": "https://localhost:8080/"
        },
        "id": "zvKpAnArwzGA",
        "outputId": "293780d3-2b54-40f1-f3c9-5b1f02936618"
      },
      "execution_count": null,
      "outputs": [
        {
          "output_type": "execute_result",
          "data": {
            "text/plain": [
              "['__abs__',\n",
              " '__add__',\n",
              " '__and__',\n",
              " '__bool__',\n",
              " '__ceil__',\n",
              " '__class__',\n",
              " '__delattr__',\n",
              " '__dir__',\n",
              " '__divmod__',\n",
              " '__doc__',\n",
              " '__eq__',\n",
              " '__float__',\n",
              " '__floor__',\n",
              " '__floordiv__',\n",
              " '__format__',\n",
              " '__ge__',\n",
              " '__getattribute__',\n",
              " '__getnewargs__',\n",
              " '__gt__',\n",
              " '__hash__',\n",
              " '__index__',\n",
              " '__init__',\n",
              " '__init_subclass__',\n",
              " '__int__',\n",
              " '__invert__',\n",
              " '__le__',\n",
              " '__lshift__',\n",
              " '__lt__',\n",
              " '__mod__',\n",
              " '__mul__',\n",
              " '__ne__',\n",
              " '__neg__',\n",
              " '__new__',\n",
              " '__or__',\n",
              " '__pos__',\n",
              " '__pow__',\n",
              " '__radd__',\n",
              " '__rand__',\n",
              " '__rdivmod__',\n",
              " '__reduce__',\n",
              " '__reduce_ex__',\n",
              " '__repr__',\n",
              " '__rfloordiv__',\n",
              " '__rlshift__',\n",
              " '__rmod__',\n",
              " '__rmul__',\n",
              " '__ror__',\n",
              " '__round__',\n",
              " '__rpow__',\n",
              " '__rrshift__',\n",
              " '__rshift__',\n",
              " '__rsub__',\n",
              " '__rtruediv__',\n",
              " '__rxor__',\n",
              " '__setattr__',\n",
              " '__sizeof__',\n",
              " '__str__',\n",
              " '__sub__',\n",
              " '__subclasshook__',\n",
              " '__truediv__',\n",
              " '__trunc__',\n",
              " '__xor__',\n",
              " 'as_integer_ratio',\n",
              " 'bit_count',\n",
              " 'bit_length',\n",
              " 'conjugate',\n",
              " 'denominator',\n",
              " 'from_bytes',\n",
              " 'imag',\n",
              " 'numerator',\n",
              " 'real',\n",
              " 'to_bytes']"
            ]
          },
          "metadata": {},
          "execution_count": 44
        }
      ]
    },
    {
      "cell_type": "code",
      "source": [
        "'bit_length' #bit로 바꾸었을 때 비트의 길이\n",
        "'to_bytes' #컴퓨터에 저장하는 바이트의 형태로 숫자를 표현"
      ],
      "metadata": {
        "id": "8YwOl1UgxtD9"
      },
      "execution_count": null,
      "outputs": []
    },
    {
      "cell_type": "code",
      "source": [
        "# 1Bit, 0 ~ 1 # bit - 1자리\n",
        "# 1Bytes = 8bit, 00000000 ~ 11111111 # 1byte - 8bit\n",
        "# 1KB (키로바이트) = 1024Bytes\n",
        "# 1MB (메가파이트) = 1024Kb\n",
        "# 1GB (기가바이트) = 1024MB\n",
        "# 1TB (테라바이트) = 1024GB\n",
        "# 1PB (페타바이트) = 1024TB"
      ],
      "metadata": {
        "id": "1pAYB0wpxyMX"
      },
      "execution_count": null,
      "outputs": []
    },
    {
      "cell_type": "code",
      "source": [
        "(9).bit_length() # 1001"
      ],
      "metadata": {
        "colab": {
          "base_uri": "https://localhost:8080/"
        },
        "id": "Xl5Olu0MzcD9",
        "outputId": "4988de38-7721-4426-cd25-22f19f243afa"
      },
      "execution_count": null,
      "outputs": [
        {
          "output_type": "execute_result",
          "data": {
            "text/plain": [
              "4"
            ]
          },
          "metadata": {},
          "execution_count": 45
        }
      ]
    },
    {
      "cell_type": "code",
      "source": [
        "# 컴퓨터가 숫자를 어떻게 저장하는가\n",
        "(2).to_bytes(1, byteorder='little', signed=True)\n",
        "(1).to_bytes(1, byteorder='little', signed=True)\n",
        "(0).to_bytes(1, byteorder='little', signed=True)\n",
        "(-1).to_bytes(1, byteorder='little', signed=True)\n",
        "(-2).to_bytes(1, byteorder='little', signed=True)"
      ],
      "metadata": {
        "colab": {
          "base_uri": "https://localhost:8080/"
        },
        "id": "RBQOJQBZzwBs",
        "outputId": "be305f5b-d6eb-40f2-de5c-f9dc7d66281d"
      },
      "execution_count": null,
      "outputs": [
        {
          "output_type": "execute_result",
          "data": {
            "text/plain": [
              "b'\\xfe'"
            ]
          },
          "metadata": {},
          "execution_count": 48
        }
      ]
    },
    {
      "cell_type": "code",
      "source": [
        "# 컴퓨터는 음수를 자체적으로 표현할 수 없기에 2의 보수를 사용합니다.\n",
        "# 1의 보수를 사용하게 되면 +0과 -0이 존재하게 됨으로 비트 하나를 낭비하게 됩니다.\n",
        "# 따라서 2의 보수를 사용합니다."
      ],
      "metadata": {
        "id": "mvboTCoD2Kt0"
      },
      "execution_count": null,
      "outputs": []
    },
    {
      "cell_type": "code",
      "source": [
        "0000 0001 # 1\n",
        "1111 1110 # 1의 1의 보수\n",
        "1111 1111 # 1의 2의 보수 => ff"
      ],
      "metadata": {
        "id": "_-9IRX3m2e66"
      },
      "execution_count": null,
      "outputs": []
    },
    {
      "cell_type": "code",
      "source": [
        "# 진법 변환 쉽게 하는 법 : 가장 가까운 승수를 찾아 더하거나 뺍니다\n",
        "# 10진법\n",
        "# 0 1 2 3 4 5 6 7 8 9\n",
        "# 1324 =1*10^3 3*10^2 2* 10^1 + 4*10^0\n",
        "\n",
        "# 2진법\n",
        "#0 1 -> 10\n",
        "# 1001 =1*2^3 + 1*2^0\n",
        "\n",
        "# 8진법\n",
        "# 0 1 2 3 4 5 6 7 -> 10\n",
        "\n",
        "# 16진법\n",
        "# 0 1 2 3 4 5 6 7 8 9 a b c d e f ->"
      ],
      "metadata": {
        "id": "3cKuQ56J269A"
      },
      "execution_count": null,
      "outputs": []
    },
    {
      "cell_type": "code",
      "source": [
        "# color의 표현\n",
        "# 2596be\n",
        "# 000000 ~ ffffff\n",
        "# ff는 10진수로 무슨 숫자를 의미\n",
        "# 100-1 => ff가 됩니다. 그래서 256 - 1"
      ],
      "metadata": {
        "id": "eNu0VD6B7npE"
      },
      "execution_count": null,
      "outputs": []
    },
    {
      "cell_type": "code",
      "source": [
        "a = 10\n",
        "type(a)"
      ],
      "metadata": {
        "colab": {
          "base_uri": "https://localhost:8080/"
        },
        "id": "fv-qti7Y8KI1",
        "outputId": "e1f845a6-f423-4ef0-f8cb-41006a1a1dcb"
      },
      "execution_count": null,
      "outputs": [
        {
          "output_type": "execute_result",
          "data": {
            "text/plain": [
              "int"
            ]
          },
          "metadata": {},
          "execution_count": 49
        }
      ]
    },
    {
      "cell_type": "code",
      "source": [
        "int('10') + int('10')"
      ],
      "metadata": {
        "colab": {
          "base_uri": "https://localhost:8080/"
        },
        "id": "c7OKe2d58P1h",
        "outputId": "f9f7806f-49a5-48d0-f9eb-c0d062631fc9"
      },
      "execution_count": null,
      "outputs": [
        {
          "output_type": "execute_result",
          "data": {
            "text/plain": [
              "20"
            ]
          },
          "metadata": {},
          "execution_count": 50
        }
      ]
    },
    {
      "cell_type": "code",
      "source": [
        "int('10', 2) #  2진법으로 10은?"
      ],
      "metadata": {
        "colab": {
          "base_uri": "https://localhost:8080/"
        },
        "id": "cnIaZCZW8ZBQ",
        "outputId": "fb7190fe-5dc1-4e52-dcca-214d660cbf65"
      },
      "execution_count": null,
      "outputs": [
        {
          "output_type": "execute_result",
          "data": {
            "text/plain": [
              "2"
            ]
          },
          "metadata": {},
          "execution_count": 51
        }
      ]
    },
    {
      "cell_type": "code",
      "source": [
        "int('10', 8) #  8진법으로 10은?\n"
      ],
      "metadata": {
        "colab": {
          "base_uri": "https://localhost:8080/"
        },
        "id": "mcXjRgfS8dzj",
        "outputId": "24043a1f-06b7-4572-afb3-b615540ea48d"
      },
      "execution_count": null,
      "outputs": [
        {
          "output_type": "execute_result",
          "data": {
            "text/plain": [
              "8"
            ]
          },
          "metadata": {},
          "execution_count": 53
        }
      ]
    },
    {
      "cell_type": "code",
      "source": [
        "int('10', 16) #  16진법으로 10은?\n"
      ],
      "metadata": {
        "colab": {
          "base_uri": "https://localhost:8080/"
        },
        "id": "FV7-vixx8eGe",
        "outputId": "ea67aca4-fcc7-49c9-ac46-7121c0668989"
      },
      "execution_count": null,
      "outputs": [
        {
          "output_type": "execute_result",
          "data": {
            "text/plain": [
              "16"
            ]
          },
          "metadata": {},
          "execution_count": 52
        }
      ]
    },
    {
      "cell_type": "code",
      "source": [
        "print(0b110) # 바이너리 - 2진수\n",
        "print(0o110) # 옥타 - 8진수\n",
        "print(0x110) # 헥사 - 16진수"
      ],
      "metadata": {
        "id": "i9E3yDAR8ifm"
      },
      "execution_count": null,
      "outputs": []
    },
    {
      "cell_type": "code",
      "source": [
        "a = 10\n",
        "type(a) == isinstance(a, int)"
      ],
      "metadata": {
        "colab": {
          "base_uri": "https://localhost:8080/"
        },
        "id": "WcbR_j3T9APK",
        "outputId": "8bd16177-ad55-4715-b90b-c84cbd310400"
      },
      "execution_count": null,
      "outputs": [
        {
          "output_type": "execute_result",
          "data": {
            "text/plain": [
              "False"
            ]
          },
          "metadata": {},
          "execution_count": 55
        }
      ]
    },
    {
      "cell_type": "markdown",
      "source": [
        "##float (실수)"
      ],
      "metadata": {
        "id": "kedlBf3r9S71"
      }
    },
    {
      "cell_type": "code",
      "source": [
        "dir(a)"
      ],
      "metadata": {
        "colab": {
          "base_uri": "https://localhost:8080/"
        },
        "id": "EvUZllRC9Vpv",
        "outputId": "a6fec9f9-b575-41f6-fc32-6c8afb25960d"
      },
      "execution_count": null,
      "outputs": [
        {
          "output_type": "execute_result",
          "data": {
            "text/plain": [
              "['__abs__',\n",
              " '__add__',\n",
              " '__and__',\n",
              " '__bool__',\n",
              " '__ceil__',\n",
              " '__class__',\n",
              " '__delattr__',\n",
              " '__dir__',\n",
              " '__divmod__',\n",
              " '__doc__',\n",
              " '__eq__',\n",
              " '__float__',\n",
              " '__floor__',\n",
              " '__floordiv__',\n",
              " '__format__',\n",
              " '__ge__',\n",
              " '__getattribute__',\n",
              " '__getnewargs__',\n",
              " '__gt__',\n",
              " '__hash__',\n",
              " '__index__',\n",
              " '__init__',\n",
              " '__init_subclass__',\n",
              " '__int__',\n",
              " '__invert__',\n",
              " '__le__',\n",
              " '__lshift__',\n",
              " '__lt__',\n",
              " '__mod__',\n",
              " '__mul__',\n",
              " '__ne__',\n",
              " '__neg__',\n",
              " '__new__',\n",
              " '__or__',\n",
              " '__pos__',\n",
              " '__pow__',\n",
              " '__radd__',\n",
              " '__rand__',\n",
              " '__rdivmod__',\n",
              " '__reduce__',\n",
              " '__reduce_ex__',\n",
              " '__repr__',\n",
              " '__rfloordiv__',\n",
              " '__rlshift__',\n",
              " '__rmod__',\n",
              " '__rmul__',\n",
              " '__ror__',\n",
              " '__round__',\n",
              " '__rpow__',\n",
              " '__rrshift__',\n",
              " '__rshift__',\n",
              " '__rsub__',\n",
              " '__rtruediv__',\n",
              " '__rxor__',\n",
              " '__setattr__',\n",
              " '__sizeof__',\n",
              " '__str__',\n",
              " '__sub__',\n",
              " '__subclasshook__',\n",
              " '__truediv__',\n",
              " '__trunc__',\n",
              " '__xor__',\n",
              " 'as_integer_ratio',\n",
              " 'bit_count',\n",
              " 'bit_length',\n",
              " 'conjugate',\n",
              " 'denominator',\n",
              " 'from_bytes',\n",
              " 'imag',\n",
              " 'numerator',\n",
              " 'real',\n",
              " 'to_bytes']"
            ]
          },
          "metadata": {},
          "execution_count": 56
        }
      ]
    },
    {
      "cell_type": "code",
      "source": [
        "a = 10\n",
        "b = 10.1\n",
        "a+b # 다른 일부 언어에서는 허용되지 않습니다."
      ],
      "metadata": {
        "colab": {
          "base_uri": "https://localhost:8080/"
        },
        "id": "Q7XFrtw69i8U",
        "outputId": "9a906d46-f89d-4281-90a8-de07e2745d98"
      },
      "execution_count": null,
      "outputs": [
        {
          "output_type": "execute_result",
          "data": {
            "text/plain": [
              "20.1"
            ]
          },
          "metadata": {},
          "execution_count": 57
        }
      ]
    },
    {
      "cell_type": "code",
      "source": [
        "# 부동소수점 오차(2진법으로 변환했을 때 0.1이 무한대수가 발생합니다.)\n",
        "0.1 + 0.2 # 대부분의 언어 공통입니다."
      ],
      "metadata": {
        "colab": {
          "base_uri": "https://localhost:8080/"
        },
        "id": "Xlcb3x0A9nBl",
        "outputId": "2d07db04-ebdb-4fcf-ff1f-236c8ac349bd"
      },
      "execution_count": null,
      "outputs": [
        {
          "output_type": "execute_result",
          "data": {
            "text/plain": [
              "0.30000000000000004"
            ]
          },
          "metadata": {},
          "execution_count": 60
        }
      ]
    },
    {
      "cell_type": "code",
      "source": [
        "a = 0.1"
      ],
      "metadata": {
        "id": "xwrEdgwh94rk"
      },
      "execution_count": null,
      "outputs": []
    },
    {
      "cell_type": "code",
      "source": [
        "# 20번 반복해 보세요.\n",
        "a = a + 0.1\n",
        "a"
      ],
      "metadata": {
        "colab": {
          "base_uri": "https://localhost:8080/"
        },
        "id": "H2FOYQz896Lr",
        "outputId": "63bf7d11-21ae-4b87-d0e1-58973062cd3e"
      },
      "execution_count": null,
      "outputs": [
        {
          "output_type": "execute_result",
          "data": {
            "text/plain": [
              "2.0000000000000004"
            ]
          },
          "metadata": {},
          "execution_count": 79
        }
      ]
    },
    {
      "cell_type": "markdown",
      "source": [
        "* https://docs.python.org/ko/3/tutorial/floatingpoint.html\n",
        "* https://0.30000000000000004.com/ 에서 언어별 해결책을 제시한다.\n",
        "* 컴퓨터에서 부동소수점 숫자는 2진 분수로 표현되기에 무한대수가 발생한다.\n",
        "* [무한수가 발생되는 원리](https://www.notion.so/paullabworkspace/5f34f21bf9a34015b170e7afd7da9593)"
      ],
      "metadata": {
        "id": "huJ0s5eP-leo"
      }
    },
    {
      "cell_type": "code",
      "source": [
        "'hello'.count('')"
      ],
      "metadata": {
        "colab": {
          "base_uri": "https://localhost:8080/"
        },
        "id": "OT1xkbokAXjN",
        "outputId": "813e6c0c-6259-454a-bcc2-07d99ec3dcdc"
      },
      "execution_count": null,
      "outputs": [
        {
          "output_type": "execute_result",
          "data": {
            "text/plain": [
              "6"
            ]
          },
          "metadata": {},
          "execution_count": 80
        }
      ]
    },
    {
      "cell_type": "code",
      "source": [],
      "metadata": {
        "id": "CUvkrYtiEu3e"
      },
      "execution_count": null,
      "outputs": []
    },
    {
      "cell_type": "markdown",
      "source": [],
      "metadata": {
        "id": "SrqDqNAqnJ8i"
      }
    },
    {
      "cell_type": "markdown",
      "source": [
        "## 오늘 배운 것 정리\n",
        "1. 단축키\n",
        "    * (필수) Ctrl(Command) + Enter : 해당 셀 실행\n",
        "    * (필수) Alt(Option) + Enter : 해당 셀 실행 + 코드 불록 하단 추가\n",
        "    * (필수) Ctrl + / : 주석\n",
        "    * (필수) Shift + Del : 한 줄 지우기\n",
        "    * (필수) Tab, Ctrl + ] : 들여쓰기\n",
        "    * (필수) Shift + Tab, Ctrl + [ : 내어쓰기\n",
        "\n",
        "2. 마크다운\n",
        "    ```\n",
        "    # hello\n",
        "    ## hello\n",
        "    ### hello\n",
        "\n",
        "    1. hello\n",
        "    2. hello\n",
        "    3. hello\n",
        "\n",
        "    * hello\n",
        "    * hello\n",
        "    * hello\n",
        "    ```\n",
        "\n",
        "3. 주석\n",
        "\n",
        "    ```python\n",
        "    #행 단위 주석입니다.\n",
        "\n",
        "    \"\"\"\n",
        "    큰 따옴표로 세번 묶거나\n",
        "    작은따옴표로 세번 묶으면\n",
        "    열단위 주석이 됩니다.\n",
        "    \"\"\"\n",
        "\n",
        "    '''\n",
        "    큰 따옴표로 세번 묶거나\n",
        "    작은따옴표로 세번 묶으면\n",
        "    열단위 주석이 됩니다.\n",
        "    '''\n",
        "    ```\n",
        "\n",
        "4. PEP8 권고사항\n",
        "    * 띄어쓰기는 4칸\n",
        "    * 한 줄에 79자 이상을 사용하지 않는다.\n",
        "\n",
        "5. 형의 종류(type, dir)\n",
        "    * 컨벤션 자료형(list, tuple, dict, set)은 나중에 진행합니다.\n",
        "    * int\n",
        "    * float\n",
        "    * bool\n",
        "    * str\n",
        "    * function\n",
        "    * bulit-in function\n",
        "\n",
        "6. 이스케이프 문자\n",
        "    * https://ko.wikipedia.org/wiki/%EC%9D%B4%EC%8A%A4%EC%BC%80%EC%9D%B4%ED%94%84_%EB%AC%B8%EC%9E%90\n",
        "    ```python\n",
        "    print('hello \\n world')\n",
        "    print('hello \\t world')\n",
        "    print('hello \\' world')\n",
        "    print('hello \\\" world')\n",
        "    print('hello \\\\ world')\n",
        "    ```\n",
        "\n",
        "7. 실무에서 자주 사용하는 타입확인 구문\n",
        "    ```python\n",
        "    type(10)\n",
        "    type(10) == int\n",
        "    type(10.1) == float\n",
        "\n",
        "    a = 10\n",
        "    isinstance(a, int)\n",
        "    isinstance(a, float)\n",
        "    ```\n",
        "\n",
        "8. 변수의 인사이트\n",
        "    ```\n",
        "    dir을 입력했을 때\n",
        "    1. __hello__와 같은 형태의 메직 메서드는 속성을 표현한다\n",
        "    2.  언더바가 없는 메서드는 해당 자료형의 편의 기능을 제공한다\n",
        "    ```\n",
        "\n",
        "9. 입력과 출력\n",
        "    ```python\n",
        "    x = input() #입력, 숫자를 입력해도 str\n",
        "    print(x) #출력\n",
        "\n",
        "    이름 = '이호준'\n",
        "    나이 = 10\n",
        "    print(f'제 이름은 {이름}입니다. 제 나이는 {나이}입니다.')\n",
        "    print(f'{100 * 10}')\n",
        "    ```\n",
        "\n",
        "\n",
        "10. int 형\n",
        "    * 2진수, 8진수, 16진수는 정수\n",
        "\n",
        "\n",
        "11. float 형\n",
        "... (4줄 남음)"
      ],
      "metadata": {
        "id": "W5BbOoJBDXcE"
      }
    },
    {
      "cell_type": "markdown",
      "source": [
        "###str (문자열)"
      ],
      "metadata": {
        "id": "rnL-v8HlyzD4"
      }
    },
    {
      "cell_type": "markdown",
      "source": [
        "- 순서가 있는 **시퀀스 자료형**입니다.\n",
        "- 작은 따옴표('')나 큰 따옴표(\"\"), 삼중따옴표('''str''',\"\"\"str\"\"\")로 중 따옴표를 사용할 경우에는 줄 단위의 문자열을 나타낼 수 있습니다).\n",
        "- 작은 따옴표 안에 큰 따옴표, 큰 따옴표 안에 작은따옴표 사용이 가능합니다.\n",
        "- 이스케이프 문자도 사용이 가능합니다.\n",
        "- 리스트, 튜플도 시퀀스 자료형입니다."
      ],
      "metadata": {
        "id": "XRCQBPCuy43B"
      }
    },
    {
      "cell_type": "markdown",
      "source": [],
      "metadata": {
        "id": "QW1IWvpczm6B"
      }
    },
    {
      "cell_type": "code",
      "source": [
        "s= 'paullab CEO leehojun'\n",
        "s[0] # 0은 index입니다. 이렇게 호출하는 것을 indexing 이라고 합니다."
      ],
      "metadata": {
        "colab": {
          "base_uri": "https://localhost:8080/",
          "height": 35
        },
        "id": "ImtWo-V9zWw_",
        "outputId": "9686ddfb-4e0b-4e0a-d6c1-67d5619876e2"
      },
      "execution_count": null,
      "outputs": [
        {
          "output_type": "execute_result",
          "data": {
            "text/plain": [
              "'p'"
            ],
            "application/vnd.google.colaboratory.intrinsic+json": {
              "type": "string"
            }
          },
          "metadata": {},
          "execution_count": 2
        }
      ]
    },
    {
      "cell_type": "code",
      "source": [
        "type(s)"
      ],
      "metadata": {
        "colab": {
          "base_uri": "https://localhost:8080/"
        },
        "id": "58wi2LPSzxwZ",
        "outputId": "e5718e49-56ad-40be-eb4d-0a059bb899c6"
      },
      "execution_count": null,
      "outputs": [
        {
          "output_type": "execute_result",
          "data": {
            "text/plain": [
              "str"
            ]
          },
          "metadata": {},
          "execution_count": 3
        }
      ]
    },
    {
      "cell_type": "code",
      "source": [
        "dir(s)"
      ],
      "metadata": {
        "colab": {
          "base_uri": "https://localhost:8080/"
        },
        "id": "x753A0YAyy2V",
        "outputId": "ba3a86ac-a4ad-4467-d33c-dd53e26730b2"
      },
      "execution_count": null,
      "outputs": [
        {
          "output_type": "execute_result",
          "data": {
            "text/plain": [
              "['__add__',\n",
              " '__class__',\n",
              " '__contains__',\n",
              " '__delattr__',\n",
              " '__dir__',\n",
              " '__doc__',\n",
              " '__eq__',\n",
              " '__format__',\n",
              " '__ge__',\n",
              " '__getattribute__',\n",
              " '__getitem__',\n",
              " '__getnewargs__',\n",
              " '__gt__',\n",
              " '__hash__',\n",
              " '__init__',\n",
              " '__init_subclass__',\n",
              " '__iter__',\n",
              " '__le__',\n",
              " '__len__',\n",
              " '__lt__',\n",
              " '__mod__',\n",
              " '__mul__',\n",
              " '__ne__',\n",
              " '__new__',\n",
              " '__reduce__',\n",
              " '__reduce_ex__',\n",
              " '__repr__',\n",
              " '__rmod__',\n",
              " '__rmul__',\n",
              " '__setattr__',\n",
              " '__sizeof__',\n",
              " '__str__',\n",
              " '__subclasshook__',\n",
              " 'capitalize',\n",
              " 'casefold',\n",
              " 'center',\n",
              " 'count',\n",
              " 'encode',\n",
              " 'endswith',\n",
              " 'expandtabs',\n",
              " 'find',\n",
              " 'format',\n",
              " 'format_map',\n",
              " 'index',\n",
              " 'isalnum',\n",
              " 'isalpha',\n",
              " 'isascii',\n",
              " 'isdecimal',\n",
              " 'isdigit',\n",
              " 'isidentifier',\n",
              " 'islower',\n",
              " 'isnumeric',\n",
              " 'isprintable',\n",
              " 'isspace',\n",
              " 'istitle',\n",
              " 'isupper',\n",
              " 'join',\n",
              " 'ljust',\n",
              " 'lower',\n",
              " 'lstrip',\n",
              " 'maketrans',\n",
              " 'partition',\n",
              " 'removeprefix',\n",
              " 'removesuffix',\n",
              " 'replace',\n",
              " 'rfind',\n",
              " 'rindex',\n",
              " 'rjust',\n",
              " 'rpartition',\n",
              " 'rsplit',\n",
              " 'rstrip',\n",
              " 'split',\n",
              " 'splitlines',\n",
              " 'startswith',\n",
              " 'strip',\n",
              " 'swapcase',\n",
              " 'title',\n",
              " 'translate',\n",
              " 'upper',\n",
              " 'zfill']"
            ]
          },
          "metadata": {},
          "execution_count": 4
        }
      ]
    },
    {
      "cell_type": "code",
      "source": [
        "# 문자열의 메서드\n",
        "# 'capitalize','casefold','center','count','encode',\n",
        "# 'endswith','expandtabs','find','format','format_map',\n",
        "# 'index','isalnum','isalpha','isascii','isdecimal','isdigit',\n",
        "# 'isidentifier','islower','isnumeric','isprintable','isspace',\n",
        "# 'istitle','isupper','join','ljust','lower','lstrip',\n",
        "# 'maketrans','partition','removeprefix','removesuffix',\n",
        "# 'replace','rfind','rindex','rjust','rpartition','rsplit',\n",
        "# 'rstrip','split','splitlines','startswith','strip','swapcase',\n",
        "# 'title','translate','upper','zfill'"
      ],
      "metadata": {
        "id": "Bq_-BALz0VAN"
      },
      "execution_count": null,
      "outputs": []
    },
    {
      "cell_type": "code",
      "source": [
        "s = 'paullab CEO leehojun'\n",
        "s. lower() , s.upper() \n",
        "# 특히 사용자에게 입력을 받는 경우 lower도 많이 사용합니다."
      ],
      "metadata": {
        "colab": {
          "base_uri": "https://localhost:8080/"
        },
        "id": "WkHLFIpm0c07",
        "outputId": "21da7787-d66b-41d4-92ac-016e1eabda07"
      },
      "execution_count": null,
      "outputs": [
        {
          "output_type": "execute_result",
          "data": {
            "text/plain": [
              "('paullab ceo leehojun', 'PAULLAB CEO LEEHOJUN')"
            ]
          },
          "metadata": {},
          "execution_count": 5
        }
      ]
    },
    {
      "cell_type": "code",
      "source": [
        "s = 'payylab CEO leehojun'\n",
        "s.find('C'), s.index('C')"
      ],
      "metadata": {
        "colab": {
          "base_uri": "https://localhost:8080/"
        },
        "id": "yqxqcTHw1Emr",
        "outputId": "3efc9e19-ccbb-4af2-d0a9-809712f1f735"
      },
      "execution_count": null,
      "outputs": [
        {
          "output_type": "execute_result",
          "data": {
            "text/plain": [
              "(8, 8)"
            ]
          },
          "metadata": {},
          "execution_count": 7
        }
      ]
    },
    {
      "cell_type": "code",
      "source": [
        "# 견고한 코드란?\n",
        "# 시간이 지나도 그대로 사용할 수 있고\n",
        "# error가 예측 가능하게 나는 코드\n",
        "# 네이버에 이미지 슬라이딩 코드\n",
        "# bool(s.find('Z')) => -1은 True이기 때문에 주의가 필요합니다.\n",
        "s.find('Z')"
      ],
      "metadata": {
        "colab": {
          "base_uri": "https://localhost:8080/"
        },
        "id": "elL387xK1TbB",
        "outputId": "7552fc17-917b-4882-e054-024fd96808bf"
      },
      "execution_count": null,
      "outputs": [
        {
          "output_type": "execute_result",
          "data": {
            "text/plain": [
              "True"
            ]
          },
          "metadata": {},
          "execution_count": 12
        }
      ]
    },
    {
      "cell_type": "code",
      "source": [
        "# Error가 나면 Error를 주는 것이 좋을 수 있습니다.\n",
        "# Error를 안주는 언어로 JavaScript\n",
        "s.index('Z')"
      ],
      "metadata": {
        "colab": {
          "base_uri": "https://localhost:8080/",
          "height": 174
        },
        "id": "ET5KYmMa1lLb",
        "outputId": "af4d12fe-de41-4f47-c761-7dd2793a7ecd"
      },
      "execution_count": null,
      "outputs": [
        {
          "output_type": "error",
          "ename": "ValueError",
          "evalue": "ignored",
          "traceback": [
            "\u001b[0;31m---------------------------------------------------------------------------\u001b[0m",
            "\u001b[0;31mValueError\u001b[0m                                Traceback (most recent call last)",
            "\u001b[0;32m<ipython-input-11-b727d3398a36>\u001b[0m in \u001b[0;36m<cell line: 1>\u001b[0;34m()\u001b[0m\n\u001b[0;32m----> 1\u001b[0;31m \u001b[0ms\u001b[0m\u001b[0;34m.\u001b[0m\u001b[0mindex\u001b[0m\u001b[0;34m(\u001b[0m\u001b[0;34m'Z'\u001b[0m\u001b[0;34m)\u001b[0m\u001b[0;34m\u001b[0m\u001b[0;34m\u001b[0m\u001b[0m\n\u001b[0m",
            "\u001b[0;31mValueError\u001b[0m: substring not found"
          ]
        }
      ]
    },
    {
      "cell_type": "code",
      "source": [
        "s = 'pauulab CEO leehojun'\n",
        "s.find('CEO')"
      ],
      "metadata": {
        "colab": {
          "base_uri": "https://localhost:8080/"
        },
        "id": "DDgAWKDG2gEq",
        "outputId": "3cad48b9-e95a-433e-9a54-3ca3e3d43414"
      },
      "execution_count": null,
      "outputs": [
        {
          "output_type": "execute_result",
          "data": {
            "text/plain": [
              "8"
            ]
          },
          "metadata": {},
          "execution_count": 13
        }
      ]
    },
    {
      "cell_type": "code",
      "source": [
        "# 별 5개\n",
        "s = 'paullab CEO leehojun'\n",
        "s.count('l')"
      ],
      "metadata": {
        "colab": {
          "base_uri": "https://localhost:8080/"
        },
        "id": "0CNZ2Yyx2wxF",
        "outputId": "bd82bf33-a13b-463d-bf09-4ee3fd8eec43"
      },
      "execution_count": null,
      "outputs": [
        {
          "output_type": "execute_result",
          "data": {
            "text/plain": [
              "3"
            ]
          },
          "metadata": {},
          "execution_count": 18
        }
      ]
    },
    {
      "cell_type": "code",
      "source": [
        "str([1, 2, 3, 4, 5,])"
      ],
      "metadata": {
        "colab": {
          "base_uri": "https://localhost:8080/",
          "height": 35
        },
        "id": "0nj-hCRE2_Qd",
        "outputId": "d6360d56-ba83-4db9-cf2a-2a52d1775cae"
      },
      "execution_count": null,
      "outputs": [
        {
          "output_type": "execute_result",
          "data": {
            "text/plain": [
              "'[1, 2, 3, 4, 5]'"
            ],
            "application/vnd.google.colaboratory.intrinsic+json": {
              "type": "string"
            }
          },
          "metadata": {},
          "execution_count": 19
        }
      ]
    },
    {
      "cell_type": "code",
      "source": [
        "str([1, 2, 3, 4, 5]).count(' ')"
      ],
      "metadata": {
        "colab": {
          "base_uri": "https://localhost:8080/"
        },
        "id": "xtN7vRVQ3DLM",
        "outputId": "f8411b4d-b698-4b58-df38-8f3e1396288a"
      },
      "execution_count": null,
      "outputs": [
        {
          "output_type": "execute_result",
          "data": {
            "text/plain": [
              "4"
            ]
          },
          "metadata": {},
          "execution_count": 20
        }
      ]
    },
    {
      "cell_type": "code",
      "source": [
        "str([1, 2, 3, 4, 5]).count(',')"
      ],
      "metadata": {
        "colab": {
          "base_uri": "https://localhost:8080/"
        },
        "id": "wIDdReki3IT8",
        "outputId": "08340152-59cf-4542-c122-237c15ad1b46"
      },
      "execution_count": null,
      "outputs": [
        {
          "output_type": "execute_result",
          "data": {
            "text/plain": [
              "4"
            ]
          },
          "metadata": {},
          "execution_count": 21
        }
      ]
    },
    {
      "cell_type": "code",
      "source": [
        "str([1, 2, 11, 4, 111]).count('1')"
      ],
      "metadata": {
        "colab": {
          "base_uri": "https://localhost:8080/"
        },
        "id": "a2NneIxg3L9d",
        "outputId": "65f724a9-d2b3-4145-ee32-a752cf3e3827"
      },
      "execution_count": null,
      "outputs": [
        {
          "output_type": "execute_result",
          "data": {
            "text/plain": [
              "6"
            ]
          },
          "metadata": {},
          "execution_count": 22
        }
      ]
    },
    {
      "cell_type": "code",
      "source": [
        "str(list(range(0, 10001))).count('8')"
      ],
      "metadata": {
        "colab": {
          "base_uri": "https://localhost:8080/"
        },
        "id": "6Z3abRRh5fJH",
        "outputId": "f3759aff-e7c0-4bd1-9686-c74a28d0d7ea"
      },
      "execution_count": null,
      "outputs": [
        {
          "output_type": "execute_result",
          "data": {
            "text/plain": [
              "4000"
            ]
          },
          "metadata": {},
          "execution_count": 31
        }
      ]
    },
    {
      "cell_type": "markdown",
      "source": [
        "*https://codingdojang.com/scode/393?answer_mode=hide\n"
      ],
      "metadata": {
        "id": "YdjulnQ53mhI"
      }
    },
    {
      "cell_type": "code",
      "source": [
        "str([1,\n",
        "     2,\n",
        "     3,\n",
        "     4,\n",
        "     5]).count(' ')\n",
        "# list는 콤마 다음에 공백이 없더라고 공백으로 인식해줍니다.\n"
      ],
      "metadata": {
        "colab": {
          "base_uri": "https://localhost:8080/"
        },
        "id": "fAi4zw8R3Rus",
        "outputId": "1e3c3d24-2028-4a8d-e7ae-6dddcd1e8f7b"
      },
      "execution_count": null,
      "outputs": [
        {
          "output_type": "execute_result",
          "data": {
            "text/plain": [
              "4"
            ]
          },
          "metadata": {},
          "execution_count": 23
        }
      ]
    },
    {
      "cell_type": "code",
      "source": [
        "'hello'.count('')"
      ],
      "metadata": {
        "colab": {
          "base_uri": "https://localhost:8080/"
        },
        "id": "I3IwkmR54MPR",
        "outputId": "d50cafa1-19f2-4547-f8ae-4922eceefc31"
      },
      "execution_count": null,
      "outputs": [
        {
          "output_type": "execute_result",
          "data": {
            "text/plain": [
              "6"
            ]
          },
          "metadata": {},
          "execution_count": 25
        }
      ]
    },
    {
      "cell_type": "code",
      "source": [
        "'a'.count('')"
      ],
      "metadata": {
        "colab": {
          "base_uri": "https://localhost:8080/"
        },
        "id": "wm5T2NS04bPa",
        "outputId": "ad30893d-eb21-489c-c9e7-16c6bcc6d512"
      },
      "execution_count": null,
      "outputs": [
        {
          "output_type": "execute_result",
          "data": {
            "text/plain": [
              "2"
            ]
          },
          "metadata": {},
          "execution_count": 26
        }
      ]
    },
    {
      "cell_type": "code",
      "source": [
        "''.count('')"
      ],
      "metadata": {
        "colab": {
          "base_uri": "https://localhost:8080/"
        },
        "id": "4tAd9quE4dpD",
        "outputId": "980095bd-1c94-45bf-fa91-38f80007d56a"
      },
      "execution_count": null,
      "outputs": [
        {
          "output_type": "execute_result",
          "data": {
            "text/plain": [
              "1"
            ]
          },
          "metadata": {},
          "execution_count": 28
        }
      ]
    },
    {
      "cell_type": "code",
      "source": [
        "''+''"
      ],
      "metadata": {
        "colab": {
          "base_uri": "https://localhost:8080/",
          "height": 35
        },
        "id": "TXiDEiGX4ifs",
        "outputId": "5e4e04cb-1448-44c1-85b0-d783a62f3b07"
      },
      "execution_count": null,
      "outputs": [
        {
          "output_type": "execute_result",
          "data": {
            "text/plain": [
              "''"
            ],
            "application/vnd.google.colaboratory.intrinsic+json": {
              "type": "string"
            }
          },
          "metadata": {},
          "execution_count": 32
        }
      ]
    },
    {
      "cell_type": "code",
      "source": [
        "'  hello  !  '.strip() # 공백제거 메서드"
      ],
      "metadata": {
        "colab": {
          "base_uri": "https://localhost:8080/",
          "height": 35
        },
        "id": "8dxpJ3Cu6a4F",
        "outputId": "f12a4b7a-9c3f-4af8-c413-514c65abaec7"
      },
      "execution_count": null,
      "outputs": [
        {
          "output_type": "execute_result",
          "data": {
            "text/plain": [
              "'hello  !'"
            ],
            "application/vnd.google.colaboratory.intrinsic+json": {
              "type": "string"
            }
          },
          "metadata": {},
          "execution_count": 35
        }
      ]
    },
    {
      "cell_type": "code",
      "source": [
        "'  hello  !  '.rstrip()\n"
      ],
      "metadata": {
        "colab": {
          "base_uri": "https://localhost:8080/",
          "height": 35
        },
        "id": "XLvjTWVs6npV",
        "outputId": "38529e31-b373-460f-c10f-bbe42507d6f8"
      },
      "execution_count": null,
      "outputs": [
        {
          "output_type": "execute_result",
          "data": {
            "text/plain": [
              "'  hello  !'"
            ],
            "application/vnd.google.colaboratory.intrinsic+json": {
              "type": "string"
            }
          },
          "metadata": {},
          "execution_count": 37
        }
      ]
    },
    {
      "cell_type": "code",
      "source": [
        "'  hello  !  '.lstrip()"
      ],
      "metadata": {
        "colab": {
          "base_uri": "https://localhost:8080/",
          "height": 35
        },
        "id": "OCGp-xLM6rWl",
        "outputId": "c218bb62-3b72-4c1e-ecd2-18ff9b637877"
      },
      "execution_count": null,
      "outputs": [
        {
          "output_type": "execute_result",
          "data": {
            "text/plain": [
              "'hello  !  '"
            ],
            "application/vnd.google.colaboratory.intrinsic+json": {
              "type": "string"
            }
          },
          "metadata": {},
          "execution_count": 38
        }
      ]
    },
    {
      "cell_type": "code",
      "source": [
        "# 별 5개\n",
        "'hello world hi'.replace('','!')\n",
        "'hello world hi'.replace('world', 'W@O@R@L@D').upper()"
      ],
      "metadata": {
        "colab": {
          "base_uri": "https://localhost:8080/",
          "height": 35
        },
        "id": "s8ywA9Pi65WJ",
        "outputId": "2aa6b57b-4cee-4ffd-cd9d-7bcb15f7b466"
      },
      "execution_count": null,
      "outputs": [
        {
          "output_type": "execute_result",
          "data": {
            "text/plain": [
              "'HELLO W@O@R@L@D HI'"
            ],
            "application/vnd.google.colaboratory.intrinsic+json": {
              "type": "string"
            }
          },
          "metadata": {},
          "execution_count": 43
        }
      ]
    },
    {
      "cell_type": "code",
      "source": [
        "'hello world hi'.replace('world', 'W@O@R@L@D').upper().split(\"@\")\n",
        "# 반환값이 list이기 떄문에 메서드 체이닝을 하려면 \n",
        "# 이후로 list 메서드를 사용해야 합니다."
      ],
      "metadata": {
        "colab": {
          "base_uri": "https://localhost:8080/"
        },
        "id": "9dgMA-7J7Vh-",
        "outputId": "3cd55597-13d5-4967-c81f-e557ca5d0d04"
      },
      "execution_count": null,
      "outputs": [
        {
          "output_type": "execute_result",
          "data": {
            "text/plain": [
              "['HELLO W', 'O', 'R', 'L', 'D HI']"
            ]
          },
          "metadata": {},
          "execution_count": 46
        }
      ]
    },
    {
      "cell_type": "code",
      "source": [
        "'hello world hi'.replace(' ','')"
      ],
      "metadata": {
        "colab": {
          "base_uri": "https://localhost:8080/",
          "height": 35
        },
        "id": "S78_J_Us7uZ1",
        "outputId": "f3032f2a-fe61-4a15-a123-fb964efc6632"
      },
      "execution_count": null,
      "outputs": [
        {
          "output_type": "execute_result",
          "data": {
            "text/plain": [
              "'helloworldhi'"
            ],
            "application/vnd.google.colaboratory.intrinsic+json": {
              "type": "string"
            }
          },
          "metadata": {},
          "execution_count": 48
        }
      ]
    },
    {
      "cell_type": "code",
      "source": [
        "data = '''  \"+ +-+ -+-\"  \n",
        "  \"++ -- +-+\"  \n",
        "  \"++-+ -+ -\"  \n",
        "  \"+ ++-+ -+\"  '''\n",
        "  \n",
        "data.split('\\n')[0].replace(' ', '').replace('\"', '')\n",
        "# Pythonic하지 않다!\n",
        "data.split('\\n')[0].replace(' ', \n",
        "                '').replace('\"', \n",
        "                '')\n",
        "# Pythonic하게 하려면\n",
        "data.split('\\n')[0]\\\n",
        "                .replace(' ', '')\\\n",
        "                .replace('\"', '')\\\n",
        "                .replace('\"', '')\\\n",
        "                .replace('\"', '')\\\n",
        "                .replace('\"', '')\\\n",
        "                .replace('\"', '')\\\n",
        "                .replace('\"', '')\\\n",
        "                .replace('\"', '')\\\n",
        "\n",
        "#제가 사용하는 기법\n",
        "processed_string= data.split('\\n')[0].replace(' ', '').replace('\"','')\n",
        "processed_string.replace('\"', '').replace('\"', '')\n"
      ],
      "metadata": {
        "colab": {
          "base_uri": "https://localhost:8080/",
          "height": 35
        },
        "id": "Un6tsYAh8But",
        "outputId": "e9df2e44-65dd-4914-d51f-a458b6b15fa0"
      },
      "execution_count": null,
      "outputs": [
        {
          "output_type": "execute_result",
          "data": {
            "text/plain": [
              "'++-+-+-'"
            ],
            "application/vnd.google.colaboratory.intrinsic+json": {
              "type": "string"
            }
          },
          "metadata": {},
          "execution_count": 53
        }
      ]
    },
    {
      "cell_type": "code",
      "source": [
        "# aaaaaaaaaaaaaaaaaaaaaaaaaaaaaaaaaaaaaaaaaaaaaaaaaaaaaaaaaaaaaaaaaaaaaaaaaaaaaaaa 79자\n",
        "# 아아아아아아아아아아아아아아아아아아아아아아아아아아아아아아아아아아아아아아아아 39자"
      ],
      "metadata": {
        "id": "Yy4tPTAP_c2Y"
      },
      "execution_count": null,
      "outputs": []
    },
    {
      "cell_type": "code",
      "source": [
        "data = '''  \"+ +-+ -+-\"  \n",
        "  \"++ -- +-+\"  \n",
        "  \"++-+ -+ -\"  \n",
        "  \"+ ++-+ -+\"  '''\n",
        "\n",
        "data.split('\\n')[0].replace(' ','').replace(' ','').replace('\"','').replace('+', '1').replace('-', '0')\n",
        "ord('A'), chr(65) #ord는 문자를 가지고 숫자로 변경 chr은 숫자를 가지고 문자로 변경합니다.\n",
        "숫자 = data.split('\\n')[0].replace(' ','').replace(' ','').replace('\"','').replace('+', '1').replace('-', '0')\n",
        "int(숫자, 2)\n",
        "chr(int(숫자, 2))"
      ],
      "metadata": {
        "colab": {
          "base_uri": "https://localhost:8080/",
          "height": 35
        },
        "id": "8xWNXV2aA-O5",
        "outputId": "301e5416-0f08-40ec-8011-8f5602e610f0"
      },
      "execution_count": null,
      "outputs": [
        {
          "output_type": "execute_result",
          "data": {
            "text/plain": [
              "'j'"
            ],
            "application/vnd.google.colaboratory.intrinsic+json": {
              "type": "string"
            }
          },
          "metadata": {},
          "execution_count": 57
        }
      ]
    },
    {
      "cell_type": "code",
      "source": [
        "# 별 4.5개\n",
        "'paullab CEO leehojun'.split(' ') #문자열을 쪼개어 줍니다.\n",
        "'paullab!CEO!leehojun'.split('!')\n",
        "'paullab,CEO,leehojun'.split(',')\n"
      ],
      "metadata": {
        "colab": {
          "base_uri": "https://localhost:8080/"
        },
        "id": "zJaFcAc_CBel",
        "outputId": "8582acc0-b3e9-40ca-89bb-1e0d19de7b34"
      },
      "execution_count": null,
      "outputs": [
        {
          "output_type": "execute_result",
          "data": {
            "text/plain": [
              "['paullab', 'CEO', 'leehojun']"
            ]
          },
          "metadata": {},
          "execution_count": 59
        }
      ]
    },
    {
      "cell_type": "code",
      "source": [
        "'010 5044 2903' # 1번\n",
        "'010-5044-2903' # 2번\n",
        "'010 5044-2903' # 3번"
      ],
      "metadata": {
        "colab": {
          "base_uri": "https://localhost:8080/",
          "height": 35
        },
        "id": "_TB4ehcFCJx3",
        "outputId": "410a605e-0719-4dc1-dca9-4f895047da9c"
      },
      "execution_count": null,
      "outputs": [
        {
          "output_type": "execute_result",
          "data": {
            "text/plain": [
              "'010 5044-2903'"
            ],
            "application/vnd.google.colaboratory.intrinsic+json": {
              "type": "string"
            }
          },
          "metadata": {},
          "execution_count": 61
        }
      ]
    },
    {
      "cell_type": "code",
      "source": [
        "['010', '5044', '2903']"
      ],
      "metadata": {
        "colab": {
          "base_uri": "https://localhost:8080/"
        },
        "id": "NJjQOXO5CR2G",
        "outputId": "efde0af3-48bd-4a86-9741-104dec6bb34f"
      },
      "execution_count": null,
      "outputs": [
        {
          "output_type": "execute_result",
          "data": {
            "text/plain": [
              "['010', '5044', '2903']"
            ]
          },
          "metadata": {},
          "execution_count": 64
        }
      ]
    },
    {
      "cell_type": "code",
      "source": [
        "'010 5044 2903'.split(' ')\n",
        "'010-5044-2903'.split('-')\n",
        "'010 5044-2903'.replace('-', ' ').split()"
      ],
      "metadata": {
        "colab": {
          "base_uri": "https://localhost:8080/"
        },
        "id": "-w7-VIIkDYqX",
        "outputId": "96490cc5-7793-463f-d793-b99d4e41193a"
      },
      "execution_count": null,
      "outputs": [
        {
          "output_type": "execute_result",
          "data": {
            "text/plain": [
              "['010', '5044', '2903']"
            ]
          },
          "metadata": {},
          "execution_count": 77
        }
      ]
    },
    {
      "cell_type": "code",
      "source": [
        "'010 5044 2903'.split(' ')\n",
        "'010-5044-2903'.split('-')\n",
        "'010 5044-2903'.replace(' ', '-').split('-')"
      ],
      "metadata": {
        "colab": {
          "base_uri": "https://localhost:8080/"
        },
        "id": "NLFmKej8EMo_",
        "outputId": "d2d07933-1c62-4960-f35d-cc93c42a7a19"
      },
      "execution_count": null,
      "outputs": [
        {
          "output_type": "execute_result",
          "data": {
            "text/plain": [
              "['010', '5044', '2903']"
            ]
          },
          "metadata": {},
          "execution_count": 78
        }
      ]
    },
    {
      "cell_type": "code",
      "source": [
        "'010 5044 2903'.split() # 공백단위가 들어가게 됩니다."
      ],
      "metadata": {
        "colab": {
          "base_uri": "https://localhost:8080/"
        },
        "id": "6nm9PxdXF1oz",
        "outputId": "c69c9e20-a966-4997-e078-3b5822bc7b2a"
      },
      "execution_count": null,
      "outputs": [
        {
          "output_type": "execute_result",
          "data": {
            "text/plain": [
              "['010', '5044', '2903']"
            ]
          },
          "metadata": {},
          "execution_count": 80
        }
      ]
    },
    {
      "cell_type": "code",
      "source": [
        "#'01050442903'.split('') # 빈 문자열을 넣지는 못합니다"
      ],
      "metadata": {
        "id": "7RhF-9wsF6J_"
      },
      "execution_count": null,
      "outputs": []
    },
    {
      "cell_type": "code",
      "source": [
        "list(map(int, '010 5044 2903'.split(' ')))"
      ],
      "metadata": {
        "colab": {
          "base_uri": "https://localhost:8080/"
        },
        "id": "rXTH8yYgGKS4",
        "outputId": "3221cc73-0864-44ac-8821-fa7ae50bd458"
      },
      "execution_count": null,
      "outputs": [
        {
          "output_type": "execute_result",
          "data": {
            "text/plain": [
              "[10, 5044, 2903]"
            ]
          },
          "metadata": {},
          "execution_count": 85
        }
      ]
    },
    {
      "cell_type": "code",
      "source": [
        "int('010')"
      ],
      "metadata": {
        "colab": {
          "base_uri": "https://localhost:8080/"
        },
        "id": "sDBXxTGOMP2t",
        "outputId": "29725290-0a2b-49f6-9007-aa5de21074f0"
      },
      "execution_count": null,
      "outputs": [
        {
          "output_type": "execute_result",
          "data": {
            "text/plain": [
              "10"
            ]
          },
          "metadata": {},
          "execution_count": 110
        }
      ]
    },
    {
      "cell_type": "code",
      "source": [
        "# print (010) #error"
      ],
      "metadata": {
        "id": "FoE0UEzwMS5Y"
      },
      "execution_count": null,
      "outputs": []
    },
    {
      "cell_type": "code",
      "source": [
        "num = '010 5044-2903'.replace('-',' ').split(' ')\n",
        "[int(i) for i in num] # 리스트 컴프리헨션 사용\n",
        "list(map(int, '010 5044 2903'.split(' ')))\n",
        "\n",
        "# 2개 모두 새로운 리스트를 만드는 것입니다.\n",
        "# 원본을 변경시키지 않습니다."
      ],
      "metadata": {
        "colab": {
          "base_uri": "https://localhost:8080/"
        },
        "id": "SYJML7tbMlep",
        "outputId": "e29bf640-1653-4953-a454-52db2febd862"
      },
      "execution_count": null,
      "outputs": [
        {
          "output_type": "execute_result",
          "data": {
            "text/plain": [
              "[10, 5044, 2903]"
            ]
          },
          "metadata": {},
          "execution_count": 114
        }
      ]
    },
    {
      "cell_type": "code",
      "source": [
        "s = []\n",
        "for i in '010 5044-2903'.replace('-',' ').split(' ') \n",
        "    s.append(int(i))\n",
        "s\n",
        "\n",
        "# 요 코드를 추천합니다.\n",
        "[int(i) for i in num]"
      ],
      "metadata": {
        "colab": {
          "base_uri": "https://localhost:8080/",
          "height": 137
        },
        "id": "Q-gyG_AVNCjJ",
        "outputId": "d2f1b1ed-995d-4a04-ce86-4d0339bdb0bd"
      },
      "execution_count": null,
      "outputs": [
        {
          "output_type": "error",
          "ename": "SyntaxError",
          "evalue": "ignored",
          "traceback": [
            "\u001b[0;36m  File \u001b[0;32m\"<ipython-input-115-c4b878c19c2b>\"\u001b[0;36m, line \u001b[0;32m2\u001b[0m\n\u001b[0;31m    for i in '010 5044-2903'.replace('-',' ').split(' ')\u001b[0m\n\u001b[0m                                                         ^\u001b[0m\n\u001b[0;31mSyntaxError\u001b[0m\u001b[0;31m:\u001b[0m expected ':'\n"
          ]
        }
      ]
    },
    {
      "cell_type": "code",
      "source": [
        "# 지금 진도에서 과하기 때문에 \n",
        "# 뒤에서 상세하게 다룹니다\n",
        "# 지금은 잊으셔도 됩니다.\n",
        "def 제곱함수(x):\n",
        "    return x ** 2\n",
        "\n",
        "def 정수함수(x):\n",
        "    return int(x)\n",
        "\n",
        "list(map(제곱함수, [1, 2, 3]))\n",
        "list(map(정수함수, ['1', '2', '3']))\n",
        "list(map(int, ['1', '2', '3']))\n",
        "\n",
        "list(map(int, ['010', '5044', '2903']))\n",
        "list(map(int,'010 5044 2903'.split(' ')))"
      ],
      "metadata": {
        "colab": {
          "base_uri": "https://localhost:8080/"
        },
        "id": "HVJ09xfVGhYt",
        "outputId": "3407c641-1a8f-4016-e7db-92867ec83ae4"
      },
      "execution_count": null,
      "outputs": [
        {
          "output_type": "execute_result",
          "data": {
            "text/plain": [
              "[10, 5044, 2903]"
            ]
          },
          "metadata": {},
          "execution_count": 86
        }
      ]
    },
    {
      "cell_type": "code",
      "source": [
        "# 별 4.5 개\n",
        "'~'.join(['hello', 'world', 'hello'])\n",
        "'!'.join(['hello', 'world', 'hello'])\n",
        "''.join(['hello', 'world', 'hello'])\n",
        "' '.join(['hello', 'world', 'hello'])\n"
      ],
      "metadata": {
        "colab": {
          "base_uri": "https://localhost:8080/",
          "height": 35
        },
        "id": "SsAWTemwHeHz",
        "outputId": "e29649d4-5cbc-475f-bfdc-b9947f4db3c9"
      },
      "execution_count": null,
      "outputs": [
        {
          "output_type": "execute_result",
          "data": {
            "text/plain": [
              "'hello world hello'"
            ],
            "application/vnd.google.colaboratory.intrinsic+json": {
              "type": "string"
            }
          },
          "metadata": {},
          "execution_count": 88
        }
      ]
    },
    {
      "cell_type": "code",
      "source": [
        "'hello'.isalpha()"
      ],
      "metadata": {
        "colab": {
          "base_uri": "https://localhost:8080/"
        },
        "id": "ygKs9GmHH6Xz",
        "outputId": "a1e00ab7-eeda-40a4-be1f-8958b38d760a"
      },
      "execution_count": null,
      "outputs": [
        {
          "output_type": "execute_result",
          "data": {
            "text/plain": [
              "True"
            ]
          },
          "metadata": {},
          "execution_count": 90
        }
      ]
    },
    {
      "cell_type": "code",
      "source": [
        "'he llo'.isalpha()"
      ],
      "metadata": {
        "colab": {
          "base_uri": "https://localhost:8080/"
        },
        "id": "NPgmPX59ICGq",
        "outputId": "f2428c4c-3877-4b24-87ea-54f204105cfd"
      },
      "execution_count": null,
      "outputs": [
        {
          "output_type": "execute_result",
          "data": {
            "text/plain": [
              "False"
            ]
          },
          "metadata": {},
          "execution_count": 92
        }
      ]
    },
    {
      "cell_type": "code",
      "source": [
        "'123'.isdigit()"
      ],
      "metadata": {
        "colab": {
          "base_uri": "https://localhost:8080/"
        },
        "id": "j2tVcCi3IIIh",
        "outputId": "a539c728-826e-4212-f297-fb3bc28e7378"
      },
      "execution_count": null,
      "outputs": [
        {
          "output_type": "execute_result",
          "data": {
            "text/plain": [
              "True"
            ]
          },
          "metadata": {},
          "execution_count": 93
        }
      ]
    },
    {
      "cell_type": "code",
      "source": [
        "'12a3'.isdigit(), '12 3'.isdigit()"
      ],
      "metadata": {
        "colab": {
          "base_uri": "https://localhost:8080/"
        },
        "id": "vDsqTtNSIMHJ",
        "outputId": "63f5fd9f-3238-47d0-9001-8ff8995ca7c3"
      },
      "execution_count": null,
      "outputs": [
        {
          "output_type": "execute_result",
          "data": {
            "text/plain": [
              "(False, False)"
            ]
          },
          "metadata": {},
          "execution_count": 94
        }
      ]
    },
    {
      "cell_type": "code",
      "source": [
        "'12a3'.isalnum(), '12 3'.isalnum()"
      ],
      "metadata": {
        "colab": {
          "base_uri": "https://localhost:8080/"
        },
        "id": "4XFjKtTwIQSK",
        "outputId": "5dea54e6-181a-45a7-a778-d79b36f4216a"
      },
      "execution_count": null,
      "outputs": [
        {
          "output_type": "execute_result",
          "data": {
            "text/plain": [
              "(True, False)"
            ]
          },
          "metadata": {},
          "execution_count": 97
        }
      ]
    },
    {
      "cell_type": "code",
      "source": [
        "'안녕하세요!'.isalpha(), '안녕하세요!'.isalnum()"
      ],
      "metadata": {
        "colab": {
          "base_uri": "https://localhost:8080/"
        },
        "id": "FnutN5YDId0o",
        "outputId": "b7863b13-c42b-458e-f0ef-931b8c2ba7be"
      },
      "execution_count": null,
      "outputs": [
        {
          "output_type": "execute_result",
          "data": {
            "text/plain": [
              "(False, False)"
            ]
          },
          "metadata": {},
          "execution_count": 99
        }
      ]
    },
    {
      "cell_type": "code",
      "source": [
        "#퀴즈\n",
        "# 숫자를 모두 더하라!\n",
        "\n",
        "result = 0\n",
        "for i in'123abc913sldlf':\n",
        "    # print(i.isdigit())\n",
        "    if i.isdigit():\n",
        "        result += int(i) #result = result + int(i)\n",
        "result\n",
        "\n",
        "       "
      ],
      "metadata": {
        "colab": {
          "base_uri": "https://localhost:8080/"
        },
        "id": "Qm8roLYRIoxQ",
        "outputId": "2a472522-f14e-4e39-bde4-5cb8821733f4"
      },
      "execution_count": null,
      "outputs": [
        {
          "output_type": "execute_result",
          "data": {
            "text/plain": [
              "19"
            ]
          },
          "metadata": {},
          "execution_count": 108
        }
      ]
    },
    {
      "cell_type": "code",
      "source": [
        "result = 0\n",
        "for i in '123abc913sldlf':\n",
        "    if i.isdigit():\n",
        "        result += int(i)\n",
        "result"
      ],
      "metadata": {
        "colab": {
          "base_uri": "https://localhost:8080/"
        },
        "id": "ZIEHrGVQJbQm",
        "outputId": "f2733a1f-13e1-443e-9c7c-2c7a1509d5d2"
      },
      "execution_count": null,
      "outputs": [
        {
          "output_type": "execute_result",
          "data": {
            "text/plain": [
              "19"
            ]
          },
          "metadata": {},
          "execution_count": 103
        }
      ]
    },
    {
      "cell_type": "code",
      "source": [
        "'paullab CEO leehojun'.isascii()"
      ],
      "metadata": {
        "colab": {
          "base_uri": "https://localhost:8080/"
        },
        "id": "6ABRnhF7NepP",
        "outputId": "3c5a8abc-1d95-44f2-96d7-9c9503511209"
      },
      "execution_count": null,
      "outputs": [
        {
          "output_type": "execute_result",
          "data": {
            "text/plain": [
              "True"
            ]
          },
          "metadata": {},
          "execution_count": 117
        }
      ]
    },
    {
      "cell_type": "code",
      "source": [
        "'paullab CEO leehojun'.rjust(30) #오른쪽 정렬\n",
        "'paullab CEO leehojun'.ljust(30) #왼쪽 정렬\n",
        "'paullab CEO leehojun'.center(30)#가운데 정렬"
      ],
      "metadata": {
        "colab": {
          "base_uri": "https://localhost:8080/",
          "height": 35
        },
        "id": "9hSY9z6aJrKM",
        "outputId": "ddd9c013-cc27-4484-8898-6694eef85bb3"
      },
      "execution_count": null,
      "outputs": [
        {
          "output_type": "execute_result",
          "data": {
            "text/plain": [
              "'     paullab CEO leehojun     '"
            ],
            "application/vnd.google.colaboratory.intrinsic+json": {
              "type": "string"
            }
          },
          "metadata": {},
          "execution_count": 116
        }
      ]
    },
    {
      "cell_type": "code",
      "source": [
        "'hello'.zfill(20)"
      ],
      "metadata": {
        "colab": {
          "base_uri": "https://localhost:8080/",
          "height": 35
        },
        "id": "ig4PjsTTN4uZ",
        "outputId": "63ad3144-181d-4152-96e6-5151fb37550a"
      },
      "execution_count": null,
      "outputs": [
        {
          "output_type": "execute_result",
          "data": {
            "text/plain": [
              "'000000000000000hello'"
            ],
            "application/vnd.google.colaboratory.intrinsic+json": {
              "type": "string"
            }
          },
          "metadata": {},
          "execution_count": 119
        }
      ]
    },
    {
      "cell_type": "code",
      "source": [
        "'1001'.zfill(5)\n",
        "'hello'.zfill(10).replace('0', '-')"
      ],
      "metadata": {
        "colab": {
          "base_uri": "https://localhost:8080/",
          "height": 35
        },
        "id": "pzpLQ3TcOKrZ",
        "outputId": "0c9ba6a8-dd9c-4276-ee87-f08aa4a35423"
      },
      "execution_count": null,
      "outputs": [
        {
          "output_type": "execute_result",
          "data": {
            "text/plain": [
              "'-----hello'"
            ],
            "application/vnd.google.colaboratory.intrinsic+json": {
              "type": "string"
            }
          },
          "metadata": {},
          "execution_count": 124
        }
      ]
    },
    {
      "cell_type": "code",
      "source": [
        "규칙테이블 = str.maketrans({'\\n':'', '\\t':''})\n",
        "'paullab \\n\\n\\n CEO \\t\\t\\t leehojun'.translate(규칙테이블)"
      ],
      "metadata": {
        "colab": {
          "base_uri": "https://localhost:8080/",
          "height": 35
        },
        "id": "uYAlTVkZOee5",
        "outputId": "a01d8785-920d-4d99-f13d-0a1d39a558a8"
      },
      "execution_count": null,
      "outputs": [
        {
          "output_type": "execute_result",
          "data": {
            "text/plain": [
              "'paullab  CEO  leehojun'"
            ],
            "application/vnd.google.colaboratory.intrinsic+json": {
              "type": "string"
            }
          },
          "metadata": {},
          "execution_count": 125
        }
      ]
    },
    {
      "cell_type": "code",
      "source": [
        "'paullab \\n\\n\\n CEO \\t\\t\\t leehojun'.replace(\\n, '')"
      ],
      "metadata": {
        "colab": {
          "base_uri": "https://localhost:8080/",
          "height": 137
        },
        "id": "Dzr-8HI0Oogh",
        "outputId": "1cfdb25b-e421-4280-b9fa-1e20d7ae2696"
      },
      "execution_count": null,
      "outputs": [
        {
          "output_type": "error",
          "ename": "SyntaxError",
          "evalue": "ignored",
          "traceback": [
            "\u001b[0;36m  File \u001b[0;32m\"<ipython-input-128-edd3cecd30d5>\"\u001b[0;36m, line \u001b[0;32m1\u001b[0m\n\u001b[0;31m    'paullab \\n\\n\\n CEO \\t\\t\\t leehojun'.replace(\\n, '')\u001b[0m\n\u001b[0m                                                  ^\u001b[0m\n\u001b[0;31mSyntaxError\u001b[0m\u001b[0;31m:\u001b[0m unexpected character after line continuation character\n"
          ]
        }
      ]
    },
    {
      "cell_type": "markdown",
      "source": [],
      "metadata": {
        "id": "FjkErtWKPkRt"
      }
    },
    {
      "cell_type": "code",
      "source": [
        "# aaaaaaaaaaaaaaaaaaaaaaaaaaaaaaaaaaaaaaaaaaaaaaaaaaaaaaaaaaaaaaaaaaaaaaaaaaaaaaaa => 80자\n",
        "# 아아아아아아아아아아아아아아아아아아아아아아아아아아아아아아아아아아아아아아아아아아 => 42자면 한글 넘어갑니다.\n",
        "# line에 딱 맞춰 들어간 것을 볼 수 있습니다. \n",
        "# 강제사항은 아닙니다.\n",
        "# 띄어쓰기 4번도 강제사항은 아닙니다.\n",
        "# pep8, pep 20에 기술되어 있습니다. => pep(Python Enhancement Proposal)란 무엇인가요? 8이란 무엇인가요?\n",
        "# pep8 : Style Guide for Python Code(https://peps.python.org/pep-0008)\n",
        "# pep20 : The Zen of Python(https://peps.python.org/pep-0020) # 이스터에그로 숨겨져 있습니다.\n",
        "# https://peps.python.org/"
      ],
      "metadata": {
        "id": "F3tzH3asPHpi"
      },
      "execution_count": null,
      "outputs": []
    },
    {
      "cell_type": "markdown",
      "source": [
        "### cpython\n",
        "\n",
        "* 공식홈페이지에서 다운로드 받는 것이 cpython입니다.\n",
        "* https://github.com/python/cpython/blob/main/Objects/listobject.c\n",
        "* list를 구현한 코드 : https://github.com/python/cpython/blob/main/Objects/listobject.c"
      ],
      "metadata": {
        "id": "vGc2u8oNQxNV"
      }
    },
    {
      "cell_type": "code",
      "source": [
        "name = 'Guido van Rossum'\n",
        "print(name[0])\n",
        "print(name[1])\n",
        "print(name[2])"
      ],
      "metadata": {
        "colab": {
          "base_uri": "https://localhost:8080/"
        },
        "id": "4RCn-Od9Sc9c",
        "outputId": "1c89b287-805b-45ef-edb1-2233e220e786"
      },
      "execution_count": null,
      "outputs": [
        {
          "output_type": "stream",
          "name": "stdout",
          "text": [
            "G\n",
            "u\n",
            "i\n"
          ]
        }
      ]
    },
    {
      "cell_type": "code",
      "source": [
        "# s[start:stop:step]\n",
        "s= 'paullab CEO leehojun'\n",
        "s[5:]\n",
        "s[:5]\n",
        "s[3:10]\n",
        "s[:]\n",
        "s[0:20:2]\n"
      ],
      "metadata": {
        "colab": {
          "base_uri": "https://localhost:8080/",
          "height": 35
        },
        "id": "d11UoM3BSkNa",
        "outputId": "3135d72d-e940-4e7e-b894-88c3ece85509"
      },
      "execution_count": null,
      "outputs": [
        {
          "output_type": "execute_result",
          "data": {
            "text/plain": [
              "'pulbCOleou'"
            ],
            "application/vnd.google.colaboratory.intrinsic+json": {
              "type": "string"
            }
          },
          "metadata": {},
          "execution_count": 136
        }
      ]
    },
    {
      "cell_type": "code",
      "source": [
        "# 자주 사용되는 코드\n",
        "s= 'paullab CEO leehojun.'\n",
        "s[:] # string에서는 많이 사용하지 않지만 list에서 많이 사용합니다.\n",
        "s[:-1] # 마지막 요소만 제외하고 다 슬라이싱 합니다."
      ],
      "metadata": {
        "colab": {
          "base_uri": "https://localhost:8080/",
          "height": 35
        },
        "id": "QIeJWLpdTM-7",
        "outputId": "f80c9462-7a01-4861-ab57-d009f1137138"
      },
      "execution_count": null,
      "outputs": [
        {
          "output_type": "execute_result",
          "data": {
            "text/plain": [
              "'paullab CEO leehojun'"
            ],
            "application/vnd.google.colaboratory.intrinsic+json": {
              "type": "string"
            }
          },
          "metadata": {},
          "execution_count": 138
        }
      ]
    },
    {
      "cell_type": "code",
      "source": [
        "test = [1, 2, 3, 4,]\n",
        "test2 = test\n",
        "test2[0] = 1000\n",
        "test, test2"
      ],
      "metadata": {
        "colab": {
          "base_uri": "https://localhost:8080/"
        },
        "id": "ZDpRQju3Teeb",
        "outputId": "20eb5510-9000-4f0a-a8cd-e18df6d36e40"
      },
      "execution_count": null,
      "outputs": [
        {
          "output_type": "execute_result",
          "data": {
            "text/plain": [
              "([1000, 2, 3, 4], [1000, 2, 3, 4])"
            ]
          },
          "metadata": {},
          "execution_count": 139
        }
      ]
    },
    {
      "cell_type": "code",
      "source": [
        "test = [1, 2, 3, 4,]\n",
        "test2 = test[:] # 새로운 리스트를 만들어서 test2에게 줍니다.\n",
        "test2[0] = 1000\n",
        "test, test2"
      ],
      "metadata": {
        "colab": {
          "base_uri": "https://localhost:8080/"
        },
        "id": "5w6FNV5PTuwr",
        "outputId": "e2741258-3348-439c-f6db-3bebe5b6133e"
      },
      "execution_count": null,
      "outputs": [
        {
          "output_type": "execute_result",
          "data": {
            "text/plain": [
              "([1, 2, 3, 4], [1000, 2, 3, 4])"
            ]
          },
          "metadata": {},
          "execution_count": 140
        }
      ]
    },
    {
      "cell_type": "markdown",
      "source": [
        "## 문자열의 연산"
      ],
      "metadata": {
        "id": "eAXn_TePUpUf"
      }
    },
    {
      "cell_type": "code",
      "source": [
        "s = 'hello world'\n",
        "dir(s)\n",
        "s + s\n",
        "s * 3"
      ],
      "metadata": {
        "colab": {
          "base_uri": "https://localhost:8080/",
          "height": 35
        },
        "id": "HZjZxqGRUcmO",
        "outputId": "7d9ec94a-e895-4463-a71b-4fa7507d603a"
      },
      "execution_count": null,
      "outputs": [
        {
          "output_type": "execute_result",
          "data": {
            "text/plain": [
              "'hello worldhello worldhello world'"
            ],
            "application/vnd.google.colaboratory.intrinsic+json": {
              "type": "string"
            }
          },
          "metadata": {},
          "execution_count": 142
        }
      ]
    },
    {
      "cell_type": "code",
      "source": [],
      "metadata": {
        "id": "M4wEnfH3QwXj"
      },
      "execution_count": null,
      "outputs": []
    },
    {
      "cell_type": "markdown",
      "source": [
        "## 형변환"
      ],
      "metadata": {
        "id": "LAbR5HmMU3gC"
      }
    },
    {
      "cell_type": "markdown",
      "source": [
        "* 형변환 : type을 변경하는 것입니다."
      ],
      "metadata": {
        "id": "kNl4Kfa4WI4G"
      }
    },
    {
      "cell_type": "code",
      "source": [
        "x = int(input())\n",
        "x + x # but 알파벳 입력하면 error!"
      ],
      "metadata": {
        "id": "z1nzQ0jDU4Xb"
      },
      "execution_count": null,
      "outputs": []
    },
    {
      "cell_type": "code",
      "source": [
        "x = input()\n",
        "if x.isdigit():\n",
        "    x = int(x) # but 알파벳 입력하면 error!\n",
        "x + x"
      ],
      "metadata": {
        "id": "IHI6j2q0VEW2"
      },
      "execution_count": null,
      "outputs": []
    },
    {
      "cell_type": "code",
      "source": [
        "# int('abc') # error\n",
        "int(10.1) # 버림\n",
        "int('10') # 형변환 가능\n",
        "int('10.1') # 형변환 불가능"
      ],
      "metadata": {
        "colab": {
          "base_uri": "https://localhost:8080/",
          "height": 211
        },
        "id": "6ZqDxW7yVZ3_",
        "outputId": "38d88be1-44d8-4ee1-8e7b-63ae423cc28b"
      },
      "execution_count": null,
      "outputs": [
        {
          "output_type": "error",
          "ename": "ValueError",
          "evalue": "ignored",
          "traceback": [
            "\u001b[0;31m---------------------------------------------------------------------------\u001b[0m",
            "\u001b[0;31mValueError\u001b[0m                                Traceback (most recent call last)",
            "\u001b[0;32m<ipython-input-146-f84f70dd5449>\u001b[0m in \u001b[0;36m<cell line: 4>\u001b[0;34m()\u001b[0m\n\u001b[1;32m      2\u001b[0m \u001b[0mint\u001b[0m\u001b[0;34m(\u001b[0m\u001b[0;36m10.1\u001b[0m\u001b[0;34m)\u001b[0m \u001b[0;31m# 버림\u001b[0m\u001b[0;34m\u001b[0m\u001b[0;34m\u001b[0m\u001b[0m\n\u001b[1;32m      3\u001b[0m \u001b[0mint\u001b[0m\u001b[0;34m(\u001b[0m\u001b[0;34m'10'\u001b[0m\u001b[0;34m)\u001b[0m \u001b[0;31m# 형변환 가능\u001b[0m\u001b[0;34m\u001b[0m\u001b[0;34m\u001b[0m\u001b[0m\n\u001b[0;32m----> 4\u001b[0;31m \u001b[0mint\u001b[0m\u001b[0;34m(\u001b[0m\u001b[0;34m'10.1'\u001b[0m\u001b[0;34m)\u001b[0m \u001b[0;31m# 형변환 불가능\u001b[0m\u001b[0;34m\u001b[0m\u001b[0;34m\u001b[0m\u001b[0m\n\u001b[0m",
            "\u001b[0;31mValueError\u001b[0m: invalid literal for int() with base 10: '10.1'"
          ]
        }
      ]
    },
    {
      "cell_type": "code",
      "source": [
        "float('10') # 형변환 가능\n",
        "float('10.1') # 형변환 가능"
      ],
      "metadata": {
        "colab": {
          "base_uri": "https://localhost:8080/"
        },
        "id": "hABGdD72VwhU",
        "outputId": "4d003511-ea9a-48a2-e441-ee0dcf96a6ec"
      },
      "execution_count": null,
      "outputs": [
        {
          "output_type": "execute_result",
          "data": {
            "text/plain": [
              "10.1"
            ]
          },
          "metadata": {},
          "execution_count": 148
        }
      ]
    },
    {
      "cell_type": "code",
      "source": [
        "int('10a') # 되는 언어가 있어서 보여드린 것입니다.\n",
        "# Python에서는 허용하지 않습니다."
      ],
      "metadata": {
        "id": "7IhUer9FV28j"
      },
      "execution_count": null,
      "outputs": []
    },
    {
      "cell_type": "code",
      "source": [
        "def hello():\n",
        "    pass\n",
        "\n",
        "str('123')\n",
        "str(True)\n",
        "str(None)\n",
        "str(type)\n",
        "str(hello)\n",
        "str([1, 2, 3])\n",
        "str({1, 2, 3})\n",
        "str({'one':1, 'two':2})\n"
      ],
      "metadata": {
        "colab": {
          "base_uri": "https://localhost:8080/",
          "height": 35
        },
        "id": "g7U274OKWMxg",
        "outputId": "1cc44b47-58c1-4cc6-a027-e94bca2743df"
      },
      "execution_count": null,
      "outputs": [
        {
          "output_type": "execute_result",
          "data": {
            "text/plain": [
              "\"{'one': 1, 'two': 2}\""
            ],
            "application/vnd.google.colaboratory.intrinsic+json": {
              "type": "string"
            }
          },
          "metadata": {},
          "execution_count": 154
        }
      ]
    },
    {
      "cell_type": "code",
      "source": [
        "# 별 5개\n",
        "if 'True':\n",
        "    print('hi')\n",
        "\n",
        "    if 'hello':\n",
        "        print('hi')\n",
        "\n",
        "# 정말 많이 사용하는 코드\n",
        "l = [1, 2, 3]\n",
        "while l:\n",
        "    print(l.pop())\n",
        "\n",
        "bool('') # 빈 문자열을 제외하고 모두 True\n",
        "bool('a')\n",
        "bool('False') #문자열 False이기 때문에 True\n",
        "bool('0') # 0을 제외하고 모두 True\n",
        "bool(-1)\n",
        "bool(100)\n",
        "bool(None) # None은 비어있음을 명시해주는 키워드. False\n",
        "bool([])\n",
        "bool({})"
      ],
      "metadata": {
        "colab": {
          "base_uri": "https://localhost:8080/"
        },
        "id": "SM9jkVSIW3xY",
        "outputId": "358a562d-7a0c-42c5-e008-17ccd9bb6150"
      },
      "execution_count": null,
      "outputs": [
        {
          "output_type": "stream",
          "name": "stdout",
          "text": [
            "hi\n",
            "hi\n",
            "3\n",
            "2\n",
            "1\n"
          ]
        },
        {
          "output_type": "execute_result",
          "data": {
            "text/plain": [
              "False"
            ]
          },
          "metadata": {},
          "execution_count": 163
        }
      ]
    },
    {
      "cell_type": "code",
      "source": [
        "# list로 형변환\n",
        "s = '10'\n",
        "l = list(s)\n",
        "l\n"
      ],
      "metadata": {
        "colab": {
          "base_uri": "https://localhost:8080/"
        },
        "id": "TVf-X4ZnpDiy",
        "outputId": "0fa3a432-db8a-45ce-87e5-a4dc1091036a"
      },
      "execution_count": null,
      "outputs": [
        {
          "output_type": "execute_result",
          "data": {
            "text/plain": [
              "['1', '0']"
            ]
          },
          "metadata": {},
          "execution_count": 166
        }
      ]
    },
    {
      "cell_type": "code",
      "source": [
        "s = 'leehojun'\n",
        "l = list(s)\n",
        "l"
      ],
      "metadata": {
        "colab": {
          "base_uri": "https://localhost:8080/"
        },
        "id": "V3jP77aepuzu",
        "outputId": "0e3ae593-eeba-4501-ec96-f433d542fa29"
      },
      "execution_count": null,
      "outputs": [
        {
          "output_type": "execute_result",
          "data": {
            "text/plain": [
              "['l', 'e', 'e', 'h', 'o', 'j', 'u', 'n']"
            ]
          },
          "metadata": {},
          "execution_count": 169
        }
      ]
    },
    {
      "cell_type": "code",
      "source": [
        "# tuple로 형변환\n",
        "s = 'leehojun'\n",
        "l = tuple(s)\n",
        "l"
      ],
      "metadata": {
        "colab": {
          "base_uri": "https://localhost:8080/"
        },
        "id": "TIgoyGdDp2Td",
        "outputId": "a6c6809a-c46e-4b4b-af4d-76979c4e2bd1"
      },
      "execution_count": null,
      "outputs": [
        {
          "output_type": "execute_result",
          "data": {
            "text/plain": [
              "('l', 'e', 'e', 'h', 'o', 'j', 'u', 'n')"
            ]
          },
          "metadata": {},
          "execution_count": 170
        }
      ]
    },
    {
      "cell_type": "code",
      "source": [
        "# dict\n",
        "# name = 'leehojun' # error\n",
        "# dict(name)\n",
        "\n",
        "s = [('name','leehojun'), ('age',10)]\n",
        "d = dict(s)\n",
        "d"
      ],
      "metadata": {
        "colab": {
          "base_uri": "https://localhost:8080/"
        },
        "id": "0JUJLUrMp7Yk",
        "outputId": "04377677-7ad4-4287-ef12-d4e260af5175"
      },
      "execution_count": null,
      "outputs": [
        {
          "output_type": "execute_result",
          "data": {
            "text/plain": [
              "{'name': 'leehojun', 'age': 10}"
            ]
          },
          "metadata": {},
          "execution_count": 171
        }
      ]
    },
    {
      "cell_type": "code",
      "source": [
        "# set(집합)으로 형변환\n",
        "name = 'leehojun'\n",
        "set(name)"
      ],
      "metadata": {
        "colab": {
          "base_uri": "https://localhost:8080/"
        },
        "id": "_nwwrhwPqOih",
        "outputId": "7f5e0f4a-19a3-4242-8eef-33bf2f014c76"
      },
      "execution_count": null,
      "outputs": [
        {
          "output_type": "execute_result",
          "data": {
            "text/plain": [
              "{'e', 'h', 'j', 'l', 'n', 'o', 'u'}"
            ]
          },
          "metadata": {},
          "execution_count": 173
        }
      ]
    },
    {
      "cell_type": "code",
      "source": [
        "len('hello world') # __len__\n",
        "len([1, 2, 3, 4])"
      ],
      "metadata": {
        "colab": {
          "base_uri": "https://localhost:8080/"
        },
        "id": "8hdpLWdfqjVV",
        "outputId": "6b6dab04-4ae6-47b3-9754-9def1d9fe77f"
      },
      "execution_count": null,
      "outputs": [
        {
          "output_type": "execute_result",
          "data": {
            "text/plain": [
              "4"
            ]
          },
          "metadata": {},
          "execution_count": 175
        }
      ]
    },
    {
      "cell_type": "code",
      "source": [
        "user_input = input('문자를 입력해주세요!')\n",
        "print(user_input * 2)"
      ],
      "metadata": {
        "id": "b-CC66wusi_K"
      },
      "execution_count": null,
      "outputs": []
    },
    {
      "cell_type": "code",
      "source": [
        "# 3번\n",
        "num = 1234567890\n",
        "list(str(num))\n",
        "list(str(num))[3]"
      ],
      "metadata": {
        "colab": {
          "base_uri": "https://localhost:8080/",
          "height": 35
        },
        "id": "947J85i9s-TV",
        "outputId": "f4f95ae8-867c-407f-ecfb-c191e0b01cb9"
      },
      "execution_count": null,
      "outputs": [
        {
          "output_type": "execute_result",
          "data": {
            "text/plain": [
              "'4'"
            ],
            "application/vnd.google.colaboratory.intrinsic+json": {
              "type": "string"
            }
          },
          "metadata": {},
          "execution_count": 188
        }
      ]
    },
    {
      "cell_type": "code",
      "source": [
        "a = 10\n",
        "b = 3\n",
        "\n",
        "print(f'10 + 3 == {a + b}')\n",
        "print(f'10 - 3 == {a - b}')\n",
        "print(f'10 / 3 == {a / b}')\n",
        "print(f'10 // 3 == {a // b}') # 몫만 나옵니다.(정수만요!)\n",
        "print(f'10 * 3 == {a * b}')\n",
        "print(f'10 ** 3 == {a ** b}')\n",
        "print(f'10 % 3 == {a % b}') # 나머지"
      ],
      "metadata": {
        "colab": {
          "base_uri": "https://localhost:8080/"
        },
        "id": "Is6NQCiAtD5F",
        "outputId": "850951b6-11f8-49f7-e28e-41f1ccf97ba7"
      },
      "execution_count": null,
      "outputs": [
        {
          "output_type": "stream",
          "name": "stdout",
          "text": [
            "10 + 3 == 13\n",
            "10 - 3 == 7\n",
            "10 / 3 == 3.3333333333333335\n",
            "10 // 3 == 3\n",
            "10 * 3 == 30\n",
            "10 ** 3 == 1000\n",
            "10 % 3 == 1\n"
          ]
        }
      ]
    },
    {
      "cell_type": "code",
      "source": [
        "# 연산자 우선순위는 and, or, 4칙연산, 제곱 정도만 아셔도\n",
        "# 코딩하는데 큰 무리가 없습니다.(모르시면 읽는데 문제가 생기기도 합니다.)\n",
        "print(3 ** 2 * 3)\n",
        "print(3 * 3 ** 2) # 왜 81이 아니지?\n",
        "# 곱하기 보다 제곱이 우선순위가 더 높습니다.\n",
        "print(3 + 3 * 2) # 3 + 3부터 먼저 하지 않습니다.\n",
        "\n"
      ],
      "metadata": {
        "colab": {
          "base_uri": "https://localhost:8080/"
        },
        "id": "MJj3Ksx9tzmV",
        "outputId": "6e5a07a5-d509-407a-97a9-90825bc22673"
      },
      "execution_count": null,
      "outputs": [
        {
          "output_type": "stream",
          "name": "stdout",
          "text": [
            "27\n",
            "27\n",
            "9\n"
          ]
        }
      ]
    },
    {
      "cell_type": "code",
      "source": [
        "a = 10\n",
        "b = 3\n",
        "\n",
        "print(f'10 > 3 == {a > b}')\n",
        "print(f'10 >= 3 == {a >= b}')\n",
        "print(f'10 < 3 == {a < b}')\n",
        "print(f'10 <= 3 == {a <= b}') # 몫만 나옵니다.(정수만요!)\n",
        "print(f'10 == 3 == {a == b}')\n",
        "print(f'10 != 3 == {a != b}')"
      ],
      "metadata": {
        "id": "f5Rkpf2iu9sr"
      },
      "execution_count": null,
      "outputs": []
    },
    {
      "cell_type": "markdown",
      "source": [
        "## 논리연산"
      ],
      "metadata": {
        "id": "v6aXJqMcvRg5"
      }
    },
    {
      "cell_type": "code",
      "source": [
        "# and 는 곱\n",
        "# or 는 합\n",
        "# not은 반대\n",
        "# True 1\n",
        "# False 0\n",
        "# 중요한 포인트는 저렇게 했을 때 언제 True가 되는지 정리하는 것\n",
        "\n",
        "print(True and False)\n",
        "print(True or False)\n",
        "print(True or True)\n",
        "\n",
        "print(True and False)\n",
        "if True and False:\n",
        "    print('hello')\n",
        "\n",
        "if 10 > 3 and 8 % 3 == 0:\n",
        "    print('hello')\n",
        "\n",
        "#and는 언제 True가 되나요?\n",
        "#모두 True일 때\n",
        "#or는 언제 True가 되나요?\n",
        "#둘 중에 하나라도 참이라면 True"
      ],
      "metadata": {
        "colab": {
          "base_uri": "https://localhost:8080/"
        },
        "id": "usHxwt_bvUZf",
        "outputId": "735e80d5-40d1-4106-b40c-586921e901a6"
      },
      "execution_count": null,
      "outputs": [
        {
          "output_type": "stream",
          "name": "stdout",
          "text": [
            "False\n"
          ]
        }
      ]
    },
    {
      "cell_type": "code",
      "source": [],
      "metadata": {
        "id": "5lX7iAumw50h"
      },
      "execution_count": null,
      "outputs": []
    },
    {
      "cell_type": "code",
      "source": [
        "# https://codingdojang.com/scode/350?answer_mode=hide\n",
        "for i in range(101):\n",
        "    if i % 3 == 0 and i % 5 == 0:\n",
        "        print(i)"
      ],
      "metadata": {
        "colab": {
          "base_uri": "https://localhost:8080/"
        },
        "id": "QitMdpM6w5c0",
        "outputId": "607d4698-4b1d-4d4f-f30e-ff3a8f188d48"
      },
      "execution_count": null,
      "outputs": [
        {
          "output_type": "stream",
          "name": "stdout",
          "text": [
            "0\n",
            "15\n",
            "30\n",
            "45\n",
            "60\n",
            "75\n",
            "90\n"
          ]
        }
      ]
    },
    {
      "cell_type": "code",
      "source": [
        "result\n",
        "for i in range(101):\n",
        "    if i % 3 == 0 or i % 5 == 0:\n",
        "        print(i)"
      ],
      "metadata": {
        "colab": {
          "base_uri": "https://localhost:8080/"
        },
        "id": "fYpP8XGVxRIH",
        "outputId": "79ad2d6b-d6da-4db0-90fd-98bd2a20478c"
      },
      "execution_count": null,
      "outputs": [
        {
          "output_type": "stream",
          "name": "stdout",
          "text": [
            "0\n",
            "3\n",
            "5\n",
            "6\n",
            "9\n",
            "10\n",
            "12\n",
            "15\n",
            "18\n",
            "20\n",
            "21\n",
            "24\n",
            "25\n",
            "27\n",
            "30\n",
            "33\n",
            "35\n",
            "36\n",
            "39\n",
            "40\n",
            "42\n",
            "45\n",
            "48\n",
            "50\n",
            "51\n",
            "54\n",
            "55\n",
            "57\n",
            "60\n",
            "63\n",
            "65\n",
            "66\n",
            "69\n",
            "70\n",
            "72\n",
            "75\n",
            "78\n",
            "80\n",
            "81\n",
            "84\n",
            "85\n",
            "87\n",
            "90\n",
            "93\n",
            "95\n",
            "96\n",
            "99\n",
            "100\n"
          ]
        }
      ]
    },
    {
      "cell_type": "code",
      "source": [
        "result = 0\n",
        "for i in range(101):\n",
        "    if i % 3 == 0 : \n",
        "        result += i # result = result + i\n",
        "    if i % 5 == 0 :\n",
        "        result +=i\n",
        "    if i % 15 == 0:\n",
        "        result -= i\n",
        "print(result)"
      ],
      "metadata": {
        "colab": {
          "base_uri": "https://localhost:8080/"
        },
        "id": "4-eC5tZtxhDw",
        "outputId": "82f98637-f948-46c8-d562-b56ef0b35be3"
      },
      "execution_count": null,
      "outputs": [
        {
          "output_type": "stream",
          "name": "stdout",
          "text": [
            "2418\n"
          ]
        }
      ]
    },
    {
      "cell_type": "code",
      "source": [
        "result = 0\n",
        "for i in range(101) :\n",
        "    if i % 3 == 0 or i % 5 == 0:\n",
        "        result += i\n",
        "result"
      ],
      "metadata": {
        "colab": {
          "base_uri": "https://localhost:8080/"
        },
        "id": "TW4sPvHEySPQ",
        "outputId": "75c4f22a-f53f-4ab1-d27f-59bb7b00c6d8"
      },
      "execution_count": null,
      "outputs": [
        {
          "output_type": "execute_result",
          "data": {
            "text/plain": [
              "2418"
            ]
          },
          "metadata": {},
          "execution_count": 205
        }
      ]
    },
    {
      "cell_type": "code",
      "source": [
        "not True"
      ],
      "metadata": {
        "colab": {
          "base_uri": "https://localhost:8080/"
        },
        "id": "hxmP7wLWyfg2",
        "outputId": "1496bcaa-e801-4f73-b916-019b20887e4b"
      },
      "execution_count": null,
      "outputs": [
        {
          "output_type": "execute_result",
          "data": {
            "text/plain": [
              "False"
            ]
          },
          "metadata": {},
          "execution_count": 206
        }
      ]
    },
    {
      "cell_type": "code",
      "source": [
        "not False"
      ],
      "metadata": {
        "colab": {
          "base_uri": "https://localhost:8080/"
        },
        "id": "m_a_DWRjyhjO",
        "outputId": "6b92ac2e-593f-4c10-ee24-03c60360fbb7"
      },
      "execution_count": null,
      "outputs": [
        {
          "output_type": "execute_result",
          "data": {
            "text/plain": [
              "True"
            ]
          },
          "metadata": {},
          "execution_count": 207
        }
      ]
    },
    {
      "cell_type": "code",
      "source": [
        "# python 입장에서 보는 코드\n",
        "# False and ????? => 물음표에 무엇이 나오든 False\n",
        "# 그래서 Python도 저 물음표를 보지 않습니다.\n",
        "def solution():\n",
        "    1/0\n",
        "\n",
        "if False and solution():\n",
        "    print('hello')\n"
      ],
      "metadata": {
        "id": "xQ7AbNCZypC9"
      },
      "execution_count": null,
      "outputs": []
    },
    {
      "cell_type": "code",
      "source": [
        "# False and ????? => 물음표에 무엇이 나오든 False\n",
        "# 그래서 Python도 저 물음표를 보지 않습니다.\n",
        "def solution():\n",
        " 1/0\n",
        "\n",
        "if True and solution():\n",
        "    print('hello')"
      ],
      "metadata": {
        "id": "Q1OkAYRO2B8u"
      },
      "execution_count": null,
      "outputs": []
    },
    {
      "cell_type": "code",
      "source": [
        "# 단락 평가(컴퓨터가 어디까지 보는지 판단해서 활용)\n",
        "username = '' # 사용자가 아무것도 입력하지 않았을 경우\n",
        "username = username or 'licat'\n",
        "username"
      ],
      "metadata": {
        "colab": {
          "base_uri": "https://localhost:8080/",
          "height": 35
        },
        "id": "79OCoALNvTIl",
        "outputId": "2754d3dd-e5ed-477f-c975-86d18785e9b8"
      },
      "execution_count": null,
      "outputs": [
        {
          "output_type": "execute_result",
          "data": {
            "text/plain": [
              "'licat'"
            ],
            "application/vnd.google.colaboratory.intrinsic+json": {
              "type": "string"
            }
          },
          "metadata": {},
          "execution_count": 211
        }
      ]
    },
    {
      "cell_type": "code",
      "source": [
        "username = 'leehojun' # 사용자가 이름을 입력했을 경우\n",
        "username = username or 'licat'\n",
        "username"
      ],
      "metadata": {
        "colab": {
          "base_uri": "https://localhost:8080/",
          "height": 35
        },
        "id": "i3FlmZBM2eSo",
        "outputId": "affa010c-db07-43c3-b461-4ae09e83a8b4"
      },
      "execution_count": null,
      "outputs": [
        {
          "output_type": "execute_result",
          "data": {
            "text/plain": [
              "'leehojun'"
            ],
            "application/vnd.google.colaboratory.intrinsic+json": {
              "type": "string"
            }
          },
          "metadata": {},
          "execution_count": 210
        }
      ]
    },
    {
      "cell_type": "code",
      "source": [
        "# and와  or의 우선순위(and가 더 높습니다.)\n",
        "for i in range(101):\n",
        "    if i % 3 == 0 and i % 5 == 0 or i % 2 == 0:\n",
        "        print(i)\n",
        "\n",
        "for i in range(101):\n",
        "    if (i % 3 == 0 and i % 5 == 0) or i % 2 == 0:\n",
        "        print(i)"
      ],
      "metadata": {
        "id": "DzddvRix2tmx"
      },
      "execution_count": null,
      "outputs": []
    },
    {
      "cell_type": "code",
      "source": [
        "# 아래는 출력되는 값이 다릅니다! 우선순위가 낮은 or가 먼저 나왔기 때문\n",
        "# 헷갈리면 괄호 사용하기\n",
        "\n",
        "for i in range(21):\n",
        "    if (i % 3 == 0 or i % 5 == 0) and i % 2 == 0:\n",
        "        print(i)\n",
        "\n",
        "for i in range(21):\n",
        "    if i % 3 == 0 or i % 5 == 0 and i % 2 == 0:\n",
        "        print(i)"
      ],
      "metadata": {
        "id": "hF19HDUp3Azo"
      },
      "execution_count": null,
      "outputs": []
    },
    {
      "cell_type": "markdown",
      "source": [
        "## 비트연산 (중요도 하)"
      ],
      "metadata": {
        "id": "5LWKXrpn4FMU"
      }
    },
    {
      "cell_type": "code",
      "source": [
        "# and \n",
        "# 1001 == 9\n",
        "# 0010 == 2\n",
        "# ----\n",
        "# 0000"
      ],
      "metadata": {
        "id": "VukenDfvqr5F"
      },
      "execution_count": null,
      "outputs": []
    },
    {
      "cell_type": "code",
      "source": [
        "9 & 2"
      ],
      "metadata": {
        "colab": {
          "base_uri": "https://localhost:8080/"
        },
        "id": "oC8QNHyP4oZY",
        "outputId": "b5715846-c1d6-460a-ca1e-8f90115a9420"
      },
      "execution_count": null,
      "outputs": [
        {
          "output_type": "execute_result",
          "data": {
            "text/plain": [
              "0"
            ]
          },
          "metadata": {},
          "execution_count": 217
        }
      ]
    },
    {
      "cell_type": "code",
      "source": [
        "9 & 8\n",
        "1001==9\n",
        "1000==8\n",
        "----\n",
        "1000"
      ],
      "metadata": {
        "id": "NKaNetySqoeN"
      },
      "execution_count": null,
      "outputs": []
    },
    {
      "cell_type": "code",
      "source": [
        "9 & 8"
      ],
      "metadata": {
        "colab": {
          "base_uri": "https://localhost:8080/"
        },
        "id": "FKN1MV0U5Dky",
        "outputId": "99ea05b9-4ad2-4461-bcf3-c0d500025f93"
      },
      "execution_count": null,
      "outputs": [
        {
          "output_type": "execute_result",
          "data": {
            "text/plain": [
              "8"
            ]
          },
          "metadata": {},
          "execution_count": 219
        }
      ]
    },
    {
      "cell_type": "code",
      "source": [
        "# or( 더하기, 대신 자리올림이 되진 않습니다.) \n",
        "# 1001 == 9\n",
        "# 0011 == 3\n",
        "# ----\n",
        "# 1011 == 11\n",
        "9 | 3"
      ],
      "metadata": {
        "colab": {
          "base_uri": "https://localhost:8080/"
        },
        "id": "6mxxo9fR5geM",
        "outputId": "76b6c0fe-ce7d-4153-ef5a-0a03b392940d"
      },
      "execution_count": null,
      "outputs": [
        {
          "output_type": "execute_result",
          "data": {
            "text/plain": [
              "11"
            ]
          },
          "metadata": {},
          "execution_count": 223
        }
      ]
    },
    {
      "cell_type": "code",
      "source": [
        "# xor(같을 경우 0, 다를경우 1) \n",
        "# 1001 == 9\n",
        "# 0011 == 3\n",
        "# ----\n",
        "# 1010 == 10\n",
        "9 ^ 3"
      ],
      "metadata": {
        "colab": {
          "base_uri": "https://localhost:8080/"
        },
        "id": "lZM4ebzA6DbQ",
        "outputId": "e7942195-3112-4a20-8f10-5ab85c04610a"
      },
      "execution_count": null,
      "outputs": [
        {
          "output_type": "execute_result",
          "data": {
            "text/plain": [
              "10"
            ]
          },
          "metadata": {},
          "execution_count": 224
        }
      ]
    },
    {
      "cell_type": "code",
      "source": [
        "~9 # 2보수를 취하는 것입니다.(9에게 +1한 다음에 -를 취하시면 됩니다.)\n",
        "~-7 # 2보수를 취하는 것입니다.(7에게 +1한 다음에 0를 취하시면 됩니다.)"
      ],
      "metadata": {
        "colab": {
          "base_uri": "https://localhost:8080/"
        },
        "id": "nKYEcprA6Yv5",
        "outputId": "f036fb99-b31e-4a00-dc15-4de23c0368a5"
      },
      "execution_count": null,
      "outputs": [
        {
          "output_type": "execute_result",
          "data": {
            "text/plain": [
              "6"
            ]
          },
          "metadata": {},
          "execution_count": 226
        }
      ]
    },
    {
      "cell_type": "code",
      "source": [
        "3 << 2 \n",
        "# 2을 2진수로 표현하면 11인데 2칸을 왼쪽으로 미는 것입니다.\n",
        "# 1100"
      ],
      "metadata": {
        "colab": {
          "base_uri": "https://localhost:8080/"
        },
        "id": "aHhO6cNn6j0R",
        "outputId": "c15d7896-2c7c-4ac1-cecd-5e737200170d"
      },
      "execution_count": null,
      "outputs": [
        {
          "output_type": "execute_result",
          "data": {
            "text/plain": [
              "12"
            ]
          },
          "metadata": {},
          "execution_count": 227
        }
      ]
    },
    {
      "cell_type": "code",
      "source": [
        "7 >> 2"
      ],
      "metadata": {
        "colab": {
          "base_uri": "https://localhost:8080/"
        },
        "id": "xFKlwSVE7la9",
        "outputId": "72eea913-0af0-4c43-fea3-209a416c19aa"
      },
      "execution_count": null,
      "outputs": [
        {
          "output_type": "execute_result",
          "data": {
            "text/plain": [
              "1"
            ]
          },
          "metadata": {},
          "execution_count": 229
        }
      ]
    },
    {
      "cell_type": "markdown",
      "source": [
        "## 할당연산"
      ],
      "metadata": {
        "id": "oIz-ZWp175PA"
      }
    },
    {
      "cell_type": "code",
      "source": [
        "# a = 10\n",
        "# a = a + 10\n",
        "\n",
        "a = 10\n",
        "a =  + 10 # 이렇게 a를 지우면 양수를 표현하는 10만 남아요 \n",
        "a"
      ],
      "metadata": {
        "colab": {
          "base_uri": "https://localhost:8080/"
        },
        "id": "rJIqAay_7u-T",
        "outputId": "a7f225ca-72d3-459d-a3f7-6d931fe3b34b"
      },
      "execution_count": null,
      "outputs": [
        {
          "output_type": "execute_result",
          "data": {
            "text/plain": [
              "10"
            ]
          },
          "metadata": {},
          "execution_count": 232
        }
      ]
    },
    {
      "cell_type": "code",
      "source": [
        "a = 10\n",
        "a += 10 # a= a + 10\n",
        "a"
      ],
      "metadata": {
        "colab": {
          "base_uri": "https://localhost:8080/"
        },
        "id": "IKbF2dbs8VpB",
        "outputId": "19a0b234-3d4c-4319-c096-66a609e8435e"
      },
      "execution_count": null,
      "outputs": [
        {
          "output_type": "execute_result",
          "data": {
            "text/plain": [
              "20"
            ]
          },
          "metadata": {},
          "execution_count": 234
        }
      ]
    },
    {
      "cell_type": "code",
      "source": [
        "a = 10\n",
        "a //= 10 # 산술연산 모두 됩니다.\n",
        "a"
      ],
      "metadata": {
        "colab": {
          "base_uri": "https://localhost:8080/"
        },
        "id": "AwP0LZLX9BRb",
        "outputId": "c3033828-b87d-4ecc-9f1d-2d5d08068a94"
      },
      "execution_count": null,
      "outputs": [
        {
          "output_type": "execute_result",
          "data": {
            "text/plain": [
              "1"
            ]
          },
          "metadata": {},
          "execution_count": 236
        }
      ]
    },
    {
      "cell_type": "code",
      "source": [
        "# Python에서 특이하게 ++a, ++b, a++, b++가 없습니다"
      ],
      "metadata": {
        "id": "YqcAkXzC9WtJ"
      },
      "execution_count": null,
      "outputs": []
    },
    {
      "cell_type": "markdown",
      "source": [
        "## 식별연산자"
      ],
      "metadata": {
        "id": "jnz79Qnc9kfZ"
      }
    },
    {
      "cell_type": "code",
      "source": [
        "# 앞으로 아래 2개를 활용해서 Python에 \n",
        "# 컨벤션 자료형이 어떻게 구성이되는지 확인해볼겁니다.\n",
        "# id()\n",
        "# is"
      ],
      "metadata": {
        "id": "jX1fnqWF9n0w"
      },
      "execution_count": null,
      "outputs": []
    },
    {
      "cell_type": "code",
      "source": [
        "a = 256\n",
        "b = 256\n",
        "a is b"
      ],
      "metadata": {
        "colab": {
          "base_uri": "https://localhost:8080/"
        },
        "id": "0PPkwMgt9xuh",
        "outputId": "64a94684-a08d-4b61-dda0-4445c43d2312"
      },
      "execution_count": null,
      "outputs": [
        {
          "output_type": "execute_result",
          "data": {
            "text/plain": [
              "True"
            ]
          },
          "metadata": {},
          "execution_count": 240
        }
      ]
    },
    {
      "cell_type": "code",
      "source": [
        "a = 999\n",
        "b = 999\n",
        "a is b"
      ],
      "metadata": {
        "colab": {
          "base_uri": "https://localhost:8080/"
        },
        "id": "33cnRjPg96Ux",
        "outputId": "c981ea1d-ff73-49cf-cd31-d50af30f0399"
      },
      "execution_count": null,
      "outputs": [
        {
          "output_type": "execute_result",
          "data": {
            "text/plain": [
              "False"
            ]
          },
          "metadata": {},
          "execution_count": 242
        }
      ]
    },
    {
      "cell_type": "code",
      "source": [
        "a = [1, 2, 3]\n",
        "b = [1, 2, 3]\n"
      ],
      "metadata": {
        "colab": {
          "base_uri": "https://localhost:8080/"
        },
        "id": "kG0cIiN298bB",
        "outputId": "705f95f4-bc62-4cd5-ca0c-c1d2e8efafeb"
      },
      "execution_count": null,
      "outputs": [
        {
          "output_type": "execute_result",
          "data": {
            "text/plain": [
              "140114648489984"
            ]
          },
          "metadata": {},
          "execution_count": 289
        }
      ]
    },
    {
      "cell_type": "code",
      "source": [
        "a[0] = 100\n",
        "a, b"
      ],
      "metadata": {
        "colab": {
          "base_uri": "https://localhost:8080/"
        },
        "id": "SWN-RowA-nlr",
        "outputId": "ae0e4b12-4450-4c57-abb3-2a688ae9dda5"
      },
      "execution_count": null,
      "outputs": [
        {
          "output_type": "execute_result",
          "data": {
            "text/plain": [
              "([100, 2, 3], [1, 2, 3])"
            ]
          },
          "metadata": {},
          "execution_count": 249
        }
      ]
    },
    {
      "cell_type": "code",
      "source": [
        "a = [1, 2, 3]\n",
        "b = [1, 2, 3]\n",
        "a == b # Python에 등호는 type과 value를 봅니다."
      ],
      "metadata": {
        "colab": {
          "base_uri": "https://localhost:8080/"
        },
        "id": "Gzl9mrDc-FKC",
        "outputId": "e52c6b92-f3ba-42de-c44b-742f08207819"
      },
      "execution_count": null,
      "outputs": [
        {
          "output_type": "execute_result",
          "data": {
            "text/plain": [
              "True"
            ]
          },
          "metadata": {},
          "execution_count": 252
        }
      ]
    },
    {
      "cell_type": "code",
      "source": [
        "# is는 주소값을 비교합니다.\n",
        "id(a) == id(b) # 이게 False면 is도 False입니다."
      ],
      "metadata": {
        "id": "LOkkVO38_PnL"
      },
      "execution_count": null,
      "outputs": []
    },
    {
      "cell_type": "markdown",
      "source": [
        "## not의 위치"
      ],
      "metadata": {
        "id": "z6wyGwD6-1Yy"
      }
    },
    {
      "cell_type": "code",
      "source": [
        "a =10\n",
        "b =100\n",
        "a is not b\n",
        "# a not is b # error"
      ],
      "metadata": {
        "colab": {
          "base_uri": "https://localhost:8080/"
        },
        "id": "qDf9Q053-483",
        "outputId": "5c097499-b2ad-4e82-8e0c-564e819ef88a"
      },
      "execution_count": null,
      "outputs": [
        {
          "output_type": "execute_result",
          "data": {
            "text/plain": [
              "True"
            ]
          },
          "metadata": {},
          "execution_count": 250
        }
      ]
    },
    {
      "cell_type": "code",
      "source": [
        "a = 10\n",
        "b = [10, 20, 30]\n",
        "a not in b"
      ],
      "metadata": {
        "colab": {
          "base_uri": "https://localhost:8080/"
        },
        "id": "5g6PnK24_BLR",
        "outputId": "cbef1b57-2f1d-45a8-f3d8-70cbbd1e71e7"
      },
      "execution_count": null,
      "outputs": [
        {
          "output_type": "execute_result",
          "data": {
            "text/plain": [
              "False"
            ]
          },
          "metadata": {},
          "execution_count": 251
        }
      ]
    },
    {
      "cell_type": "markdown",
      "source": [
        "## 멤버연산"
      ],
      "metadata": {
        "id": "VQQ0CYCG4Dkw"
      }
    },
    {
      "cell_type": "code",
      "source": [
        "'a' in 'helalo world'\n",
        "'a' in 'hello world'\n",
        "'a' in ['a', 'b']\n",
        "'a' in {'a':10, 'b':20}\n",
        "#'10' in {'a':10, 'b':20} # dict안에있는 value값이 있는지 확인하고 싶으면\n",
        "10 in {'a':10, 'b':20}.values()\n",
        "10 in {10, 20, 30}\n",
        "\n"
      ],
      "metadata": {
        "colab": {
          "base_uri": "https://localhost:8080/"
        },
        "id": "I39ExePU_j1I",
        "outputId": "08bda81f-0b2b-4f96-8d9c-633753fcf26e"
      },
      "execution_count": null,
      "outputs": [
        {
          "output_type": "execute_result",
          "data": {
            "text/plain": [
              "True"
            ]
          },
          "metadata": {},
          "execution_count": 262
        }
      ]
    },
    {
      "cell_type": "code",
      "source": [
        "'a' not in ['aa', 'bb']"
      ],
      "metadata": {
        "colab": {
          "base_uri": "https://localhost:8080/"
        },
        "id": "6VRY0UI0AP2R",
        "outputId": "321e4fda-976b-4647-9951-5a0aec0ff214"
      },
      "execution_count": null,
      "outputs": [
        {
          "output_type": "execute_result",
          "data": {
            "text/plain": [
              "True"
            ]
          },
          "metadata": {},
          "execution_count": 263
        }
      ]
    },
    {
      "cell_type": "code",
      "source": [
        "10 in [10, 20, 30]\n",
        "[10] in [10, 20, 30]\n",
        "[10] in [[10], 20, 30]\n",
        "[10, 20] in [10, 20, 30]\n",
        "[10, 20] in [[10, 20], 30]\n",
        "set ([10, 20]).issubset(set([10, 20, 30]))\n",
        "{10, 20}.issubset({10, 20, 30, 40})\n"
      ],
      "metadata": {
        "colab": {
          "base_uri": "https://localhost:8080/"
        },
        "id": "hKuLeFOtDkPK",
        "outputId": "c79fcb23-2319-4815-d2be-16cec22c4d5b"
      },
      "execution_count": null,
      "outputs": [
        {
          "output_type": "execute_result",
          "data": {
            "text/plain": [
              "True"
            ]
          },
          "metadata": {},
          "execution_count": 265
        }
      ]
    },
    {
      "cell_type": "markdown",
      "source": [
        "## 연습문제"
      ],
      "metadata": {
        "id": "zY3fL_S3EGol"
      }
    },
    {
      "cell_type": "code",
      "source": [
        "#1번\n",
        "a = 100\n",
        "(a > 100) and (a < 200)\n",
        "(a > 100) or (a< 200)\n",
        "(a >= 100) and (a <= 200)\n",
        "(a >= 100) or ( a <= 200)"
      ],
      "metadata": {
        "colab": {
          "base_uri": "https://localhost:8080/"
        },
        "id": "10vwkPbiEHTD",
        "outputId": "7fffd3f8-586b-4d1a-9bc9-52bcbc8e23f3"
      },
      "execution_count": null,
      "outputs": [
        {
          "output_type": "execute_result",
          "data": {
            "text/plain": [
              "True"
            ]
          },
          "metadata": {},
          "execution_count": 273
        }
      ]
    },
    {
      "cell_type": "code",
      "source": [
        "#2번\n",
        "b = 25\n",
        "(b % 2 == 0) and (b % 5 == 0)"
      ],
      "metadata": {
        "colab": {
          "base_uri": "https://localhost:8080/"
        },
        "id": "UBnrKo-ZEJ4T",
        "outputId": "52ce72de-5573-4b76-8249-927b8256c54d"
      },
      "execution_count": null,
      "outputs": [
        {
          "output_type": "stream",
          "name": "stdout",
          "text": [
            "25\n"
          ]
        }
      ]
    },
    {
      "cell_type": "code",
      "source": [
        "#3번\n",
        "c = 1000\n",
        "c / 100\n",
        "c // 100\n"
      ],
      "metadata": {
        "colab": {
          "base_uri": "https://localhost:8080/"
        },
        "id": "aofKtVfnEKW6",
        "outputId": "82e4169d-343e-4758-e2fe-5a4c499752cb"
      },
      "execution_count": null,
      "outputs": [
        {
          "output_type": "execute_result",
          "data": {
            "text/plain": [
              "10"
            ]
          },
          "metadata": {},
          "execution_count": 290
        }
      ]
    },
    {
      "cell_type": "code",
      "source": [
        "#4번\n",
        "# 그리디 알고리즘(욕심쟁이 알고리즘)\n",
        "남은금액 = int(input())\n",
        "\n",
        "오천원 = 남은금액 // 5000\n",
        "남은금액 = 남은금액 % 5000\n",
        "\n",
        "천원 = 남은금액 // 5000\n",
        "남은금액 = 남은금액 % 1000\n",
        "\n",
        "오백원 = 남은금액 // 500\n",
        "남은금액 = 남은금액 % 500\n",
        "\n",
        "백원 = 남은금액 // 100\n",
        "남은금액 = 남은금액 % 100\n",
        "\n",
        "print(오천원, 천원, 오백원, 백원)\n",
        "\n",
        "8800"
      ],
      "metadata": {
        "id": "59yx_-dTEDhU"
      },
      "execution_count": null,
      "outputs": []
    },
    {
      "cell_type": "code",
      "source": [],
      "metadata": {
        "id": "_GK9-3byo6bN"
      },
      "execution_count": null,
      "outputs": []
    },
    {
      "cell_type": "markdown",
      "source": [
        "## !!오늘 배운 것 정리\n",
        "\n",
        "1. str\n",
        "    - 순서가 있는 **시퀀스 자료형**입니다.\n",
        "    - 작은 따옴표(' ')나 큰 따옴표(\" \"), 삼중따옴표('''str''', \"\"\"str\"\"\")로 감싸는 것도 가능합니다. (삼중따옴표를 사용할 경우에는 줄단위의 문자열을 나타낼 수 있습니다.)\n",
        "    - 작은 따옴표 안에 큰 따옴표, 큰 따옴표 안에 작은 따옴표 사용이 가능합니다.\n",
        "    - 이스케이프 문자도 사용이 가능합니다.\n",
        "    - 리스트, 튜플도 시퀀스 자료형입니다.\n",
        "    - 메서드\n",
        "        - lower\n",
        "        - index, find\n",
        "        - count\n",
        "        - strip\n",
        "        - replace\n",
        "        - split, join\n",
        "        - isdigit\n",
        "2. 슬라이싱\n",
        "    - 시퀀스형 자료형을 자를 수 있습니다.\n",
        "    - 형태\n",
        "    ```\n",
        "    # s[start:stop:step]\n",
        "    s = 'paullab CEO leehojun'\n",
        "    s[5:]\n",
        "    s[:5]\n",
        "    s[3:10]\n",
        "    s[:]\n",
        "    s[0:20:2]\n",
        "    # 자주 사용되는 코드\n",
        "    s = 'paullab CEO leehojun!'\n",
        "    s[:] # string에서는 많이 사용하지 않지만 list에서 많이 사용합니다.\n",
        "    s[:-1] # 마지막 요소만 제외하고 다 슬라이싱 합니다.\n",
        "    ```\n",
        "\n",
        "3. 형변환\n",
        "    - 형변환 : type을 변경하는 것입니다.\n",
        "    - int, float, str 등 자료형에 이름으로 형태를 변경할 수 있습니다.\n",
        "    - 그 중에서도 bool이 매우 중요합니다.\n",
        "    ```\n",
        "    # 별 5개\n",
        "    # bool 형으로 형변환 하는 것\n",
        "    if True:\n",
        "        print('hi')\n",
        "\n",
        "    if 'hello':\n",
        "        print('hi')\n",
        "\n",
        "    # 정말 많이 사용하는 코드\n",
        "    l = [1, 2, 3]\n",
        "    while l:\n",
        "        print(l.pop())\n",
        "\n",
        "    bool('') # 빈 문자열을 제외하고 모두 True\n",
        "    bool('a')\n",
        "    bool('False') # 문자열 False이기 때문에 True\n",
        "    bool(0) # 0을 제외하고 모두 True\n",
        "    bool(-1)\n",
        "    bool(100)"
      ],
      "metadata": {
        "id": "gge2d0iEokL-"
      }
    },
    {
      "cell_type": "markdown",
      "source": [
        "##함수"
      ],
      "metadata": {
        "id": "uPk2kFK18QjH"
      }
    },
    {
      "cell_type": "markdown",
      "source": [
        "1. 코드를 재사용 할 수 있으며, 실수를 줄일 수 있습니다.\n",
        "2. 코드의 구조를 한 눈에 파악할 수 있습니다."
      ],
      "metadata": {
        "id": "X6P4v98m8S0-"
      }
    },
    {
      "cell_type": "code",
      "source": [
        "# 파선아실(파라미터는 선언할 때, 아규먼트는 실제)\n",
        "def function(x, y):\n",
        "    z = x + y\n",
        "    return z\n",
        "print(f'function(5, 7) = {function(5, 7)}')"
      ],
      "metadata": {
        "id": "LQCNZQKc-l_f"
      },
      "execution_count": null,
      "outputs": []
    },
    {
      "cell_type": "code",
      "source": [
        "# 같은 코드 1\n",
        "def function(x, y):\n",
        "    z = x + y\n",
        "print(f'function(5, 7) = {function(5, 7)}')"
      ],
      "metadata": {
        "colab": {
          "base_uri": "https://localhost:8080/"
        },
        "id": "pdmakr74_jeQ",
        "outputId": "81d65940-8d7a-4432-c3ee-a003cd858b5c"
      },
      "execution_count": null,
      "outputs": [
        {
          "output_type": "stream",
          "name": "stdout",
          "text": [
            "function(5, 7) = None\n"
          ]
        }
      ]
    },
    {
      "cell_type": "code",
      "source": [
        "# 같은 코드 2\n",
        "def function(x, y):\n",
        "    z = x + y\n",
        "    return None\n",
        "print(f'function(5, 7) = {function(5, 7)}')"
      ],
      "metadata": {
        "colab": {
          "base_uri": "https://localhost:8080/"
        },
        "id": "PLmLNY5k_oXP",
        "outputId": "673fe9f8-fb1c-4346-ec6a-2c04925a7137"
      },
      "execution_count": null,
      "outputs": [
        {
          "output_type": "stream",
          "name": "stdout",
          "text": [
            "function(5, 7) = None\n"
          ]
        }
      ]
    },
    {
      "cell_type": "code",
      "source": [
        "# 같은 코드 3\n",
        "def function(x, y):\n",
        "    z = x + y\n",
        "    return \n",
        "print(f'function(5, 7) = {function(5, 7)}')"
      ],
      "metadata": {
        "colab": {
          "base_uri": "https://localhost:8080/"
        },
        "id": "GBTY6dx2_ugN",
        "outputId": "ea03910d-0e2c-449e-a0a0-416ae348961f"
      },
      "execution_count": null,
      "outputs": [
        {
          "output_type": "stream",
          "name": "stdout",
          "text": [
            "function(5, 7) = None\n"
          ]
        }
      ]
    },
    {
      "cell_type": "code",
      "source": [
        "def hello():\n",
        "    print('1')\n",
        "    print('2')\n",
        "    print('3')\n",
        "\n",
        "print(hello())"
      ],
      "metadata": {
        "colab": {
          "base_uri": "https://localhost:8080/"
        },
        "id": "QSNidrCh-QQu",
        "outputId": "9ba81551-66cc-4475-f073-9576c4dfc256"
      },
      "execution_count": null,
      "outputs": [
        {
          "output_type": "stream",
          "name": "stdout",
          "text": [
            "1\n",
            "2\n",
            "3\n",
            "None\n"
          ]
        }
      ]
    },
    {
      "cell_type": "code",
      "source": [
        "# 함수 연습문제 1\n",
        "def one():\n",
        "    print('one1')\n",
        "    print('one2')\n",
        "    print('one3')\n",
        "    return 100\n",
        "def two():\n",
        "    print('two1')\n",
        "    print('two2')\n",
        "    one()\n",
        "    return\n",
        "    \n",
        "\n",
        "print(two())"
      ],
      "metadata": {
        "colab": {
          "base_uri": "https://localhost:8080/"
        },
        "id": "qrh9HicCAeW_",
        "outputId": "0f4cd059-425e-4a73-d82e-cce3aabdc1d3"
      },
      "execution_count": null,
      "outputs": [
        {
          "output_type": "stream",
          "name": "stdout",
          "text": [
            "two1\n",
            "two2\n",
            "one1\n",
            "one2\n",
            "one3\n",
            "None\n"
          ]
        }
      ]
    },
    {
      "cell_type": "code",
      "source": [
        "# 함수 연습문제 2\n",
        "def one():\n",
        "    print('one1')\n",
        "    print('one2')\n",
        "    print('one3')\n",
        "    return 100\n",
        "def two():\n",
        "    print('two1')\n",
        "    print('two2')\n",
        "    x = one()\n",
        "    return x + x\n",
        "    \n",
        "\n",
        "print(two())\n",
        "\n",
        "# two1\n",
        "# two2\n",
        "# one1\n",
        "# one2\n",
        "# one3\n",
        "# 200"
      ],
      "metadata": {
        "colab": {
          "base_uri": "https://localhost:8080/"
        },
        "id": "jLCSLxpZBdUt",
        "outputId": "78a19173-d021-488c-a208-65a436f63223"
      },
      "execution_count": null,
      "outputs": [
        {
          "output_type": "stream",
          "name": "stdout",
          "text": [
            "two1\n",
            "two2\n",
            "one1\n",
            "one2\n",
            "one3\n",
            "200\n"
          ]
        }
      ]
    },
    {
      "cell_type": "code",
      "source": [
        "# 함수 연습문제 3\n",
        "def one(a, b):\n",
        "    print('one1')\n",
        "    print('one2')\n",
        "    print('one3')\n",
        "    return a + b\n",
        "def two(x):\n",
        "    y = 100\n",
        "    print('two1')\n",
        "    print('two2')\n",
        "    x = one(x, y)\n",
        "    return x + x\n",
        "    \n",
        "\n",
        "print(two(10))\n",
        "\n",
        "# two1\n",
        "# two2\n",
        "# one1\n",
        "# one2\n",
        "# one3\n",
        "# 220"
      ],
      "metadata": {
        "colab": {
          "base_uri": "https://localhost:8080/"
        },
        "id": "lNv64RCyCV47",
        "outputId": "bb0a1cf9-8a82-4aa6-dda2-447b8a2a3781"
      },
      "execution_count": null,
      "outputs": [
        {
          "output_type": "stream",
          "name": "stdout",
          "text": [
            "two1\n",
            "two2\n",
            "one1\n",
            "one2\n",
            "one3\n",
            "220\n"
          ]
        }
      ]
    },
    {
      "cell_type": "code",
      "source": [
        "# 함수 연습문제 4\n",
        "def one():\n",
        "    print('one')\n",
        "    return 10\n",
        "\n",
        "def two():\n",
        "    print('two')\n",
        "    return 10\n",
        "\n",
        "def three():\n",
        "    print('three')\n",
        "    return 10\n",
        "\n",
        "a = one()\n",
        "b = two()\n",
        "c = three()\n",
        "print(a + b)\n",
        "print(a + b + c)"
      ],
      "metadata": {
        "colab": {
          "base_uri": "https://localhost:8080/"
        },
        "id": "oKhivDcMEIh5",
        "outputId": "a5c13b90-7013-4378-98d6-aae8a8735041"
      },
      "execution_count": null,
      "outputs": [
        {
          "output_type": "stream",
          "name": "stdout",
          "text": [
            "one\n",
            "two\n",
            "20\n",
            "one\n",
            "two\n",
            "three\n",
            "30\n"
          ]
        }
      ]
    },
    {
      "cell_type": "code",
      "source": [
        "# 함수 연습문제 4\n",
        "# 좋지 않은 예 입니다!\n",
        "def one():\n",
        "    print('one')\n",
        "    print('one')\n",
        "    print('one')\n",
        "    return 10\n",
        "\n",
        "def two():\n",
        "    print('two')\n",
        "    print('two')\n",
        "    print('two')\n",
        "    return 10\n",
        "\n",
        "def three():\n",
        "    print('three')\n",
        "    print('three')\n",
        "    print('three')\n",
        "    return 10\n",
        "\n",
        "print(one() + two())\n",
        "print(one() + two() + three())"
      ],
      "metadata": {
        "id": "96KK7VPmFpQO"
      },
      "execution_count": null,
      "outputs": []
    },
    {
      "cell_type": "code",
      "source": [
        "# 함수란 무엇일까요?\n",
        "# 함수의 이름은 메모리 상에 코드 블럭을 가리키는 변수입니다.\n",
        "leehojun = print\n",
        "leehojun('hello') # 소괄호는 그 함수 블록을 실행시키는 명령어가 됩니다.\n"
      ],
      "metadata": {
        "colab": {
          "base_uri": "https://localhost:8080/"
        },
        "id": "SyRZLrgOIx7h",
        "outputId": "7136a02a-bdda-4a1a-dc4c-eaf35e539c38"
      },
      "execution_count": null,
      "outputs": [
        {
          "output_type": "stream",
          "name": "stdout",
          "text": [
            "hello\n"
          ]
        }
      ]
    },
    {
      "cell_type": "code",
      "source": [
        "id(leehojun), id(print)"
      ],
      "metadata": {
        "colab": {
          "base_uri": "https://localhost:8080/"
        },
        "id": "IHhdDJuuJZjS",
        "outputId": "65cf7180-db36-49a4-fc9e-a7cc240ef381"
      },
      "execution_count": null,
      "outputs": [
        {
          "output_type": "execute_result",
          "data": {
            "text/plain": [
              "(140179417388336, 140179417388336)"
            ]
          },
          "metadata": {},
          "execution_count": 12
        }
      ]
    },
    {
      "cell_type": "code",
      "source": [
        "l = [leehojun, print, leehojun, print]\n",
        "leehojun('hello world')\n",
        "l[0]('hello world')"
      ],
      "metadata": {
        "colab": {
          "base_uri": "https://localhost:8080/"
        },
        "id": "PfAn8VgPJf9J",
        "outputId": "4b5feead-ed8c-4aef-dc93-016fe2c35092"
      },
      "execution_count": null,
      "outputs": [
        {
          "output_type": "stream",
          "name": "stdout",
          "text": [
            "hello world\n",
            "hello world\n"
          ]
        }
      ]
    },
    {
      "cell_type": "code",
      "source": [
        "def hello(a):\n",
        "    a('hello')\n",
        "    a('hello')\n",
        "    a('hello')\n",
        "\n",
        "print(hello(print))"
      ],
      "metadata": {
        "id": "0tpIKpr8J4Zp"
      },
      "execution_count": null,
      "outputs": []
    },
    {
      "cell_type": "code",
      "source": [
        "def hello():\n",
        "    def custom_sum(a, b):\n",
        "        return a + b\n",
        "    return custom_sum\n",
        "\n",
        "c = hello()\n",
        "\n",
        "c(10, 100)"
      ],
      "metadata": {
        "colab": {
          "base_uri": "https://localhost:8080/"
        },
        "id": "yR6bVHZGKVG7",
        "outputId": "534c790c-2de5-4397-8b97-0dfe21c3c3c7"
      },
      "execution_count": null,
      "outputs": [
        {
          "output_type": "execute_result",
          "data": {
            "text/plain": [
              "110"
            ]
          },
          "metadata": {},
          "execution_count": 17
        }
      ]
    },
    {
      "cell_type": "code",
      "source": [
        "def hello():\n",
        "    return a\n",
        "\n",
        "c = print\n",
        "\n",
        "c(10, 100)"
      ],
      "metadata": {
        "colab": {
          "base_uri": "https://localhost:8080/"
        },
        "id": "8nbq2NnfLv5n",
        "outputId": "25882bbb-d985-41e6-87b6-5bfbe632774d"
      },
      "execution_count": null,
      "outputs": [
        {
          "output_type": "stream",
          "name": "stdout",
          "text": [
            "10 100\n"
          ]
        }
      ]
    },
    {
      "cell_type": "markdown",
      "source": [
        "## 함수의 기본 기능"
      ],
      "metadata": {
        "id": "6tGu2ygDMeoy"
      }
    },
    {
      "cell_type": "code",
      "source": [
        "# return을 만나게 되면 함수는 종료가 됩니다.\n",
        "def function(x, y):\n",
        "    z= x + y\n",
        "    return z\n",
        "    print('hello')\n",
        "    print('hello')\n",
        "print(function(5, 7))"
      ],
      "metadata": {
        "colab": {
          "base_uri": "https://localhost:8080/"
        },
        "id": "w3UceipDMl_Y",
        "outputId": "14369204-efa5-448a-f965-ef3faf78f6e5"
      },
      "execution_count": null,
      "outputs": [
        {
          "output_type": "stream",
          "name": "stdout",
          "text": [
            "12\n"
          ]
        }
      ]
    },
    {
      "cell_type": "code",
      "source": [
        "# return을 빨리 만나게 해주세요.\n",
        "# early return\n",
        "# 조건이 부합하지 않으면 바로 return을 하도록 하는 코딩 패턴\n",
        "# 이렇게 작성함으로써, 가독성이 좋은 코드\n",
        "\n",
        "def custom_sum(x, y):\n",
        "    if type(x) != int or type(y) != int:\n",
        "        return '연산할 수 없습니다.'\n",
        "    z = x + y # 100줄이라 가정\n",
        "    return z\n",
        "print(custom_sum(5, '가나다'))"
      ],
      "metadata": {
        "colab": {
          "base_uri": "https://localhost:8080/"
        },
        "id": "QlTRLz_tNN9h",
        "outputId": "d1d31246-69a0-4caa-930f-2c8b7a7a4317"
      },
      "execution_count": null,
      "outputs": [
        {
          "output_type": "stream",
          "name": "stdout",
          "text": [
            "연산할 수 없습니다.\n"
          ]
        }
      ]
    },
    {
      "cell_type": "code",
      "source": [
        "# 한글코딩의 장점\n",
        "# 1. 고유명사(한라산, 새싹멤버) -> 기획자와 소통하기도 좋습니다.\n",
        "# 2. 알고리즘 가독성은 괜찮습니다. 프로젝트는 조금 힘들 수 있어요. 일부 모듈에서는 사용할 수 있습니다.\n",
        "\n",
        "# 한글코딩의 단점\n",
        "# 1. 싫어하시는 분도 많습니다.\n",
        "# 2. 한영키 바꾸는 것"
      ],
      "metadata": {
        "id": "rAx3y4TsOyK5"
      },
      "execution_count": null,
      "outputs": []
    },
    {
      "cell_type": "code",
      "source": [
        "# 함수 안에 함수\n",
        "def one():\n",
        "    def two():\n",
        "        print('hello')\n",
        "    def three():\n",
        "        print('hello2')\n",
        "    return 100\n",
        "\n",
        "print(one())"
      ],
      "metadata": {
        "colab": {
          "base_uri": "https://localhost:8080/"
        },
        "id": "ywyMlqFfQXbm",
        "outputId": "fbe038ef-6ae5-4c96-ebd8-1c6ec106310d"
      },
      "execution_count": null,
      "outputs": [
        {
          "output_type": "stream",
          "name": "stdout",
          "text": [
            "100\n"
          ]
        }
      ]
    },
    {
      "cell_type": "code",
      "source": [
        "# 함수 안에 함수\n",
        "def one():\n",
        "    def two():\n",
        "        print('hello1')\n",
        "    def three():\n",
        "        print('hello2')\n",
        "    two()\n",
        "    three()\n",
        "    return 100\n",
        "\n",
        "print(one())"
      ],
      "metadata": {
        "id": "wUyPJOuKQvDu"
      },
      "execution_count": null,
      "outputs": []
    },
    {
      "cell_type": "code",
      "source": [
        "# 함수 안에 함수와 함수 안에 변수는 밖에서 호출이 안됩니다.\n",
        "# 아래것이 만약 실행되었다면 위 어딘가에서 two와 x가 정의되어 있는 것입니다.\n",
        "def one():\n",
        "    def two():\n",
        "        print('hello1')\n",
        "    def three():\n",
        "        print('hello2')\n",
        "    two()\n",
        "    three()\n",
        "    x = 1000\n",
        "    return 100\n",
        "\n",
        "one()\n",
        "print(x)\n",
        "two()"
      ],
      "metadata": {
        "colab": {
          "base_uri": "https://localhost:8080/",
          "height": 266
        },
        "id": "OCmjV40tQ7Ed",
        "outputId": "85787df5-616a-4585-8e59-356cbd9fbbf2"
      },
      "execution_count": null,
      "outputs": [
        {
          "output_type": "stream",
          "name": "stdout",
          "text": [
            "hello1\n",
            "hello2\n"
          ]
        },
        {
          "output_type": "error",
          "ename": "NameError",
          "evalue": "ignored",
          "traceback": [
            "\u001b[0;31m---------------------------------------------------------------------------\u001b[0m",
            "\u001b[0;31mNameError\u001b[0m                                 Traceback (most recent call last)",
            "\u001b[0;32m<ipython-input-1-276f1757a904>\u001b[0m in \u001b[0;36m<cell line: 14>\u001b[0;34m()\u001b[0m\n\u001b[1;32m     12\u001b[0m \u001b[0;34m\u001b[0m\u001b[0m\n\u001b[1;32m     13\u001b[0m \u001b[0mone\u001b[0m\u001b[0;34m(\u001b[0m\u001b[0;34m)\u001b[0m\u001b[0;34m\u001b[0m\u001b[0;34m\u001b[0m\u001b[0m\n\u001b[0;32m---> 14\u001b[0;31m \u001b[0mprint\u001b[0m\u001b[0;34m(\u001b[0m\u001b[0mx\u001b[0m\u001b[0;34m)\u001b[0m\u001b[0;34m\u001b[0m\u001b[0;34m\u001b[0m\u001b[0m\n\u001b[0m\u001b[1;32m     15\u001b[0m \u001b[0mtwo\u001b[0m\u001b[0;34m(\u001b[0m\u001b[0;34m)\u001b[0m\u001b[0;34m\u001b[0m\u001b[0;34m\u001b[0m\u001b[0m\n",
            "\u001b[0;31mNameError\u001b[0m: name 'x' is not defined"
          ]
        }
      ]
    },
    {
      "cell_type": "code",
      "source": [
        "# 함수 안에 함수와 함수 안에 변수를 해봤으니\n",
        "# 이번에는 함수 밖에 함수와 함수 밖에 변수를 해보도록 하겠습니다.\n",
        "\n",
        "def test():\n",
        "    print('test')\n",
        "\n",
        "def one():\n",
        "    test()\n",
        "\n",
        "def two():\n",
        "    test()\n",
        "\n",
        "one()\n",
        "two()\n",
        "test()"
      ],
      "metadata": {
        "colab": {
          "base_uri": "https://localhost:8080/"
        },
        "id": "RgD3cJ05RueW",
        "outputId": "7f935b32-ffe1-415c-958e-64c7881cef44"
      },
      "execution_count": null,
      "outputs": [
        {
          "output_type": "stream",
          "name": "stdout",
          "text": [
            "test\n",
            "test\n",
            "test\n"
          ]
        }
      ]
    },
    {
      "cell_type": "code",
      "source": [
        "# 위 원리와 마찬가지로 밖에 있는 변수를 '가져오는 것만' 가능합니다.\n",
        "# 수정은 안됩니다.\n",
        "test = 10\n",
        "\n",
        "def one():\n",
        "    print('test')\n",
        "\n",
        "def two():\n",
        "    test()\n",
        "\n",
        "\n",
        "one()\n",
        "two()\n",
        "test()"
      ],
      "metadata": {
        "id": "Pq8fB7zvSa00"
      },
      "execution_count": null,
      "outputs": []
    },
    {
      "cell_type": "code",
      "source": [
        "# 이렇게 하시면 error가 납니다! 밖에 있는 변수는 수정이 안됩니다.\n",
        "test = 10\n",
        "\n",
        "def one():\n",
        "    test = test + 10\n",
        "\n",
        "one()"
      ],
      "metadata": {
        "id": "0lTuSLylSxyr"
      },
      "execution_count": null,
      "outputs": []
    },
    {
      "cell_type": "markdown",
      "source": [
        "## 지역 변수와 전역 변수"
      ],
      "metadata": {
        "id": "U0ncI_ABS7n6"
      }
    },
    {
      "cell_type": "code",
      "source": [
        "# 전역변수 접근은 가능하지만 수정이 되진 않습니다.\n",
        "a = 100\n",
        "def f():\n",
        "    a = a + 1\n",
        "f()"
      ],
      "metadata": {
        "id": "dLJdnjBVS887"
      },
      "execution_count": null,
      "outputs": []
    },
    {
      "cell_type": "code",
      "source": [
        "# 전역변수를 함수 내부에서 수정이 되게 하는 코드입니다.\n",
        "# 권하지 않습니다.\n",
        "a = 100\n",
        "def f():\n",
        "    global a # 실무에서 사용 안합니다.\n",
        "    a = a + 1\n",
        "f()\n",
        "print(a)\n"
      ],
      "metadata": {
        "colab": {
          "base_uri": "https://localhost:8080/"
        },
        "id": "6PQBS75IXKl0",
        "outputId": "2ff234ec-fafe-4251-d023-dc6c6b969ed5"
      },
      "execution_count": null,
      "outputs": [
        {
          "output_type": "stream",
          "name": "stdout",
          "text": [
            "101\n"
          ]
        }
      ]
    },
    {
      "cell_type": "code",
      "source": [
        "# 정해진 루트 외에 다른 루트로 해당 값을 수정하려고 하지 마세요.\n",
        "a = 100\n",
        "def f(x):\n",
        "    x = x + 1\n",
        "    return x\n",
        "a = f(a)\n",
        "print(a)"
      ],
      "metadata": {
        "colab": {
          "base_uri": "https://localhost:8080/"
        },
        "id": "Zg0711f9XsnJ",
        "outputId": "b10300eb-ca3c-42ed-87bc-85cc4dd1f4c3"
      },
      "execution_count": null,
      "outputs": [
        {
          "output_type": "stream",
          "name": "stdout",
          "text": [
            "101\n"
          ]
        }
      ]
    },
    {
      "cell_type": "code",
      "source": [
        "# 순수 함수\n",
        "def f(x):\n",
        "    return x + x + 100\n",
        "f(10)\n",
        "f(20) \n",
        "# 아규먼트 값에 따라 다르지만 \n",
        "# 아규먼트에 2배해서 100이 더해진 다는 사실은 변하지 않죠?"
      ],
      "metadata": {
        "colab": {
          "base_uri": "https://localhost:8080/"
        },
        "id": "3qLmQTfhX-fQ",
        "outputId": "17376d7f-7f66-4b0d-c250-bd5ab9da14d9"
      },
      "execution_count": null,
      "outputs": [
        {
          "output_type": "execute_result",
          "data": {
            "text/plain": [
              "140"
            ]
          },
          "metadata": {},
          "execution_count": 8
        }
      ]
    },
    {
      "cell_type": "code",
      "source": [
        "test = 100\n",
        "def f(x):\n",
        "    return x + x + 100 + test\n",
        "f(10)\n",
        "# 아규먼트 값에 따라 다르지만 \n",
        "# 아규먼트에 2배해서 100이 더해진 다는 사실은 변하지 않죠?\n",
        "# 그렇지 않습니다. test값이 다른 곳에서 조작이 되면\n",
        "# 더해지는 값이 200이 안될 수도 있죠.\n",
        "# 예측이 불가하게 되는 것!"
      ],
      "metadata": {
        "id": "iALCRg_PYS-u"
      },
      "execution_count": null,
      "outputs": []
    },
    {
      "cell_type": "code",
      "source": [
        "# 지역변수와 전역변수 이어서\n",
        "# 전역변수 : 전역에서 접근할 수 있는 변수\n",
        "# 지역변수 : 함수 내에서만 접근할 수 있는 변수"
      ],
      "metadata": {
        "id": "DGa3GTmgYzrA"
      },
      "execution_count": null,
      "outputs": []
    },
    {
      "cell_type": "code",
      "source": [
        "a = 100\n",
        "def one():\n",
        "    a = 10\n",
        "    print(a)\n",
        "\n",
        "\n",
        "one()\n",
        "print(a)"
      ],
      "metadata": {
        "colab": {
          "base_uri": "https://localhost:8080/"
        },
        "id": "eUSvzbJYZMAI",
        "outputId": "3160e39d-2749-42c0-c186-dbf428c9837c"
      },
      "execution_count": null,
      "outputs": [
        {
          "output_type": "stream",
          "name": "stdout",
          "text": [
            "10\n",
            "100\n"
          ]
        }
      ]
    },
    {
      "cell_type": "code",
      "source": [
        "# 어려우신 분들은 pass!\n",
        "# 조금 있다가 요약정리에서도 써드리지 않을 예정입니다.\n",
        "# 자신의 공간에 변수가 선언되어 있지 않으면\n",
        "# 전역까지 찾아 올라갑니다. 전역에도 없으면 error\n",
        "\n",
        "a = 100\n",
        "def one():\n",
        "    a = 10\n",
        "    def two():\n",
        "        def three():\n",
        "            a = 1000\n",
        "            print(a)\n",
        "        three()\n",
        "        print(a)\n",
        "    two()\n",
        "    print(a)\n",
        "\n",
        "\n",
        "one()\n",
        "print(a)"
      ],
      "metadata": {
        "colab": {
          "base_uri": "https://localhost:8080/"
        },
        "id": "ULSpONq1Z4Zy",
        "outputId": "30cf6756-1d9c-48a4-a035-07fb9614f712"
      },
      "execution_count": null,
      "outputs": [
        {
          "output_type": "stream",
          "name": "stdout",
          "text": [
            "1000\n",
            "10\n",
            "10\n",
            "100\n"
          ]
        }
      ]
    },
    {
      "cell_type": "code",
      "source": [
        "# error가 나는 코드\n",
        "x = 100\n",
        "def outer():\n",
        "    x = 1\n",
        "    def inner():\n",
        "        x += 1\n",
        "        print(x)\n",
        "    inner()\n",
        "    print(x)\n",
        "\n",
        "outer()\n",
        "print(x)"
      ],
      "metadata": {
        "id": "zWWu4RK0b9yp"
      },
      "execution_count": null,
      "outputs": []
    },
    {
      "cell_type": "code",
      "source": [
        "# inner가 outer에 변수를 건드리고 싶은데\n",
        "# inner 안에서는 x에 수정권한이 전혀 없습니다.\n",
        "x = 100\n",
        "def outer():\n",
        "    x = 1\n",
        "    def inner():\n",
        "        nonlocal x\n",
        "        x += 1\n",
        "        print(x)\n",
        "    inner()\n",
        "    print(x)\n",
        "\n",
        "outer()\n",
        "print(x)"
      ],
      "metadata": {
        "colab": {
          "base_uri": "https://localhost:8080/"
        },
        "id": "RBjrawLSbRRL",
        "outputId": "9e6055d4-b7d1-4895-8d90-3dda99b66270"
      },
      "execution_count": null,
      "outputs": [
        {
          "output_type": "stream",
          "name": "stdout",
          "text": [
            "2\n",
            "2\n",
            "100\n"
          ]
        }
      ]
    },
    {
      "cell_type": "code",
      "source": [
        "x = 100\n",
        "def outer():\n",
        "    x = 1\n",
        "    def inner():\n",
        "        global x\n",
        "        x += 1\n",
        "        print(x)\n",
        "    inner()\n",
        "    print(x)\n",
        "\n",
        "outer()\n",
        "print(x)"
      ],
      "metadata": {
        "colab": {
          "base_uri": "https://localhost:8080/"
        },
        "id": "FmKorG7ibz0Z",
        "outputId": "0b9525da-88eb-46cb-94e9-ff37cf083cbd"
      },
      "execution_count": null,
      "outputs": [
        {
          "output_type": "stream",
          "name": "stdout",
          "text": [
            "101\n",
            "1\n",
            "101\n"
          ]
        }
      ]
    },
    {
      "cell_type": "markdown",
      "source": [
        "## 재귀함수"
      ],
      "metadata": {
        "id": "oqAuxZ-gcYsn"
      }
    },
    {
      "cell_type": "markdown",
      "source": [
        "* 내가 나를 호출하는 것입니다.\n",
        "* 재귀<-> for문은 대부분 호환이 가능합니다.\n",
        "* 반복문 사용하시기를 권합니다!\n",
        "* 어렵고 효율도 안좋아요! (얼마나 효율이 안좋은지도 확인해봅시다)\n",
        "* 필수적으로 사용하는 곳이 있습니다."
      ],
      "metadata": {
        "id": "Z5yAkfIJchD_"
      }
    },
    {
      "cell_type": "code",
      "source": [
        "# sys.setrecursionlimit -> 제한을 늘릴 수 있음\n",
        "# 실행시키지 마세요.\n",
        "def 숫자출력():\n",
        "    print(1)\n",
        "    return 숫자출력()\n",
        "숫자출력()"
      ],
      "metadata": {
        "id": "JT4FOO3rcghW"
      },
      "execution_count": null,
      "outputs": []
    },
    {
      "cell_type": "code",
      "source": [
        "# for로 펙토리얼\n",
        "# 5! = 5 * 4 * 3 * 2 * 1\n",
        "\n",
        "result = 1\n",
        "\n",
        "# 1 * 2 * 3 * 4 * 5\n",
        "for i in range(1, 6):\n",
        "    result *=i\n",
        "\n",
        "result"
      ],
      "metadata": {
        "colab": {
          "base_uri": "https://localhost:8080/"
        },
        "id": "fZF1DRnCZ2JC",
        "outputId": "7316dedc-9e3c-4b0d-e4c4-01c090b725d5"
      },
      "execution_count": null,
      "outputs": [
        {
          "output_type": "execute_result",
          "data": {
            "text/plain": [
              "120"
            ]
          },
          "metadata": {},
          "execution_count": 13
        }
      ]
    },
    {
      "cell_type": "code",
      "source": [
        "# 재귀로 펙토리얼\n",
        "\n",
        "def f(n):\n",
        "    if n <=1:\n",
        "        return 1\n",
        "    else:\n",
        "        return n * f(n-1)\n",
        "\n",
        "f(5)\n",
        "'''\n",
        "\n",
        "f(5)        5 * f(4) == 5 * 24 => 120\n",
        "f(4)        4 * f(3) == 4 * 6\n",
        "f(3)        3 * f(2) == 3 * 2\n",
        "f(2)        2 * f(1) == 2 * 1\n",
        "f(1)        1\n",
        "'''"
      ],
      "metadata": {
        "colab": {
          "base_uri": "https://localhost:8080/"
        },
        "id": "jYZaUo2AeQsL",
        "outputId": "4ca4cb87-8c8d-45b6-bd20-9af60abf966e"
      },
      "execution_count": null,
      "outputs": [
        {
          "output_type": "execute_result",
          "data": {
            "text/plain": [
              "120"
            ]
          },
          "metadata": {},
          "execution_count": 14
        }
      ]
    },
    {
      "cell_type": "code",
      "source": [
        "# for로 문자열 거꾸로 출력하기\n",
        "s = 'hello'\n",
        "result = ''\n",
        "\n",
        "for i in s:\n",
        "    result = i + result\n",
        "\n",
        "result\n",
        "'''\n",
        "result = 'h' + ''\n",
        "result = 'e' + 'h'\n",
        "result = 'l' + 'eh'\n",
        "result = 'o' + 'lleh'\n",
        "'''\n",
        "\n",
        "# 실무에서는 이렇게 거꾸로 만들지 않습니다.\n",
        "# 슬라이싱이 일반 for문보다 8배 빠릅니다.\n",
        "# s[::-1] 이렇게 쓰시면 됩니다."
      ],
      "metadata": {
        "colab": {
          "base_uri": "https://localhost:8080/",
          "height": 35
        },
        "id": "KO_u0LMNfkv7",
        "outputId": "2f902d77-08a6-4e97-f841-56ca94ad643e"
      },
      "execution_count": null,
      "outputs": [
        {
          "output_type": "execute_result",
          "data": {
            "text/plain": [
              "\"\\nresult = 'h' + ''\\nresult = 'e' + 'h'\\nresult = 'l' + 'eh'\\nresult = 'o' + 'lleh'\\n\""
            ],
            "application/vnd.google.colaboratory.intrinsic+json": {
              "type": "string"
            }
          },
          "metadata": {},
          "execution_count": 16
        }
      ]
    },
    {
      "cell_type": "code",
      "source": [
        "def reverse(s):\n",
        "    if len(s) == 1:\n",
        "        return s\n",
        "    else:\n",
        "        return   reverse(s[1:]) + s[0]\n",
        "\n",
        "reverse('hello')\n",
        "\n",
        "'''\n",
        "reverse('hello')     reverse('ello') + 'h'  =='olle' + 'h'\n",
        "reverse('ello')     reverse('llo') + 'e'    =='oll' + 'e'\n",
        "reverse('llo')     reverse('lo') + 'l'      =='ol' + 'l'\n",
        "reverse('lo')     reverse('o') + 'l'        =='o' + 'l'\n",
        "reverse('o')    'o'    \n",
        "'''"
      ],
      "metadata": {
        "colab": {
          "base_uri": "https://localhost:8080/",
          "height": 54
        },
        "id": "XL61Tx2vgY_m",
        "outputId": "7db55d67-82b5-4f52-dbba-87a609763185"
      },
      "execution_count": null,
      "outputs": [
        {
          "output_type": "execute_result",
          "data": {
            "text/plain": [
              "\"\\nreverse('hello')     reverse('ello') + 'h'  =='olle' + 'h'\\nreverse('ello')     reverse('llo') + 'e'    =='oll' + 'e'\\nreverse('llo')     reverse('lo') + 'l'      =='ol' + 'l'\\nreverse('lo')     reverse('o') + 'l'        =='o' + 'l'\\nreverse('o')    'o'    \\n\""
            ],
            "application/vnd.google.colaboratory.intrinsic+json": {
              "type": "string"
            }
          },
          "metadata": {},
          "execution_count": 20
        }
      ]
    },
    {
      "cell_type": "code",
      "source": [
        "# 피보나치\n",
        "# 재귀가 얼마나 비효율적인지 보여드리기 위해서 진행\n",
        "# 1 1 2 3 5 8 13 21\n",
        "\n",
        "curr = 1\n",
        "next = 1\n",
        "\n",
        "for i in range(1, 5):\n",
        "    curr, next = next, curr + next\n",
        "next"
      ],
      "metadata": {
        "colab": {
          "base_uri": "https://localhost:8080/"
        },
        "id": "A4bID1OGz9Fc",
        "outputId": "28e031f6-be2b-4ac9-b121-70a679a5e359"
      },
      "execution_count": null,
      "outputs": [
        {
          "output_type": "execute_result",
          "data": {
            "text/plain": [
              "8"
            ]
          },
          "metadata": {},
          "execution_count": 22
        }
      ]
    },
    {
      "cell_type": "code",
      "source": [
        "# 피보나치 재귀\n",
        "\n",
        "def f(n):\n",
        "    if n == 1 or n == 2:\n",
        "        return 1\n",
        "    return f(n-1) + f(n-2)\n",
        "1, 1, f(3), f(4), f(5), f(6)"
      ],
      "metadata": {
        "colab": {
          "base_uri": "https://localhost:8080/"
        },
        "id": "F9LL7N5Y1kbC",
        "outputId": "171545c4-510a-4986-b27e-8c3e81bf4761"
      },
      "execution_count": null,
      "outputs": [
        {
          "output_type": "execute_result",
          "data": {
            "text/plain": [
              "(1, 1, 2, 3, 5, 8)"
            ]
          },
          "metadata": {},
          "execution_count": 24
        }
      ]
    },
    {
      "cell_type": "code",
      "source": [
        "# 재귀에 비효율을 이렇게 해결할 수는 있다를 보여드리기 위함\n",
        "# but 가능 하면 for를 이용해주세요.\n",
        "\n",
        "from functools import lru_cache\n",
        "\n",
        "@lru_cache(maxsize=None)\n",
        "def fib(num):\n",
        "    if num == 0:\n",
        "        return 0\n",
        "    if num == 1 or num == 2:\n",
        "        return 1\n",
        "    else:\n",
        "        return fib(num-1) + fib(num-2)\n",
        "\n",
        "fib(40)"
      ],
      "metadata": {
        "id": "HmWgyBQp3STv"
      },
      "execution_count": null,
      "outputs": []
    },
    {
      "cell_type": "markdown",
      "source": [
        "## !! 연습문제"
      ],
      "metadata": {
        "id": "wHl_uoe1FZCQ"
      }
    },
    {
      "cell_type": "code",
      "source": [
        "# 1번\n",
        "a = 'pithon'\n",
        "\n",
        "def 함수1():\n",
        "    def 함수2():\n",
        "        print('love')\n",
        "    \n",
        "    print('I')\n",
        "    함수2()\n",
        "    return \"python\"\n",
        "\n",
        "\n",
        "a = 함수1()\n",
        "print(a)"
      ],
      "metadata": {
        "colab": {
          "base_uri": "https://localhost:8080/"
        },
        "id": "Gu4UkhTK4BWR",
        "outputId": "92278da6-d5f8-4c1c-9312-df111b4c3166"
      },
      "execution_count": null,
      "outputs": [
        {
          "output_type": "stream",
          "name": "stdout",
          "text": [
            "I\n",
            "love\n",
            "python\n"
          ]
        }
      ]
    },
    {
      "cell_type": "code",
      "source": [
        "# 2번\n",
        "# 실력이 있으신 분은 견고한 코드가 될 수 있도록 해주셔야 됩니다.\n",
        "def plus(num1, num2):\n",
        "    return num1 + num2\n",
        "\n",
        "def minus(num1, num2):\n",
        "    return num1 - num2\n",
        "def multiply(num1, num2):\n",
        "    return num1 * num2\n",
        "def divide(num1, num2):\n",
        "    return num1 / num2\n",
        "\n",
        "print(f'plus : {plus(10, 5)}')\n",
        "print(f'minus : {minus(10, 5)}')\n",
        "print(f'multiply : {multiply(10, 5)}')\n",
        "print(f'divide : {divide(10, 5)}')"
      ],
      "metadata": {
        "colab": {
          "base_uri": "https://localhost:8080/"
        },
        "id": "gFjTT_ES6yIo",
        "outputId": "3cbfa8be-9019-4fbd-ae31-8408806fe81a"
      },
      "execution_count": null,
      "outputs": [
        {
          "output_type": "stream",
          "name": "stdout",
          "text": [
            "plus : 15\n",
            "minus : 5\n",
            "multiply : 50\n",
            "divide : 2.0\n"
          ]
        }
      ]
    },
    {
      "cell_type": "code",
      "source": [
        "# 실력이 있으신 분은 견고한 코드가 될 수 있도록 해주셔야 됩니다.\n",
        "def plus(num1, num2):\n",
        "    if type(num1) == int and type(num2) == int:\n",
        "        return num1 + num2\n",
        "    return float('inf')\n",
        "\n",
        "# 테스트 주도 개발\n",
        "    print(f\"plus : {plus(10, 5)}\")\n",
        "    print(f\"plus : {plus(10, '5')}\")\n",
        "    print(f\"plus : {plus('10', 5)}\")\n",
        "    print(f\"plus : {plus('10', '5')}\")\n",
        "    print(f\"plus : {plus(10, a)}\")\n",
        "    print(f\"plus : {plus(10, True)}\")\n",
        "    print(f\"plus : {plus(False, 5)}\")\n",
        "    print(f\"plus : {plus(10, 10.1)}\")"
      ],
      "metadata": {
        "id": "N3SLBy2s_e0R"
      },
      "execution_count": null,
      "outputs": []
    },
    {
      "cell_type": "code",
      "source": [
        "# 실력이 있으신 분은 견고한 코드가 될 수 있도록 해주셔야 합니다.\n",
        "def plus(num1, num2):\n",
        "    try:\n",
        "        return num1 + num2\n",
        "    except:\n",
        "        return float('inf')\n",
        "\n",
        "# 테스트 주도 개발\n",
        "print(f\"plus : {plus(10, 5)}\")\n",
        "print(f\"plus : {plus(10, '5')}\")\n",
        "print(f\"plus : {plus('10', 5)}\")\n",
        "print(f\"plus : {plus('10', '5')}\")\n",
        "print(f\"plus : {plus(10, 'a')}\")\n",
        "print(f\"plus : {plus(10, True)}\")\n",
        "print(f\"plus : {plus(False, 5)}\")\n",
        "print(f\"plus : {plus(10, 10.1)}\")"
      ],
      "metadata": {
        "colab": {
          "base_uri": "https://localhost:8080/"
        },
        "id": "qyPgtqVZApDo",
        "outputId": "0ff8e3c2-a503-41ec-c10c-f0b5f8451bd7"
      },
      "execution_count": null,
      "outputs": [
        {
          "output_type": "stream",
          "name": "stdout",
          "text": [
            "plus : 15\n",
            "plus : inf\n",
            "plus : inf\n",
            "plus : 105\n",
            "plus : inf\n",
            "plus : 11\n",
            "plus : 5\n",
            "plus : 20.1\n"
          ]
        }
      ]
    },
    {
      "cell_type": "code",
      "source": [
        "float('inf') > 1000000000000000000000000"
      ],
      "metadata": {
        "id": "Gyc7PrhSA2Nd"
      },
      "execution_count": null,
      "outputs": []
    },
    {
      "cell_type": "code",
      "source": [
        "def 제곱(x, n):\n",
        "    if n==0:\n",
        "        return 1\n",
        "    return x * 제곱(x, n-1)\n",
        "\n",
        "제곱(3, 3)\n",
        "제곱(3, 4)"
      ],
      "metadata": {
        "colab": {
          "base_uri": "https://localhost:8080/"
        },
        "id": "qLFNXRE6BFpP",
        "outputId": "1e8637e3-82f5-4322-fd03-480d003ecf63"
      },
      "execution_count": null,
      "outputs": [
        {
          "output_type": "execute_result",
          "data": {
            "text/plain": [
              "81"
            ]
          },
          "metadata": {},
          "execution_count": 34
        }
      ]
    },
    {
      "cell_type": "code",
      "source": [
        "def 제곱(x):\n",
        "    def 승수(y):\n",
        "        return x ** y\n",
        "    return 승수\n",
        "\n",
        "제곱3 = 제곱(3)\n",
        "제곱3(4)"
      ],
      "metadata": {
        "colab": {
          "base_uri": "https://localhost:8080/"
        },
        "id": "bdHkVS8vDXxd",
        "outputId": "d5802b70-3016-41c3-dddb-51fdfadaafdf"
      },
      "execution_count": null,
      "outputs": [
        {
          "output_type": "execute_result",
          "data": {
            "text/plain": [
              "81"
            ]
          },
          "metadata": {},
          "execution_count": 35
        }
      ]
    },
    {
      "cell_type": "markdown",
      "source": [
        "## rist (리스트)"
      ],
      "metadata": {
        "id": "GmWQ5VgREfyH"
      }
    },
    {
      "cell_type": "markdown",
      "source": [
        "* 순서를 가진 데이터들의 집합(Sequence)\n",
        "* 리스트는 값의 변경\n",
        "* 리스트 안에 리스트로 다차원의 리스트를\n",
        "만드는 것도 가능\n",
        "* 리스트 안에 다른 딕셔너리, 셋, 튜플 등을 넣는것도 가능합니다."
      ],
      "metadata": {
        "id": "-_x4ZgxfFbQf"
      }
    },
    {
      "cell_type": "markdown",
      "source": [],
      "metadata": {
        "id": "uWvdeHIdFUaJ"
      }
    },
    {
      "cell_type": "code",
      "source": [
        "l = [1000, 2000, 3000, 1000, 2000, 3000]\n",
        "id(l[0]), id(l[3])"
      ],
      "metadata": {
        "colab": {
          "base_uri": "https://localhost:8080/"
        },
        "id": "wHtIMAoYEbXA",
        "outputId": "6d14a2a4-89ec-4bee-d47b-3d81c688d167"
      },
      "execution_count": null,
      "outputs": [
        {
          "output_type": "execute_result",
          "data": {
            "text/plain": [
              "(140696912416080, 140696912416080)"
            ]
          },
          "metadata": {},
          "execution_count": 37
        }
      ]
    },
    {
      "cell_type": "code",
      "source": [
        "# 컨벤션 자료형(딕셔너리, 튜플, 셋, 리스트)에서는\n",
        "# 메모리 효율을 위해\n",
        "# 같은 값이 있을 경우 같은 곳을 가리키게 설계되어 있습니다."
      ],
      "metadata": {
        "id": "ME7JB86hF3Gh"
      },
      "execution_count": null,
      "outputs": []
    },
    {
      "cell_type": "code",
      "source": [
        "l = [10, 20, 30, 40]\n",
        "l [0] = 1000\n"
      ],
      "metadata": {
        "id": "ViES32ToGEJv"
      },
      "execution_count": null,
      "outputs": []
    },
    {
      "cell_type": "code",
      "source": [
        "s = 'hello world'\n",
        "s[0] = 'k'# error\n",
        "s\n"
      ],
      "metadata": {
        "id": "kO44Fjp9GNQM"
      },
      "execution_count": null,
      "outputs": []
    },
    {
      "cell_type": "code",
      "source": [
        "data = [[1, 2, 3],\n",
        "        [4, 5, 6],\n",
        "        [7, 8, 9]]\n",
        "\n",
        "data"
      ],
      "metadata": {
        "colab": {
          "base_uri": "https://localhost:8080/"
        },
        "id": "bWWAALOEGbxO",
        "outputId": "a36f9941-634d-42a0-aa23-cd75d06ae36a"
      },
      "execution_count": null,
      "outputs": [
        {
          "output_type": "execute_result",
          "data": {
            "text/plain": [
              "[[1, 2, 3], [4, 5, 6], [7, 8, 9]]"
            ]
          },
          "metadata": {},
          "execution_count": 44
        }
      ]
    },
    {
      "cell_type": "code",
      "source": [
        "data[0]"
      ],
      "metadata": {
        "colab": {
          "base_uri": "https://localhost:8080/"
        },
        "id": "ULQ1Se4pGuqw",
        "outputId": "addca22f-3449-491d-b913-cd27ed3848c5"
      },
      "execution_count": null,
      "outputs": [
        {
          "output_type": "execute_result",
          "data": {
            "text/plain": [
              "[1, 2, 3]"
            ]
          },
          "metadata": {},
          "execution_count": 46
        }
      ]
    },
    {
      "cell_type": "code",
      "source": [
        "data[0][0]"
      ],
      "metadata": {
        "colab": {
          "base_uri": "https://localhost:8080/"
        },
        "id": "iEyN52l8G1T3",
        "outputId": "eef67bf4-f341-41dc-ff61-0a30f01ae3c2"
      },
      "execution_count": null,
      "outputs": [
        {
          "output_type": "execute_result",
          "data": {
            "text/plain": [
              "1"
            ]
          },
          "metadata": {},
          "execution_count": 47
        }
      ]
    },
    {
      "cell_type": "code",
      "source": [
        "data = [[1, 2, 3],\n",
        "        [4, 5, 6],\n",
        "        [7, 8, 9]]\n",
        "\n",
        "for i in range(3):\n",
        "    for j in range(3):\n",
        "        data[i][j] *= 2\n",
        "        data[i][j] *= 2\n",
        "        data[i][j] *= 2\n",
        "\n",
        "data\n",
        "\n"
      ],
      "metadata": {
        "colab": {
          "base_uri": "https://localhost:8080/"
        },
        "id": "5Elg_glxG7ao",
        "outputId": "4e381860-f2a0-463f-eb06-e71950a7ee9c"
      },
      "execution_count": null,
      "outputs": [
        {
          "output_type": "execute_result",
          "data": {
            "text/plain": [
              "[[8, 16, 24], [32, 40, 48], [56, 64, 72]]"
            ]
          },
          "metadata": {},
          "execution_count": 55
        }
      ]
    },
    {
      "cell_type": "code",
      "source": [
        "'''\n",
        "3                == 스칼라\n",
        "[3, 4]           == 벡터\n",
        "[[1, 2, 3],      == 메트릭스(행렬)\n",
        " [4, 5, 6],\n",
        " [7, 8, 9]]     \n",
        "[[[1], [2], [3]], == 텐서(다차원, 3차원 이상)       \n",
        " [[4], [5], [6]],\n",
        " [[7], [8], [9]]] \n",
        "텐서플로우 : 인공지능 중 유명한 라이브러리\n",
        "'''"
      ],
      "metadata": {
        "colab": {
          "base_uri": "https://localhost:8080/",
          "height": 54
        },
        "id": "XU7EpO0cH1vo",
        "outputId": "dcc19ecc-af4e-47c5-d526-b8c1c06fd141"
      },
      "execution_count": null,
      "outputs": [
        {
          "output_type": "execute_result",
          "data": {
            "text/plain": [
              "'\\n3                == 스칼라\\n[3, 4]           == 벡터\\n[[1, 2, 3],      == 메트릭스(행렬)\\n [4, 5, 6],\\n [7, 8, 9]]     \\n[[[1], [2], [3]], == 텐서(다차원, 3차원 이상)       \\n [[4], [5], [6]],\\n [[7], [8], [9]]] \\n텐서플로우 : 인공지능 중 유명한 라이브러리\\n'"
            ],
            "application/vnd.google.colaboratory.intrinsic+json": {
              "type": "string"
            }
          },
          "metadata": {},
          "execution_count": 56
        }
      ]
    },
    {
      "cell_type": "code",
      "source": [
        "# 리스트에서 주의해야 하는 연산!\n",
        "x = [10] * 3\n",
        "x"
      ],
      "metadata": {
        "colab": {
          "base_uri": "https://localhost:8080/"
        },
        "id": "W6IU8IrYIv2p",
        "outputId": "50c36a19-c49f-434f-d14e-128c1df54443"
      },
      "execution_count": null,
      "outputs": [
        {
          "output_type": "execute_result",
          "data": {
            "text/plain": [
              "[10, 10, 10]"
            ]
          },
          "metadata": {},
          "execution_count": 58
        }
      ]
    },
    {
      "cell_type": "code",
      "source": [
        "x[0] = 100\n",
        "x"
      ],
      "metadata": {
        "colab": {
          "base_uri": "https://localhost:8080/"
        },
        "id": "n0AxDvHlI3tI",
        "outputId": "2e3373ba-fbe1-484a-b936-5f4017c1d65b"
      },
      "execution_count": null,
      "outputs": [
        {
          "output_type": "execute_result",
          "data": {
            "text/plain": [
              "[100, 10, 10]"
            ]
          },
          "metadata": {},
          "execution_count": 59
        }
      ]
    },
    {
      "cell_type": "code",
      "source": [
        "x = [[10]*2] * 3\n",
        "x"
      ],
      "metadata": {
        "colab": {
          "base_uri": "https://localhost:8080/"
        },
        "id": "PhfFJSuMGRFv",
        "outputId": "8a9644a8-aabc-4bf0-ade7-d3876fa87e0a"
      },
      "execution_count": null,
      "outputs": [
        {
          "output_type": "execute_result",
          "data": {
            "text/plain": [
              "[[10, 10], [10, 10], [10, 10]]"
            ]
          },
          "metadata": {},
          "execution_count": 63
        }
      ]
    },
    {
      "cell_type": "code",
      "source": [
        "x[0][0] = 100\n",
        "x"
      ],
      "metadata": {
        "colab": {
          "base_uri": "https://localhost:8080/"
        },
        "id": "6EjFvtVyJA8w",
        "outputId": "11ae434a-daa4-4d88-ffa8-669dfc399c06"
      },
      "execution_count": null,
      "outputs": [
        {
          "output_type": "execute_result",
          "data": {
            "text/plain": [
              "[[100, 10], [100, 10], [100, 10]]"
            ]
          },
          "metadata": {},
          "execution_count": 65
        }
      ]
    },
    {
      "cell_type": "code",
      "source": [
        "id(x[0][0]), id(x[0][1])"
      ],
      "metadata": {
        "colab": {
          "base_uri": "https://localhost:8080/"
        },
        "id": "ml5NMvH2Jvu4",
        "outputId": "803a901e-fd72-40df-878e-47dffbe64432"
      },
      "execution_count": null,
      "outputs": [
        {
          "output_type": "execute_result",
          "data": {
            "text/plain": [
              "(140698160188752, 140698160185872)"
            ]
          },
          "metadata": {},
          "execution_count": 67
        }
      ]
    },
    {
      "cell_type": "code",
      "source": [
        "[1, 2, 3] + [1, 2, 3] # 자주 사용합니다"
      ],
      "metadata": {
        "colab": {
          "base_uri": "https://localhost:8080/"
        },
        "id": "fyNIjy2iM_lr",
        "outputId": "97a0fe96-a5f5-4554-9c86-27e4703ce99f"
      },
      "execution_count": null,
      "outputs": [
        {
          "output_type": "execute_result",
          "data": {
            "text/plain": [
              "[1, 2, 3, 1, 2, 3]"
            ]
          },
          "metadata": {},
          "execution_count": 70
        }
      ]
    },
    {
      "cell_type": "code",
      "source": [
        "[1, 2, 3] + 1 #error"
      ],
      "metadata": {
        "id": "AmDELMmTNC90"
      },
      "execution_count": null,
      "outputs": []
    },
    {
      "cell_type": "code",
      "source": [
        "l = [10, 20, 30]\n",
        "type(l), dir(l), help(l)"
      ],
      "metadata": {
        "colab": {
          "base_uri": "https://localhost:8080/"
        },
        "id": "qM4sSgaKKDJI",
        "outputId": "766e61ad-6ee0-4e1b-c354-28eab5127c01"
      },
      "execution_count": null,
      "outputs": [
        {
          "output_type": "stream",
          "name": "stdout",
          "text": [
            "Help on list object:\n",
            "\n",
            "class list(object)\n",
            " |  list(iterable=(), /)\n",
            " |  \n",
            " |  Built-in mutable sequence.\n",
            " |  \n",
            " |  If no argument is given, the constructor creates a new empty list.\n",
            " |  The argument must be an iterable if specified.\n",
            " |  \n",
            " |  Methods defined here:\n",
            " |  \n",
            " |  __add__(self, value, /)\n",
            " |      Return self+value.\n",
            " |  \n",
            " |  __contains__(self, key, /)\n",
            " |      Return key in self.\n",
            " |  \n",
            " |  __delitem__(self, key, /)\n",
            " |      Delete self[key].\n",
            " |  \n",
            " |  __eq__(self, value, /)\n",
            " |      Return self==value.\n",
            " |  \n",
            " |  __ge__(self, value, /)\n",
            " |      Return self>=value.\n",
            " |  \n",
            " |  __getattribute__(self, name, /)\n",
            " |      Return getattr(self, name).\n",
            " |  \n",
            " |  __getitem__(...)\n",
            " |      x.__getitem__(y) <==> x[y]\n",
            " |  \n",
            " |  __gt__(self, value, /)\n",
            " |      Return self>value.\n",
            " |  \n",
            " |  __iadd__(self, value, /)\n",
            " |      Implement self+=value.\n",
            " |  \n",
            " |  __imul__(self, value, /)\n",
            " |      Implement self*=value.\n",
            " |  \n",
            " |  __init__(self, /, *args, **kwargs)\n",
            " |      Initialize self.  See help(type(self)) for accurate signature.\n",
            " |  \n",
            " |  __iter__(self, /)\n",
            " |      Implement iter(self).\n",
            " |  \n",
            " |  __le__(self, value, /)\n",
            " |      Return self<=value.\n",
            " |  \n",
            " |  __len__(self, /)\n",
            " |      Return len(self).\n",
            " |  \n",
            " |  __lt__(self, value, /)\n",
            " |      Return self<value.\n",
            " |  \n",
            " |  __mul__(self, value, /)\n",
            " |      Return self*value.\n",
            " |  \n",
            " |  __ne__(self, value, /)\n",
            " |      Return self!=value.\n",
            " |  \n",
            " |  __repr__(self, /)\n",
            " |      Return repr(self).\n",
            " |  \n",
            " |  __reversed__(self, /)\n",
            " |      Return a reverse iterator over the list.\n",
            " |  \n",
            " |  __rmul__(self, value, /)\n",
            " |      Return value*self.\n",
            " |  \n",
            " |  __setitem__(self, key, value, /)\n",
            " |      Set self[key] to value.\n",
            " |  \n",
            " |  __sizeof__(self, /)\n",
            " |      Return the size of the list in memory, in bytes.\n",
            " |  \n",
            " |  append(self, object, /)\n",
            " |      Append object to the end of the list.\n",
            " |  \n",
            " |  clear(self, /)\n",
            " |      Remove all items from list.\n",
            " |  \n",
            " |  copy(self, /)\n",
            " |      Return a shallow copy of the list.\n",
            " |  \n",
            " |  count(self, value, /)\n",
            " |      Return number of occurrences of value.\n",
            " |  \n",
            " |  extend(self, iterable, /)\n",
            " |      Extend list by appending elements from the iterable.\n",
            " |  \n",
            " |  index(self, value, start=0, stop=9223372036854775807, /)\n",
            " |      Return first index of value.\n",
            " |      \n",
            " |      Raises ValueError if the value is not present.\n",
            " |  \n",
            " |  insert(self, index, object, /)\n",
            " |      Insert object before index.\n",
            " |  \n",
            " |  pop(self, index=-1, /)\n",
            " |      Remove and return item at index (default last).\n",
            " |      \n",
            " |      Raises IndexError if list is empty or index is out of range.\n",
            " |  \n",
            " |  remove(self, value, /)\n",
            " |      Remove first occurrence of value.\n",
            " |      \n",
            " |      Raises ValueError if the value is not present.\n",
            " |  \n",
            " |  reverse(self, /)\n",
            " |      Reverse *IN PLACE*.\n",
            " |  \n",
            " |  sort(self, /, *, key=None, reverse=False)\n",
            " |      Sort the list in ascending order and return None.\n",
            " |      \n",
            " |      The sort is in-place (i.e. the list itself is modified) and stable (i.e. the\n",
            " |      order of two equal elements is maintained).\n",
            " |      \n",
            " |      If a key function is given, apply it once to each list item and sort them,\n",
            " |      ascending or descending, according to their function values.\n",
            " |      \n",
            " |      The reverse flag can be set to sort in descending order.\n",
            " |  \n",
            " |  ----------------------------------------------------------------------\n",
            " |  Class methods defined here:\n",
            " |  \n",
            " |  __class_getitem__(...) from builtins.type\n",
            " |      See PEP 585\n",
            " |  \n",
            " |  ----------------------------------------------------------------------\n",
            " |  Static methods defined here:\n",
            " |  \n",
            " |  __new__(*args, **kwargs) from builtins.type\n",
            " |      Create and return a new object.  See help(type) for accurate signature.\n",
            " |  \n",
            " |  ----------------------------------------------------------------------\n",
            " |  Data and other attributes defined here:\n",
            " |  \n",
            " |  __hash__ = None\n",
            "\n"
          ]
        },
        {
          "output_type": "execute_result",
          "data": {
            "text/plain": [
              "(list,\n",
              " ['__add__',\n",
              "  '__class__',\n",
              "  '__class_getitem__',\n",
              "  '__contains__',\n",
              "  '__delattr__',\n",
              "  '__delitem__',\n",
              "  '__dir__',\n",
              "  '__doc__',\n",
              "  '__eq__',\n",
              "  '__format__',\n",
              "  '__ge__',\n",
              "  '__getattribute__',\n",
              "  '__getitem__',\n",
              "  '__gt__',\n",
              "  '__hash__',\n",
              "  '__iadd__',\n",
              "  '__imul__',\n",
              "  '__init__',\n",
              "  '__init_subclass__',\n",
              "  '__iter__',\n",
              "  '__le__',\n",
              "  '__len__',\n",
              "  '__lt__',\n",
              "  '__mul__',\n",
              "  '__ne__',\n",
              "  '__new__',\n",
              "  '__reduce__',\n",
              "  '__reduce_ex__',\n",
              "  '__repr__',\n",
              "  '__reversed__',\n",
              "  '__rmul__',\n",
              "  '__setattr__',\n",
              "  '__setitem__',\n",
              "  '__sizeof__',\n",
              "  '__str__',\n",
              "  '__subclasshook__',\n",
              "  'append',\n",
              "  'clear',\n",
              "  'copy',\n",
              "  'count',\n",
              "  'extend',\n",
              "  'index',\n",
              "  'insert',\n",
              "  'pop',\n",
              "  'remove',\n",
              "  'reverse',\n",
              "  'sort'],\n",
              " None)"
            ]
          },
          "metadata": {},
          "execution_count": 68
        }
      ]
    },
    {
      "cell_type": "markdown",
      "source": [
        "## 리스트의 메서드"
      ],
      "metadata": {
        "id": "iPVD_H_2NU1n"
      }
    },
    {
      "cell_type": "code",
      "source": [
        "#'append', 'clear', 'copy', 'count', 'extend','index',\n",
        "#'insert','pop','remove','reverse','sort'"
      ],
      "metadata": {
        "id": "Mq2L_1F_KBuY"
      },
      "execution_count": null,
      "outputs": []
    },
    {
      "cell_type": "code",
      "source": [
        "l = [1, 2, 3]\n",
        "l.append(4)\n",
        "l"
      ],
      "metadata": {
        "colab": {
          "base_uri": "https://localhost:8080/"
        },
        "id": "E9jivddQNljr",
        "outputId": "3660b6f3-ebd5-4592-cf3c-62fd3e87a332"
      },
      "execution_count": null,
      "outputs": [
        {
          "output_type": "execute_result",
          "data": {
            "text/plain": [
              "[1, 2, 3, 4]"
            ]
          },
          "metadata": {},
          "execution_count": 73
        }
      ]
    },
    {
      "cell_type": "code",
      "source": [
        "l = [1, 2, 3]\n",
        "l.append([1, 2, 3])\n",
        "l"
      ],
      "metadata": {
        "colab": {
          "base_uri": "https://localhost:8080/"
        },
        "id": "YRG-lAP4Npnp",
        "outputId": "f30618eb-860b-4d2f-d810-74bf26a6ef4f"
      },
      "execution_count": null,
      "outputs": [
        {
          "output_type": "execute_result",
          "data": {
            "text/plain": [
              "[1, 2, 3, [1, 2, 3]]"
            ]
          },
          "metadata": {},
          "execution_count": 74
        }
      ]
    },
    {
      "cell_type": "code",
      "source": [
        "l = [1, 2, 3]\n",
        "l.extend('hello') \n",
        "l"
      ],
      "metadata": {
        "colab": {
          "base_uri": "https://localhost:8080/"
        },
        "id": "O2awNqcaNveA",
        "outputId": "3cf1f1bf-f752-4ba2-fd74-43f5845b1c88"
      },
      "execution_count": null,
      "outputs": [
        {
          "output_type": "execute_result",
          "data": {
            "text/plain": [
              "[1, 2, 3, 'h', 'e', 'l', 'l', 'o']"
            ]
          },
          "metadata": {},
          "execution_count": 77
        }
      ]
    },
    {
      "cell_type": "code",
      "source": [
        "l = [1, 2, 3]\n",
        "l.extend({'one':10, 'two':20}) \n",
        "l"
      ],
      "metadata": {
        "colab": {
          "base_uri": "https://localhost:8080/"
        },
        "id": "Qai13WADN2Ox",
        "outputId": "29e42470-e929-4dcb-d2e1-91f985cf806e"
      },
      "execution_count": null,
      "outputs": [
        {
          "output_type": "execute_result",
          "data": {
            "text/plain": [
              "[1, 2, 3, 'one', 'two']"
            ]
          },
          "metadata": {},
          "execution_count": 79
        }
      ]
    },
    {
      "cell_type": "code",
      "source": [
        "l = [1, 2, 3]\n",
        "l.extend({10, 20, 30}) \n",
        "l"
      ],
      "metadata": {
        "colab": {
          "base_uri": "https://localhost:8080/"
        },
        "id": "DL_mb066OWgq",
        "outputId": "aaf12777-ac27-46db-e758-9c58b54adce8"
      },
      "execution_count": null,
      "outputs": [
        {
          "output_type": "execute_result",
          "data": {
            "text/plain": [
              "[1, 2, 3, 10, 20, 30]"
            ]
          },
          "metadata": {},
          "execution_count": 81
        }
      ]
    },
    {
      "cell_type": "code",
      "source": [
        "l = [10, 20, 30]\n",
        "l.clear()\n",
        "l"
      ],
      "metadata": {
        "colab": {
          "base_uri": "https://localhost:8080/"
        },
        "id": "GxdxOWWAOylv",
        "outputId": "04cd47e4-8b25-497a-cf1a-25f713df2804"
      },
      "execution_count": null,
      "outputs": [
        {
          "output_type": "execute_result",
          "data": {
            "text/plain": [
              "[]"
            ]
          },
          "metadata": {},
          "execution_count": 84
        }
      ]
    },
    {
      "cell_type": "code",
      "source": [
        "제주과일가게 = [['바나나', 1000], ['수박', 2000], ['딸기', 3000]]\n",
        "서울과일가게 = 제주과일가게\n",
        "서울과일가게[0] = ['바나나', 2000]\n",
        "서울과일가게, 제주과일가게"
      ],
      "metadata": {
        "colab": {
          "base_uri": "https://localhost:8080/"
        },
        "id": "mYU1p1f1PIb5",
        "outputId": "b8cd5be6-ae25-4fcc-9ddb-215d63ce92d9"
      },
      "execution_count": null,
      "outputs": [
        {
          "output_type": "execute_result",
          "data": {
            "text/plain": [
              "([['바나나', 2000], ['수박', 200], ['딸기', 3000]],\n",
              " [['바나나', 2000], ['수박', 200], ['딸기', 3000]])"
            ]
          },
          "metadata": {},
          "execution_count": 85
        }
      ]
    },
    {
      "cell_type": "code",
      "source": [
        "제주과일가게 = [['바나나', 1000], ['수박', 2000], ['딸기', 3000]]\n",
        "서울과일가게 = 제주과일가게.copy() # 얕은 복사\n",
        "서울과일가게[0] = ['바나나', 2000]\n",
        "서울과일가게, 제주과일가게"
      ],
      "metadata": {
        "colab": {
          "base_uri": "https://localhost:8080/"
        },
        "id": "o0AtYJ3VPydA",
        "outputId": "0dd5bf09-5e3d-46ac-e309-cbf0386a510f"
      },
      "execution_count": null,
      "outputs": [
        {
          "output_type": "execute_result",
          "data": {
            "text/plain": [
              "([['바나나', 2000], ['수박', 2000], ['딸기', 3000]],\n",
              " [['바나나', 1000], ['수박', 2000], ['딸기', 3000]])"
            ]
          },
          "metadata": {},
          "execution_count": 87
        }
      ]
    },
    {
      "cell_type": "code",
      "source": [
        "s = 'hello world'\n",
        "s[:5]"
      ],
      "metadata": {
        "colab": {
          "base_uri": "https://localhost:8080/",
          "height": 35
        },
        "id": "LSnv-iZwQYZT",
        "outputId": "1aca7ee8-6ee0-45e1-ceec-d0cfbe86ecb4"
      },
      "execution_count": null,
      "outputs": [
        {
          "output_type": "execute_result",
          "data": {
            "text/plain": [
              "'hello'"
            ],
            "application/vnd.google.colaboratory.intrinsic+json": {
              "type": "string"
            }
          },
          "metadata": {},
          "execution_count": 88
        }
      ]
    },
    {
      "cell_type": "code",
      "source": [
        "l = [10, 20, 30, 40, 50]\n",
        "l[:3]\n",
        "ll = l[:]\n",
        "ll"
      ],
      "metadata": {
        "colab": {
          "base_uri": "https://localhost:8080/"
        },
        "id": "LvB6Kt3LQbk2",
        "outputId": "9735fb30-9241-409a-f60e-a1777857e5b7"
      },
      "execution_count": null,
      "outputs": [
        {
          "output_type": "execute_result",
          "data": {
            "text/plain": [
              "[10, 20, 30, 40, 50]"
            ]
          },
          "metadata": {},
          "execution_count": 89
        }
      ]
    },
    {
      "cell_type": "code",
      "source": [
        "id(l), id(ll)"
      ],
      "metadata": {
        "colab": {
          "base_uri": "https://localhost:8080/"
        },
        "id": "zXUzJIFaQjkN",
        "outputId": "541a45d1-a056-4881-b808-a941d5b2c8d7"
      },
      "execution_count": null,
      "outputs": [
        {
          "output_type": "execute_result",
          "data": {
            "text/plain": [
              "(140696910550528, 140696910555520)"
            ]
          },
          "metadata": {},
          "execution_count": 90
        }
      ]
    },
    {
      "cell_type": "code",
      "source": [
        "l = [1, 2, 3]\n",
        "ll = l[:]\n",
        "l[0] = 1000\n",
        "l, ll"
      ],
      "metadata": {
        "colab": {
          "base_uri": "https://localhost:8080/"
        },
        "id": "gEZQa2TVRYKm",
        "outputId": "05cdf608-c6ec-41ee-fb10-d93b6224a8b1"
      },
      "execution_count": null,
      "outputs": [
        {
          "output_type": "execute_result",
          "data": {
            "text/plain": [
              "([1000, 2, 3], [1, 2, 3])"
            ]
          },
          "metadata": {},
          "execution_count": 91
        }
      ]
    },
    {
      "cell_type": "code",
      "source": [
        "l = [1, 2, 3]\n",
        "ll = l.copy()\n",
        "l[0] = 1000\n",
        "l, ll"
      ],
      "metadata": {
        "colab": {
          "base_uri": "https://localhost:8080/"
        },
        "id": "cQPyT2hfRfub",
        "outputId": "1b5d1439-a638-42d8-ce34-00bb8581ddc4"
      },
      "execution_count": null,
      "outputs": [
        {
          "output_type": "execute_result",
          "data": {
            "text/plain": [
              "([1000, 2, 3], [1, 2, 3])"
            ]
          },
          "metadata": {},
          "execution_count": 92
        }
      ]
    },
    {
      "cell_type": "code",
      "source": [
        "l = [1, 2, 3, 1, 1, 1, 2, 3, 2, 3, 1, 1]\n",
        "l. count(1)"
      ],
      "metadata": {
        "colab": {
          "base_uri": "https://localhost:8080/"
        },
        "id": "ImwSEnKlSIrI",
        "outputId": "3519698e-aa7a-4b44-a049-e92b15ecc0d7"
      },
      "execution_count": null,
      "outputs": [
        {
          "output_type": "execute_result",
          "data": {
            "text/plain": [
              "6"
            ]
          },
          "metadata": {},
          "execution_count": 93
        }
      ]
    },
    {
      "cell_type": "code",
      "source": [
        "l = [10, 20, 30, 40, 50]\n",
        "l.pop(0) # 많이 사용합니다.\n",
        "l"
      ],
      "metadata": {
        "colab": {
          "base_uri": "https://localhost:8080/"
        },
        "id": "vrC5AkzBT-Bg",
        "outputId": "5df3b3ee-cca2-4213-c529-ee35c3a4321c"
      },
      "execution_count": null,
      "outputs": [
        {
          "output_type": "execute_result",
          "data": {
            "text/plain": [
              "[20, 30, 40, 50]"
            ]
          },
          "metadata": {},
          "execution_count": 95
        }
      ]
    },
    {
      "cell_type": "code",
      "source": [
        "# append : 맨 뒤에 추가\n",
        "# pop : 맨 뒤에서 값을 뽑아내고, index가 들어갈 경우 index에서 뽑습니다.\n",
        "# insert : index에 값을 삽입하고 원래 있던 값을 뒤로 밀어버립니다."
      ],
      "metadata": {
        "id": "i9LPjSIxUCaS"
      },
      "execution_count": null,
      "outputs": []
    },
    {
      "cell_type": "code",
      "source": [
        "l = [10, 20, 30, 40, 50]\n",
        "l.remove(20) # 예를 들어 for를 돌면서 remove를 하지 않기 바랍니다.\n",
        "l"
      ],
      "metadata": {
        "colab": {
          "base_uri": "https://localhost:8080/"
        },
        "id": "j2aOrpPrUPgG",
        "outputId": "64405551-5da8-4079-ae87-ad1e7bb32fc5"
      },
      "execution_count": null,
      "outputs": [
        {
          "output_type": "execute_result",
          "data": {
            "text/plain": [
              "[10, 30, 40, 50]"
            ]
          },
          "metadata": {},
          "execution_count": 96
        }
      ]
    },
    {
      "cell_type": "code",
      "source": [
        "l = [20, 20, 20, 20]\n",
        "for i in range(len(l)):\n",
        "    print(len(l)) # len가 계속 변하기 때문에 의도치 않은 에러가 날 수 있어요.\n",
        "    l.remove(20)"
      ],
      "metadata": {
        "colab": {
          "base_uri": "https://localhost:8080/"
        },
        "id": "siegF3kdU7IC",
        "outputId": "be0d52ea-176f-4551-a27d-8fa87cfa4eb8"
      },
      "execution_count": null,
      "outputs": [
        {
          "output_type": "stream",
          "name": "stdout",
          "text": [
            "4\n",
            "3\n",
            "2\n",
            "1\n"
          ]
        }
      ]
    },
    {
      "cell_type": "code",
      "source": [
        "# 무한 반복입니다.\n",
        "l = [20, 20, 20, 20]\n",
        "for i in l:\n",
        "    print(len(l))\n",
        "    l.append(20)"
      ],
      "metadata": {
        "id": "bY9pV1wQVsoh"
      },
      "execution_count": null,
      "outputs": []
    },
    {
      "cell_type": "code",
      "source": [
        "l = [10, 20, 30, 40, 50, 20, 20, 20]\n",
        "for i in range(l.count(20)):\n",
        "    l.remove(20)\n",
        "l"
      ],
      "metadata": {
        "colab": {
          "base_uri": "https://localhost:8080/"
        },
        "id": "EyEwn2VcFZKp",
        "outputId": "5a8814a0-827e-4f0b-f2ba-b2c928165ee3"
      },
      "execution_count": null,
      "outputs": [
        {
          "output_type": "execute_result",
          "data": {
            "text/plain": [
              "[10, 30, 40, 50]"
            ]
          },
          "metadata": {},
          "execution_count": 2
        }
      ]
    },
    {
      "cell_type": "code",
      "source": [
        "# 실무에서 \n",
        "# 어떤 값을 전부 없애거나\n",
        "# 어떤 값을 전부 찾는것\n",
        "# 조건에 부합하는 것\n",
        "def f(x):\n",
        "    return x !=20\n",
        "\n",
        "# True인 것만 반환해줍니다.\n",
        "    \n",
        "list(filter(f,[10, 20, 30, 40, 50, 20, 20, 20]))"
      ],
      "metadata": {
        "colab": {
          "base_uri": "https://localhost:8080/"
        },
        "id": "YbpAjMsnF2xR",
        "outputId": "637579a5-665a-49e4-aa4f-7cc76958571d"
      },
      "execution_count": null,
      "outputs": [
        {
          "output_type": "execute_result",
          "data": {
            "text/plain": [
              "[10, 30, 40, 50]"
            ]
          },
          "metadata": {},
          "execution_count": 5
        }
      ]
    },
    {
      "cell_type": "code",
      "source": [
        "(filter(f,[10, 20, 30, 40, 50, 20, 20, 20]))"
      ],
      "metadata": {
        "colab": {
          "base_uri": "https://localhost:8080/"
        },
        "id": "8dSFsvMoGu4a",
        "outputId": "e8e28805-98eb-476a-aa6b-5f1b6007764c"
      },
      "execution_count": null,
      "outputs": [
        {
          "output_type": "execute_result",
          "data": {
            "text/plain": [
              "<filter at 0x7f40e1999930>"
            ]
          },
          "metadata": {},
          "execution_count": 6
        }
      ]
    },
    {
      "cell_type": "code",
      "source": [
        "range(100)"
      ],
      "metadata": {
        "colab": {
          "base_uri": "https://localhost:8080/"
        },
        "id": "GG2_tdCdGv6L",
        "outputId": "b61995ea-a734-40d1-8f6e-d0c17166d244"
      },
      "execution_count": null,
      "outputs": [
        {
          "output_type": "execute_result",
          "data": {
            "text/plain": [
              "range(0, 100)"
            ]
          },
          "metadata": {},
          "execution_count": 8
        }
      ]
    },
    {
      "cell_type": "code",
      "source": [
        "for i in filter(f,[10, 20, 30, 40, 50, 20, 20, 20]):\n",
        "    print(i)"
      ],
      "metadata": {
        "id": "KJugVnmvHDna"
      },
      "execution_count": null,
      "outputs": []
    },
    {
      "cell_type": "code",
      "source": [
        "list(filter(lambda x: x!=20,[10, 20, 30, 40, 50, 20, 20, 20]))"
      ],
      "metadata": {
        "colab": {
          "base_uri": "https://localhost:8080/"
        },
        "id": "rkyaOMWLHYJF",
        "outputId": "1c116a76-dc11-4294-bdf5-7ee482009efd"
      },
      "execution_count": null,
      "outputs": [
        {
          "output_type": "execute_result",
          "data": {
            "text/plain": [
              "[10, 30, 40, 50]"
            ]
          },
          "metadata": {},
          "execution_count": 9
        }
      ]
    },
    {
      "cell_type": "code",
      "source": [
        "l = [5, 6, 4, 3, 8, 9, 1]\n",
        "l.reverse() # 역 정렬이 아니고 역순이며 원본을 만집니다.\n",
        "l"
      ],
      "metadata": {
        "colab": {
          "base_uri": "https://localhost:8080/"
        },
        "id": "TmCKzkcgWJLK",
        "outputId": "63d66fd6-ce14-402b-fed7-89a7cbea9246"
      },
      "execution_count": null,
      "outputs": [
        {
          "output_type": "execute_result",
          "data": {
            "text/plain": [
              "[1, 9, 8, 3, 4, 6, 5]"
            ]
          },
          "metadata": {},
          "execution_count": 99
        }
      ]
    },
    {
      "cell_type": "code",
      "source": [
        "l = [5, 6, 4, 3, 8, 9, 1]\n",
        "print(list(reversed(l))) # 역 정렬이 아니고 역순이며 원본을 만지지 않습니다.\n",
        "print(l)"
      ],
      "metadata": {
        "colab": {
          "base_uri": "https://localhost:8080/"
        },
        "id": "iVS1L7m8WOgz",
        "outputId": "079bdaf1-cf4a-482a-c342-caa1d12350f6"
      },
      "execution_count": null,
      "outputs": [
        {
          "output_type": "stream",
          "name": "stdout",
          "text": [
            "[1, 9, 8, 3, 4, 6, 5]\n",
            "[5, 6, 4, 3, 8, 9, 1]\n"
          ]
        }
      ]
    },
    {
      "cell_type": "code",
      "source": [
        "# l.reverse() : 리스트에 메서드 이며, return None입니다! 역순, 원본을 만집니다.\n",
        "# reversed() : 빌트인펑션이며, return 역순 입니다! 원본을 만지지 않습니다."
      ],
      "metadata": {
        "id": "SquamTg7WgE3"
      },
      "execution_count": null,
      "outputs": []
    },
    {
      "cell_type": "code",
      "source": [
        "reversed(l)"
      ],
      "metadata": {
        "colab": {
          "base_uri": "https://localhost:8080/",
          "height": 174
        },
        "id": "noVUBCgsHzRU",
        "outputId": "568cbe74-4921-43c7-90a5-d6d7091e8900"
      },
      "execution_count": null,
      "outputs": [
        {
          "output_type": "error",
          "ename": "NameError",
          "evalue": "ignored",
          "traceback": [
            "\u001b[0;31m---------------------------------------------------------------------------\u001b[0m",
            "\u001b[0;31mNameError\u001b[0m                                 Traceback (most recent call last)",
            "\u001b[0;32m<ipython-input-10-cec9bfda69e0>\u001b[0m in \u001b[0;36m<cell line: 1>\u001b[0;34m()\u001b[0m\n\u001b[0;32m----> 1\u001b[0;31m \u001b[0mreversed\u001b[0m\u001b[0;34m(\u001b[0m\u001b[0ml0\u001b[0m\u001b[0;34m)\u001b[0m\u001b[0;34m\u001b[0m\u001b[0;34m\u001b[0m\u001b[0m\n\u001b[0m",
            "\u001b[0;31mNameError\u001b[0m: name 'l0' is not defined"
          ]
        }
      ]
    },
    {
      "cell_type": "code",
      "source": [
        "print(type(range(10)))"
      ],
      "metadata": {
        "colab": {
          "base_uri": "https://localhost:8080/"
        },
        "id": "FaMyi8euH1TC",
        "outputId": "bf654b5c-102d-4342-c010-767494337912"
      },
      "execution_count": null,
      "outputs": [
        {
          "output_type": "stream",
          "name": "stdout",
          "text": [
            "<class 'range'>\n"
          ]
        }
      ]
    },
    {
      "cell_type": "markdown",
      "source": [
        "## sort"
      ],
      "metadata": {
        "id": "8pP_88NmH64a"
      }
    },
    {
      "cell_type": "code",
      "source": [
        "l = [1, 5, 4, 2, 8, 5, 10, 9, 2, 3]\n",
        "l.sort() # 원본을 만지고, 반환값은 None\n",
        "l"
      ],
      "metadata": {
        "colab": {
          "base_uri": "https://localhost:8080/"
        },
        "id": "IbBJ34L2H8bG",
        "outputId": "f50fde9d-5b2b-4933-a417-ef16fabfa867"
      },
      "execution_count": null,
      "outputs": [
        {
          "output_type": "execute_result",
          "data": {
            "text/plain": [
              "[1, 2, 2, 3, 4, 5, 5, 8, 9, 10]"
            ]
          },
          "metadata": {},
          "execution_count": 13
        }
      ]
    },
    {
      "cell_type": "code",
      "source": [
        "l= [1, 5, 4, 2, 8, 5, 10, 9, 2, 3]\n",
        "print(sorted([1, 5, 4, 2, 8, 5, 10, 9, 2, 3]))\n",
        "# 원본을 만지지 않고, 반환값은 정렬된 값\n",
        "print(l)"
      ],
      "metadata": {
        "colab": {
          "base_uri": "https://localhost:8080/"
        },
        "id": "WM8s9u67IdtE",
        "outputId": "c04ba53a-ba24-43cf-f551-5de0aff92b06"
      },
      "execution_count": null,
      "outputs": [
        {
          "output_type": "stream",
          "name": "stdout",
          "text": [
            "[1, 2, 2, 3, 4, 5, 5, 8, 9, 10]\n",
            "[1, 5, 4, 2, 8, 5, 10, 9, 2, 3]\n"
          ]
        }
      ]
    },
    {
      "cell_type": "code",
      "source": [
        "# 이렇게 실무에서 진행하진 않습니다.\n",
        "l= [1, 5, 4, 2, 8, 5, 10, 9, 2, 3]\n",
        "l.sort()\n",
        "l.reverse()\n",
        "l"
      ],
      "metadata": {
        "colab": {
          "base_uri": "https://localhost:8080/"
        },
        "id": "ASfpJnTgIzez",
        "outputId": "94b1babc-6fd3-4192-82e7-99b8b03d759e"
      },
      "execution_count": null,
      "outputs": [
        {
          "output_type": "execute_result",
          "data": {
            "text/plain": [
              "[10, 9, 8, 5, 5, 4, 3, 2, 2, 1]"
            ]
          },
          "metadata": {},
          "execution_count": 16
        }
      ]
    },
    {
      "cell_type": "code",
      "source": [
        "# 이렇게 많이 사용합니다.\n",
        "l= [1, 5, 4, 2, 8, 5, 10, 9, 2, 3]\n",
        "l.sort(reverse=True) # 내림차순\n",
        "l"
      ],
      "metadata": {
        "colab": {
          "base_uri": "https://localhost:8080/"
        },
        "id": "mtbtOcMjI6Fa",
        "outputId": "261c77ce-c344-4918-a85d-71583288800c"
      },
      "execution_count": null,
      "outputs": [
        {
          "output_type": "execute_result",
          "data": {
            "text/plain": [
              "[10, 9, 8, 5, 5, 4, 3, 2, 2, 1]"
            ]
          },
          "metadata": {},
          "execution_count": 18
        }
      ]
    },
    {
      "cell_type": "code",
      "source": [
        "l= [1, 5, 4, 2, 8, 5, 10, 9, 2, 3]\n",
        "sorted(l, reverse=True) # 내림차순"
      ],
      "metadata": {
        "id": "vpV9u5woJH5R"
      },
      "execution_count": null,
      "outputs": []
    },
    {
      "cell_type": "code",
      "source": [
        "l = [[1, 10, 'leehojun'], \n",
        "     [20, 30, 'hojun'], \n",
        "     [10, 20, 'weniv!'], \n",
        "     [1, 2, 'hello world'], \n",
        "     [55, 11, 'sun']]\n",
        "\n",
        "# 1. 글자 수 대로 정렬해주세요.\n",
        "def f(x):\n",
        "    return len(x[2])\n",
        "\n",
        "\n",
        "print(sorted(l, key=f, reverse=False))\n",
        "print(sorted(l, key=lambda x:len(x[2]), reverse=False))\n",
        "\n",
        "\n",
        "# 2. 맨 앞에 위치한 숫자대로 정렬해주세요.\n",
        "def f2(x):\n",
        "    return x[0]\n",
        "\n",
        "print(sorted(l))\n",
        "print(sorted(l, key=f2))\n",
        "print(sorted(l, key=lambda x:x[0]))\n",
        "\n",
        "# 3. 중앙에 위치한 값대로 정렬해주세요.\n",
        "def f3(x):\n",
        "    return x[1]\n",
        "\n",
        "print(sorted(l))\n",
        "print(sorted(l, key=f3))\n",
        "print(sorted(l, key=lambda x:x[1]))\n",
        "\n",
        "l = [[1, 10, 32], \n",
        "     [20, 30, 11], \n",
        "     [10, 20, 22], \n",
        "     [1, 2, 13], \n",
        "     [55, 11, 44]]\n",
        "\n",
        "\n",
        "# 4. 3개의 전체 합이 작은 순서대로 출력해주세요.\n",
        "\n",
        "def f4(x):\n",
        "    return x[0] + x[1]+ x[2]\n",
        "\n",
        "def f5(x):\n",
        "    return sum(x)\n",
        "\n",
        "print(sorted(l, key=f4))\n",
        "print(sorted(l, key=f5))\n",
        "print(sorted(l, key=lambda x: sum(x)))\n",
        "print(sorted(l, key=sum))\n"
      ],
      "metadata": {
        "colab": {
          "base_uri": "https://localhost:8080/"
        },
        "id": "IOUcvLdcJaZV",
        "outputId": "9e54bc93-27c9-421f-ea13-d5021af5518a"
      },
      "execution_count": null,
      "outputs": [
        {
          "output_type": "stream",
          "name": "stdout",
          "text": [
            "[[55, 11, 'sun'], [20, 30, 'hojun'], [10, 20, 'weniv!'], [1, 10, 'leehojun'], [1, 2, 'hello world']]\n",
            "[[55, 11, 'sun'], [20, 30, 'hojun'], [10, 20, 'weniv!'], [1, 10, 'leehojun'], [1, 2, 'hello world']]\n",
            "[[1, 2, 'hello world'], [1, 10, 'leehojun'], [10, 20, 'weniv!'], [20, 30, 'hojun'], [55, 11, 'sun']]\n",
            "[[1, 10, 'leehojun'], [1, 2, 'hello world'], [10, 20, 'weniv!'], [20, 30, 'hojun'], [55, 11, 'sun']]\n",
            "[[1, 10, 'leehojun'], [1, 2, 'hello world'], [10, 20, 'weniv!'], [20, 30, 'hojun'], [55, 11, 'sun']]\n",
            "[[1, 2, 'hello world'], [1, 10, 'leehojun'], [10, 20, 'weniv!'], [20, 30, 'hojun'], [55, 11, 'sun']]\n",
            "[[1, 2, 'hello world'], [1, 10, 'leehojun'], [55, 11, 'sun'], [10, 20, 'weniv!'], [20, 30, 'hojun']]\n",
            "[[1, 2, 'hello world'], [1, 10, 'leehojun'], [55, 11, 'sun'], [10, 20, 'weniv!'], [20, 30, 'hojun']]\n",
            "[[1, 2, 13], [1, 10, 32], [10, 20, 22], [20, 30, 11], [55, 11, 44]]\n",
            "[[1, 2, 13], [1, 10, 32], [10, 20, 22], [20, 30, 11], [55, 11, 44]]\n",
            "[[1, 2, 13], [1, 10, 32], [10, 20, 22], [20, 30, 11], [55, 11, 44]]\n",
            "[[1, 2, 13], [1, 10, 32], [10, 20, 22], [20, 30, 11], [55, 11, 44]]\n"
          ]
        }
      ]
    },
    {
      "cell_type": "code",
      "source": [
        "# https://codingdojang.com/scode/408?answer_mode=hide\n",
        "# 좌표 평면 문제가 나오면 차원 축소나 차원 확대가 가능한 문제인지 확인\n",
        "\n",
        "point = [1, 3, 4, 8, 13, 17, 20]\n",
        "point[1:]\n",
        "\n",
        "[1, 3, 4, 8, 13, 17, 20]\n",
        "[3, 4, 8, 13, 17, 20]"
      ],
      "metadata": {
        "colab": {
          "base_uri": "https://localhost:8080/"
        },
        "id": "zYiiSn3tNwig",
        "outputId": "3a46410a-089d-4863-b32a-5ff795065bba"
      },
      "execution_count": null,
      "outputs": [
        {
          "output_type": "execute_result",
          "data": {
            "text/plain": [
              "[3, 4, 8, 13, 17, 20]"
            ]
          },
          "metadata": {},
          "execution_count": 34
        }
      ]
    },
    {
      "cell_type": "code",
      "source": [
        "list(zip('hello', 'world'))"
      ],
      "metadata": {
        "colab": {
          "base_uri": "https://localhost:8080/"
        },
        "id": "XecVRTdSOaiU",
        "outputId": "9dd73d3d-bede-4aaf-cd7f-f570437f3af5"
      },
      "execution_count": null,
      "outputs": [
        {
          "output_type": "execute_result",
          "data": {
            "text/plain": [
              "[('h', 'w'), ('e', 'o'), ('l', 'r'), ('l', 'l'), ('o', 'd')]"
            ]
          },
          "metadata": {},
          "execution_count": 35
        }
      ]
    },
    {
      "cell_type": "code",
      "source": [
        "list(zip(point, point[1:]))"
      ],
      "metadata": {
        "colab": {
          "base_uri": "https://localhost:8080/"
        },
        "id": "bZ-sPkpIOkwS",
        "outputId": "0ed13287-7a0e-4201-93fc-909f1871818d"
      },
      "execution_count": null,
      "outputs": [
        {
          "output_type": "execute_result",
          "data": {
            "text/plain": [
              "[(1, 3), (3, 4), (4, 8), (8, 13), (13, 17), (17, 20)]"
            ]
          },
          "metadata": {},
          "execution_count": 38
        }
      ]
    },
    {
      "cell_type": "code",
      "source": [
        "def f(x):\n",
        "    return x[1] - x[0]\n",
        "\n",
        "sorted(zip(point, point[1:]), key=f)[0]\n"
      ],
      "metadata": {
        "colab": {
          "base_uri": "https://localhost:8080/"
        },
        "id": "VATCxiBOOwTz",
        "outputId": "6ff3cc70-1497-4242-cc97-30bca13c6811"
      },
      "execution_count": null,
      "outputs": [
        {
          "output_type": "execute_result",
          "data": {
            "text/plain": [
              "(3, 4)"
            ]
          },
          "metadata": {},
          "execution_count": 40
        }
      ]
    },
    {
      "cell_type": "code",
      "source": [
        "sorted(zip(point, point[1:]), key=lambda x:x[1]-x[0])[0]"
      ],
      "metadata": {
        "colab": {
          "base_uri": "https://localhost:8080/"
        },
        "id": "6dtWACrkSAOV",
        "outputId": "19a75436-73e7-4171-a1f2-dbfd7562cb0a"
      },
      "execution_count": null,
      "outputs": [
        {
          "output_type": "execute_result",
          "data": {
            "text/plain": [
              "(3, 4)"
            ]
          },
          "metadata": {},
          "execution_count": 41
        }
      ]
    },
    {
      "cell_type": "code",
      "source": [
        "# https://school.programmers.co.kr/learn/courses/30/lessons/120835\n",
        "# 응급도\n",
        "# [3, 76, 24]\n",
        "# 우선순위\n",
        "# [3, 1, 2]\n",
        "\n",
        "l = [3, 79, 24]\n",
        "정렬된값 = sorted(l, reverse=True)\n",
        "정렬된값 #[76, 24, 3]\n",
        "# 우리가 원하는 값 [2, 0, 1]\n",
        "\n",
        "결과값 = [ \n",
        "            정렬된 값.index(l[0]),\n",
        "            정렬된 값.index(l[1]),\n",
        "            정렬된 값.index(l[2]),\n",
        "        ]"
      ],
      "metadata": {
        "colab": {
          "base_uri": "https://localhost:8080/",
          "height": 137
        },
        "id": "mOJAyOVTUaYf",
        "outputId": "7b02c8fb-ff2a-4032-f91c-ccfc7e55b817"
      },
      "execution_count": null,
      "outputs": [
        {
          "output_type": "error",
          "ename": "SyntaxError",
          "evalue": "ignored",
          "traceback": [
            "\u001b[0;36m  File \u001b[0;32m\"<ipython-input-45-fbe385abfa48>\"\u001b[0;36m, line \u001b[0;32m13\u001b[0m\n\u001b[0;31m    정렬된 값.index(l[0]),\u001b[0m\n\u001b[0m    ^\u001b[0m\n\u001b[0;31mSyntaxError\u001b[0m\u001b[0;31m:\u001b[0m invalid syntax. Perhaps you forgot a comma?\n"
          ]
        }
      ]
    },
    {
      "cell_type": "code",
      "source": [
        "# https://school.programmers.co.kr/learn/courses/30/lessons/120835\n",
        "# 응급도\n",
        "# [3, 76, 24]\n",
        "# 우선순위\n",
        "# [3, 1, 2]\n",
        "\n",
        "l = [3, 76, 24]\n",
        "정렬된값 = sorted(l, reverse=True)\n",
        "정렬된값 # [76, 24, 3]\n",
        "# 우리가 원하는 값 [2, 0, 1]\n",
        "\n",
        "결과값 = [\n",
        "            정렬된값.index(l[0]), \n",
        "            정렬된값.index(l[1]), \n",
        "            정렬된값.index(l[2])\n",
        "        ]\n",
        "결과값"
      ],
      "metadata": {
        "colab": {
          "base_uri": "https://localhost:8080/"
        },
        "id": "8lfavObJWaDZ",
        "outputId": "e614ad0d-b928-4404-8c8d-71cc15913800"
      },
      "execution_count": null,
      "outputs": [
        {
          "output_type": "execute_result",
          "data": {
            "text/plain": [
              "[2, 0, 1]"
            ]
          },
          "metadata": {},
          "execution_count": 46
        }
      ]
    },
    {
      "cell_type": "markdown",
      "source": [],
      "metadata": {
        "id": "U8xoradX78Ku"
      }
    },
    {
      "cell_type": "markdown",
      "source": [],
      "metadata": {
        "id": "mdVFK3njWjaX"
      }
    },
    {
      "cell_type": "code",
      "source": [],
      "metadata": {
        "id": "fF1ta7PUIAsU"
      },
      "execution_count": null,
      "outputs": []
    },
    {
      "cell_type": "markdown",
      "source": [
        "## !! 오늘 배운 것 정리\n",
        "\n",
        "1. 함수\n",
        "    1. 코드 덩어리(정말 쉽게 설명하면)\n",
        "    2. 코드를 재사용 할 수 있으며, 실수를 줄일 수 있습니다.\n",
        "    3. 코드의 구조를 한 눈에 파악할 수 있습니다.\n",
        "    4. 형태\n",
        "        ```python\n",
        "        # 파선아실(파라미터는 선언할 때, 아규먼트는 실제)\n",
        "        def function(x, y):\n",
        "            z = x + y\n",
        "            return z\n",
        "        print(f'function(5, 7) = {function(5, 7)}')\n",
        "        ```\n",
        "    5. 함수 안에 함수와 함수 안에 변수는 밖에서 접근이 불가합니다.\n",
        "    6. 지역 변수와 전역 변수\n",
        "        * 전역변수 : 전역에서 접근할 수 있는 변수\n",
        "        * 지역변수 : 함수 내에서만 접근할 수 있는 변수\n",
        "        ```python\n",
        "        # 전역변수는 각 함수에서 접근은 가능하지만 수정이 되진 않습니다.\n",
        "        # only read\n",
        "        # global이라는 키워드로 밖에 있는 변수를 수정할 수도 있지만 권하지 않습니다.\n",
        "        # 권하지 않기에 요약자료에도 없습니다.\n",
        "        a = 100\n",
        "        def f():\n",
        "            a = a + 1\n",
        "        f()\n",
        "        ```\n",
        "    7. 재귀함수\n",
        "        * 내가 나를 호출하는 것입니다.\n",
        "        * 재귀 <-> for문은 대부분 호환이 가능합니다.\n",
        "        * 반복문 사용하시기를 권합니다!\n",
        "        * 어렵고 효율도 안좋아요! (얼마나 효율이 안좋은지도 확인해보겠습니다.)\n",
        "        * 필수적으로 사용하는 곳이 있습니다.\n",
        "        ```python\n",
        "        def f(n):\n",
        "            if n <= 1:\n",
        "                return 1\n",
        "            else:\n",
        "                return n * f(n-1)\n",
        "\n",
        "        f(5)\n",
        "        ```\n",
        "2. list (리스트)\n",
        "    * 순서를 가진 데이터들의 집합(Sequence)\n",
        "    * 리스트는 값의 변경\n",
        "    * 리스트 안에 리스트로 다차원의 리스트를 만드는 것도 가능\n",
        "    * 리스트 안에 다른 딕셔너리, 셋, 튜플 등을 넣는 것도 가능합니다\n",
        "    ```python\n",
        "    l = [10, 20, 30, 40]\n",
        "    print(l[0]) # 순서로 값 호출\n",
        "    l[0] = 1000 # 값의 변경 가능\n",
        "    print(l)\n",
        "\n",
        "    data = [[1, 2, 3], # 다차원 배열\n",
        "        [4, 5, 6],\n",
        "        [7, 8, 9]]\n",
        "\n",
        "    print(data)\n",
        "    ```\n",
        "    * 리스트 메서드\n",
        "        * append : 맨 뒤에 값 추가\n",
        "        * clear : 모든 값 지우기\n",
        "        * copy : 얕은 복사\n",
        "        * count : 갯수 세기\n",
        "        * extend : 확장하기(뒤에 순회 가능한 객체가 들어오면 순차적으로 추가)\n",
        "        * index : 위치 찾기\n",
        "        * insert : 삽입하기\n",
        "        * pop: 맨 뒤에서 값 꺼내기(index가 들어오면 index에서 값 꺼냄)\n",
        "        * remove : 값 지우기\n",
        "        * reverse : 역순\n",
        "        * sort : 정렬"
      ],
      "metadata": {
        "id": "3sc9Hc6L1AJS"
      }
    },
    {
      "cell_type": "markdown",
      "source": [
        "## 깊은 복사와 얕은 복사"
      ],
      "metadata": {
        "id": "aPehJSNEWlN1"
      }
    },
    {
      "cell_type": "code",
      "source": [
        "# 아무런 복사도 이뤄지지 않은 상태\n",
        "l = [[1, 2, 3], [4, 5, 6]]\n",
        "ll = l\n",
        "ll[0][0] = 10\n",
        "l, ll"
      ],
      "metadata": {
        "colab": {
          "base_uri": "https://localhost:8080/"
        },
        "id": "zI3r8qiDWmyt",
        "outputId": "355e27c1-6a4a-46b0-9f4f-c3ea8e76cb22"
      },
      "execution_count": null,
      "outputs": [
        {
          "output_type": "execute_result",
          "data": {
            "text/plain": [
              "([[10, 2, 3], [4, 5, 6]], [[10, 2, 3], [4, 5, 6]])"
            ]
          },
          "metadata": {},
          "execution_count": 47
        }
      ]
    },
    {
      "cell_type": "code",
      "source": [
        "# 얕은 복사\n",
        "l = [1, 2, 3, 4, 5, 6]\n",
        "ll = l.copy()\n",
        "ll[0] = 10\n",
        "l, ll"
      ],
      "metadata": {
        "colab": {
          "base_uri": "https://localhost:8080/"
        },
        "id": "-QbCzk5PW1dR",
        "outputId": "7056fd8e-01a3-4ffe-ea0a-5c69544d2dfc"
      },
      "execution_count": null,
      "outputs": [
        {
          "output_type": "execute_result",
          "data": {
            "text/plain": [
              "([1, 2, 3, 4, 5, 6], [10, 2, 3, 4, 5, 6])"
            ]
          },
          "metadata": {},
          "execution_count": 48
        }
      ]
    },
    {
      "cell_type": "code",
      "source": [
        "# 얕은 복사\n",
        "l = [1, 2, 3, 4, 5, 6]\n",
        "ll = l.copy()\n",
        "id(l[0]), id(ll[0]) # 같은 값이 나오니까 같은 객체를 가리키고 있다?"
      ],
      "metadata": {
        "colab": {
          "base_uri": "https://localhost:8080/"
        },
        "id": "ci6wyMhBW7T-",
        "outputId": "2ef879c7-c680-46e9-db5c-308ff4d08bfd"
      },
      "execution_count": null,
      "outputs": [
        {
          "output_type": "execute_result",
          "data": {
            "text/plain": [
              "([1, 2, 3, 4, 5, 6], [1, 2, 3, 4, 5, 6])"
            ]
          },
          "metadata": {},
          "execution_count": 51
        }
      ]
    },
    {
      "cell_type": "code",
      "source": [
        "l = [1000, 2000, 3000, 4000, 5000, 6000]\n",
        "ll = l.copy()\n",
        "id(l), id(ll)"
      ],
      "metadata": {
        "colab": {
          "base_uri": "https://localhost:8080/"
        },
        "id": "ktJDR1loYTSQ",
        "outputId": "454acd05-c415-4777-cb9d-3df0d12b38ba"
      },
      "execution_count": null,
      "outputs": [
        {
          "output_type": "execute_result",
          "data": {
            "text/plain": [
              "(139915808902976, 139915809075776)"
            ]
          },
          "metadata": {},
          "execution_count": 53
        }
      ]
    },
    {
      "cell_type": "code",
      "source": [
        "# 얕은 복사\n",
        "l = [[1, 2, 3], [4, 5, 6]]\n",
        "ll = l.copy()\n",
        "ll[0][0] = 10\n",
        "l, ll"
      ],
      "metadata": {
        "colab": {
          "base_uri": "https://localhost:8080/"
        },
        "id": "ev_EHPSDWvor",
        "outputId": "e3a70c46-5f06-4ff8-ca3c-ae4dcfe6396d"
      },
      "execution_count": null,
      "outputs": [
        {
          "output_type": "execute_result",
          "data": {
            "text/plain": [
              "([[10, 2, 3], [4, 5, 6]], [[10, 2, 3], [4, 5, 6]])"
            ]
          },
          "metadata": {},
          "execution_count": 52
        }
      ]
    },
    {
      "cell_type": "code",
      "source": [
        "# 얕은 복사\n",
        "l = [[1, 2, 3], [4, 5, 6]]\n",
        "ll = l.copy()\n",
        "ll[0] = 100\n",
        "l, ll"
      ],
      "metadata": {
        "colab": {
          "base_uri": "https://localhost:8080/"
        },
        "id": "Iqf7gUwYYy8i",
        "outputId": "3d93c79b-e83b-4fe7-b010-c1da399cbfeb"
      },
      "execution_count": null,
      "outputs": [
        {
          "output_type": "execute_result",
          "data": {
            "text/plain": [
              "([[1, 2, 3], [4, 5, 6]], [100, [4, 5, 6]])"
            ]
          },
          "metadata": {},
          "execution_count": 56
        }
      ]
    },
    {
      "cell_type": "code",
      "source": [
        "# 깊은 복사\n",
        "import copy\n",
        "\n",
        "l = [[1, 2, 3], [4, 5, 6]]\n",
        "ll = copy.deepcopy(l)\n",
        "ll[0][0] = 10\n",
        "id(l), id(ll)\n",
        "id(l[0]), id(ll[0])\n",
        "id(l[0][0]), id(ll[0][0])\n"
      ],
      "metadata": {
        "colab": {
          "base_uri": "https://localhost:8080/"
        },
        "id": "xU3l5OzMZINv",
        "outputId": "4555c669-ca53-408d-c170-d30f5842ce8b"
      },
      "execution_count": null,
      "outputs": [
        {
          "output_type": "execute_result",
          "data": {
            "text/plain": [
              "(139917125648624, 139917125648912)"
            ]
          },
          "metadata": {},
          "execution_count": 59
        }
      ]
    },
    {
      "cell_type": "code",
      "source": [
        "# 깊은 복사\n",
        "import copy\n",
        "\n",
        "l = [[1, 2,[1, [999, 998] [4, 5, 6]]\n",
        "ll = copy.deepcopy(l)\n",
        "ll[0][0] = 10"
      ],
      "metadata": {
        "id": "zY-4eQd_Zuhv"
      },
      "execution_count": null,
      "outputs": []
    },
    {
      "cell_type": "markdown",
      "source": [
        "* 얕은 복사는 1 계층만 복사합니다.\n",
        "* 깊은 복사는 n 계층까지 모두 복사합니다."
      ],
      "metadata": {
        "id": "RYmpCzQzaHM2"
      }
    },
    {
      "cell_type": "markdown",
      "source": [
        "* 나를 이해시키는 단 하나의 코드는 반드시 존재합니다."
      ],
      "metadata": {
        "id": "rQUOEtnWaiFu"
      }
    },
    {
      "cell_type": "code",
      "source": [
        "# 얕은 복사\n",
        "l = [[1, 2, 3], [4, 5, 6]]\n",
        "ll = l[:] # l.copy를 써도 마찬가지입니다.\n",
        "l[0] = 100\n",
        "l, ll"
      ],
      "metadata": {
        "colab": {
          "base_uri": "https://localhost:8080/"
        },
        "id": "zFUQgrCBavYG",
        "outputId": "abbbee40-2982-4b6b-f7b0-365a64ed5cd6"
      },
      "execution_count": null,
      "outputs": [
        {
          "output_type": "execute_result",
          "data": {
            "text/plain": [
              "([100, [4, 5, 6]], [[1, 2, 3], [4, 5, 6]])"
            ]
          },
          "metadata": {},
          "execution_count": 61
        }
      ]
    },
    {
      "cell_type": "code",
      "source": [
        "# sorted도 얕은 복사!\n",
        "l = [[1, 2,], [3, 4], [5, 6]]\n",
        "ll = sorted(l)\n",
        "l[0][0] = 100\n",
        "l, ll"
      ],
      "metadata": {
        "colab": {
          "base_uri": "https://localhost:8080/"
        },
        "id": "-G6xUwWmfhWO",
        "outputId": "eb571c5c-f7c4-4cb5-a9c8-76a0a6f407f5"
      },
      "execution_count": null,
      "outputs": [
        {
          "output_type": "execute_result",
          "data": {
            "text/plain": [
              "([[100, 2], [3, 4], [5, 6]], [[100, 2], [3, 4], [5, 6]])"
            ]
          },
          "metadata": {},
          "execution_count": 65
        }
      ]
    },
    {
      "cell_type": "code",
      "source": [
        "# 1단계 깊은 복사\n",
        "# 리스트 컴프리헨션은 안배운 내용이니 keep해두시고\n",
        "# for문 배운다음 다시 오셔서 복습하시기를 권해드립니다.\n",
        "l = [[1, 2, 3], [4, 5, 6]]\n",
        "ll = [i[:] for i in l]\n",
        "l[0][0] = 100\n",
        "l, ll"
      ],
      "metadata": {
        "colab": {
          "base_uri": "https://localhost:8080/"
        },
        "id": "zGv4dxnxbcRF",
        "outputId": "a2440eb6-fe44-42a9-f8a4-136462846eb0"
      },
      "execution_count": null,
      "outputs": [
        {
          "output_type": "execute_result",
          "data": {
            "text/plain": [
              "([[100, 2, 3], [4, 5, 6]], [[1, 2, 3], [4, 5, 6]])"
            ]
          },
          "metadata": {},
          "execution_count": 63
        }
      ]
    },
    {
      "cell_type": "code",
      "source": [
        "a = [[1, 2, 3],\n",
        "     [11, 22, 33],\n",
        "     ['leehojun', 20, 30]]\n",
        "\n",
        "# 문제 : jun만 뽑아주세요!\n",
        "print(a[2][0][-3:])\n",
        "print(a[2][0][5:])\n",
        "print(a[2][0][5], a[2][0][6], a[2][0][7], sep='')\n"
      ],
      "metadata": {
        "colab": {
          "base_uri": "https://localhost:8080/"
        },
        "id": "k-3cg41NcpFW",
        "outputId": "f0a74347-aa7d-4b7a-ef6e-bcc4f0115478"
      },
      "execution_count": null,
      "outputs": [
        {
          "output_type": "stream",
          "name": "stdout",
          "text": [
            "jun\n",
            "jun\n",
            "jun\n"
          ]
        }
      ]
    },
    {
      "cell_type": "markdown",
      "source": [
        "* 알아야 하는 built-in function\n",
        "A\n",
        "abs()\n",
        "all()\n",
        "any()\n",
        "\n",
        "B\n",
        "bin()\n",
        "bool()\n",
        "\n",
        "C\n",
        "chr()\n",
        "\n",
        "D\n",
        "dict()\n",
        "dir()\n",
        "\n",
        "E\n",
        "enumerate()\n",
        "eval()\n",
        "\n",
        "F\n",
        "filter()\n",
        "float()\n",
        "\n",
        "G\n",
        "globals()\n",
        "\n",
        "H\n",
        "help()\n",
        "hex()\n",
        "\n",
        "I\n",
        "id()\n",
        "input()\n",
        "int()\n",
        "isinstance()\n",
        "issubclass()\n",
        "iter()\n",
        "\n",
        "L\n",
        "len()\n",
        "list()\n",
        "locals()\n",
        "\n",
        "M\n",
        "map()\n",
        "max()\n",
        "min()\n",
        "\n",
        "N\n",
        "next()\n",
        "\n",
        "O\n",
        "object()\n",
        "oct()\n",
        "open()\n",
        "ord()\n",
        "\n",
        "P\n",
        "pow()\n",
        "print()\n",
        "property()\n",
        "\n",
        "\n",
        "\n",
        "\n",
        "R\n",
        "range()\n",
        "repr()\n",
        "reversed()\n",
        "round()\n",
        "\n",
        "S\n",
        "set()\n",
        "setattr()\n",
        "slice()\n",
        "sorted()\n",
        "staticmethod()\n",
        "str()\n",
        "sum()\n",
        "super()\n",
        "\n",
        "T\n",
        "tuple()\n",
        "type()\n",
        "\n",
        "V\n",
        "vars()\n",
        "\n",
        "Z\n",
        "zip()"
      ],
      "metadata": {
        "id": "ynIIZ60Tg8fu"
      }
    },
    {
      "cell_type": "code",
      "source": [
        "a = [1, 2, 3, 4, 5, 6, 7, 8]\n",
        "print(max(a)) # 최댓값\n",
        "print(min(a)) # 최솟값\n",
        "print(sum(a)) # 전체값의 합"
      ],
      "metadata": {
        "colab": {
          "base_uri": "https://localhost:8080/"
        },
        "id": "X4MMCWNubybf",
        "outputId": "2696840a-a869-4b8f-c034-34f7db47fc6d"
      },
      "execution_count": null,
      "outputs": [
        {
          "output_type": "stream",
          "name": "stdout",
          "text": [
            "8\n",
            "1\n",
            "36\n"
          ]
        }
      ]
    },
    {
      "cell_type": "code",
      "source": [
        "#2차원\n",
        "a = [[1, 2, 3, 'a'],\n",
        "     [11, 22, 33, 'aaa'],\n",
        "     [10, 2000, 30, 'aa']]\n",
        "\n",
        "max(a, key=lambda x:x[1])\n",
        "max(a, key=lambda x:len(x[3]))"
      ],
      "metadata": {
        "colab": {
          "base_uri": "https://localhost:8080/"
        },
        "id": "98ZwrAylh09j",
        "outputId": "873185d5-76ec-4d5c-dc3e-06e658f0fe80"
      },
      "execution_count": null,
      "outputs": [
        {
          "output_type": "execute_result",
          "data": {
            "text/plain": [
              "[11, 22, 33, 'aaa']"
            ]
          },
          "metadata": {},
          "execution_count": 69
        }
      ]
    },
    {
      "cell_type": "code",
      "source": [
        "# 이름, 별점, 객실수, 가격\n",
        "\n",
        "호텔 = [\n",
        "['이스트소프트 호텔', 5, 100, 155000],\n",
        "['이스트소프트 호텔', 5, 100, 145000],    \n",
        "['이스트소프트 호텔', 5, 100, 135000],    \n",
        " # 마지막에 콤마를 허락하는 언어는 제한적(특히 JSON)\n",
        "]\n",
        "\n",
        "max(호텔, key=lambda x:x[3]) # 가장 가격이 높은것을 뽑아낼 수 있음\n",
        "min(호텔, key=lambda x:x[3]) \n"
      ],
      "metadata": {
        "colab": {
          "base_uri": "https://localhost:8080/"
        },
        "id": "I9aLcJSGirko",
        "outputId": "961df43e-8bb7-4b04-8969-90d214296895"
      },
      "execution_count": null,
      "outputs": [
        {
          "output_type": "execute_result",
          "data": {
            "text/plain": [
              "['이스트소프트 호텔', 5, 100, 135000]"
            ]
          },
          "metadata": {},
          "execution_count": 70
        }
      ]
    },
    {
      "cell_type": "markdown",
      "source": [],
      "metadata": {
        "id": "wkiWR4xekYBI"
      }
    },
    {
      "cell_type": "code",
      "source": [
        "#2차원\n",
        "a = [[1, 2, 3],\n",
        "     [11, 22, 33],\n",
        "     [10, 2000, 30]]\n",
        "\n",
        "max(a, key=lambda x:x[1])\n",
        "min(a, key=lambda x:x[1])\n",
        "# sum(a) error\n",
        "sum(a, [])"
      ],
      "metadata": {
        "id": "5Wjuzzeqh-Vb"
      },
      "execution_count": null,
      "outputs": []
    },
    {
      "cell_type": "markdown",
      "source": [
        "## 리스트의 순회"
      ],
      "metadata": {
        "id": "5viXYQZEkZY2"
      }
    },
    {
      "cell_type": "code",
      "source": [
        "#1차원\n",
        "a = [1, 2, 3, 4, 5, 6, 7, 8]\n",
        "\n",
        "# for 변수 in 순회가능한객체\n",
        "for i in a: \n",
        "     print(i)\n"
      ],
      "metadata": {
        "colab": {
          "base_uri": "https://localhost:8080/"
        },
        "id": "XMmr7NZTkaq7",
        "outputId": "87500f2e-aec1-46a2-b240-8c4f9b0aa21a"
      },
      "execution_count": null,
      "outputs": [
        {
          "output_type": "stream",
          "name": "stdout",
          "text": [
            "1\n",
            "2\n",
            "3\n",
            "4\n",
            "5\n",
            "6\n",
            "7\n",
            "8\n"
          ]
        }
      ]
    },
    {
      "cell_type": "code",
      "source": [
        "#2차원\n",
        "\n",
        "a = [[1, 2, 3],\n",
        "     [11, 22, 33],\n",
        "     [13, 20000, 300000]]\n",
        "\n",
        "for i in a:\n",
        "    print(i)\n",
        "    print('---')\n",
        "print('end')"
      ],
      "metadata": {
        "colab": {
          "base_uri": "https://localhost:8080/"
        },
        "id": "88Lv19rBkvGn",
        "outputId": "6dde056b-0e68-4b4c-c89b-a3f82cdf65fc"
      },
      "execution_count": null,
      "outputs": [
        {
          "output_type": "stream",
          "name": "stdout",
          "text": [
            "[1, 2, 3]\n",
            "---\n",
            "[11, 22, 33]\n",
            "---\n",
            "[13, 20000, 300000]\n",
            "---\n",
            "end\n"
          ]
        }
      ]
    },
    {
      "cell_type": "code",
      "source": [
        "#2차원\n",
        "\n",
        "a = [[1, 2, 3],\n",
        "     [11, 22, 33],\n",
        "     [13, 20000, 300000]]\n",
        "\n",
        "for i in a:\n",
        "    for j in i:\n",
        "        print(j)\n",
        "        print('---')\n",
        "print('end')"
      ],
      "metadata": {
        "colab": {
          "base_uri": "https://localhost:8080/"
        },
        "id": "daCOB8CDlVsS",
        "outputId": "03a91a60-e4db-4c69-e111-28b5a025dc0b"
      },
      "execution_count": null,
      "outputs": [
        {
          "output_type": "stream",
          "name": "stdout",
          "text": [
            "1\n",
            "---\n",
            "2\n",
            "---\n",
            "3\n",
            "---\n",
            "11\n",
            "---\n",
            "22\n",
            "---\n",
            "33\n",
            "---\n",
            "13\n",
            "---\n",
            "20000\n",
            "---\n",
            "300000\n",
            "---\n",
            "end\n"
          ]
        }
      ]
    },
    {
      "cell_type": "markdown",
      "source": [
        "## range"
      ],
      "metadata": {
        "id": "docOHh7um1N2"
      }
    },
    {
      "cell_type": "code",
      "source": [
        "# range(start, stop, step) \n",
        "# 슬라이싱과 같은 규칙\n",
        "# 슬라이싱은 ':'(콜론)으로 연결되어 있고\n",
        "# range는 ','(콤마)로 연결되어 있습니다.\n",
        "\n",
        "print(list(range(100))) \n",
        "# python 2.x에서 python 3.x에 range를 사용하고 싶다면 xrange(10)\n",
        "print(list(range(5, 10)))\n",
        "\n",
        "print(list(range(0, 101, 2))) #짝수\n",
        "print(list(range(1, 101, 2))) #홀수\n",
        "print(list(range(100, 1, -2)))\n",
        "print(sum(list(range(0, 101))))\n",
        "print(sum(range(0, 101))) # 이렇게 형 변환을 하지 않고 sum하시는 것을 권합니다."
      ],
      "metadata": {
        "colab": {
          "base_uri": "https://localhost:8080/"
        },
        "id": "NW9AJIMsnFwE",
        "outputId": "2dbe2e1a-d244-4944-cb67-c334b4d0a940"
      },
      "execution_count": null,
      "outputs": [
        {
          "output_type": "stream",
          "name": "stdout",
          "text": [
            "[0, 1, 2, 3, 4, 5, 6, 7, 8, 9, 10, 11, 12, 13, 14, 15, 16, 17, 18, 19, 20, 21, 22, 23, 24, 25, 26, 27, 28, 29, 30, 31, 32, 33, 34, 35, 36, 37, 38, 39, 40, 41, 42, 43, 44, 45, 46, 47, 48, 49, 50, 51, 52, 53, 54, 55, 56, 57, 58, 59, 60, 61, 62, 63, 64, 65, 66, 67, 68, 69, 70, 71, 72, 73, 74, 75, 76, 77, 78, 79, 80, 81, 82, 83, 84, 85, 86, 87, 88, 89, 90, 91, 92, 93, 94, 95, 96, 97, 98, 99]\n",
            "[5, 6, 7, 8, 9]\n",
            "[0, 2, 4, 6, 8, 10, 12, 14, 16, 18, 20, 22, 24, 26, 28, 30, 32, 34, 36, 38, 40, 42, 44, 46, 48, 50, 52, 54, 56, 58, 60, 62, 64, 66, 68, 70, 72, 74, 76, 78, 80, 82, 84, 86, 88, 90, 92, 94, 96, 98, 100]\n",
            "5050\n"
          ]
        }
      ]
    },
    {
      "cell_type": "markdown",
      "source": [
        "## list comprehension"
      ],
      "metadata": {
        "id": "g4X4oq1zpP-b"
      }
    },
    {
      "cell_type": "code",
      "source": [
        "# l = [1, 2, 3, 4, ...]\n",
        "# list(range(1, 100))\n",
        "l = []\n",
        "for i in range(1, 101):\n",
        "    l.append(i)\n",
        "l"
      ],
      "metadata": {
        "id": "D3oOqlVzpdn0"
      },
      "execution_count": null,
      "outputs": []
    },
    {
      "cell_type": "code",
      "source": [
        "l = []\n",
        "for i in range(1, 10):\n",
        "    l.append(i**i)\n",
        "l"
      ],
      "metadata": {
        "colab": {
          "base_uri": "https://localhost:8080/"
        },
        "id": "y2PW00Lup7Rt",
        "outputId": "4e2b1da8-9a01-4e4e-9c54-e13d38689096"
      },
      "execution_count": null,
      "outputs": [
        {
          "output_type": "execute_result",
          "data": {
            "text/plain": [
              "[1, 4, 27, 256, 3125, 46656, 823543, 16777216, 387420489]"
            ]
          },
          "metadata": {},
          "execution_count": 82
        }
      ]
    },
    {
      "cell_type": "code",
      "source": [
        "# l = []\n",
        "# for i in range(1, 11):\n",
        "#     l.append(i**i)\n",
        "# l\n",
        "\n",
        "l= [i**i for i in range(1, 11)]\n",
        "l\n",
        "\n",
        "l= [i for i in range(1, 11)]\n",
        "l"
      ],
      "metadata": {
        "colab": {
          "base_uri": "https://localhost:8080/"
        },
        "id": "tF0Z2cLRqG9i",
        "outputId": "d9ee6ad5-960f-4cac-e0b8-13a17210e8ca"
      },
      "execution_count": null,
      "outputs": [
        {
          "output_type": "execute_result",
          "data": {
            "text/plain": [
              "[1, 2, 3, 4, 5, 6, 7, 8, 9, 10]"
            ]
          },
          "metadata": {},
          "execution_count": 86
        }
      ]
    },
    {
      "cell_type": "code",
      "source": [
        "l = []\n",
        "for i in range(1, 100):\n",
        "    if i %3 == 0 or i %5 == 0:\n",
        "        l.append(i)\n",
        "\n",
        "[i for i in range(1, 100) if i %3 == 0 or i %5 == 0]"
      ],
      "metadata": {
        "id": "ymBZQ5tlqmLS"
      },
      "execution_count": null,
      "outputs": []
    },
    {
      "cell_type": "markdown",
      "source": [
        "##튜플"
      ],
      "metadata": {
        "id": "TtywEEXl9iNa"
      }
    },
    {
      "cell_type": "markdown",
      "source": [
        "- 튜플은 순서가 있는 시퀀스형 자료형입니다.\n",
        "- 참조값은 변경이 불가능(immutable) 합니다.\n",
        "- 다른 자료형을 입력할 수 있으며, 튜플 안에 튜플로 다차원의 튜플을 만드는 것도 가능합니다.\n",
        "- 값의 중복을 허락합니다."
      ],
      "metadata": {
        "id": "8ymdCPzj9ji5"
      }
    },
    {
      "cell_type": "code",
      "source": [
        "t = (10, 20, 30)\n",
        "t[1] = 1000"
      ],
      "metadata": {
        "id": "qHBDmjDHpOrA"
      },
      "execution_count": null,
      "outputs": []
    },
    {
      "cell_type": "code",
      "source": [
        "l = [1, 2, 3]\n",
        "t = (l, 20, 30) # 불변인 것은 t가 l을 참조하고 있다는 것이 불변\n",
        "l[0] = 1000\n",
        "t"
      ],
      "metadata": {
        "colab": {
          "base_uri": "https://localhost:8080/"
        },
        "id": "NtgqEzi191S4",
        "outputId": "9d39df8a-1243-463f-88ec-49268855ca11"
      },
      "execution_count": null,
      "outputs": [
        {
          "output_type": "execute_result",
          "data": {
            "text/plain": [
              "([1000, 2, 3], 20, 30)"
            ]
          },
          "metadata": {},
          "execution_count": 91
        }
      ]
    },
    {
      "cell_type": "code",
      "source": [
        "t= (10, 20, 30, 40, 50)\n",
        "t[:3]"
      ],
      "metadata": {
        "colab": {
          "base_uri": "https://localhost:8080/"
        },
        "id": "R975oCDH-gC6",
        "outputId": "65593fd8-82b6-4409-e397-94abbbae2681"
      },
      "execution_count": null,
      "outputs": [
        {
          "output_type": "execute_result",
          "data": {
            "text/plain": [
              "(10, 20, 30)"
            ]
          },
          "metadata": {},
          "execution_count": 94
        }
      ]
    },
    {
      "cell_type": "code",
      "source": [
        "type(t), dir(t)"
      ],
      "metadata": {
        "colab": {
          "base_uri": "https://localhost:8080/"
        },
        "id": "yxHYYaqn-YAx",
        "outputId": "fa7dda8c-a4ec-4ea2-fb52-17ce4ef84657"
      },
      "execution_count": null,
      "outputs": [
        {
          "output_type": "execute_result",
          "data": {
            "text/plain": [
              "(tuple,\n",
              " ['__add__',\n",
              "  '__class__',\n",
              "  '__class_getitem__',\n",
              "  '__contains__',\n",
              "  '__delattr__',\n",
              "  '__dir__',\n",
              "  '__doc__',\n",
              "  '__eq__',\n",
              "  '__format__',\n",
              "  '__ge__',\n",
              "  '__getattribute__',\n",
              "  '__getitem__',\n",
              "  '__getnewargs__',\n",
              "  '__gt__',\n",
              "  '__hash__',\n",
              "  '__init__',\n",
              "  '__init_subclass__',\n",
              "  '__iter__',\n",
              "  '__le__',\n",
              "  '__len__',\n",
              "  '__lt__',\n",
              "  '__mul__',\n",
              "  '__ne__',\n",
              "  '__new__',\n",
              "  '__reduce__',\n",
              "  '__reduce_ex__',\n",
              "  '__repr__',\n",
              "  '__rmul__',\n",
              "  '__setattr__',\n",
              "  '__sizeof__',\n",
              "  '__str__',\n",
              "  '__subclasshook__',\n",
              "  'count',\n",
              "  'index'])"
            ]
          },
          "metadata": {},
          "execution_count": 93
        }
      ]
    },
    {
      "cell_type": "code",
      "source": [
        "t = (10, 20, 30, 40, 50, 20)\n",
        "t.index(20), t.count(20)"
      ],
      "metadata": {
        "colab": {
          "base_uri": "https://localhost:8080/"
        },
        "id": "SDpwGpOv9jvt",
        "outputId": "f45d80a4-9441-430d-fe13-d1404fa82bee"
      },
      "execution_count": null,
      "outputs": [
        {
          "output_type": "execute_result",
          "data": {
            "text/plain": [
              "(1, 2)"
            ]
          },
          "metadata": {},
          "execution_count": 96
        }
      ]
    },
    {
      "cell_type": "code",
      "source": [
        "t = tuple('leehojun')\n",
        "t\n",
        "t = tuple(range(10))\n",
        "t\n",
        "t = (1)\n",
        "t\n",
        "t = (1,) # 원소를 하나씩 넣고 싶을 때는 콤마(,)를 사용해줍니다\n",
        "t"
      ],
      "metadata": {
        "colab": {
          "base_uri": "https://localhost:8080/"
        },
        "id": "_QO-VXVm-08e",
        "outputId": "3aa3cbda-3ac5-4d5f-a7f2-041f1765db70"
      },
      "execution_count": null,
      "outputs": [
        {
          "output_type": "execute_result",
          "data": {
            "text/plain": [
              "(1,)"
            ]
          },
          "metadata": {},
          "execution_count": 104
        }
      ]
    },
    {
      "cell_type": "markdown",
      "source": [
        "## 딕셔너리"
      ],
      "metadata": {
        "id": "B1Bjp3zr_kA-"
      }
    },
    {
      "cell_type": "markdown",
      "source": [
        "- 딕셔너리는 순서가 없는 자료형입니다.\n",
        "- 사전형은 Key와 Value 가 하나의 묶음으로 이루어진 자료 체계입니다.\n",
        "- 값의 변경이 가능합니다.\n",
        "- 다른 자료형을 입력할 수 있습니다.\n",
        "- 키의 중복은 허락하지 않고, 값의 중복을 허락합니다."
      ],
      "metadata": {
        "id": "ZflGoTJt_l90"
      }
    },
    {
      "cell_type": "code",
      "source": [
        "d = {'one' : '하나', 'two' : '둘', 'three' : '셋'}\n",
        "d\n",
        "d['one']"
      ],
      "metadata": {
        "colab": {
          "base_uri": "https://localhost:8080/",
          "height": 35
        },
        "id": "_28ER0_9AHUV",
        "outputId": "49855082-039f-42d1-eb82-97e58b794aa8"
      },
      "execution_count": null,
      "outputs": [
        {
          "output_type": "execute_result",
          "data": {
            "text/plain": [
              "'하나'"
            ],
            "application/vnd.google.colaboratory.intrinsic+json": {
              "type": "string"
            }
          },
          "metadata": {},
          "execution_count": 105
        }
      ]
    },
    {
      "cell_type": "code",
      "source": [
        "d['two'] = '투'\n",
        "d"
      ],
      "metadata": {
        "colab": {
          "base_uri": "https://localhost:8080/"
        },
        "id": "ewJh4lKKAzkr",
        "outputId": "334b4f28-902e-43d1-e18b-874d0977fc28"
      },
      "execution_count": null,
      "outputs": [
        {
          "output_type": "execute_result",
          "data": {
            "text/plain": [
              "{'one': '하나', 'two': '투', 'three': '셋'}"
            ]
          },
          "metadata": {},
          "execution_count": 107
        }
      ]
    },
    {
      "cell_type": "code",
      "source": [
        "d = {} # dict\n",
        "type(d)\n",
        "\n",
        "d = {10} #set\n",
        "type(d)\n",
        "\n",
        "d = dict()\n",
        "type(d)\n",
        "\n",
        "d = {'one' : 1}\n",
        "type(d)"
      ],
      "metadata": {
        "colab": {
          "base_uri": "https://localhost:8080/"
        },
        "id": "h6xSNBqHBJOx",
        "outputId": "f17d1040-c4a8-4ae5-bf1c-39a9b1daa0bd"
      },
      "execution_count": null,
      "outputs": [
        {
          "output_type": "execute_result",
          "data": {
            "text/plain": [
              "dict"
            ]
          },
          "metadata": {},
          "execution_count": 111
        }
      ]
    },
    {
      "cell_type": "code",
      "source": [
        "dict(name='leehojun', age=10)"
      ],
      "metadata": {
        "colab": {
          "base_uri": "https://localhost:8080/"
        },
        "id": "Wo_5k_vRB_wd",
        "outputId": "53406931-3b55-4a98-ad22-4a8713d24270"
      },
      "execution_count": null,
      "outputs": [
        {
          "output_type": "execute_result",
          "data": {
            "text/plain": [
              "{'name': 'leehojun', 'age': 10}"
            ]
          },
          "metadata": {},
          "execution_count": 113
        }
      ]
    },
    {
      "cell_type": "code",
      "source": [
        "list(zip('ABC', '123', 'abc'))\n",
        "\n",
        "dict(zip('ABC', '123')) # 형변환"
      ],
      "metadata": {
        "colab": {
          "base_uri": "https://localhost:8080/"
        },
        "id": "sD00ig1lCLkJ",
        "outputId": "38b12191-d438-4c16-9ea2-b46544a816a1"
      },
      "execution_count": null,
      "outputs": [
        {
          "output_type": "execute_result",
          "data": {
            "text/plain": [
              "{'A': '1', 'B': '2', 'C': '3'}"
            ]
          },
          "metadata": {},
          "execution_count": 117
        }
      ]
    },
    {
      "cell_type": "code",
      "source": [
        "# dict와 zip를 사용해서 아래와 같은 형태로 데이터를 만들어주세요\n",
        "# 잘 모르시겠으면 어떻게든 저 형태를 만들어주세요.\n",
        "\n",
        "# 원하는 형태{'A': [10, 20], 'B': [20, 30], 'C': [30, 40] }"
      ],
      "metadata": {
        "id": "SEJbsinvCgbA"
      },
      "execution_count": null,
      "outputs": []
    },
    {
      "cell_type": "code",
      "source": [
        "dict(zip('ABC', [[10,20], [20,30], [30,40]]))"
      ],
      "metadata": {
        "colab": {
          "base_uri": "https://localhost:8080/"
        },
        "id": "oILypHr8C8hi",
        "outputId": "ca827835-69ca-47b7-cce1-cb186914a7b0"
      },
      "execution_count": null,
      "outputs": [
        {
          "output_type": "execute_result",
          "data": {
            "text/plain": [
              "{'A': [10, 20], 'B': [20, 30], 'C': [30, 40]}"
            ]
          },
          "metadata": {},
          "execution_count": 130
        }
      ]
    },
    {
      "cell_type": "code",
      "source": [
        "len({'A': [10,20], 'B' : [20, 30], 'C' : [30,40]})"
      ],
      "metadata": {
        "colab": {
          "base_uri": "https://localhost:8080/"
        },
        "id": "L3O8qqLYJNvZ",
        "outputId": "fdd10bbc-6591-4117-ea15-d8d6ce2b8c9a"
      },
      "execution_count": null,
      "outputs": [
        {
          "output_type": "execute_result",
          "data": {
            "text/plain": [
              "3"
            ]
          },
          "metadata": {},
          "execution_count": 133
        }
      ]
    },
    {
      "cell_type": "code",
      "source": [
        "def switch(day):\n",
        "    return {\n",
        "        1 : '월요일',\n",
        "        2 : '화요일',\n",
        "        3 : '수요일',\n",
        "        4 : '목요일',\n",
        "        5 : '금요일',\n",
        "        6 : '토요일',\n",
        "        7 : '일요일',\n",
        "    }.get (day,'요일을 찾지 못했습니다.')\n",
        "    \n",
        "switch(7)\n",
        "switch(8) # error"
      ],
      "metadata": {
        "colab": {
          "base_uri": "https://localhost:8080/",
          "height": 35
        },
        "id": "pvW_YleHJb3q",
        "outputId": "eea893e7-285a-497e-bb0e-5cc673c62292"
      },
      "execution_count": null,
      "outputs": [
        {
          "output_type": "execute_result",
          "data": {
            "text/plain": [
              "'요일을 찾지 못했습니다.'"
            ],
            "application/vnd.google.colaboratory.intrinsic+json": {
              "type": "string"
            }
          },
          "metadata": {},
          "execution_count": 145
        }
      ]
    },
    {
      "cell_type": "code",
      "source": [
        "{'A': [10, 20], 'B': [20, 30], 'C': [30, 40]}.keys()"
      ],
      "metadata": {
        "colab": {
          "base_uri": "https://localhost:8080/"
        },
        "id": "b1Em2ZcILUgY",
        "outputId": "61ba9d80-e926-4609-86bb-46cf5b7213bd"
      },
      "execution_count": null,
      "outputs": [
        {
          "output_type": "execute_result",
          "data": {
            "text/plain": [
              "dict_keys(['A', 'B', 'C'])"
            ]
          },
          "metadata": {},
          "execution_count": 147
        }
      ]
    },
    {
      "cell_type": "code",
      "source": [
        "{'A': [10, 20], 'B': [20, 30], 'C': [30, 40]}.values()"
      ],
      "metadata": {
        "colab": {
          "base_uri": "https://localhost:8080/"
        },
        "id": "F-TJhl-ULcq5",
        "outputId": "23c44f97-9558-4ded-ffeb-283dc7703551"
      },
      "execution_count": null,
      "outputs": [
        {
          "output_type": "execute_result",
          "data": {
            "text/plain": [
              "dict_values([[10, 20], [20, 30], [30, 40]])"
            ]
          },
          "metadata": {},
          "execution_count": 149
        }
      ]
    },
    {
      "cell_type": "code",
      "source": [
        "{'A': [10, 20], 'B': [20, 30], 'C': [30, 40]}.items()"
      ],
      "metadata": {
        "colab": {
          "base_uri": "https://localhost:8080/"
        },
        "id": "p8aWUFrRLez6",
        "outputId": "ad7c94ec-b4b6-4a49-c0b0-20d42e91fff5"
      },
      "execution_count": null,
      "outputs": [
        {
          "output_type": "execute_result",
          "data": {
            "text/plain": [
              "dict_items([('A', [10, 20]), ('B', [20, 30]), ('C', [30, 40])])"
            ]
          },
          "metadata": {},
          "execution_count": 150
        }
      ]
    },
    {
      "cell_type": "code",
      "source": [
        "keys = ('name', 'age', 'grade')\n",
        "values = ('leehojun', '10', '수')\n",
        "\n",
        "dict.fromkeys(keys, values)"
      ],
      "metadata": {
        "colab": {
          "base_uri": "https://localhost:8080/"
        },
        "id": "JPfy5bheJuwL",
        "outputId": "046de311-26c9-4a80-d4d4-05f295cafba9"
      },
      "execution_count": null,
      "outputs": [
        {
          "output_type": "execute_result",
          "data": {
            "text/plain": [
              "{'name': ('leehojun', '10', '수'),\n",
              " 'age': ('leehojun', '10', '수'),\n",
              " 'grade': ('leehojun', '10', '수')}"
            ]
          },
          "metadata": {},
          "execution_count": 151
        }
      ]
    },
    {
      "cell_type": "code",
      "source": [
        "d = {'one' : '하나', 'two' : '둘', 'three' : '셋'}\n",
        "d.update({'one' : 1, 'two' : 2})\n",
        "d"
      ],
      "metadata": {
        "id": "fVDWpXYiMxPD"
      },
      "execution_count": null,
      "outputs": []
    },
    {
      "cell_type": "markdown",
      "source": [
        "## 딕셔너리의 순회"
      ],
      "metadata": {
        "id": "VqaO30aoM3LL"
      }
    },
    {
      "cell_type": "code",
      "source": [
        "# key만 순회합니다.\n",
        "d = {'two' : 2, 'three' : '셋'}\n",
        "for i in d:\n",
        "    print(i)"
      ],
      "metadata": {
        "colab": {
          "base_uri": "https://localhost:8080/"
        },
        "id": "idcI_Qb9M4my",
        "outputId": "7e784ec6-d1ae-4c32-bf40-a2740f65a9d3"
      },
      "execution_count": null,
      "outputs": [
        {
          "output_type": "stream",
          "name": "stdout",
          "text": [
            "two\n",
            "three\n"
          ]
        }
      ]
    },
    {
      "cell_type": "code",
      "source": [
        "d = {'two' : 2, 'three' : '셋'}\n",
        "for i in d:\n",
        "    print(d[i])"
      ],
      "metadata": {
        "colab": {
          "base_uri": "https://localhost:8080/"
        },
        "id": "qWi0aYPDNBfK",
        "outputId": "b740283c-92f5-4dc3-f953-813aafae8f87"
      },
      "execution_count": null,
      "outputs": [
        {
          "output_type": "stream",
          "name": "stdout",
          "text": [
            "2\n",
            "셋\n"
          ]
        }
      ]
    },
    {
      "cell_type": "markdown",
      "source": [
        "## 언패킹"
      ],
      "metadata": {
        "id": "Bg6-0wPhNL-m"
      }
    },
    {
      "cell_type": "code",
      "source": [
        "# 패킹 : 1, 2, 3=> [1, 2, 3]\n",
        "# 언패킹 : 1, 2, 3=> 1, 2, 3\n"
      ],
      "metadata": {
        "id": "sDshPD-QNNn2"
      },
      "execution_count": null,
      "outputs": []
    },
    {
      "cell_type": "code",
      "source": [
        "a, b, c = 10, 20, 30\n",
        "a"
      ],
      "metadata": {
        "colab": {
          "base_uri": "https://localhost:8080/"
        },
        "id": "iiWjch_xNXWC",
        "outputId": "e98af6aa-94df-47a5-dd00-4e869cdb69e0"
      },
      "execution_count": null,
      "outputs": [
        {
          "output_type": "execute_result",
          "data": {
            "text/plain": [
              "10"
            ]
          },
          "metadata": {},
          "execution_count": 156
        }
      ]
    },
    {
      "cell_type": "code",
      "source": [
        "a, b, c = (10, 20, 30) # 소괄호든 대괄호든 상관 없습니다.\n",
        "a"
      ],
      "metadata": {
        "colab": {
          "base_uri": "https://localhost:8080/"
        },
        "id": "OPaSpHS3NhAq",
        "outputId": "a51d8b4e-e857-49c6-cfe9-996226da7a2b"
      },
      "execution_count": null,
      "outputs": [
        {
          "output_type": "execute_result",
          "data": {
            "text/plain": [
              "10"
            ]
          },
          "metadata": {},
          "execution_count": 157
        }
      ]
    },
    {
      "cell_type": "code",
      "source": [
        "i, j = [10, 20]\n",
        "i"
      ],
      "metadata": {
        "colab": {
          "base_uri": "https://localhost:8080/"
        },
        "id": "zd6csmjCN2qX",
        "outputId": "0a9d326c-42c9-4a4c-ce28-626907bbef31"
      },
      "execution_count": null,
      "outputs": [
        {
          "output_type": "execute_result",
          "data": {
            "text/plain": [
              "10"
            ]
          },
          "metadata": {},
          "execution_count": 161
        }
      ]
    },
    {
      "cell_type": "code",
      "source": [
        "for i, j in [[10, 20], [30, 40], [50, 60]]:\n",
        "    print(i, j)"
      ],
      "metadata": {
        "colab": {
          "base_uri": "https://localhost:8080/"
        },
        "id": "kpri6zA2OFAS",
        "outputId": "51c16113-8bc2-41ca-e63f-be15e6b8b53b"
      },
      "execution_count": null,
      "outputs": [
        {
          "output_type": "stream",
          "name": "stdout",
          "text": [
            "10 20\n",
            "30 40\n",
            "50 60\n"
          ]
        }
      ]
    },
    {
      "cell_type": "code",
      "source": [
        "for i, j, k in [[10, 20, [1,2]], [30, 40, [3, 4]], [50, 60, []]]:\n",
        "    print(i, j, k)"
      ],
      "metadata": {
        "colab": {
          "base_uri": "https://localhost:8080/"
        },
        "id": "WHJKmEqeOKZ7",
        "outputId": "4c6d835e-c4be-44f7-caf5-47a6ffa2e0b4"
      },
      "execution_count": null,
      "outputs": [
        {
          "output_type": "stream",
          "name": "stdout",
          "text": [
            "10 20 [1, 2]\n",
            "30 40 [3, 4]\n",
            "50 60 []\n"
          ]
        }
      ]
    },
    {
      "cell_type": "code",
      "source": [
        "# swap\n",
        "a = 10\n",
        "b = 15\n",
        "a, b = b, a\n",
        "a, b"
      ],
      "metadata": {
        "colab": {
          "base_uri": "https://localhost:8080/"
        },
        "id": "SUOmUtwqOlGb",
        "outputId": "a1763b1a-647e-4b63-c62d-1a1d839944ee"
      },
      "execution_count": null,
      "outputs": [
        {
          "output_type": "execute_result",
          "data": {
            "text/plain": [
              "(15, 10)"
            ]
          },
          "metadata": {},
          "execution_count": 168
        }
      ]
    },
    {
      "cell_type": "code",
      "source": [
        "# swap in c\n",
        "a = 10\n",
        "b = 15\n",
        "temp = a\n",
        "a = b\n",
        "b = temp\n",
        "a, b"
      ],
      "metadata": {
        "colab": {
          "base_uri": "https://localhost:8080/"
        },
        "id": "UVIxIVwXO2Ir",
        "outputId": "3bf228c1-3cfa-4923-93bb-8975e9ed0116"
      },
      "execution_count": null,
      "outputs": [
        {
          "output_type": "execute_result",
          "data": {
            "text/plain": [
              "(15, 10)"
            ]
          },
          "metadata": {},
          "execution_count": 169
        }
      ]
    },
    {
      "cell_type": "markdown",
      "source": [
        "## max를 이용한 dict 최대 value key값 가져오기"
      ],
      "metadata": {
        "id": "GILk6NiPNo1u"
      }
    },
    {
      "cell_type": "code",
      "source": [
        "d = {\n",
        "    'test1' : 10,\n",
        "    'test2' : 20,\n",
        "    'test3' : 31,\n",
        "    'test4' : 11,\n",
        "}\n",
        "\n",
        "# max(d.values()) # 이걸로는 뭔가 찾아내기 힘듭니다.\n",
        "max(d,  key=lambda x: d[x])\n",
        "max(d, key=d.get) # 많이 사용하는 코드입니다."
      ],
      "metadata": {
        "colab": {
          "base_uri": "https://localhost:8080/",
          "height": 35
        },
        "id": "JdwSbpOKQDsF",
        "outputId": "73a81774-7f07-4653-ebb1-11030f7c4081"
      },
      "execution_count": null,
      "outputs": [
        {
          "output_type": "execute_result",
          "data": {
            "text/plain": [
              "'test3'"
            ],
            "application/vnd.google.colaboratory.intrinsic+json": {
              "type": "string"
            }
          },
          "metadata": {},
          "execution_count": 171
        }
      ]
    },
    {
      "cell_type": "markdown",
      "source": [
        "## set(셋, 집합)"
      ],
      "metadata": {
        "id": "V-jN6AJ7RE3Z"
      }
    },
    {
      "cell_type": "markdown",
      "source": [
        "* 집합 자료형은 중복을 허용하지 않으며\n",
        "* 순서가 없는 자료형"
      ],
      "metadata": {
        "id": "5tgf_azARHxC"
      }
    },
    {
      "cell_type": "code",
      "source": [
        "n = set([1, 1, 2, 2, 3, 3, 4])\n",
        "print(n)"
      ],
      "metadata": {
        "colab": {
          "base_uri": "https://localhost:8080/"
        },
        "id": "-mX0tS87RNCr",
        "outputId": "134691a8-2a46-4f89-f2e4-983bca29ccde"
      },
      "execution_count": null,
      "outputs": [
        {
          "output_type": "stream",
          "name": "stdout",
          "text": [
            "{1, 2, 3, 4}\n"
          ]
        }
      ]
    },
    {
      "cell_type": "code",
      "source": [
        "s = set('hello world')\n",
        "print(s)"
      ],
      "metadata": {
        "colab": {
          "base_uri": "https://localhost:8080/"
        },
        "id": "yIuZBavMROKX",
        "outputId": "08d5a502-8df2-4f4e-c437-d617e741d0a6"
      },
      "execution_count": null,
      "outputs": [
        {
          "output_type": "stream",
          "name": "stdout",
          "text": [
            "{'r', 'o', ' ', 'h', 'e', 'w', 'd', 'l'}\n"
          ]
        }
      ]
    },
    {
      "cell_type": "code",
      "source": [
        "%%timeit\n",
        "\n",
        "s=0\n",
        "for i in range(10000):\n",
        "    s +=i"
      ],
      "metadata": {
        "colab": {
          "base_uri": "https://localhost:8080/"
        },
        "id": "keHyNX31Ez_p",
        "outputId": "f2f91074-dbfe-4f49-b5c3-85247f3fbd49"
      },
      "execution_count": null,
      "outputs": [
        {
          "output_type": "stream",
          "name": "stdout",
          "text": [
            "837 µs ± 281 µs per loop (mean ± std. dev. of 7 runs, 1000 loops each)\n"
          ]
        }
      ]
    },
    {
      "cell_type": "markdown",
      "source": [
        "## 데코레이터"
      ],
      "metadata": {
        "id": "n3A9iWgw362I"
      }
    },
    {
      "cell_type": "markdown",
      "source": [
        "## 클로저, 팩토리 함수"
      ],
      "metadata": {
        "id": "OoRnpacG3832"
      }
    },
    {
      "cell_type": "markdown",
      "source": [
        "## !! 오늘 배운 것 정리\n",
        "\n",
        "1. sort\n",
        "    * sorted는 원본을 만지지 않는 'built-in function', 정렬입니다.\n",
        "    * sort는 원본을 만지는 '리스트 메서드', 정렬입니다.\n",
        "    * sort의 다양한 예\n",
        "        ```python\n",
        "        l = [[1, 10, 'leehojun'], \n",
        "            [20, 30, 'hojun'], \n",
        "            [10, 20, 'weniv!'], \n",
        "            [1, 2, 'hello world'], \n",
        "            [55, 11, 'sun']]\n",
        "\n",
        "        # 1. 글자 수 대로 정렬해주세요.\n",
        "        def f(x):\n",
        "            return len(x[2])\n",
        "\n",
        "        print(sorted(l, key=f, reverse=False))\n",
        "        print(sorted(l, key=lambda x:len(x[2]), reverse=False))\n",
        "\n",
        "        # 2. 맨 앞에 위치한 숫자대로 정렬해주세요.\n",
        "        def f2(x):\n",
        "            return x[0]\n",
        "\n",
        "        print(sorted(l))\n",
        "        print(sorted(l, key=f2))\n",
        "        print(sorted(l, key=lambda x:x[0]))\n",
        "\n",
        "        # 3. 중앙에 위치한 값대로 정렬해주세요.\n",
        "\n",
        "        def f3(x):\n",
        "            return x[1]\n",
        "\n",
        "        print(sorted(l))\n",
        "        print(sorted(l, key=f3))\n",
        "        print(sorted(l, key=lambda x:x[1]))\n",
        "\n",
        "        l = [[1, 10, 32], \n",
        "            [20, 30, 11], \n",
        "            [10, 20, 22], \n",
        "            [1, 2, 13], \n",
        "            [55, 11, 44]]\n",
        "            \n",
        "        # 4. 3개의 전체 합이 작은 순서대로 출력해주세요.\n",
        "\n",
        "        def f4(x):\n",
        "            return x[0] + x[1] + x[2]\n",
        "\n",
        "        def f5(x):\n",
        "            return sum(x)\n",
        "\n",
        "        print(sorted(l, key=f4))\n",
        "        print(sorted(l, key=f5))\n",
        "        print(sorted(l, key=lambda x: sum(x)))\n",
        "        print(sorted(l, key=sum))\n",
        "        ```\n",
        "\n",
        "2. 깊은 복사와 얕은 복사\n",
        "    1. 깊은 복사 : 완전히 다른 객체를 만듭니다.(깊은 복사는 n 계층까지 모두 복사)\n",
        "        ```python\n",
        "        # 깊은 복사\n",
        "        import copy\n",
        "\n",
        "        l = [[1, 2, 3], [4, 5, 6]]\n",
        "        ll = copy.deepcopy(l)\n",
        "        ll[0][0] = 10\n",
        "        l, ll\n",
        "        ```\n",
        "    2. 얕은 복사 : 내용물은 같은 다른 객체를 만듭니다.(얕은 복사는 1 계층만 복사)\n",
        "        ```python\n",
        "        # 얕은 복사\n",
        "        l = [[1, 2, 3], [4, 5, 6]]\n",
        "        ll = l[:] # l.copy, sorted를 써도 마찬가지입니다.\n",
        "        l[0][0] = 100\n",
        "        l, ll\n",
        "        ```\n",
        "\n",
        "3. range\n",
        "    ```python\n",
        "    # range(start, stop, step) \n",
        "    # 슬라이싱은 ':'(콜론)으로 연결되어 있고\n",
        "    # range는 ','(콤마)로 연결되어 있습니다.\n",
        "\n",
        "    print(list(range(100))) \n",
        "    # python 2.x에서 python 3.x에 range를 사용하고 싶다면 xrange(10)\n",
        "    print(list(range(5, 10)))\n",
        "\n",
        "    print(list(range(0, 101, 2))) #짝수\n",
        "    print(list(range(1, 101, 2))) #홀수\n",
        "    print(list(range(100, 1, -2)))\n",
        "    print(sum(list(range(0, 101))))\n",
        "    print(sum(range(0, 101))) # 이렇게 형 변환을 하지 않고 sum하시는 것을 권합니다.\n",
        "    ```\n",
        "\n",
        "4. list comprehension\n",
        "    ```python\n",
        "    # l = []\n",
        "    # for i in range(1, 11):\n",
        "    #     l.append(i**i)\n",
        "    # l\n",
        "\n",
        "    l = [i**i for i in range(1, 11)]\n",
        "    l\n",
        "    ```\n",
        "\n",
        "5. tuple\n",
        "    - 튜플은 순서가 있는 시퀀스형 자료형입니다.\n",
        "    - 참조값은 변경이 불가능(immutable) 합니다.\n",
        "        ```python\n",
        "        t = (10, 20, 30)\n",
        "        t[1] = 1000 # error\n",
        "        ```\n",
        "    - 다른 자료형을 입력할 수 있으며, 튜플 안에 튜플로 다차원의 튜플을 만드는 것도 가능합니다.\n",
        "    - 값의 중복을 허락합니다.\n",
        "    - 메서드는 index와 count밖에 없습니다.\n",
        "\n",
        "6. dict (딕셔너리, 사전형)\n",
        "    - 딕셔너리는 순서가 없는 자료형입니다.\n",
        "    - 사전형은 Key와 Value 가 하나의 묶음으로 이루어진 자료 체계입니다.\n",
        "    - 값의 변경이 가능합니다.\n",
        "        ```python\n",
        "        d = {'one' : '하나', 'two' : '둘', 'three' : '셋'}\n",
        "        print(d['one']) # 호출\n",
        "        d['two'] = '투' # 변경\n",
        "        d\n",
        "        ```\n",
        "    - 다른 자료형을 입력할 수 있습니다.\n",
        "    - 키의 중복은 허락하지 않고, 값의 중복을 허락합니다.\n",
        "    - dict를 활용한 switch 만들기\n",
        "        ```python\n",
        "        def switch(day):\n",
        "            return {\n",
        "                1 : '월요일',\n",
        "                2 : '화요일',\n",
        "                3 : '수요일',\n",
        "                4 : '목요일',\n",
        "                5 : '금요일',\n",
        "                6 : '토요일',\n",
        "                7 : '일요일',\n",
        "            }.get(day, '요일을 찾지 못했습니다.')\n",
        "\n",
        "        switch(8) \n",
        "        ```\n",
        "    - max를 이용한 dict 최대 value의 key값 가져오기\n",
        "        ```python\n",
        "        d = {\n",
        "            'test1': 10,\n",
        "            'test2': 20,\n",
        "            'test3': 31,\n",
        "            'test4': 11,\n",
        "        }\n",
        "\n",
        "        # max(d.values()) # 이걸로는 뭔가 찾아내기 힘듭니다.\n",
        "        max(d, key=lambda x: d[x])\n",
        "        max(d, key=d.get) #많이 사용하는 코드입니다.\n",
        "        ```\n",
        "\n",
        "7. 언패킹\n",
        "    * 언패킹 예\n",
        "        ```python\n",
        "        for i, j, k in [[10, 20, [1, 2]], [30, 40, [3, 4]], [50, 60, [5, 6]]]:\n",
        "            print(i, j, k)\n",
        "        ```\n",
        "    * swap 예\n",
        "        ```python\n",
        "        # swap\n",
        "        a = 10\n",
        "        b = 15\n",
        "        a, b = b, a\n",
        "        a, b\n",
        "        ```\n",
        "\n",
        "8. set (셋, 집합)\n",
        "    * 집합 자료형은 중복을 허용하지 않으며\n",
        "    * 순서가 없는 자료형\n",
        "        ```python\n",
        "        n = set([1, 1, 2, 2, 3, 3, 4])\n",
        "        print(n)\n",
        "        ```\n",
        "    * 메서드\n",
        "        - add : 값 추가\n",
        "        - update : 값 여러개 추가\n",
        "        - remove : 제거\n",
        "        - copy : 값 복사\n",
        "        - union : 합집합\n",
        "        - intersection : 교집합\n",
        "        - difference : 차집합\n",
        "        - issubset : 부분집합"
      ],
      "metadata": {
        "id": "EPOoXM0HiODQ"
      }
    },
    {
      "cell_type": "markdown",
      "source": [
        "## (질의응답) max(student_score, key=student_score.get)"
      ],
      "metadata": {
        "id": "RT6DPzh8i1yI"
      }
    },
    {
      "cell_type": "code",
      "source": [
        "def 함수(x):\n",
        "    return d.get(x)\n",
        "\n",
        "d = {\n",
        "      'test1': 10,\n",
        "      'test2': 20,\n",
        "      'test3': 31,\n",
        "      'test4': 11,\n",
        "}\n",
        "\n",
        "# max(d, key=함수)\n",
        "# max(d, key=d.get(x))\n",
        "# max(d, key=lambda x: d[x])\n"
      ],
      "metadata": {
        "colab": {
          "base_uri": "https://localhost:8080/",
          "height": 35
        },
        "id": "Xc-379emllwC",
        "outputId": "b2465cdc-ccf0-4ab1-8329-27ec4ea3aa58"
      },
      "execution_count": null,
      "outputs": [
        {
          "output_type": "execute_result",
          "data": {
            "text/plain": [
              "'test3'"
            ],
            "application/vnd.google.colaboratory.intrinsic+json": {
              "type": "string"
            }
          },
          "metadata": {},
          "execution_count": 7
        }
      ]
    },
    {
      "cell_type": "code",
      "source": [
        "# return에 초점을 맞춰주세요.\n",
        "def 함수(x):\n",
        "    print(x, len(ll[x]))\n",
        "    return len(ll[x])\n",
        "l = [2, 4, 5, 3, 6, 0, 7, 1]\n",
        "ll = ['hello', 'a', 'bb', 'ccc', 'a', 'bbbb', 'hello world', 'cc']\n",
        "\n",
        "max(l, key=함수)"
      ],
      "metadata": {
        "colab": {
          "base_uri": "https://localhost:8080/"
        },
        "id": "79zRtWO_jb2L",
        "outputId": "f1b422e0-fd99-4d9b-e3c6-29ba63989d95"
      },
      "execution_count": null,
      "outputs": [
        {
          "output_type": "stream",
          "name": "stdout",
          "text": [
            "2 2\n",
            "4 1\n",
            "5 4\n",
            "3 3\n",
            "6 11\n",
            "0 5\n",
            "7 2\n",
            "1 1\n"
          ]
        },
        {
          "output_type": "execute_result",
          "data": {
            "text/plain": [
              "6"
            ]
          },
          "metadata": {},
          "execution_count": 5
        }
      ]
    },
    {
      "cell_type": "code",
      "source": [
        "def 함수(x):\n",
        "    return len(x)\n",
        "l = ['a', 'bb', 'ccc', 'dd']\n",
        "\n",
        "max(l, key=함수)\n",
        "max(l, key=len)"
      ],
      "metadata": {
        "colab": {
          "base_uri": "https://localhost:8080/",
          "height": 35
        },
        "id": "9R6KfXO-nTvq",
        "outputId": "893fa077-5802-41b8-be8c-870d8e0bf3d1"
      },
      "execution_count": null,
      "outputs": [
        {
          "output_type": "execute_result",
          "data": {
            "text/plain": [
              "'ccc'"
            ],
            "application/vnd.google.colaboratory.intrinsic+json": {
              "type": "string"
            }
          },
          "metadata": {},
          "execution_count": 8
        }
      ]
    },
    {
      "cell_type": "code",
      "source": [
        "# return에 초점을 맞춰주세요.\n",
        "def 함수(x):\n",
        "    return d.get(x)\n",
        "\n",
        "수학 = {\n",
        "      '학생1': 10,\n",
        "      '학생2': 20,\n",
        "      '학생3': 31,\n",
        "      '학생4': 11,\n",
        "}\n",
        "\n",
        "과학 = {\n",
        "      '학생1': 11,\n",
        "      '학생2': 17,\n",
        "      '학생3': 13,\n",
        "      '학생4': 11,\n",
        "      '학생5': 25,\n",
        "      '학생6': 100,\n",
        "}\n",
        "\n",
        "수학점수가가장큰사람 = max(수학, key=수학.get)\n",
        "과학점수가가장큰사람 = max(수학, key=과학.get)\n",
        "max(수학, key=과학.get)\n"
      ],
      "metadata": {
        "colab": {
          "base_uri": "https://localhost:8080/",
          "height": 35
        },
        "id": "Mliin8PIngmR",
        "outputId": "f709c761-4dfd-4a0e-ca2f-4fdcad852ec7"
      },
      "execution_count": null,
      "outputs": [
        {
          "output_type": "execute_result",
          "data": {
            "text/plain": [
              "'학생2'"
            ],
            "application/vnd.google.colaboratory.intrinsic+json": {
              "type": "string"
            }
          },
          "metadata": {},
          "execution_count": 11
        }
      ]
    },
    {
      "cell_type": "markdown",
      "source": [
        "## (질의응답) 함수의 아규먼트 순서"
      ],
      "metadata": {
        "id": "zjaEO3WHi6gs"
      }
    },
    {
      "cell_type": "code",
      "source": [
        "def f(a, b, c):\n",
        "    print(a, b, c)\n",
        "\n",
        "# f() # error\n",
        "# f(100, 10) # error\n",
        "f(a=100, b=200, c=300)\n",
        "f(c=300, a=100, b=200) #실무에서 이렇게 순서를 바꿔서 넣지 않고 보통 순서를 지켜줍니다.\n",
        "\n",
        "# 실무에서 언제 사용이 될까요?\n",
        "# 파라미터, 아규먼츠가 매우 많을 때\n",
        "# 이런 함수가 나오면 무엇을 뜻하는 것일까요?\n",
        "# addNewControl(\"Title\", 20, 50, 100, 50, 200, 300, 150)\n",
        "# addNewControl(title=\"Title\", height=20, width=50, textlen = 100, ...)\n",
        "# 어? 컨트롤 박스를 만드는 구나...\n"
      ],
      "metadata": {
        "colab": {
          "base_uri": "https://localhost:8080/"
        },
        "id": "eDyg2m0RppJV",
        "outputId": "e246f403-5633-4994-d006-02726cd6466f"
      },
      "execution_count": null,
      "outputs": [
        {
          "output_type": "stream",
          "name": "stdout",
          "text": [
            "100 200 300\n",
            "100 200 300\n"
          ]
        }
      ]
    },
    {
      "cell_type": "code",
      "source": [
        "def f(a=10, b=20,c):\n",
        "    print(a, b, c)\n",
        "\n",
        "f()\n",
        "f(100, 10)\n",
        "# f(a=100, b=200, c=300) # error\n",
        "# f(c=300, a=100, b=200) # error\n",
        "# f(c=300) #error"
      ],
      "metadata": {
        "colab": {
          "base_uri": "https://localhost:8080/",
          "height": 137
        },
        "id": "51Pz4CR6rStk",
        "outputId": "f4313c7b-b547-4177-a9f7-1f9eedf6d687"
      },
      "execution_count": null,
      "outputs": [
        {
          "output_type": "error",
          "ename": "SyntaxError",
          "evalue": "ignored",
          "traceback": [
            "\u001b[0;36m  File \u001b[0;32m\"<ipython-input-19-e5ebe8924fe0>\"\u001b[0;36m, line \u001b[0;32m1\u001b[0m\n\u001b[0;31m    def f(a=10, b=20,c):\u001b[0m\n\u001b[0m                     ^\u001b[0m\n\u001b[0;31mSyntaxError\u001b[0m\u001b[0;31m:\u001b[0m non-default argument follows default argument\n"
          ]
        }
      ]
    },
    {
      "cell_type": "code",
      "source": [
        "def f(a, b=20,c=10): # 순서대로 안주어야 하기 때문에 a에 값을 넣지 않았습니다.\n",
        "    print(a, b, c)\n",
        "\n",
        "# f() error\n",
        "f(100,10)\n",
        "f(100, 10)\n",
        "# f(a=100, b=200, c=300) # error\n",
        "# f(c=300, a=100, b=200) # error"
      ],
      "metadata": {
        "id": "T7_tObrjr8Wk"
      },
      "execution_count": null,
      "outputs": []
    },
    {
      "cell_type": "markdown",
      "source": [
        "### (질의응답) zip, map 등 한 번 순회가 되면 순회가 안되는 이유"
      ],
      "metadata": {
        "id": "Hpj-c04-iuC8"
      }
    },
    {
      "cell_type": "code",
      "source": [
        "a = [1, 2, 3]\n",
        "b = ['a', 'b', 'c']\n",
        "\n",
        "z = zip(a, b)\n",
        "print(list(z)) # [(1, 'a'), (2, 'b'), (3, 'c')]\n",
        "\n",
        "# zip 객체는 한 번 사용되었으므로 빈 리스트가 반환됩니다.\n",
        "print(list(z)) # []"
      ],
      "metadata": {
        "colab": {
          "base_uri": "https://localhost:8080/"
        },
        "id": "V9YRHxwuvQ8h",
        "outputId": "b1c4f97b-d0cb-4f9e-bb3f-0dda7c89aee3"
      },
      "execution_count": null,
      "outputs": [
        {
          "output_type": "stream",
          "name": "stdout",
          "text": [
            "[(1, 'a'), (2, 'b'), (3, 'c')]\n",
            "[]\n"
          ]
        }
      ]
    },
    {
      "cell_type": "code",
      "source": [
        "li = [1, 2, 3]\n",
        "st = ['a', 'b', 'c']\n",
        "z = zip(li, st)\n",
        "\n",
        "for i in z:\n",
        "    print(i)\n",
        "\n",
        "for i in z:\n",
        "    print(i)"
      ],
      "metadata": {
        "colab": {
          "base_uri": "https://localhost:8080/"
        },
        "id": "k4L_MRJ6v1Pu",
        "outputId": "b94a3010-c334-43ec-c4da-8d21658cc82d"
      },
      "execution_count": null,
      "outputs": [
        {
          "output_type": "stream",
          "name": "stdout",
          "text": [
            "(1, 'a')\n",
            "(2, 'b')\n",
            "(3, 'c')\n"
          ]
        }
      ]
    },
    {
      "cell_type": "code",
      "source": [
        "li = [1, 2, 3]\n",
        "st = ['a', 'b', 'c']\n",
        "i = iter(zip(li, st))\n",
        "next(i)"
      ],
      "metadata": {
        "colab": {
          "base_uri": "https://localhost:8080/"
        },
        "id": "E5a_-G9Lv4B9",
        "outputId": "ff426cb2-ab7f-4a7a-aa6e-5e1c7475cc57"
      },
      "execution_count": null,
      "outputs": [
        {
          "output_type": "execute_result",
          "data": {
            "text/plain": [
              "(1, 'a')"
            ]
          },
          "metadata": {},
          "execution_count": 26
        }
      ]
    },
    {
      "cell_type": "code",
      "source": [
        "next(i)"
      ],
      "metadata": {
        "colab": {
          "base_uri": "https://localhost:8080/"
        },
        "id": "ee6hizvVwM65",
        "outputId": "77476d52-f2c0-46cc-ac74-ea7b60999b65"
      },
      "execution_count": null,
      "outputs": [
        {
          "output_type": "execute_result",
          "data": {
            "text/plain": [
              "(2, 'b')"
            ]
          },
          "metadata": {},
          "execution_count": 27
        }
      ]
    },
    {
      "cell_type": "code",
      "source": [
        "next(i)"
      ],
      "metadata": {
        "colab": {
          "base_uri": "https://localhost:8080/"
        },
        "id": "BfXK9PMpwN2i",
        "outputId": "836b9960-55d9-43f6-8b04-f497ea5ec678"
      },
      "execution_count": null,
      "outputs": [
        {
          "output_type": "execute_result",
          "data": {
            "text/plain": [
              "(3, 'c')"
            ]
          },
          "metadata": {},
          "execution_count": 28
        }
      ]
    },
    {
      "cell_type": "code",
      "source": [
        "next(i)# StopIteration"
      ],
      "metadata": {
        "id": "2ndtIuUEwPrE"
      },
      "execution_count": null,
      "outputs": []
    },
    {
      "cell_type": "code",
      "source": [
        "li = [1, 2, 3]\n",
        "z = map(lambda x:x**2, li)\n",
        "\n",
        "for i in z:\n",
        "    print(i)\n",
        "\n",
        "for i in z:\n",
        "    print(i)"
      ],
      "metadata": {
        "colab": {
          "base_uri": "https://localhost:8080/"
        },
        "id": "V5Nzr8o7wkWm",
        "outputId": "fb95ffd0-8f52-43b0-cf75-91024beaeebd"
      },
      "execution_count": null,
      "outputs": [
        {
          "output_type": "stream",
          "name": "stdout",
          "text": [
            "1\n",
            "4\n",
            "9\n"
          ]
        }
      ]
    },
    {
      "cell_type": "code",
      "source": [
        "# 계속 순회가 가능하게 설계가 되어 있습니다.\n",
        "# 이런 설계를 뒤에서 우리가 직접 해보게 될 것입니다.\n",
        "li = [1, 2, 3]\n",
        "z = sorted(li)\n",
        "\n",
        "for i in z:\n",
        "    print(i)\n",
        "\n",
        "for i in z:\n",
        "    print(i)"
      ],
      "metadata": {
        "colab": {
          "base_uri": "https://localhost:8080/"
        },
        "id": "c49jd9Bhw2HW",
        "outputId": "b3665eb8-5fc7-4b8f-ccdb-23549d3ffb39"
      },
      "execution_count": null,
      "outputs": [
        {
          "output_type": "stream",
          "name": "stdout",
          "text": [
            "1\n",
            "2\n",
            "3\n",
            "1\n",
            "2\n",
            "3\n"
          ]
        }
      ]
    },
    {
      "cell_type": "markdown",
      "source": [
        "##조건문"
      ],
      "metadata": {
        "id": "U_01CkP1xbr6"
      }
    },
    {
      "cell_type": "markdown",
      "source": [
        "if, elif, else, continue, break"
      ],
      "metadata": {
        "id": "QTYC6Drmxf1j"
      }
    },
    {
      "cell_type": "code",
      "source": [
        "x = 2\n",
        "if x > 1 and x < 10:\n",
        "    print('Hello')"
      ],
      "metadata": {
        "colab": {
          "base_uri": "https://localhost:8080/"
        },
        "id": "T6SiiglNzG2U",
        "outputId": "76318cb2-f98f-4097-97ed-3e29d9ceec09"
      },
      "execution_count": null,
      "outputs": [
        {
          "output_type": "stream",
          "name": "stdout",
          "text": [
            "Hello\n"
          ]
        }
      ]
    },
    {
      "cell_type": "code",
      "source": [
        "if True:\n",
        "    print('hello')\n"
      ],
      "metadata": {
        "colab": {
          "base_uri": "https://localhost:8080/"
        },
        "id": "BQUeFa_HzZkk",
        "outputId": "0e3712ee-f5fd-420e-efe3-98adeb2b1f76"
      },
      "execution_count": null,
      "outputs": [
        {
          "output_type": "stream",
          "name": "stdout",
          "text": [
            "hello\n"
          ]
        }
      ]
    },
    {
      "cell_type": "code",
      "source": [
        "if 12309:\n",
        "    print('hello')"
      ],
      "metadata": {
        "colab": {
          "base_uri": "https://localhost:8080/"
        },
        "id": "yJQLcjygzeVL",
        "outputId": "dc1bfbdb-ebb9-4381-b791-a2df058c0a75"
      },
      "execution_count": null,
      "outputs": [
        {
          "output_type": "stream",
          "name": "stdout",
          "text": [
            "hello\n"
          ]
        }
      ]
    },
    {
      "cell_type": "code",
      "source": [
        "def f():\n",
        "    return False\n",
        "\n",
        "if f():\n",
        "    print ('hello')\n",
        "    print ('one')\n",
        "print('two')"
      ],
      "metadata": {
        "colab": {
          "base_uri": "https://localhost:8080/"
        },
        "id": "C3azKKcGzjok",
        "outputId": "e6514527-48be-451a-de5f-2d9d631f8129"
      },
      "execution_count": null,
      "outputs": [
        {
          "output_type": "stream",
          "name": "stdout",
          "text": [
            "two\n"
          ]
        }
      ]
    },
    {
      "cell_type": "code",
      "source": [
        "if '':# [], {}, ''는 모두 False 취급 합니다\n",
        "    print ('hello')\n",
        "    print ('one')\n",
        "print('two')"
      ],
      "metadata": {
        "colab": {
          "base_uri": "https://localhost:8080/"
        },
        "id": "AftMEZGb0KO8",
        "outputId": "d6e97af3-eb6e-41ba-98a4-a052322d7449"
      },
      "execution_count": null,
      "outputs": [
        {
          "output_type": "stream",
          "name": "stdout",
          "text": [
            "two\n"
          ]
        }
      ]
    },
    {
      "cell_type": "code",
      "source": [
        "if ' ': # 공백이 있는 것입니다.\n",
        "   print ('hello')\n",
        "\n",
        "    print ('one')\n",
        "    print('two')"
      ],
      "metadata": {
        "id": "k6o3aB4R0R3I"
      },
      "execution_count": null,
      "outputs": []
    },
    {
      "cell_type": "code",
      "source": [
        "if [10,\n",
        "    20,\n",
        "    30, # 마지막 콤마는 허락합니다! 소괄호, 중괄호, 대괄호에 공백은 병합니다.\n",
        "    ]:\n",
        "    print('hello')\n",
        "    print('one')\n",
        "print('two')"
      ],
      "metadata": {
        "colab": {
          "base_uri": "https://localhost:8080/"
        },
        "id": "xHGr1MM81V02",
        "outputId": "02bee16c-34cc-48d0-b07d-21036e77d801"
      },
      "execution_count": null,
      "outputs": [
        {
          "output_type": "stream",
          "name": "stdout",
          "text": [
            "hello\n",
            "one\n",
            "two\n"
          ]
        }
      ]
    },
    {
      "cell_type": "code",
      "source": [
        "if None:\n",
        "    print('false')"
      ],
      "metadata": {
        "id": "tDmZEAjm2bdR"
      },
      "execution_count": null,
      "outputs": []
    },
    {
      "cell_type": "code",
      "source": [
        "\n",
        "if int('11') == int('10'):\n",
        "    print('hello')"
      ],
      "metadata": {
        "id": "yLk7_q0-1Xfb"
      },
      "execution_count": null,
      "outputs": []
    },
    {
      "cell_type": "code",
      "source": [],
      "metadata": {
        "id": "OZ2KbcmS0Pmj"
      },
      "execution_count": null,
      "outputs": []
    },
    {
      "cell_type": "code",
      "source": [
        "if 10 > 11:\n",
        "    print('one')\n",
        "    print('two')\n",
        "print('three')\n",
        "else: # error\n",
        "    print('four')"
      ],
      "metadata": {
        "id": "LtRzbC422yuN"
      },
      "execution_count": null,
      "outputs": []
    },
    {
      "cell_type": "code",
      "source": [],
      "metadata": {
        "id": "UIfJQwIY3cbJ"
      },
      "execution_count": null,
      "outputs": []
    },
    {
      "cell_type": "code",
      "source": [
        "if 10 > 11:\n",
        "    print('one')\n",
        "    print('two')\n",
        "else:\n",
        "    print('three')"
      ],
      "metadata": {
        "colab": {
          "base_uri": "https://localhost:8080/"
        },
        "id": "Rv8Bg6fC3IZ4",
        "outputId": "7715dd56-8a46-448b-8e2d-ef6a88871229"
      },
      "execution_count": null,
      "outputs": [
        {
          "output_type": "stream",
          "name": "stdout",
          "text": [
            "three\n"
          ]
        }
      ]
    },
    {
      "cell_type": "code",
      "source": [
        "# else가 없어도 되는경우\n",
        "def f():\n",
        "    if 10 > 11:\n",
        "        return 'one'\n",
        "    return 'two'\n",
        "\n",
        "print(f())"
      ],
      "metadata": {
        "id": "1g6FbMdk3Ooq"
      },
      "execution_count": null,
      "outputs": []
    },
    {
      "cell_type": "code",
      "source": [
        "# 여러개의 if문을 단축할 수 있는 방법 =>\n",
        "# 가독성이 좋아지는 것을 선택하세요! 정답은 없습니다.\n",
        "# and구문으로 if를 합칠 수 있습니다.\n",
        "x == 10\n",
        "if x > 5:\n",
        "    if type(x) == int:\n",
        "        print('one')\n",
        "\n",
        "if x > 5 and type(x) == int:\n",
        "    print('one')"
      ],
      "metadata": {
        "id": "6SDcsKp03p_A"
      },
      "execution_count": null,
      "outputs": []
    },
    {
      "cell_type": "code",
      "source": [
        "# 여러개의 if문을 단축할 수 있는 방법 =>\n",
        "# 가독성이 좋아지는 것을 선택하세요! 정답은 없습니다.\n",
        "# and구문으로 if를 합칠 수 있습니다.\n",
        "x == 10\n",
        "if x > 5:\n",
        "    if type(x) == int:\n",
        "        if x % 2 == 0:\n",
        "        print('one')\n",
        "\n",
        "if x > 5 and type(x) == int and x % 2 == 0:\n",
        "    print('one')"
      ],
      "metadata": {
        "id": "6hhY22AU4SnV"
      },
      "execution_count": null,
      "outputs": []
    },
    {
      "cell_type": "code",
      "source": [
        "if True:\n",
        "    print('hello')\n",
        "else:\n",
        "    print('hello')\n",
        "else: # error\n",
        "    print('hello')\n",
        "else:\n",
        "    print('hello')"
      ],
      "metadata": {
        "id": "UC7lWdbv5PiY"
      },
      "execution_count": null,
      "outputs": []
    },
    {
      "cell_type": "code",
      "source": [
        "if True:\n",
        "    print('hello')\n",
        "if True:\n",
        "    print('hello')\n",
        "if True:\n",
        "    print('hello')\n",
        "else:\n",
        "    print('hello')"
      ],
      "metadata": {
        "id": "zp_oE9Ly5pRu"
      },
      "execution_count": null,
      "outputs": []
    },
    {
      "cell_type": "code",
      "source": [
        "if True:\n",
        "    print('hello')\n",
        "elif True:\n",
        "    print('hello')\n",
        "elif True:\n",
        "    print('hello')\n",
        "else:\n",
        "    print('hello')"
      ],
      "metadata": {
        "id": "_5Uf9dTN5qY8"
      },
      "execution_count": null,
      "outputs": []
    },
    {
      "cell_type": "code",
      "source": [
        "elif True: # error 위에 구문이 있어야 합니다.\n",
        "    print('hello')\n",
        "elif True:\n",
        "    print('hello')\n",
        "else:\n",
        "    print('hello')"
      ],
      "metadata": {
        "id": "gBQy17Ac5rih"
      },
      "execution_count": null,
      "outputs": []
    },
    {
      "cell_type": "code",
      "source": [
        "# Ctrl + M. m 누르시면 코드블록이 마크다운 블록이 됩니다.\n",
        "# Ctrl + M. y 누르시면 마크다운이 코드블록이 됩니다.\n"
      ],
      "metadata": {
        "id": "SrQFzvk-59gs"
      },
      "execution_count": null,
      "outputs": []
    },
    {
      "cell_type": "code",
      "source": [
        "score = 81\n",
        "money = 0\n",
        " \n",
        "if score >= 90: # 만약에 조건이 참이라면\n",
        "    print('mom : i\\'m so happy!')\n",
        "    money += 1000000\n",
        "elif score >= 80: # 그렇지 않고 만약에 조건이 참이라면\n",
        "    print('mom : i\\'m happy!')\n",
        "    money += 100000\n",
        "elif score >= 70: # '그렇지 않고 만약에' 에서 '그렇지 않고' 가 만족이 안되기 때문에 실행하지 못합니다\n",
        "    print('mom : i\\'m so...!')\n",
        "    money += 10000\n",
        "elif score >= 60:\n",
        "    print('mom : i\\'m so...!')\n",
        "    money += 1000\n",
        "else:\n",
        "    print('mom : i\\'m...!')\n",
        "print(money)\n",
        "# elif, else구문은 함께 썼다면 한 더어리가 되어\n",
        "# 하나만 실행이 되고 나머지는 실행이 되지 않습니다."
      ],
      "metadata": {
        "id": "LRG1kr0Xws5k"
      },
      "execution_count": null,
      "outputs": []
    },
    {
      "cell_type": "markdown",
      "source": [
        "## if 심화"
      ],
      "metadata": {
        "id": "8ZQquyqH50_X"
      }
    },
    {
      "cell_type": "code",
      "source": [
        "# 저는 개인적으로 해당 문법이 가독성을 떨어뜨린다라고 생각해\n",
        "# 권장하진 않습니다.\n",
        "if 10 > 5: print('hello') # 1줄에 사용하는 것이 가능합니다."
      ],
      "metadata": {
        "colab": {
          "base_uri": "https://localhost:8080/"
        },
        "id": "52pShVOV6RYZ",
        "outputId": "ff736854-9df7-4676-8418-63557cb18ec8"
      },
      "execution_count": null,
      "outputs": [
        {
          "output_type": "stream",
          "name": "stdout",
          "text": [
            "hello\n"
          ]
        }
      ]
    },
    {
      "cell_type": "code",
      "source": [
        "if 1 > 5: print('hello')\n",
        "elif 5 > 1: print('world')"
      ],
      "metadata": {
        "colab": {
          "base_uri": "https://localhost:8080/"
        },
        "id": "Vab1_yCQ8yKF",
        "outputId": "782d8e2c-820f-4fe1-cae8-4b59a62fcd31"
      },
      "execution_count": null,
      "outputs": [
        {
          "output_type": "stream",
          "name": "stdout",
          "text": [
            "world\n"
          ]
        }
      ]
    },
    {
      "cell_type": "code",
      "source": [
        "if 1 > 5: print('hello')\n",
        "elif 1 > 5: print('world')\n",
        "else: print('hello world')"
      ],
      "metadata": {
        "colab": {
          "base_uri": "https://localhost:8080/"
        },
        "id": "Ezvu71o183k9",
        "outputId": "9a6c384a-1c19-4983-dc42-7c788c471820"
      },
      "execution_count": null,
      "outputs": [
        {
          "output_type": "stream",
          "name": "stdout",
          "text": [
            "hello world\n"
          ]
        }
      ]
    },
    {
      "cell_type": "code",
      "source": [
        "# 3항 연산자는 가독성을 해치지 않는 선에서 많이 사용합니다\n",
        "print('one') if 5 > 1 else print('two')"
      ],
      "metadata": {
        "colab": {
          "base_uri": "https://localhost:8080/"
        },
        "id": "zmOGM7V69FMO",
        "outputId": "55d073b3-64d9-49ce-b733-70d4149eb438"
      },
      "execution_count": null,
      "outputs": [
        {
          "output_type": "stream",
          "name": "stdout",
          "text": [
            "one\n"
          ]
        }
      ]
    },
    {
      "cell_type": "code",
      "source": [
        "(print('one') if 5 > 1 else print('two'))"
      ],
      "metadata": {
        "colab": {
          "base_uri": "https://localhost:8080/"
        },
        "id": "hfPYYaK49egc",
        "outputId": "416ab25a-8736-42f0-9b7e-21f078991251"
      },
      "execution_count": null,
      "outputs": [
        {
          "output_type": "stream",
          "name": "stdout",
          "text": [
            "one\n"
          ]
        }
      ]
    },
    {
      "cell_type": "code",
      "source": [
        "# error 이렇게 사용하지 않습니다!\n",
        "if 5 > 1 print('one') else print('two')"
      ],
      "metadata": {
        "id": "26Y-K08992GE"
      },
      "execution_count": null,
      "outputs": []
    },
    {
      "cell_type": "code",
      "source": [
        " if 5 > 1:\n",
        "     print('one')\n",
        "else:\n",
        "    print('two')\n"
      ],
      "metadata": {
        "colab": {
          "base_uri": "https://localhost:8080/"
        },
        "id": "UFbedIne9-eH",
        "outputId": "25496b52-87eb-4945-ad19-08b6d98f6bd3"
      },
      "execution_count": null,
      "outputs": [
        {
          "output_type": "stream",
          "name": "stdout",
          "text": [
            "one\n"
          ]
        }
      ]
    },
    {
      "cell_type": "code",
      "source": [
        "# 할당이나 return에서 많이 사용합니다.\n",
        "# 할당이나 return을 할 떄 어떤 조건을 달고 싶을 때\n",
        "# 그런데 일반 if문과 else문 거창하다고 생각이 되었을 때\n",
        "y = 100\n",
        "x = 'one' if y > 80 else None"
      ],
      "metadata": {
        "id": "Rf4vQZ_y-Jlf"
      },
      "execution_count": null,
      "outputs": []
    },
    {
      "cell_type": "code",
      "source": [
        "def f(y):\n",
        "    if y > 80:\n",
        "        x = 'one'\n",
        "    else:\n",
        "        x= None\n",
        "    return x\n",
        "\n",
        "print(f(100))\n",
        "print(f(30))"
      ],
      "metadata": {
        "colab": {
          "base_uri": "https://localhost:8080/"
        },
        "id": "-JiwVo2c-j_V",
        "outputId": "618124f8-1317-4ead-e7ce-7af766f05f00"
      },
      "execution_count": null,
      "outputs": [
        {
          "output_type": "stream",
          "name": "stdout",
          "text": [
            "one\n",
            "None\n"
          ]
        }
      ]
    },
    {
      "cell_type": "code",
      "source": [
        "def f(y):\n",
        "    if y > 80:\n",
        "        return 'one'\n",
        "    return None\n",
        "\n",
        "print(f(100))\n",
        "print(f(30))"
      ],
      "metadata": {
        "id": "Rj-l5CoS_x8i"
      },
      "execution_count": null,
      "outputs": []
    },
    {
      "cell_type": "code",
      "source": [
        "def f(y):\n",
        "    return 'one' if y > 80 else None\n",
        "\n",
        "print(f(100))\n",
        "print(f(30))"
      ],
      "metadata": {
        "id": "BKB8MWKw_ecX"
      },
      "execution_count": null,
      "outputs": []
    },
    {
      "cell_type": "code",
      "source": [
        "def custom_sum(x):\n",
        "    return sum(x)\n",
        "\n",
        "custom_sum([1, 2, 3, 4, 5, 6]) # 21\n",
        "custom_sum([1, 2, 3, 4, '5', 6]) # float('inf')"
      ],
      "metadata": {
        "id": "vE-aifvI_1pM"
      },
      "execution_count": null,
      "outputs": []
    },
    {
      "cell_type": "code",
      "source": [
        "def custom_sum(x):\n",
        "    return sum(x) if len(list(filter(lambda x:type(x)==int, x))) == len(x) else float('inf')\n",
        "\n",
        "custom_sum([1, 2, 3, 4, 5, 6]) # 21\n",
        "custom_sum([1, 2, 3, 4, '5', 6]) # float('inf')"
      ],
      "metadata": {
        "colab": {
          "base_uri": "https://localhost:8080/"
        },
        "id": "xYPoktRgAkH4",
        "outputId": "6ce4438b-7e23-45d6-a078-1681e6e9f257"
      },
      "execution_count": null,
      "outputs": [
        {
          "output_type": "execute_result",
          "data": {
            "text/plain": [
              "inf"
            ]
          },
          "metadata": {},
          "execution_count": 7
        }
      ]
    },
    {
      "cell_type": "code",
      "source": [
        "l = [1, 2, 3, '4', '5']\n",
        "list(filter(lambda x : type(x)== int, l))\n",
        "len(list(filter(lambda x : type(x)== int, l)))\n",
        "len(l)"
      ],
      "metadata": {
        "colab": {
          "base_uri": "https://localhost:8080/"
        },
        "id": "kWjM8YpqA2r1",
        "outputId": "7c62c1f1-82b9-416c-c6c3-d5b0de8a5f58"
      },
      "execution_count": null,
      "outputs": [
        {
          "output_type": "execute_result",
          "data": {
            "text/plain": [
              "5"
            ]
          },
          "metadata": {},
          "execution_count": 4
        }
      ]
    },
    {
      "cell_type": "markdown",
      "source": [],
      "metadata": {
        "id": "8uzO4Z9H9ebr"
      }
    },
    {
      "cell_type": "markdown",
      "source": [
        "## !! 오늘 배운 것 정리\n",
        "* 조건문\n",
        "    * 조건에 따라 코드를 분기할 수 있는 구문\n",
        "    * if, elif, else\n",
        "    * elif와 else는 단독으로 사용이 되지 않습니다.\n",
        "    * 예시(score에 값을 변경해보면서 money 값을 확인해주세요.)\n",
        "    ```python\n",
        "    score = 81\n",
        "    money = 0\n",
        "\n",
        "    if score >= 90: # 만약에 조건이 참이라면\n",
        "        print('mom : i\\'m so happy!')\n",
        "        money += 1000000\n",
        "    elif score >= 80: # 그렇지 않고 만약에 조건이 참이라면\n",
        "        print('mom : i\\'m happy!')\n",
        "        money += 100000\n",
        "    elif score >= 70: # '그렇지 않고 만약에'에서 '그렇지 않고'가 만족이 안되기 때문에 실행하지 못합니다.\n",
        "        print('mom : i\\'m so...!')\n",
        "        money += 10000\n",
        "    elif score >= 60:\n",
        "        print('mom : i\\'m so...!')\n",
        "        money += 1000\n",
        "    else:\n",
        "        print('mom : i\\'m...!')\n",
        "    print(money)\n",
        "    ```\n",
        "    * 3항 연산자\n",
        "    ```python\n",
        "    def f(y):\n",
        "    return 'one' if y > 80 else None\n",
        "    ```\n",
        "* 정해진 순서를(next) 반복하는 것\n",
        "    * 형태\n",
        "    ```python\n",
        "    # for 변수 in 순회가능한객체:\n",
        "    #     code\n",
        "    ```\n",
        "    * 순회 가능한 객체(이터러블 객체) : 문자열, 리스트, 튜플, 딕셔너리, 셋, range, enumerate, map, set, sorted, reverse 등\n",
        "    * 순회 불가능한 객체 : int, float 등 \n",
        "    * code 안에서 변수를 사용하지 않을 경우 언더바를 관습적으로 사용합니다.\n",
        "    ```python\n",
        "    # for _ in 순회가능한객체:\n",
        "    #     code"
      ],
      "metadata": {
        "id": "x9AK0T7ZCZzb"
      }
    },
    {
      "cell_type": "code",
      "source": [
        "l = []\n",
        "for i in range(10):\n",
        "    if i % 2 == 0:\n",
        "        l.append(i)\n",
        "l"
      ],
      "metadata": {
        "colab": {
          "base_uri": "https://localhost:8080/"
        },
        "id": "XdXGWAzMFwNw",
        "outputId": "1bf97f20-c3cc-4227-a717-8cf71603f934"
      },
      "execution_count": null,
      "outputs": [
        {
          "output_type": "execute_result",
          "data": {
            "text/plain": [
              "[0, 2, 4, 6, 8]"
            ]
          },
          "metadata": {},
          "execution_count": 18
        }
      ]
    },
    {
      "cell_type": "code",
      "source": [
        "# [i for i in range(10) if i % 2 == 0 elif i % 3 == 0] # error"
      ],
      "metadata": {
        "id": "g49HQVhQClRp"
      },
      "execution_count": null,
      "outputs": []
    },
    {
      "cell_type": "code",
      "source": [
        "# 구구단\n",
        "# 별찍기\n",
        "# for i in range(2):\n",
        "#     for j in range(1, 10):\n",
        "#         print(i, j, i*j)\n",
        "\n",
        "\n",
        "\n",
        "'''\n",
        "# step 0\n",
        "# 이렇게 손이나 문자열로 늘여트려놓고\n",
        "# 내가 무엇을 줄일 수 있을까?\n",
        "\n",
        "2 1 2\n",
        "2 2 4\n",
        "2 3 6\n",
        "2 4 8\n",
        "2 5 10\n",
        "2 6 12\n",
        "2 7 14\n",
        "'''\n",
        "\n",
        "# step 1 ~ 100 이렇게 하나씩 줄여가면 됩니다.\n",
        "\n",
        "# 이렇게 하나씩 줄여가면 됩니다.\n",
        "for i in range(1, 10):\n",
        "    print(2, i, 99)\n",
        "# 이렇게 하나씩 줄여가면 됩니다.\n",
        "# for i in range(1, 10):\n",
        "#     print(2, i, 2*i)\n",
        "\n",
        "for 단 in range(2, 10):\n",
        "    for i in range(1, 10):\n",
        "        print(단, i, 단*i)"
      ],
      "metadata": {
        "id": "sBfd0c-BCfTt"
      },
      "execution_count": null,
      "outputs": []
    },
    {
      "cell_type": "code",
      "source": [
        "# 별찍기\n",
        "# 트리 만드는 문제도 있고, 원 만드는 문제도 있고...\n",
        "'''\n",
        "*\n",
        "**\n",
        "***\n",
        "****\n",
        "*****\n",
        "'''"
      ],
      "metadata": {
        "id": "OsbYveWsETtQ"
      },
      "execution_count": null,
      "outputs": []
    },
    {
      "cell_type": "code",
      "source": [
        "user_input = int(input('찍을 별의 층수?'))\n",
        "for i in range(1, user_input+1):\n",
        "    print('*' * i)\n"
      ],
      "metadata": {
        "colab": {
          "base_uri": "https://localhost:8080/"
        },
        "id": "fmK7yLafEdjo",
        "outputId": "f720fcaf-61e5-424b-b8a2-94ea0c8999e8"
      },
      "execution_count": null,
      "outputs": [
        {
          "output_type": "stream",
          "name": "stdout",
          "text": [
            "찍을 별의 층수?5\n",
            "*\n",
            "**\n",
            "***\n",
            "****\n",
            "*****\n"
          ]
        }
      ]
    },
    {
      "cell_type": "code",
      "source": [
        "l = []\n",
        "for i in range(2, 10):\n",
        "     for j in range(1, 10):\n",
        "        l.append([i, j, i*j])\n",
        "l"
      ],
      "metadata": {
        "id": "nTwGi5Y7FC4b"
      },
      "execution_count": null,
      "outputs": []
    },
    {
      "cell_type": "code",
      "source": [
        "[[i, j, i*j]] for i in range(2, 10) for j in range(1, 10)]"
      ],
      "metadata": {
        "id": "TFKr_75-FVx3"
      },
      "execution_count": null,
      "outputs": []
    },
    {
      "cell_type": "markdown",
      "source": [
        "## 다중 리스트 순회"
      ],
      "metadata": {
        "id": "BLQAWOo6Fe-u"
      }
    },
    {
      "cell_type": "code",
      "source": [
        "skill = [\n",
        "        ('고기잡이', 100),\n",
        "        ('고기팔기', 120),\n",
        "        ('낚시', 5),\n",
        "        ('통발', 5),\n",
        "        ('큰그물', 5)\n",
        "]\n",
        "\n",
        "for i,j in skill:\n",
        "    print(i,j)"
      ],
      "metadata": {
        "colab": {
          "base_uri": "https://localhost:8080/"
        },
        "id": "yAYaCKyxF-l8",
        "outputId": "4327898a-bc3c-4e86-994c-db69cb4eac0e"
      },
      "execution_count": null,
      "outputs": [
        {
          "output_type": "stream",
          "name": "stdout",
          "text": [
            "고기잡이 100\n",
            "고기팔기 120\n",
            "낚시 5\n",
            "통발 5\n",
            "큰그물 5\n"
          ]
        }
      ]
    },
    {
      "cell_type": "code",
      "source": [
        "skill_name = ['고기잡이', '고기팔기', '낚시']\n",
        "skill_point = [100, 120, 5]\n",
        "\n",
        "for i, j in zip(skill_name, skill_point):\n",
        "    print(i, j)"
      ],
      "metadata": {
        "colab": {
          "base_uri": "https://localhost:8080/"
        },
        "id": "2vhil45ZGGIi",
        "outputId": "68ec0fbd-e378-41d3-b033-90e81a529c6a"
      },
      "execution_count": null,
      "outputs": [
        {
          "output_type": "stream",
          "name": "stdout",
          "text": [
            "고기잡이 100\n",
            "고기팔기 120\n",
            "낚시 5\n"
          ]
        }
      ]
    },
    {
      "cell_type": "code",
      "source": [
        "skill = [\n",
        "        ('고기잡이', [1, 100]),\n",
        "        ('고기팔기', [1, 100]),\n",
        "        ('낚시', [2, 100]),\n",
        "        ('통발', [2, 100]),\n",
        "        ('큰그물', [2, 100])\n",
        "]\n",
        "\n",
        "for i,[x, y] in skill:\n",
        "    print(i, x, y)"
      ],
      "metadata": {
        "colab": {
          "base_uri": "https://localhost:8080/"
        },
        "id": "czb6Z2WDGo6T",
        "outputId": "288ac819-21ad-4a47-c5b6-d3704357422e"
      },
      "execution_count": null,
      "outputs": [
        {
          "output_type": "stream",
          "name": "stdout",
          "text": [
            "고기잡이 1 100\n",
            "고기팔기 1 100\n",
            "낚시 2 100\n",
            "통발 2 100\n",
            "큰그물 2 100\n"
          ]
        }
      ]
    },
    {
      "cell_type": "code",
      "source": [
        "skill = [\n",
        "        ('고기잡이', 'ab'), # ('고기잡이', 'abcd') 이런 형태는 error\n",
        "        ('고기팔기', 'cd'),\n",
        "        ('낚시', 'aa'),\n",
        "        ('통발', 'cc'),\n",
        "        ('큰그물', 'dd')\n",
        "]\n",
        "\n",
        "for i, [x, y] in skill:\n",
        "    print(i, x, y)"
      ],
      "metadata": {
        "colab": {
          "base_uri": "https://localhost:8080/"
        },
        "id": "pSSQ9YWiHKKs",
        "outputId": "d7a71ae0-de22-4ef5-a550-1b4a1e778963"
      },
      "execution_count": null,
      "outputs": [
        {
          "output_type": "stream",
          "name": "stdout",
          "text": [
            "고기잡이 a b\n",
            "고기팔기 c d\n",
            "낚시 a a\n",
            "통발 c c\n",
            "큰그물 d d\n"
          ]
        }
      ]
    },
    {
      "cell_type": "code",
      "source": [
        "# 문제\n",
        "# data는 다음과 같은 데이터가 있습니다.\n",
        "# 각각 skill 이름, skill 제한 레벨, skill 포인트, skill 등급입니다.\n",
        "# 아래와 같이 출력해주세요.\n",
        "data = [\n",
        "        ('고기잡이', (1, 100, 'S')),\n",
        "        ('고기팔기', (1, 100, 'A')),\n",
        "        ('낚시', (2, 100, 'A')),\n",
        "        ('통발', (2, 100, 'B')),\n",
        "        ('큰그물', (2, 100, 'S'))\n",
        "]\n",
        "\n",
        "\n",
        "for i,[x, y, z] in data:\n",
        "    print(f'축하합니다. {z}등급에 skill{i}습득하셨습니다!')\n",
        "    print(f'해당 스킬은 레벨제한 {x}에 스킬포인트 {y}입니다.')\n",
        "\n",
        "\n",
        "# 출력값\n",
        "# 아래와 같은 형식으로 총 5개 출력해야 합니다.\n",
        "# '축하합니다. S등급에 skill 고기잡이를 습득하셨습니다! \n",
        "#  해당 스킬은 레벨 제한 1에 스킬 포인트 100입니다.'\n"
      ],
      "metadata": {
        "colab": {
          "base_uri": "https://localhost:8080/"
        },
        "id": "Tqtol9-kH2sG",
        "outputId": "eb6fafd1-7d4a-40a4-d108-2f1270f78451"
      },
      "execution_count": null,
      "outputs": [
        {
          "output_type": "stream",
          "name": "stdout",
          "text": [
            "축하합니다. S등급에 skill고기잡이습득하셨습니다!\n",
            "해당 스킬은 레벨제한 1에 스킬포인트 100입니다.\n",
            "축하합니다. A등급에 skill고기팔기습득하셨습니다!\n",
            "해당 스킬은 레벨제한 1에 스킬포인트 100입니다.\n",
            "축하합니다. A등급에 skill낚시습득하셨습니다!\n",
            "해당 스킬은 레벨제한 2에 스킬포인트 100입니다.\n",
            "축하합니다. B등급에 skill통발습득하셨습니다!\n",
            "해당 스킬은 레벨제한 2에 스킬포인트 100입니다.\n",
            "축하합니다. S등급에 skill큰그물습득하셨습니다!\n",
            "해당 스킬은 레벨제한 2에 스킬포인트 100입니다.\n"
          ]
        }
      ]
    },
    {
      "cell_type": "markdown",
      "source": [
        "## while"
      ],
      "metadata": {
        "id": "kyD31dDVMFND"
      }
    },
    {
      "cell_type": "code",
      "source": [
        "# 반복문 : for, while\n",
        "a = 1 \n",
        "while a < 10 : # True인 동안에 \n",
        "    print(a)\n",
        "    a += 1"
      ],
      "metadata": {
        "colab": {
          "base_uri": "https://localhost:8080/"
        },
        "id": "E4ASG6hRMNtQ",
        "outputId": "732c851f-b971-4971-bcc5-6c7e6fa3b2e3"
      },
      "execution_count": null,
      "outputs": [
        {
          "output_type": "stream",
          "name": "stdout",
          "text": [
            "1\n",
            "2\n",
            "3\n",
            "4\n",
            "5\n",
            "6\n",
            "7\n",
            "8\n",
            "9\n"
          ]
        }
      ]
    },
    {
      "cell_type": "code",
      "source": [
        "# while 특정요소:\n",
        "#     특정요소값 꺼내는 문법\n",
        "#     특정요소가 모두 없어질 떄까지\n",
        "\n",
        "ㅣ = [1, 2, 3]\n",
        "while l: #[]\n",
        "    print(l.pop())"
      ],
      "metadata": {
        "colab": {
          "base_uri": "https://localhost:8080/"
        },
        "id": "IJONtO7NMruz",
        "outputId": "fac0d9ab-f3f9-4180-8e2a-17e44d57be7d"
      },
      "execution_count": null,
      "outputs": [
        {
          "output_type": "execute_result",
          "data": {
            "text/plain": [
              "[]"
            ]
          },
          "metadata": {},
          "execution_count": 51
        }
      ]
    },
    {
      "cell_type": "code",
      "source": [
        "ㅣ = {1, 2, 3}\n",
        "while l:\n",
        "    print(l.pop())"
      ],
      "metadata": {
        "id": "Be7ALe7bPol-"
      },
      "execution_count": null,
      "outputs": []
    },
    {
      "cell_type": "code",
      "source": [
        "# 중복되는 문자열 중 가장 첫번째 나온\n",
        "# 문자의 index를 반환하라!\n",
        "s= 'abkkkbnbbbccdennnnnnneefefg'\n",
        "ss= set(s)\n",
        "while ss:\n",
        "    strint = ss.pop()\n",
        "    print(string, s.index(string))"
      ],
      "metadata": {
        "colab": {
          "base_uri": "https://localhost:8080/",
          "height": 211
        },
        "id": "-4zi3ilBPyOO",
        "outputId": "86a7fd40-a2d9-4a6f-e3b1-ed7c922fb4eb"
      },
      "execution_count": null,
      "outputs": [
        {
          "output_type": "error",
          "ename": "NameError",
          "evalue": "ignored",
          "traceback": [
            "\u001b[0;31m---------------------------------------------------------------------------\u001b[0m",
            "\u001b[0;31mNameError\u001b[0m                                 Traceback (most recent call last)",
            "\u001b[0;32m<ipython-input-56-809040d4a86c>\u001b[0m in \u001b[0;36m<cell line: 5>\u001b[0;34m()\u001b[0m\n\u001b[1;32m      5\u001b[0m \u001b[0;32mwhile\u001b[0m \u001b[0mss\u001b[0m\u001b[0;34m:\u001b[0m\u001b[0;34m\u001b[0m\u001b[0;34m\u001b[0m\u001b[0m\n\u001b[1;32m      6\u001b[0m     \u001b[0mstrint\u001b[0m \u001b[0;34m=\u001b[0m \u001b[0mss\u001b[0m\u001b[0;34m.\u001b[0m\u001b[0mpop\u001b[0m\u001b[0;34m(\u001b[0m\u001b[0;34m)\u001b[0m\u001b[0;34m\u001b[0m\u001b[0;34m\u001b[0m\u001b[0m\n\u001b[0;32m----> 7\u001b[0;31m     \u001b[0mprint\u001b[0m\u001b[0;34m(\u001b[0m\u001b[0mstring\u001b[0m\u001b[0;34m,\u001b[0m \u001b[0ms\u001b[0m\u001b[0;34m.\u001b[0m\u001b[0mindex\u001b[0m\u001b[0;34m(\u001b[0m\u001b[0mstring\u001b[0m\u001b[0;34m)\u001b[0m\u001b[0;34m)\u001b[0m\u001b[0;34m\u001b[0m\u001b[0;34m\u001b[0m\u001b[0m\n\u001b[0m",
            "\u001b[0;31mNameError\u001b[0m: name 'string' is not defined"
          ]
        }
      ]
    },
    {
      "cell_type": "code",
      "source": [
        "# 이러한 무한반복은 메모리를 모두 소진합니다.\n",
        "# 서버가 뻗을 수도 있습니다.\n",
        "while True:\n",
        "    user_input = input('$')\n",
        "    split_data = user_input.split(' ')\n",
        "    if user_input.split(' ')[0] == 'mkdir':\n",
        "        print(f'{split_data[1]}'폴더가 생성되었습니다!')\n",
        "    elif user_input.split(' ')[0] == 'rmdir':\n",
        "        print(f'{split_data[1]}'폴더가 삭제되었습니다!')\n",
        "    elif split_data[0] == 'exit':\n",
        "        print('프로그램을 종료합니다.')"
      ],
      "metadata": {
        "colab": {
          "base_uri": "https://localhost:8080/",
          "height": 137
        },
        "id": "QlAQTYsdQWOd",
        "outputId": "2be38037-ef0b-4454-b379-a047ed95f2b2"
      },
      "execution_count": null,
      "outputs": [
        {
          "output_type": "error",
          "ename": "SyntaxError",
          "evalue": "ignored",
          "traceback": [
            "\u001b[0;36m  File \u001b[0;32m\"<ipython-input-58-855b32070c25>\"\u001b[0;36m, line \u001b[0;32m7\u001b[0m\n\u001b[0;31m    print(f'{split_data[1]}'폴더가 생성되었습니다!')\u001b[0m\n\u001b[0m                                        ^\u001b[0m\n\u001b[0;31mSyntaxError\u001b[0m\u001b[0;31m:\u001b[0m unterminated string literal (detected at line 7)\n"
          ]
        }
      ]
    },
    {
      "cell_type": "code",
      "source": [
        "# 이러한 무한반복은 메모리를 모두 소진합니다.\n",
        "# 서버가 뻗을 수도 있습니다.\n",
        "while True:\n",
        "    user_input = input('$')\n",
        "    split_data = user_input.split(' ')\n",
        "    if split_data[0] == 'mkdir':\n",
        "        print(f'{split_data[1]} 폴더가 생성되었습니다!')\n",
        "    elif split_data[0] == 'rmdir':\n",
        "        print(f'{split_data[1]} 폴더가 삭제되었습니다!')\n",
        "    elif split_data[0] == 'exit':\n",
        "        print('프로그램을 종료합니다.')\n",
        "        break"
      ],
      "metadata": {
        "id": "UjCzD6b4SFN8"
      },
      "execution_count": null,
      "outputs": []
    },
    {
      "cell_type": "code",
      "source": [
        "import random\n",
        "\n",
        "random.randint(1, 100)"
      ],
      "metadata": {
        "colab": {
          "base_uri": "https://localhost:8080/"
        },
        "id": "EwhvWcA1S8DD",
        "outputId": "0b8b4a95-7cd3-49a0-cf3a-ab1db40d3295"
      },
      "execution_count": null,
      "outputs": [
        {
          "output_type": "execute_result",
          "data": {
            "text/plain": [
              "14"
            ]
          },
          "metadata": {},
          "execution_count": 64
        }
      ]
    },
    {
      "cell_type": "code",
      "source": [
        "# up down game\n",
        "\n",
        "result = random.randint(1, 100)\n",
        "while True:\n",
        "    user_input = int(input())\n",
        "    if user_input > result:\n",
        "        print('down')\n",
        "    elif user_input < result:\n",
        "        print('up')\n",
        "    else:\n",
        "        print('맞췄습니다!')\n",
        "        print('프로그램을 종료합니다.')\n",
        "        break"
      ],
      "metadata": {
        "id": "qZJE_KGqSQL-"
      },
      "execution_count": null,
      "outputs": []
    },
    {
      "cell_type": "code",
      "source": [
        "# 구구단이 출력되지 않는 코드\n",
        "# 한땀한땀 따라가면서 왜 출력이 되지 않는지 체크해보세요.\n",
        "x = 2 \n",
        "y = 1\n",
        "while x < 10:\n",
        "    while y < 10:\n",
        "        print(x, y, x * y)\n",
        "        y +=1\n",
        "    x +=1"
      ],
      "metadata": {
        "colab": {
          "base_uri": "https://localhost:8080/"
        },
        "id": "fBfd8PhHT2M8",
        "outputId": "80401a78-b176-4106-e263-d6e94084fcaa"
      },
      "execution_count": null,
      "outputs": [
        {
          "output_type": "stream",
          "name": "stdout",
          "text": [
            "2 1 2\n",
            "2 2 4\n",
            "2 3 6\n",
            "2 4 8\n",
            "2 5 10\n",
            "2 6 12\n",
            "2 7 14\n",
            "2 8 16\n",
            "2 9 18\n"
          ]
        }
      ]
    },
    {
      "cell_type": "code",
      "source": [
        "# 구구단이 출력되지 않는 코드\n",
        "# 한땀한땀 따라가면서 왜 출력이 되지 않는지 체크해보세요.\n",
        "x = 2\n",
        "y = 1\n",
        "while x < 10:\n",
        "    while y < 10:\n",
        "        print(x, y, x * y)\n",
        "        y +=1\n",
        "    y= 1 # 초기화를 해주어야 다음 while에서 y < 10 에 들어갈 수 있습니다.\n",
        "    x +=1"
      ],
      "metadata": {
        "id": "ZJ7GaGWfUXyv"
      },
      "execution_count": null,
      "outputs": []
    },
    {
      "cell_type": "code",
      "source": [
        "count = 0\n",
        "while True:\n",
        "    print(count)\n",
        "    if count == 5:\n",
        "        break\n",
        "    count +=1\n",
        "print('end')"
      ],
      "metadata": {
        "colab": {
          "base_uri": "https://localhost:8080/"
        },
        "id": "vav99kvoUjTd",
        "outputId": "94a8a7a7-ca1b-4243-f776-4084f7e01205"
      },
      "execution_count": null,
      "outputs": [
        {
          "output_type": "stream",
          "name": "stdout",
          "text": [
            "0\n",
            "1\n",
            "2\n",
            "3\n",
            "4\n",
            "5\n",
            "end\n"
          ]
        }
      ]
    },
    {
      "cell_type": "code",
      "source": [
        "# 무한루프\n",
        "count = 0.0\n",
        "while True:\n",
        "    print(count)\n",
        "    if count >=0.3:\n",
        "        break\n",
        "    count += 0.1\n",
        "print('end')"
      ],
      "metadata": {
        "colab": {
          "base_uri": "https://localhost:8080/"
        },
        "id": "YZ0IZzLIVQAs",
        "outputId": "43085a09-6f9f-4b59-ced5-146a2ccb6fc7"
      },
      "execution_count": null,
      "outputs": [
        {
          "output_type": "stream",
          "name": "stdout",
          "text": [
            "0.0\n",
            "0.1\n",
            "0.2\n",
            "0.30000000000000004\n",
            "end\n"
          ]
        }
      ]
    },
    {
      "cell_type": "code",
      "source": [
        "# 다른 언어에서는 이 구문이 작동되지 않습니다.\n",
        "i = 0\n",
        "while i < 10:\n",
        "    if i == 5:\n",
        "        break\n",
        "    i += 1\n",
        "else:\n",
        "    print('정상종료!')"
      ],
      "metadata": {
        "id": "MG02B3h5VwcN"
      },
      "execution_count": null,
      "outputs": []
    },
    {
      "cell_type": "code",
      "source": [
        "i = 0\n",
        "while i < 10:\n",
        "    i += 1\n",
        "else:\n",
        "    print('정상종료!')"
      ],
      "metadata": {
        "colab": {
          "base_uri": "https://localhost:8080/"
        },
        "id": "ez-_FSUGVw2n",
        "outputId": "997a4c13-564e-4475-845b-1625c7d83033"
      },
      "execution_count": null,
      "outputs": [
        {
          "output_type": "stream",
          "name": "stdout",
          "text": [
            "정상종료!\n"
          ]
        }
      ]
    },
    {
      "cell_type": "markdown",
      "source": [
        "## try, except, else"
      ],
      "metadata": {
        "id": "1ezHd3mDV23o"
      }
    },
    {
      "cell_type": "code",
      "source": [
        "# try:\n",
        "#   실행문\n",
        "# except:\n",
        "#   예외 발생 시 처리문\n",
        "# else:\n",
        "#   예외 발생하지 않을 경우 실행문"
      ],
      "metadata": {
        "id": "5q6Qynv1MdP8"
      },
      "execution_count": null,
      "outputs": []
    },
    {
      "cell_type": "code",
      "source": [
        "try:\n",
        "    i = 1\n",
        "    j = 0\n",
        "    x = i/j\n",
        "except:\n",
        "    print(\"error\")\n",
        "else:\n",
        "    print(x)"
      ],
      "metadata": {
        "colab": {
          "base_uri": "https://localhost:8080/"
        },
        "id": "KsoRpokrWIbW",
        "outputId": "2692eb5b-4f7c-4cfc-be14-88fc8e69397f"
      },
      "execution_count": null,
      "outputs": [
        {
          "output_type": "stream",
          "name": "stdout",
          "text": [
            "error\n"
          ]
        }
      ]
    },
    {
      "cell_type": "markdown",
      "source": [
        "* https://school.programmers.co.kr/learn/courses/30/lessons/120871"
      ],
      "metadata": {
        "id": "0mCMahXTYILx"
      }
    },
    {
      "cell_type": "code",
      "source": [
        "count10 = 0\n",
        "n = 15\n",
        "while count10 < n + 1:\n",
        "    print(count10)\n",
        "    count10 +=1"
      ],
      "metadata": {
        "id": "xwlA2MkRYfGx"
      },
      "execution_count": null,
      "outputs": []
    },
    {
      "cell_type": "code",
      "source": [
        "# step2 조건만 간단히 구현\n",
        "count10 = 0\n",
        "count3 = 0 # 3x 마을에서 쓰는 숫자\n",
        "n = 5\n",
        "while count10 < n + 1:\n",
        "        count10 += 1\n",
        "        count3 +=1\n",
        "        if count3 % 3 == 0 or '3' in str(count10):\n",
        "            count3 += 1\n",
        "        #저주의 숫자를 지나가도 다시 저주의 숫자일수 있습니다.\n",
        "        # 체크를 계속해야하는데 한 번만 합니다.\n",
        "        print(count10, count3)\n",
        "count3\n",
        "    "
      ],
      "metadata": {
        "id": "ogMN0136Yznu"
      },
      "execution_count": null,
      "outputs": []
    },
    {
      "cell_type": "code",
      "source": [
        "# step3 조건만 간단히 구현 => 조건이 계속 반복되도록\n",
        "count10 = 0\n",
        "count3 = 0 # 3x 마을에서 쓰는 숫자\n",
        "n = 10\n",
        "while count10 < n :\n",
        "        count10 += 1\n",
        "        count3 +=1\n",
        "        while count3 % 3 == 0 or '3' in str(count3):\n",
        "            count3 += 1\n",
        "        print(count10, count3)\n",
        "count3"
      ],
      "metadata": {
        "colab": {
          "base_uri": "https://localhost:8080/"
        },
        "id": "NjtzZQgltUn4",
        "outputId": "28571fc7-5a58-4fc9-ef07-2053f60461b3"
      },
      "execution_count": null,
      "outputs": [
        {
          "output_type": "stream",
          "name": "stdout",
          "text": [
            "1 1\n",
            "2 2\n",
            "3 4\n",
            "4 5\n",
            "5 7\n",
            "6 8\n",
            "7 10\n",
            "8 11\n",
            "9 14\n",
            "10 16\n"
          ]
        },
        {
          "output_type": "execute_result",
          "data": {
            "text/plain": [
              "16"
            ]
          },
          "metadata": {},
          "execution_count": 85
        }
      ]
    },
    {
      "cell_type": "code",
      "source": [
        "def solution(n):\n",
        "    count10 = 0\n",
        "    count3 = 0\n",
        "    while count10 < n:\n",
        "        count10 += 1\n",
        "        count3 += 1\n",
        "        while count3 % 3 == 0 or '3' in str(count3):\n",
        "            count3 += 1\n",
        "    return count3"
      ],
      "metadata": {
        "id": "r4KeZ9EKuABv"
      },
      "execution_count": null,
      "outputs": []
    },
    {
      "cell_type": "code",
      "source": [
        "[i for i in range(1, 31) if i % 3 != 0 and not('3' in str(i))]"
      ],
      "metadata": {
        "colab": {
          "base_uri": "https://localhost:8080/"
        },
        "id": "izll6cg-uevV",
        "outputId": "d695dc37-9f50-4dca-9c6a-e94121d0d55b"
      },
      "execution_count": null,
      "outputs": [
        {
          "output_type": "execute_result",
          "data": {
            "text/plain": [
              "[1, 2, 4, 5, 7, 8, 10, 11, 14, 16, 17, 19, 20, 22, 25, 26, 28, 29]"
            ]
          },
          "metadata": {},
          "execution_count": 87
        }
      ]
    },
    {
      "cell_type": "markdown",
      "source": [
        "## 실제 데이터를 가지고 연습 (json gen)"
      ],
      "metadata": {
        "id": "42c2JlDvvIEP"
      }
    },
    {
      "cell_type": "code",
      "source": [
        "data = [\n",
        "  {\n",
        "    \"_id\": \"6459c9fece80205a08e2d24a\",\n",
        "    \"age\": 33,\n",
        "    \"eyeColor\": \"brown\",\n",
        "    \"name\": \"Shawn Ochoa\",\n",
        "    \"gender\": \"female\"\n",
        "  },\n",
        "  {\n",
        "    \"_id\": \"6459c9fecec93e5c635745fc\",\n",
        "    \"age\": 33,\n",
        "    \"eyeColor\": \"brown\",\n",
        "    \"name\": \"Compton Vang\",\n",
        "    \"gender\": \"male\"\n",
        "  },\n",
        "  {\n",
        "    \"_id\": \"6459c9fe665897d1d67cb22d\",\n",
        "    \"age\": 21,\n",
        "    \"eyeColor\": \"brown\",\n",
        "    \"name\": \"Dale Foster\",\n",
        "    \"gender\": \"male\"\n",
        "  },\n",
        "  {\n",
        "    \"_id\": \"6459c9fe57d807b8b6f80991\",\n",
        "    \"age\": 27,\n",
        "    \"eyeColor\": \"blue\",\n",
        "    \"name\": \"Underwood Leblanc\",\n",
        "    \"gender\": \"male\"\n",
        "  },\n",
        "  {\n",
        "    \"_id\": \"6459c9fe0ccbeff40447d5d4\",\n",
        "    \"age\": 39,\n",
        "    \"eyeColor\": \"blue\",\n",
        "    \"name\": \"Latasha Frazier\",\n",
        "    \"gender\": \"female\"\n",
        "  }\n",
        "]\n",
        "\n",
        "# 반복문을 사용해도 좋지만,\n",
        "# 반복문을 사용하실 수 없다면 index로만 계산하셔도 좋습니다.\n",
        "\n",
        "data[0]\n",
        "data[0]['age']\n",
        "data[0]['gender']"
      ],
      "metadata": {
        "colab": {
          "base_uri": "https://localhost:8080/",
          "height": 35
        },
        "id": "dHkn6IU2vdS6",
        "outputId": "ccd254ca-84c8-473d-c297-00b9da18637d"
      },
      "execution_count": null,
      "outputs": [
        {
          "output_type": "execute_result",
          "data": {
            "text/plain": [
              "'female'"
            ],
            "application/vnd.google.colaboratory.intrinsic+json": {
              "type": "string"
            }
          },
          "metadata": {},
          "execution_count": 1
        }
      ]
    },
    {
      "cell_type": "code",
      "source": [
        "#LV 0\n",
        "(data[0]['age']+ data[1]['age'] + data[2]['age']) / 3\n",
        "\n",
        "성별 = []\n",
        "성별.append(data[0]['gender'])\n",
        "성별.append(data[1]['gender'])\n",
        "성별.append(data[2]['gender'])\n",
        "print(성별)\n",
        "print(성별.count('male') / len(data) * 100)\n",
        "print(성별.count('female') / len(data) * 100)"
      ],
      "metadata": {
        "colab": {
          "base_uri": "https://localhost:8080/"
        },
        "id": "Wn8xm8AgzzL7",
        "outputId": "6db459ce-5e88-4b80-9d33-fcba877b782b"
      },
      "execution_count": null,
      "outputs": [
        {
          "output_type": "stream",
          "name": "stdout",
          "text": [
            "['female', 'male', 'male']\n",
            "40.0\n",
            "20.0\n"
          ]
        }
      ]
    },
    {
      "cell_type": "code",
      "source": [
        "# LV 1\n",
        "# 좋은 코드는 아닙니다\n",
        "age_sum = 0\n",
        "for i in range(3):\n",
        "   s += data[0]['age']\n",
        "age_sum =  0 / 3\n",
        "\n",
        "성별 = []\n",
        "for i in range(3):\n",
        "    성별.append(data[i]['gender']):\n",
        "print(성별.count(male') / len(data) * 100\n",
        "print(성별.count(female') / len(data) * 100\n",
        "# 성별 = []\n",
        "# 성별.append(data[0]['gender'])\n",
        "# 성별.append(data[1]['gender'])\n",
        "# 성별.append(data[2]['gender'])\n",
        "# print(성별)\n",
        "# print(성별.count('male') / len(data) * 100)\n",
        "# print(성별.count('female') / len(data) * 100)"
      ],
      "metadata": {
        "colab": {
          "base_uri": "https://localhost:8080/",
          "height": 137
        },
        "id": "s5HsGgTv0oF9",
        "outputId": "437cf66c-c315-4553-dfe0-ab4616019be4"
      },
      "execution_count": null,
      "outputs": [
        {
          "output_type": "error",
          "ename": "SyntaxError",
          "evalue": "ignored",
          "traceback": [
            "\u001b[0;36m  File \u001b[0;32m\"<ipython-input-15-6d0cf2cda60b>\"\u001b[0;36m, line \u001b[0;32m11\u001b[0m\n\u001b[0;31m    print(성별.count(male') / len(data) * 100\u001b[0m\n\u001b[0m                       ^\u001b[0m\n\u001b[0;31mSyntaxError\u001b[0m\u001b[0;31m:\u001b[0m unterminated string literal (detected at line 11)\n"
          ]
        }
      ]
    },
    {
      "cell_type": "code",
      "source": [
        "#Lv1\n",
        "age_sum = 0\n",
        "for i in range(len(data)):\n",
        "    age_sum += data[i]['age']\n",
        "age_sum / 3\n",
        "\n",
        "성별 = []\n",
        "for i in range(len(data)):\n",
        "    성별.append(data[i]['gender'])\n",
        "print(성별.count('male') / len(data) * 100)\n",
        "print(성별.count('female') / len(data) * 100)"
      ],
      "metadata": {
        "colab": {
          "base_uri": "https://localhost:8080/"
        },
        "id": "12pSURH51yr8",
        "outputId": "5580b042-cfb4-44ab-a467-1a866ef0a593"
      },
      "execution_count": null,
      "outputs": [
        {
          "output_type": "stream",
          "name": "stdout",
          "text": [
            "60.0\n",
            "40.0\n"
          ]
        }
      ]
    },
    {
      "cell_type": "code",
      "source": [
        "# LV2\n",
        "# list(map(lambda x:x['age'], data))\n",
        "sum(map(lambda x:x['age'], data)) / len(data)"
      ],
      "metadata": {
        "colab": {
          "base_uri": "https://localhost:8080/"
        },
        "id": "siyypR1K1eom",
        "outputId": "aaf96c1e-c749-45e8-dd9f-258bfd81156b"
      },
      "execution_count": null,
      "outputs": [
        {
          "output_type": "execute_result",
          "data": {
            "text/plain": [
              "30.6"
            ]
          },
          "metadata": {},
          "execution_count": 13
        }
      ]
    },
    {
      "cell_type": "markdown",
      "source": [
        "## 알아야 하는 built-in function"
      ],
      "metadata": {
        "id": "5anWzT0h7tjS"
      }
    },
    {
      "cell_type": "markdown",
      "source": [
        "* abs(): 괄호 안에 있는 값을 절대값으로 출력해줍니다.\n",
        "*"
      ],
      "metadata": {
        "id": "QCIWq1GS8HF1"
      }
    },
    {
      "cell_type": "code",
      "source": [
        "abs(-1)\n",
        "all([True, True, True])\n",
        "all([True, True, True])\n",
        "all(['a', 'b', 'ccc'])\n",
        "all(['a', '', 'ccc'])\n",
        "if all([3 > 5, 12 % 2 == 0, 15 % 5 == 0]):\n",
        "    print('hello')\n",
        "\n",
        "if all([3 >5,\n",
        "        12% 2 ==0,\n",
        "        15 % 5 == 0]):\n",
        "    print ('hello')\n",
        "\n",
        "\n",
        "if 3 > 5 and 12 % 2 == 0 and 15 % 5 == 0:\n",
        "    print('hello')\n",
        "\n",
        "# if all([one(), two(), three()]):\n",
        "#     print('hello')\n",
        "\n",
        "# all(True True, True) # all() take exactly one argument (3 given)"
      ],
      "metadata": {
        "id": "sm_WTDoX8GVp"
      },
      "execution_count": null,
      "outputs": []
    },
    {
      "cell_type": "code",
      "source": [
        "sum([[1, 2], [3, 4], [5, 6]], [])\n",
        "sum([1, 2, 3, 4, 5], 100)\n",
        "# sum ([1, 2, 3, 4, 5], {1, 2, 3}) # error"
      ],
      "metadata": {
        "colab": {
          "base_uri": "https://localhost:8080/"
        },
        "id": "xb4VYXde9E6E",
        "outputId": "cc58311a-dcd1-4f8c-8e87-d56886c9c3b6"
      },
      "execution_count": null,
      "outputs": [
        {
          "output_type": "execute_result",
          "data": {
            "text/plain": [
              "115"
            ]
          },
          "metadata": {},
          "execution_count": 22
        }
      ]
    },
    {
      "cell_type": "markdown",
      "source": [],
      "metadata": {
        "id": "43Fjnr1r-rgd"
      }
    },
    {
      "cell_type": "code",
      "source": [
        "# 아래 3개는 int형\n",
        "# bin( ) : 2진법\n",
        "# oct( ) : 8진법\n",
        "# hex( ) : 16진법\n",
        "bin(7)\n",
        "type(bin(7))\n",
        "0b111\n",
        "type(0b111)\n",
        "int('111', 2)\n",
        "int('0b111', 2)\n",
        "# int(0b111, 2) #error"
      ],
      "metadata": {
        "colab": {
          "base_uri": "https://localhost:8080/"
        },
        "id": "Pt5Ojcpy_XgU",
        "outputId": "f8a0cc88-afea-4c75-ebcb-201e206ecb91"
      },
      "execution_count": null,
      "outputs": [
        {
          "output_type": "execute_result",
          "data": {
            "text/plain": [
              "7"
            ]
          },
          "metadata": {},
          "execution_count": 25
        }
      ]
    },
    {
      "cell_type": "code",
      "source": [
        "chr(65)\n",
        "ord('A')"
      ],
      "metadata": {
        "colab": {
          "base_uri": "https://localhost:8080/"
        },
        "id": "8KdbTZOg_xi7",
        "outputId": "b845bf5b-1363-4e8e-afbc-5ceb82edc8dc"
      },
      "execution_count": null,
      "outputs": [
        {
          "output_type": "execute_result",
          "data": {
            "text/plain": [
              "65"
            ]
          },
          "metadata": {},
          "execution_count": 26
        }
      ]
    },
    {
      "cell_type": "code",
      "source": [
        "# list(range(start, stop, step))\n",
        "list(range(0, 10, 2))\n",
        "list(range(0, 10))\n",
        "list(range(10))\n",
        "list(range(-10, 10, 2 ))\n",
        "list(range(0, -10, -2 ))\n"
      ],
      "metadata": {
        "colab": {
          "base_uri": "https://localhost:8080/"
        },
        "id": "aYUMqBzbASMW",
        "outputId": "1893d150-b416-4ecb-e251-ef98d9076936"
      },
      "execution_count": null,
      "outputs": [
        {
          "output_type": "execute_result",
          "data": {
            "text/plain": [
              "[0, -2, -4, -6, -8]"
            ]
          },
          "metadata": {},
          "execution_count": 29
        }
      ]
    },
    {
      "cell_type": "markdown",
      "source": [
        "### object 관련 함수\n",
        "\n",
        "* dir()\n",
        "* id()\n",
        "* type()"
      ],
      "metadata": {
        "id": "ue1qfd7JAxFJ"
      }
    },
    {
      "cell_type": "code",
      "source": [
        "# dir() # directory에 약자로 대상이 가진 attribute를 모두 출력합니다.\n",
        "# attribute가 무엇인가? class에서 배울 멤버 + 메서드 입니다"
      ],
      "metadata": {
        "id": "P8OmKF8cA1rl"
      },
      "execution_count": null,
      "outputs": []
    },
    {
      "cell_type": "code",
      "source": [
        "def f():\n",
        "    return 100\n",
        "\n",
        "f.name = 'leehojun'\n",
        "dir(f)\n",
        "print(f.name)"
      ],
      "metadata": {
        "colab": {
          "base_uri": "https://localhost:8080/"
        },
        "id": "7NmvASBBBRic",
        "outputId": "c7ee7957-f92b-477b-f1f1-8d3722af2aab"
      },
      "execution_count": null,
      "outputs": [
        {
          "output_type": "stream",
          "name": "stdout",
          "text": [
            "leehojun\n"
          ]
        }
      ]
    },
    {
      "cell_type": "code",
      "source": [
        "# 배우는 재미\n",
        "# 단시간에 될 수 없습니다. => 경쟁력"
      ],
      "metadata": {
        "id": "PzvAhni1BxB6"
      },
      "execution_count": null,
      "outputs": []
    },
    {
      "cell_type": "code",
      "source": [
        "l = 10\n",
        "# 복사가 제대로 이뤄졌나?\n",
        "id(l) # 깊은복사, 얕은복사\n"
      ],
      "metadata": {
        "colab": {
          "base_uri": "https://localhost:8080/"
        },
        "id": "VDzqCCjtAqxf",
        "outputId": "ff8ea3bf-f13e-4805-e501-50ed26f5b83c"
      },
      "execution_count": null,
      "outputs": [
        {
          "output_type": "execute_result",
          "data": {
            "text/plain": [
              "140514084602384"
            ]
          },
          "metadata": {},
          "execution_count": 31
        }
      ]
    },
    {
      "cell_type": "code",
      "source": [
        "type('abc') # str\n",
        "print(type('abc')) #(class 'str')\n",
        "print(type(f))\n",
        "# print(type(f)) # class가 전체 Python을 관통하고 있습니다."
      ],
      "metadata": {
        "colab": {
          "base_uri": "https://localhost:8080/"
        },
        "id": "Fmx9xeXKCV3R",
        "outputId": "6ca8f7ad-0aab-405e-d190-56f6878a9a42"
      },
      "execution_count": null,
      "outputs": [
        {
          "output_type": "stream",
          "name": "stdout",
          "text": [
            "<class 'str'>\n",
            "<class 'function'>\n"
          ]
        }
      ]
    },
    {
      "cell_type": "markdown",
      "source": [
        "### 유용한 순회 가능 객체"
      ],
      "metadata": {
        "id": "AGSmpIDKC1w5"
      }
    },
    {
      "cell_type": "code",
      "source": [
        "print(type(range(3)))"
      ],
      "metadata": {
        "colab": {
          "base_uri": "https://localhost:8080/"
        },
        "id": "MeoCZcF4DAFq",
        "outputId": "1960b198-2387-456d-8e4a-7f649642de83"
      },
      "execution_count": null,
      "outputs": [
        {
          "output_type": "stream",
          "name": "stdout",
          "text": [
            "<class 'range'>\n"
          ]
        }
      ]
    },
    {
      "cell_type": "code",
      "source": [
        "list(enumerate([10, 20, 30], 100))\n",
        "# list(enumerate([10, 20, 30], 'abc')) # error 뒤에 숫자를 입력해야 합니다."
      ],
      "metadata": {
        "colab": {
          "base_uri": "https://localhost:8080/"
        },
        "id": "VKR_1ytWDVYZ",
        "outputId": "f41466ab-ea45-4f08-b302-ca7912123150"
      },
      "execution_count": null,
      "outputs": [
        {
          "output_type": "execute_result",
          "data": {
            "text/plain": [
              "[(100, 10), (101, 20), (102, 30)]"
            ]
          },
          "metadata": {},
          "execution_count": 36
        }
      ]
    },
    {
      "cell_type": "code",
      "source": [
        "def 함수(x):\n",
        "    return x > 15\n",
        "    \n",
        "list(filter(함수, [10, 20, 30, 40]))\n",
        "list(filter(None, [True, True, False, False]))\n",
        "list(filter(None, [[], 'abc', '', '']))"
      ],
      "metadata": {
        "colab": {
          "base_uri": "https://localhost:8080/"
        },
        "id": "zOxEgkpe-EhT",
        "outputId": "b3b60854-0945-43e5-dc88-9cd4b07e1e03"
      },
      "execution_count": null,
      "outputs": [
        {
          "output_type": "execute_result",
          "data": {
            "text/plain": [
              "['abc']"
            ]
          },
          "metadata": {},
          "execution_count": 38
        }
      ]
    },
    {
      "cell_type": "code",
      "source": [
        "list(zip('abc', 'defaaaa', 'ght', [1, 2, 3], [4, 5, 6, 7]))"
      ],
      "metadata": {
        "colab": {
          "base_uri": "https://localhost:8080/"
        },
        "id": "LJCzIKnDID34",
        "outputId": "bcdb490c-1579-42a8-e08a-d4493d720dd9"
      },
      "execution_count": null,
      "outputs": [
        {
          "output_type": "execute_result",
          "data": {
            "text/plain": [
              "[('a', 'd', 'g', 1, 4), ('b', 'e', 'h', 2, 5), ('c', 'f', 't', 3, 6)]"
            ]
          },
          "metadata": {},
          "execution_count": 40
        }
      ]
    },
    {
      "cell_type": "code",
      "source": [
        "x = [5, 4, 6, 8, 2]\n",
        "list(zip('abcdefg', sorted(x)))"
      ],
      "metadata": {
        "colab": {
          "base_uri": "https://localhost:8080/"
        },
        "id": "P1Becr0GIMBQ",
        "outputId": "eb10c77c-359e-4f8d-f8a6-ad8a6dead649"
      },
      "execution_count": null,
      "outputs": [
        {
          "output_type": "execute_result",
          "data": {
            "text/plain": [
              "[('a', 2), ('b', 4), ('c', 5), ('d', 6), ('e', 8)]"
            ]
          },
          "metadata": {},
          "execution_count": 41
        }
      ]
    },
    {
      "cell_type": "code",
      "source": [
        "x = [5, 4, 6, 8, 2]\n",
        "y = [7, 6, 45, 4, 2, 3, 3]\n",
        "list(zip('abcdefg', zip(x, y)))"
      ],
      "metadata": {
        "colab": {
          "base_uri": "https://localhost:8080/"
        },
        "id": "1HVYmlnOIQ5G",
        "outputId": "0cdda4a2-35ec-4eae-afc9-140a599b773f"
      },
      "execution_count": null,
      "outputs": [
        {
          "output_type": "execute_result",
          "data": {
            "text/plain": [
              "[('a', (5, 7)), ('b', (4, 6)), ('c', (6, 45)), ('d', (8, 4)), ('e', (2, 2))]"
            ]
          },
          "metadata": {},
          "execution_count": 42
        }
      ]
    },
    {
      "cell_type": "markdown",
      "source": [
        "\n",
        "\n"
      ],
      "metadata": {
        "id": "9alK_5sb7zbR"
      }
    },
    {
      "cell_type": "markdown",
      "source": [
        "##lambda"
      ],
      "metadata": {
        "id": "mkArX5t-Kxix"
      }
    },
    {
      "cell_type": "code",
      "source": [
        "print(type('leehojun'))"
      ],
      "metadata": {
        "colab": {
          "base_uri": "https://localhost:8080/"
        },
        "id": "J8Y2vbcT8FNM",
        "outputId": "46a747fa-1dc4-4606-8476-77398de2efdc"
      },
      "execution_count": null,
      "outputs": [
        {
          "output_type": "stream",
          "name": "stdout",
          "text": [
            "<class 'str'>\n"
          ]
        }
      ]
    },
    {
      "cell_type": "code",
      "source": [
        "print(type(lambda x : x**2))"
      ],
      "metadata": {
        "colab": {
          "base_uri": "https://localhost:8080/"
        },
        "id": "xcjTKIANLAW2",
        "outputId": "685ec635-b084-456e-9830-2d99089966c1"
      },
      "execution_count": null,
      "outputs": [
        {
          "output_type": "stream",
          "name": "stdout",
          "text": [
            "<class 'function'>\n"
          ]
        }
      ]
    },
    {
      "cell_type": "code",
      "source": [
        "print(dir(lambda x : x**2))"
      ],
      "metadata": {
        "colab": {
          "base_uri": "https://localhost:8080/"
        },
        "id": "bHzzAsw1LDf-",
        "outputId": "f43907a4-5ba6-43e7-e7b8-9b4977331085"
      },
      "execution_count": null,
      "outputs": [
        {
          "output_type": "stream",
          "name": "stdout",
          "text": [
            "['__annotations__', '__builtins__', '__call__', '__class__', '__closure__', '__code__', '__defaults__', '__delattr__', '__dict__', '__dir__', '__doc__', '__eq__', '__format__', '__ge__', '__get__', '__getattribute__', '__globals__', '__gt__', '__hash__', '__init__', '__init_subclass__', '__kwdefaults__', '__le__', '__lt__', '__module__', '__name__', '__ne__', '__new__', '__qualname__', '__reduce__', '__reduce_ex__', '__repr__', '__setattr__', '__sizeof__', '__str__', '__subclasshook__']\n"
          ]
        }
      ]
    },
    {
      "cell_type": "code",
      "source": [
        "def 함수(x):\n",
        "    return x ** 2\n",
        "\n",
        "print(dir(함수))"
      ],
      "metadata": {
        "colab": {
          "base_uri": "https://localhost:8080/"
        },
        "id": "LtmQ9eEFLGPW",
        "outputId": "4a4f796f-1385-4132-f1e6-1c39ec61cfcd"
      },
      "execution_count": null,
      "outputs": [
        {
          "output_type": "stream",
          "name": "stdout",
          "text": [
            "['__annotations__', '__builtins__', '__call__', '__class__', '__closure__', '__code__', '__defaults__', '__delattr__', '__dict__', '__dir__', '__doc__', '__eq__', '__format__', '__ge__', '__get__', '__getattribute__', '__globals__', '__gt__', '__hash__', '__init__', '__init_subclass__', '__kwdefaults__', '__le__', '__lt__', '__module__', '__name__', '__ne__', '__new__', '__qualname__', '__reduce__', '__reduce_ex__', '__repr__', '__setattr__', '__sizeof__', '__str__', '__subclasshook__']\n"
          ]
        }
      ]
    },
    {
      "cell_type": "code",
      "source": [
        "함수 = lambda x : x ** 2"
      ],
      "metadata": {
        "id": "Tr7Hj9nkLLYG"
      },
      "execution_count": null,
      "outputs": []
    },
    {
      "cell_type": "code",
      "source": [
        "print"
      ],
      "metadata": {
        "id": "5iwD_nbLK2ff"
      },
      "execution_count": null,
      "outputs": []
    },
    {
      "cell_type": "code",
      "source": [],
      "metadata": {
        "id": "5E7S2ZDJKzpy"
      },
      "execution_count": null,
      "outputs": []
    },
    {
      "cell_type": "markdown",
      "source": [
        "## lambda 실무 응용"
      ],
      "metadata": {
        "id": "-ksRs_2Rirk5"
      }
    },
    {
      "cell_type": "markdown",
      "source": [
        "* lambda가 응용되는 곳 : map, filter"
      ],
      "metadata": {
        "id": "1UFnYfMUN90g"
      }
    },
    {
      "cell_type": "code",
      "source": [],
      "metadata": {
        "colab": {
          "base_uri": "https://localhost:8080/"
        },
        "id": "mHo9vUrgP6Nw",
        "outputId": "cfef975a-12b4-481c-bb96-5f84e7c4e410"
      },
      "execution_count": null,
      "outputs": [
        {
          "output_type": "execute_result",
          "data": {
            "text/plain": [
              "[1, 2, 3, 4, 5]"
            ]
          },
          "metadata": {},
          "execution_count": 32
        }
      ]
    },
    {
      "cell_type": "code",
      "source": [
        "숫자 = [1, 2, 3, 4, 5]\n",
        "승수 = [2, 2, 2, 3, 3]\n",
        "\n",
        "#문제\n",
        "#1. 숫자의 승수를 zip으로 맵핑해서 진행하세요.\n",
        "#2. 숫자를 승수만큼 승수하여 결과값을 표현해주세요.\n",
        "#3. 승수한 값이 100이상인 값을 출력하세요.\n",
        "#4. 승수한 값을 모두 더하세요.\n",
        "\n",
        "# 01\n",
        "# Q1.1\n",
        "data = list(zip(숫자, 승수))\n",
        "\n",
        "# Q1.2 (list comprehension)\n",
        "data = [i for i in range(len(숫자))]\n",
        "###\n",
        "data = [(숫자[i], 승수[i]) for i in range(len(숫자))]\n",
        "data\n",
        "###\n",
        "\n",
        "# Q2\n",
        "# Q2.1\n",
        "for i in data:\n",
        "    l.append(i[0] ** i[1])\n",
        "print(l)\n",
        "# Q2.2\n",
        "def f(x):\n",
        "    return x[0] ** x[1]\n",
        "print(list(map(f, data)))\n",
        "\n",
        "\n",
        "# Q2.3\n",
        "print(list(map(lambda x:x[0] ** x[1], data)))\n",
        "\n",
        "# Q2.4\n",
        "print(list(map(lambda x:pow(x[0], x[1]), data)))\n",
        "\n",
        "# Q2.5 (list comprehension)\n",
        "[i for i in data]\n",
        "[i[0] ** i[1] for i in data] # 공간을 바로 할당해버립니다.\n",
        "# Q3\n",
        "# Q3.1\n",
        "l = []\n",
        "for i in map(lambda x:x[0] ** x[1], data):\n",
        "    if i >= 100:\n",
        "        l.append(i)\n",
        "print(l)\n",
        "\n",
        "# Q3.2\n",
        "def f(x):\n",
        "    return x > 100\n",
        "data2 = map(lambda x:x[0] ** x[1], data)\n",
        "print(list(filter(f, data2)))\n",
        "\n",
        "# Q3.3\n",
        "data2 =(map(lambda x:x[0] ** x[1], data))\n",
        "\n",
        "# Q3.4\n",
        "#list(filter(lambda x:x>=100, [1, 4, 9, 64, 125]))\n",
        "\n",
        "# Q3.5\n",
        "print([i[0] ** i[1] for i in data if i[0] **i[1] >= 100])\n",
        "\n",
        "# Q\n",
        "sum(map(lambda x:x[0] ** x[1], data))"
      ],
      "metadata": {
        "id": "E6sfidhjCa1O",
        "colab": {
          "base_uri": "https://localhost:8080/"
        },
        "outputId": "8b4e51c7-10b1-4fe3-b59a-44278243fc6f"
      },
      "execution_count": null,
      "outputs": [
        {
          "output_type": "stream",
          "name": "stdout",
          "text": [
            "[125, 1, 4, 9, 64, 125]\n",
            "[1, 4, 9, 64, 125]\n",
            "[1, 4, 9, 64, 125]\n",
            "[1, 4, 9, 64, 125]\n",
            "[125]\n",
            "[125]\n",
            "[125]\n"
          ]
        },
        {
          "output_type": "execute_result",
          "data": {
            "text/plain": [
              "203"
            ]
          },
          "metadata": {},
          "execution_count": 36
        }
      ]
    },
    {
      "cell_type": "code",
      "source": [
        "숫자 = [1, 2, 3, 4, 5]\n",
        "승수 = [2, 2, 2, 3, 3]\n",
        "\n",
        "#문제\n",
        "#1. 숫자의 승수를 zip으로 맵핑해서 진행하세요.\n",
        "#2. 숫자를 승수만큼 제곱하여 결과값을 표현해주세요.\n",
        "#3. 승수한 값이 100이상인 값을 출력하세요.\n",
        "#4. 승수한 값을 모두 더하세요.\n",
        "\n",
        "# Q1\n",
        "# Q1.1\n",
        "data = list(zip(숫자, 승수))\n",
        "\n",
        "# Q1.2 (list comprehension)\n",
        "data = [i for i in range(len(숫자))]\n",
        "###\n",
        "data = [(숫자[i], 승수[i]) for i in range(len(숫자))]\n",
        "data\n",
        "\n",
        "\n",
        "# Q2\n",
        "# Q2.1\n",
        "l = []\n",
        "for i in data:\n",
        "    l.append(i[0] ** i[1])\n",
        "print(l)\n",
        "\n",
        "# Q2.2\n",
        "def f(x):\n",
        "    return x[0] ** x[1]\n",
        "\n",
        "print(list(map(f, data)))\n",
        "\n",
        "# Q2.3\n",
        "print(list(map(lambda x:x[0] ** x[1], data)))\n",
        "\n",
        "# Q2.4\n",
        "print(list(map(lambda x:pow(x[0], x[1]), data)))\n",
        "\n",
        "# Q2.5 (list comprehension)\n",
        "[i for i in data]\n",
        "[i[0] ** i[1] for i in data] # 공간을 바로 할당해버립니다.\n",
        "\n",
        "# Q3\n",
        "# Q3.1\n",
        "l = []\n",
        "for i in map(lambda x:x[0] ** x[1], data):\n",
        "    if i >= 100:\n",
        "        l.append(i)\n",
        "print(l)\n",
        "\n",
        "# Q3.2\n",
        "def f(x):\n",
        "    return x > 100\n",
        "data2 = map(lambda x:x[0] ** x[1], data)\n",
        "print(list(filter(f, data2)))\n",
        "\n",
        "# Q3.3\n",
        "data2 = map(lambda x:x[0] ** x[1], data)\n",
        "print(list(filter(lambda x:x>=100, data2)))\n",
        "\n",
        "# Q3.4\n",
        "# list(filter(lambda x:x>=100, [1, 4, 9, 64, 125]))\n",
        "print(list(filter(lambda x:x>=100, map(lambda x:x[0] ** x[1], data))))\n",
        "\n",
        "# Q3.5\n",
        "print([i[0] ** i[1] for i in data if i[0] ** i[1] >= 100])\n",
        "\n",
        "# Q4\n",
        "sum(map(lambda x:x[0] ** x[1], data))"
      ],
      "metadata": {
        "id": "vTeYWz25TKZC"
      },
      "execution_count": null,
      "outputs": []
    },
    {
      "cell_type": "markdown",
      "source": [
        "## !! 오늘 배운 것 정리\n",
        "* 반복문\n",
        "    * 정해진 순서를(next) 반복하는 것\n",
        "    * 형태\n",
        "    ```python\n",
        "    # for 변수 in 순회가능한객체: # stopItoration까지 반복\n",
        "    #     code\n",
        "\n",
        "    # while 조건: # true까지 반복\n",
        "    #     code \n",
        "    ```\n",
        "    * 순회 가능한 객체(이터러블 객체) : 문자열, 리스트, 튜플, 딕셔너리, 셋, range, enumerate, map, set, sorted, reverse 등\n",
        "    * 순회 불가능한 객체 : int, float 등 \n",
        "    * code 안에서 변수를 사용하지 않을 경우 언더바를 관습적으로 사용합니다.\n",
        "    ```python\n",
        "    # for _ in 순회가능한객체:\n",
        "    #     code\n",
        "    ```\n",
        "    * 반복문 다음 else 구문 : break 없이 정상 종료 되면 실행\n",
        "    * 반복문 안에 break 구문 : 자신을 감싸고 있는 반복문 1개 탈출\n",
        "    * 반복문 안에 continue 구문 : 다음 루프로 넘어감\n",
        "    * 반복문 안에 pass : 공백만 채워줄 뿐 아무 기능 없음\n",
        "\n",
        "* bulit-in function\n",
        "    * 수학적 통계에 활용되는 함수\n",
        "        - abs( ) : 괄호 안에 있는 값을 절대값으로 출력해줍니다.\n",
        "        - all( ) : 괄호 안에 있는 값들이 모두 True(False)일 때 True(False)를 출력합니다.\n",
        "        - any( ) : 괄호안에 있는 값이 하나라고 True이면 True로 출력합니다.\n",
        "        - pow( ) : 제곱을 출력합니다.\n",
        "        - max( ) : 값의 최댓값을 출력합니다.\n",
        "        - min( ) : 값의 최솟값을 출력합니다.\n",
        "        - sum( ) : 값의 합계를 출력합니다.\n",
        "        - len( ) : 문자열의 길이를 출력합니다.\n",
        "        - sorted( ) : 데이터를 정렬해줍니다.\n",
        "        - reversed( ) : 정렬되지 않은 상태에서 값을 역순으로 출력합니다.\n",
        "\n",
        "    * 형변환 함수\n",
        "        - set( )\n",
        "        - dict( )\n",
        "        - hex( ) : 16진법\n",
        "        - bin( ) : 2진법\n",
        "        - oct( ) : 8진법\n",
        "        - bool( )\n",
        "        - str( )\n",
        "        - ord( ) : 각각의 문자에 대한 숫자값을 출력해줍니다.(유니코드표를 참고하세요.)\n",
        "        - float( )\n",
        "        - tuple( )\n",
        "        - chr( ) : 숫자값을 통해서 문자를 출력합니다.\n",
        "        - list( )\n",
        "        - range( )\n",
        "        - complex( )\n",
        "\n",
        "    * 도움말\n",
        "        - help( )\n",
        "\n",
        "    * object 관련 함수\n",
        "        - dir( )\n",
        "        - id( )\n",
        "        - type( )\n",
        "\n",
        "    * 순회 가능한 객체\n",
        "        - enumerate( ) : 값에 순위를 매기고 싶을 때 사용합니다.\n",
        "        - range( )\n",
        "        - sorted( )\n",
        "        - reversed( )\n",
        "        - filter( )\n",
        "        - zip( )\n",
        "        - map( )\n",
        "\n",
        "* args, kargs\n",
        "    * 가변 아규먼트, 가변 키워드 아규먼트\n",
        "    ```python\n",
        "    def print_args(*args): # 꼭 args가 될 필요는 없습니다.\n",
        "        print(args)\n",
        "\n",
        "    print_args(100, True, 'leehojun')\n",
        "\n",
        "    ####\n",
        "\n",
        "    def print_kwargs(**kwargs): # 꼭 kargs가 될 필요는 없습니다.\n",
        "    print(kwargs)\n",
        "\n",
        "    print_kwargs(name='leehojun', age='10')\n",
        "    ```\n",
        "\n",
        "* lambda\n",
        "    * lambda 는 익명함수라고 하며, 이름이 없는 함수\n",
        "    * 보통은 다시 사용되지 않을 함수를 선언할 때 사용\n",
        "    ```python\n",
        "    leehojun = lambda x : x**2\n",
        "\n",
        "    # def leehojun(x):\n",
        "    #     return x ** 2\n",
        "\n",
        "    list(map(lambda x : x ** 2, [1, 2, 3, 4]))\n",
        "    ```"
      ],
      "metadata": {
        "id": "Si5pUsba-j3q"
      }
    },
    {
      "cell_type": "markdown",
      "source": [
        "## 클래스"
      ],
      "metadata": {
        "id": "_ih0A1OqAxoE"
      }
    },
    {
      "cell_type": "markdown",
      "source": [
        "현실\t\t\t\t코드\n",
        "차 -----------------------------------> class Car()\n",
        "정수----------------------------------> class int()\n",
        "실수 ---------------------------------> class float()\n",
        "\n",
        "\n",
        "인간이 만들어놓은\n",
        "현실 세계에서의 \n",
        "정의 또는 약속 -----> class\n",
        "\n",
        "1 + 1 = 2가 컴퓨터 입장에서는 10일 수도 있고\n",
        "'A' + 'A' = 'AA'가 아니라 컴퓨터 입장에서는 130일 수 있습니다."
      ],
      "metadata": {
        "id": "h2q_HtnnEhbo"
      }
    },
    {
      "cell_type": "code",
      "source": [
        "class CarFactory(object): # 첫 문자는 대문자로 합니다.\n",
        "    max_Speed = 300\n",
        "    max_People = 5\n",
        "    # 아래 self는 스스로를 가리키기에\n",
        "    # self는 인스턴스를 가리킵니다.\n",
        "    def move(self):\n",
        "        print('차가 움직이고 있습니다.')\n",
        "    def stop(self):\n",
        "        print('차가 멈췄습니다.')\n",
        "        \n",
        "# 클래스로 바로 접근해서 무엇을 하는 것을 권고하지 않습니다.\n",
        "# 제대로 알지 못하는 상태에서(인스턴스 변수. 클래스 변수)\n",
        "print(CarFactory.max_speed)\n",
        "k5 = CarFactory() # 붕어빵(인스턴스) = 붕어빵 틀(클래스)\n",
        "k3 = CarFactory() # 차(인스턴스) = 자동차공장(클래스)"
      ],
      "metadata": {
        "id": "_BVrNpJNCKwv"
      },
      "execution_count": null,
      "outputs": []
    },
    {
      "cell_type": "code",
      "source": [
        "class CarFactory(object): \n",
        "    max_Speed = 300\n",
        "    max_People = 5\n",
        "    # 아래 self는 스스로를 가리키기에\n",
        "    # self는 인스턴스를 가리킵니다.\n",
        "    def move(self):\n",
        "        print('차가 움직이고 있습니다.')\n",
        "    def stop(self):\n",
        "        print('차가 멈췄습니다.')\n",
        "        \n",
        "# 클래스로 바로 접근해서 무엇을 하는 것을 권고하지 않습니다.\n",
        "# 제대로 알지 못하는 상태에서(인스턴스 변수. 클래스 변수)\n",
        "print(CarFactory.max_speed)\n",
        "k5 = CarFactory() \n",
        "k3 = CarFactory() \n",
        "k5.move()\n",
        "k3.move()\n",
        "k5.stop()\n",
        "k3.stop()\n",
        "print(k5.max_speed)"
      ],
      "metadata": {
        "id": "2zRs0T-LEn1M"
      },
      "execution_count": null,
      "outputs": []
    },
    {
      "cell_type": "code",
      "source": [
        "d = {'one':10, 'two':20}\n",
        "#d.three = 30\n",
        "d['three'] = 30\n",
        "print(d['three'])"
      ],
      "metadata": {
        "colab": {
          "base_uri": "https://localhost:8080/"
        },
        "id": "-PGo_VzzFqfm",
        "outputId": "9663b620-f0fa-4f6a-925f-7eb868c6e07d"
      },
      "execution_count": null,
      "outputs": [
        {
          "output_type": "stream",
          "name": "stdout",
          "text": [
            "30\n"
          ]
        }
      ]
    },
    {
      "cell_type": "code",
      "source": [
        "def f():\n",
        "    pass\n",
        "f.one = 10\n",
        "f.two = 20\n",
        "f.three = 30\n",
        "print(f.one)"
      ],
      "metadata": {
        "colab": {
          "base_uri": "https://localhost:8080/"
        },
        "id": "ADbiySMmF2oO",
        "outputId": "286b0738-a1b0-4b8e-f9aa-45f4aeb98769"
      },
      "execution_count": null,
      "outputs": [
        {
          "output_type": "stream",
          "name": "stdout",
          "text": [
            "10\n"
          ]
        }
      ]
    },
    {
      "cell_type": "code",
      "source": [
        "# 메서드 : 클래스 내에 함수\n",
        "# 멤버 : 클래스 내에 변수\n",
        "class CarFactory(object): \n",
        "    max_Speed = 300\n",
        "    max_People = 5\n",
        "    def __init__(self, userInputName): # 인스턴스가 만들어질 때 실행되는 메서드\n",
        "        self.name = userInputName\n",
        "    def move(self):\n",
        "        print(self.name, '차가 움직이고 있습니다.')\n",
        "    def stop(self):\n",
        "        print(self.name, '차가 멈췄습니다.')\n",
        "        \n",
        "k5 = CarFactory('케이파이브') \n",
        "k3 = CarFactory('케이쓰리') \n",
        "k5.move()\n",
        "k3.move()\n",
        "k5.stop()\n",
        "k3.stop()\n",
        "print(k5.max_speed)"
      ],
      "metadata": {
        "id": "x-c7-MbIE8cr"
      },
      "execution_count": null,
      "outputs": []
    },
    {
      "cell_type": "code",
      "source": [
        "k3.name\n",
        "k3.max_Speed"
      ],
      "metadata": {
        "colab": {
          "base_uri": "https://localhost:8080/"
        },
        "id": "vD9G4MBxHyLr",
        "outputId": "4a7c43f1-07f7-42ad-f07d-bb42bdfd969c"
      },
      "execution_count": null,
      "outputs": [
        {
          "output_type": "execute_result",
          "data": {
            "text/plain": [
              "300"
            ]
          },
          "metadata": {},
          "execution_count": 13
        }
      ]
    },
    {
      "cell_type": "code",
      "source": [
        "print(type(k3))\n",
        "print(dir(k3))\n",
        "# 'max_People', 멤버\n",
        "# 'max_Speed', 멤버\n",
        "# 'move', 메서드\n",
        "# 'name', 멤버\n",
        "# 'stop' 메서드"
      ],
      "metadata": {
        "colab": {
          "base_uri": "https://localhost:8080/"
        },
        "id": "YHcO_wbEHCeK",
        "outputId": "7a7642de-3137-4329-f0a9-8947c5cfe53e"
      },
      "execution_count": null,
      "outputs": [
        {
          "output_type": "stream",
          "name": "stdout",
          "text": [
            "<class '__main__.CarFactory'>\n",
            "['__class__', '__delattr__', '__dict__', '__dir__', '__doc__', '__eq__', '__format__', '__ge__', '__getattribute__', '__gt__', '__hash__', '__init__', '__init_subclass__', '__le__', '__lt__', '__module__', '__ne__', '__new__', '__reduce__', '__reduce_ex__', '__repr__', '__setattr__', '__sizeof__', '__str__', '__subclasshook__', '__weakref__', 'max_People', 'max_Speed', 'move', 'name', 'stop']\n"
          ]
        }
      ]
    },
    {
      "cell_type": "code",
      "source": [
        "l = [10, 20, 30]\n",
        "print(type(l))\n",
        "print(dir(l))\n",
        "# 메서드\n",
        "# 'append', 'clear', 'copy', 'count', 'extend', \n",
        "# 'index', 'insert', 'pop', 'remove', 'reverse', 'sort'"
      ],
      "metadata": {
        "colab": {
          "base_uri": "https://localhost:8080/"
        },
        "id": "8CazZL71Gxnu",
        "outputId": "e9bdfd8a-30ea-461f-9132-7da3adf7ca15"
      },
      "execution_count": null,
      "outputs": [
        {
          "output_type": "stream",
          "name": "stdout",
          "text": [
            "<class 'list'>\n",
            "['__add__', '__class__', '__class_getitem__', '__contains__', '__delattr__', '__delitem__', '__dir__', '__doc__', '__eq__', '__format__', '__ge__', '__getattribute__', '__getitem__', '__gt__', '__hash__', '__iadd__', '__imul__', '__init__', '__init_subclass__', '__iter__', '__le__', '__len__', '__lt__', '__mul__', '__ne__', '__new__', '__reduce__', '__reduce_ex__', '__repr__', '__reversed__', '__rmul__', '__setattr__', '__setitem__', '__sizeof__', '__str__', '__subclasshook__', 'append', 'clear', 'copy', 'count', 'extend', 'index', 'insert', 'pop', 'remove', 'reverse', 'sort']\n"
          ]
        }
      ]
    },
    {
      "cell_type": "code",
      "source": [
        "class list(object):\n",
        "    def __add__(self):\n",
        "        pass\n",
        "    def __class__(self):\n",
        "        pass\n",
        "    def __class_getitem__(self):\n",
        "        pass\n",
        "    def __eq__(self):\n",
        "        pass\n",
        "    def __ge__(self):\n",
        "        pass \n",
        "    # ... 생략 ...\n",
        "    def append(self):\n",
        "        pass\n",
        "    def clear(self):\n",
        "        pass\n",
        "    def copy(self):\n",
        "        pass\n",
        "    def count(self):\n",
        "        pass\n",
        "    def extend(self):\n",
        "        pass\n",
        "    def index(self):\n",
        "        pass\n",
        "    # ... 생략 ..."
      ],
      "metadata": {
        "id": "4Qnm8cNbIIRG"
      },
      "execution_count": null,
      "outputs": []
    },
    {
      "cell_type": "code",
      "source": [
        "# 클래스 변수\n",
        "# 클래스 변수는 클래스 바로 하위에 자리하고 있는 변수\n",
        "# 클래스 변수는 모든 인스턴스가 공유합니다.\n",
        "class Car(object):\n",
        "    kinds = []\n",
        "    speed = 300\n",
        "    def add_kinds(self, name):\n",
        "        self.kinds.append(name)\n",
        "    def change_speed(self, speed):\n",
        "        self.speed = speed\n",
        "\n",
        "k5 = Car()\n",
        "k3 = Car()\n",
        "k5.add_kinds('k5')\n",
        "k3.add_kinds('k3')\n",
        "k5.change_speed(500)\n",
        "k3.change_speed(250)\n",
        "\n",
        "print('k5.kinds:', k5.kinds)\n",
        "print('k3.kinds:', k3.kinds)\n",
        "print('k5.speed:', k5.speed)\n",
        "print('k3.speed:', k3.speed)"
      ],
      "metadata": {
        "id": "Ks0BGnZaU4u4"
      },
      "execution_count": null,
      "outputs": []
    },
    {
      "cell_type": "code",
      "source": [
        "# 클래스 변수\n",
        "# 클래스 변수는 클래스 바로 하위에 자리하고 있는 변수\n",
        "# 클래스 변수는 모든 인스턴스가 공유합니다.\n",
        "class Car(object):\n",
        "    kinds = []\n",
        "    speed = 300\n",
        "    def add_kinds(self, name):\n",
        "        self.kinds.append(name)\n",
        "    def change_speed(self, speed):\n",
        "        self.speed = speed\n",
        "\n",
        "k5 = Car()\n",
        "k3 = Car()\n",
        "k5.speed = 500\n",
        "k3.speed # 클래스 변수는 값을 공유한다며?\n"
      ],
      "metadata": {
        "colab": {
          "base_uri": "https://localhost:8080/"
        },
        "id": "AL7ZUDBsZTGb",
        "outputId": "0afe9c69-16d8-4e34-8ba1-3b23d94401c7"
      },
      "execution_count": null,
      "outputs": [
        {
          "output_type": "execute_result",
          "data": {
            "text/plain": [
              "300"
            ]
          },
          "metadata": {},
          "execution_count": 37
        }
      ]
    },
    {
      "cell_type": "code",
      "source": [
        "주인공 = ['licat', 10000]\n",
        "\n",
        "class MobFactory(object):\n",
        "    def __init__(self, 이름, 공격력, 체력, 마력, 크기_넓이, 크기_높이, 아이템확률, x, y):\n",
        "        self.name = 이름\n",
        "        self.power = 공격력\n",
        "        self.hp = 체력\n",
        "        self.mp = 마력\n",
        "        self.width = 크기_넓이\n",
        "        self.height = 크기_높이\n",
        "        self.dropRate = 아이템확률\n",
        "\n",
        "    def attack(self):\n",
        "        주인공[1] -= self.power\n",
        "        print(f'{self.name}이 {self.power}데미지로 공격했습니다.')\n",
        "        print(f'주인공의 체력이 {주인공[1]}가 되었습니다.')\n",
        "\n",
        "슬라임 = MobFactory('슬라임', 1, 10, 10, 2, 2, 100, 1, 1)\n",
        "오크 = MobFactory('오크', 10, 10, 10, 2, 2, 80, 1, 1)\n",
        "고블린 = MobFactory('고블린', 100, 10, 10, 2, 2, 60, 1, 1)\n",
        "드래곤 = MobFactory('드래곤', 1000, 10, 10, 2, 2, 40, 1, 1)\n",
        "해골 = MobFactory('해골', 10000, 10, 10, 2, 2, 1, 1, 1)\n",
        "\n",
        "슬라임.attack()"
      ],
      "metadata": {
        "colab": {
          "base_uri": "https://localhost:8080/"
        },
        "id": "MXAqtSLZagZy",
        "outputId": "17c39b92-5310-4563-8b4f-c67a7ce4b623"
      },
      "execution_count": null,
      "outputs": [
        {
          "output_type": "stream",
          "name": "stdout",
          "text": [
            "슬라임이 1데미지로 공격했습니다.\n",
            "주인공의 체력이 9999가 되었습니다.\n"
          ]
        }
      ]
    },
    {
      "cell_type": "code",
      "source": [
        "class Player(object):\n",
        "    def__init__(self, 직업, 이름, 공격력, 힘, 지능, 체력, 마나, 분노, 크기_넓이, 크기_높이)\n",
        "\n",
        "self.job = 직업\n",
        "self.name = 이름\n",
        "self.power = 공격력\n",
        "self.str = 힘\n",
        "self.int = 지능\n",
        "self.hp = 체력\n",
        "self.mp = 마나\n",
        "self.anger gauge = 분노\n",
        "self.width = 크기_넓이\n",
        "self.height =크기_높이\n",
        "\n",
        "licat = \n",
        "    "
      ],
      "metadata": {
        "id": "3u8qeB5TeI1n"
      },
      "execution_count": null,
      "outputs": []
    },
    {
      "cell_type": "code",
      "source": [
        "주인공 = ['licat', 10000]\n",
        "\n",
        "class MobFactory(object):\n",
        "    def __init__(self, 이름, 공격력, 체력, 마력, 크기_넓이, 크기_높이, 아이템확률, x, y):\n",
        "        self.name = 이름\n",
        "        self.power = 공격력\n",
        "        self.hp = 체력\n",
        "        self.mp = 마력\n",
        "        self.width = 크기_넓이\n",
        "        self.height = 크기_높이\n",
        "        self.dropRate = 아이템확률\n",
        "\n",
        "    def __add__(self, next):\n",
        "        if self.name == '슬라임':\n",
        "            return MobFactory(f'왕{self.name + next.name}', \n",
        "                              self.power + next.power, \n",
        "                              10, 10, 2, 2, 100, 1, 1)\n",
        "        return None\n",
        "\n",
        "    def attack(self):\n",
        "        주인공[1] -= self.power\n",
        "        print(f'{self.name}이 {self.power}데미지로 공격했습니다.')\n",
        "        print(f'주인공의 체력이 {주인공[1]}가 되었습니다.')\n",
        "    \n",
        "\n",
        "슬라임 = 슬라임 = MobFactory('슬라임', 1, 10, 10, 2, 2, 100, 1, 1)\n",
        "왕슬라임 = 슬라임 + 슬라임\n",
        "\n",
        "왕슬라임.power\n",
        "왕슬라임.name"
      ],
      "metadata": {
        "id": "S3gRYq-E2VXz"
      },
      "execution_count": null,
      "outputs": []
    },
    {
      "cell_type": "code",
      "source": [
        "# 조금 쉬운 예제!\n",
        "\n",
        "class BlogFactory(object):\n",
        "    def __init__(self, 제목, 내용, 조회수, 글쓴이, 생성날짜):\n",
        "        self.title = 제목\n",
        "        self.contents = 내용\n",
        "        self.count = 조회수\n",
        "        self.writer = 글쓴이\n",
        "        self.create_date = 생성날짜\n",
        "\n",
        "게시글1 = BlogFactory(\n",
        "    '오늘 제주의 날씨',\n",
        "    '오늘 제주의 날씨는 참 좋네요! 블라블라',\n",
        "    '0'\n",
        "    '김민석'\n",
        "    '2023/05/10',\n",
        ")\n",
        "\n",
        "게시글1.title\n"
      ],
      "metadata": {
        "id": "ql7Ge0N2kABT"
      },
      "execution_count": null,
      "outputs": []
    },
    {
      "cell_type": "code",
      "source": [
        "# 쉽고 중요한 예제!\n",
        "\n",
        "class BlogFactory(object):\n",
        "    def __init__(self, 제목, 내용, 조회수, 글쓴이, 생성날짜):\n",
        "        self.title = 제목\n",
        "        self.content = 내용\n",
        "        self.count = 조회수\n",
        "        self.writer = 글쓴이\n",
        "        self.create_date = 생성날짜\n",
        "\n",
        "게시글1 = BlogFactory(\n",
        "    '오늘 광주의 날씨',\n",
        "    '오늘 광주의 날씨는 참 좋네요! 블라블라',\n",
        "    '0',\n",
        "    '김민석',\n",
        "    '2023/05/10',\n",
        "    )\n",
        "\n",
        "게시글2 = BlogFactory(\n",
        "    '오늘 부산의 날씨',\n",
        "    '오늘 부산의 날씨는 참 좋네요! 블라블라',\n",
        "    '1000000',\n",
        "    '김재현',\n",
        "    '2023/05/10',\n",
        "    )\n",
        "\n",
        "게시글3 = BlogFactory(\n",
        "    '오늘 강원도의 날씨',\n",
        "    '오늘 강원도의 날씨는 참 좋네요! 블라블라',\n",
        "    '10000',\n",
        "    '범남궁',\n",
        "    '2023/05/10',\n",
        "    )\n",
        "    \n",
        "\n",
        "게시글1.title"
      ],
      "metadata": {
        "colab": {
          "base_uri": "https://localhost:8080/",
          "height": 35
        },
        "id": "ooK_yaK83K8x",
        "outputId": "777dd1a8-b53f-427e-87b6-ef01dc7ba7ab"
      },
      "execution_count": null,
      "outputs": [
        {
          "output_type": "execute_result",
          "data": {
            "text/plain": [
              "'오늘 제주의 날씨'"
            ],
            "application/vnd.google.colaboratory.intrinsic+json": {
              "type": "string"
            }
          },
          "metadata": {},
          "execution_count": 44
        }
      ]
    },
    {
      "cell_type": "code",
      "source": [
        "# 쉽고 중요한 예제!\n",
        "# 이 코드는 가능하면 손으로 2~3번 써보기를 권해드립니다.\n",
        "\n",
        "class BlogFactory(object):\n",
        "    def __init__(self, 제목, 내용, 조회수, 글쓴이, 생성날짜):\n",
        "        self.title = 제목\n",
        "        self.content = 내용\n",
        "        self.count = 조회수\n",
        "        self.writer = 글쓴이\n",
        "        self.create_date = 생성날짜\n",
        "\n",
        "게시글1 = BlogFactory(\n",
        "    '오늘 광주의 날씨',\n",
        "    '오늘 광주의 날씨는 참 좋네요! 블라블라',\n",
        "    '0',\n",
        "    '김민석',\n",
        "    '2023/05/10',\n",
        "    )\n",
        "\n",
        "게시글2 = BlogFactory(\n",
        "    '오늘 부산의 날씨',\n",
        "    '오늘 부산의 날씨는 참 좋네요! 블라블라',\n",
        "    '1000000',\n",
        "    '김재현',\n",
        "    '2023/05/10',\n",
        "    )\n",
        "\n",
        "게시글3 = BlogFactory(\n",
        "    '오늘 강원도의 날씨',\n",
        "    '오늘 강원도의 날씨는 참 좋네요! 블라블라',\n",
        "    '10000',\n",
        "    '범남궁',\n",
        "    '2023/05/10',\n",
        "    )\n",
        "\n",
        "data = [게시글1, 게시글2, 게시글3]\n",
        "for i in data:\n",
        "    if i.writer == '김민석':\n",
        "        print(i.title)\n",
        "        print(i.content)\n",
        "        print(i.writer)\n",
        "        print(i.count)\n",
        "        print(i.create_date)"
      ],
      "metadata": {
        "colab": {
          "base_uri": "https://localhost:8080/"
        },
        "id": "kW4x0pKw4I0D",
        "outputId": "fde6135c-90b8-4c6b-c30f-15c4df2c7490"
      },
      "execution_count": null,
      "outputs": [
        {
          "output_type": "stream",
          "name": "stdout",
          "text": [
            "오늘 광주의 날씨\n",
            "오늘 광주의 날씨는 참 좋네요! 블라블라\n",
            "김민석\n",
            "0\n",
            "2023/05/10\n"
          ]
        }
      ]
    },
    {
      "cell_type": "code",
      "source": [
        "data = [게시글1, 게시글2, 게시글3]\n",
        "for i in data:\n",
        "    print(f'<h2>{i.title}</h2>')\n",
        "    print(f'<p>{i.content}</p>')\n",
        "    print(f'<p>{i.writer}</p>')\n",
        "    print(f'<p>{i.count}</p>')\n",
        "    print(f'<p>{i.create_date}</p>')"
      ],
      "metadata": {
        "id": "u6dCCxgJ5zWM"
      },
      "execution_count": null,
      "outputs": []
    },
    {
      "cell_type": "code",
      "source": [
        "# 쉽고 중요한 예제!\n",
        "# 이 코드는 가능하면 손으로 2 ~ 3번 써보시길 권해드립니다.\n",
        "\n",
        "class BlogFactory(object):\n",
        "    def __init__(self, 제목, 내용, 조회수, 글쓴이, 생성날짜):\n",
        "        self.title = 제목\n",
        "        self.content = 내용\n",
        "        self.count = 조회수\n",
        "        self.writer = 글쓴이\n",
        "        self.create_date = 생성날짜\n",
        "        self.dataset.append(self)\n",
        "\n",
        "게시글1 = BlogFactory(\n",
        "        '오늘 제주의 날씨',\n",
        "        '오늘 제주의 날씨는 참 좋네요! 블라블라',\n",
        "        '0',\n",
        "        '이호준',\n",
        "        '2023/05/10',\n",
        "    )\n",
        "\n",
        "게시글2 = BlogFactory(\n",
        "        '오늘 부산의 날씨',\n",
        "        '오늘 부산의 날씨는 참 좋네요! 블라블라',\n",
        "        '1000000',\n",
        "        '김재현',\n",
        "        '2023/05/10',\n",
        "    )\n",
        "\n",
        "게시글3 = BlogFactory(\n",
        "        '오늘 강원의 날씨',\n",
        "        '오늘 강원의 날씨는 참 좋네요! 블라블라',\n",
        "        '10000',\n",
        "        '범남궁',\n",
        "        '2023/05/10',\n",
        "    )\n",
        "\n",
        "data = [게시글1, 게시글2, 게시글3]\n",
        "for i in data:\n",
        "    if i.writer == '이호준':\n",
        "        print(i.title)\n",
        "        print(i.content)\n",
        "        print(i.count)\n",
        "        print(i.create_date)"
      ],
      "metadata": {
        "colab": {
          "base_uri": "https://localhost:8080/"
        },
        "id": "kPHQl0435BSf",
        "outputId": "c6f1276c-c879-40b2-81eb-1033053704a0"
      },
      "execution_count": null,
      "outputs": [
        {
          "output_type": "stream",
          "name": "stdout",
          "text": [
            "오늘 제주의 날씨\n",
            "오늘 제주의 날씨는 참 좋네요! 블라블라\n",
            "0\n",
            "2023/05/10\n"
          ]
        }
      ]
    },
    {
      "cell_type": "code",
      "source": [
        "# 조금 난이도가 있는 예제이기 때문에\n",
        "# 기억하지 않으셔도 됩니다.\n",
        "\n",
        "class BlogFactory(object):\n",
        "    dataset=[]\n",
        "    def __init__(self, 제목, 내용, 조회수, 글쓴이, 생성날짜):\n",
        "        self.title = 제목\n",
        "        self.content = 내용\n",
        "        self.count = 조회수\n",
        "        self.writer = 글쓴이\n",
        "        self.create_date = 생성날짜\n",
        "        self.dataset.append(self)\n",
        "\n",
        "게시글1 = BlogFactory(\n",
        "        '오늘 제주의 날씨',\n",
        "        '오늘 제주의 날씨는 참 좋네요! 블라블라',\n",
        "        '0',\n",
        "        '이호준',\n",
        "        '2023/05/10',\n",
        "    )\n",
        "\n",
        "게시글2 = BlogFactory(\n",
        "        '오늘 부산의 날씨',\n",
        "        '오늘 부산의 날씨는 참 좋네요! 블라블라',\n",
        "        '1000000',\n",
        "        '김재현',\n",
        "        '2023/05/10',\n",
        "    )\n",
        "\n",
        "게시글3 = BlogFactory(\n",
        "        '오늘 강원의 날씨',\n",
        "        '오늘 강원의 날씨는 참 좋네요! 블라블라',\n",
        "        '10000',\n",
        "        '범남궁',\n",
        "        '2023/05/10',\n",
        "    )\n",
        "\n",
        "for i in 게시글1.dataset:\n",
        "    print(i.title)"
      ],
      "metadata": {
        "colab": {
          "base_uri": "https://localhost:8080/"
        },
        "id": "uzJ5EbVj56V8",
        "outputId": "002a3705-59b8-4bf3-baf4-346dd0b43458"
      },
      "execution_count": null,
      "outputs": [
        {
          "output_type": "stream",
          "name": "stdout",
          "text": [
            "오늘 제주의 날씨\n",
            "오늘 부산의 날씨\n",
            "오늘 강원의 날씨\n"
          ]
        }
      ]
    },
    {
      "cell_type": "code",
      "source": [
        "# x = 10\n",
        "# y = 10\n",
        "# x.__add__ = lambda self, next : str(self) + str(next)\n"
      ],
      "metadata": {
        "id": "_M9qnBuy7B32"
      },
      "execution_count": null,
      "outputs": []
    },
    {
      "cell_type": "code",
      "source": [],
      "metadata": {
        "id": "tjjFIg269iye"
      },
      "execution_count": null,
      "outputs": []
    },
    {
      "cell_type": "code",
      "source": [
        "class BlogFactory(object):\n",
        "    dataset = []\n",
        "\n",
        "    def __init__(self, 제목, 내용, 조회수, 글쓴이, 생성날짜):\n",
        "        self.title = 제목\n",
        "        self.content = 내용\n",
        "        self.count = 조회수\n",
        "        self.writer = 글쓴이\n",
        "        self.create_date = 생성날짜\n",
        "        self.dataset.append(self)\n",
        "\n",
        "\n",
        "    def __str__(self):\n",
        "        return 'hello'\n",
        "\n",
        "게시글1 = BlogFactory(\n",
        "        '오늘 제주의 날씨',\n",
        "        '오늘 제주의 날씨는 참 좋네요! 블라블라',\n",
        "        '0',\n",
        "        '이호준',\n",
        "        '2023/05/10',\n",
        "    )\n",
        "print(게시글1, 게시글2)"
      ],
      "metadata": {
        "colab": {
          "base_uri": "https://localhost:8080/"
        },
        "id": "sLCNKPTe8vgI",
        "outputId": "1cd60a96-c7da-480f-b8ed-94d5ddc7faf0"
      },
      "execution_count": null,
      "outputs": [
        {
          "output_type": "stream",
          "name": "stdout",
          "text": [
            "hello <__main__.BlogFactory object at 0x7fe78ba4b0d0>\n"
          ]
        }
      ]
    },
    {
      "cell_type": "code",
      "source": [
        "# 중요한 예제입니다.\n",
        "class BlogFactory(object):\n",
        "    dataset = []\n",
        "\n",
        "    def __init__(self, 제목, 내용, 조회수, 글쓴이, 생성날짜):\n",
        "        self.title = 제목\n",
        "        self.content = 내용\n",
        "        self.count = 조회수\n",
        "        self.writer = 글쓴이\n",
        "        self.create_date = 생성날짜\n",
        "        self.dataset.append(self)\n",
        "\n",
        "    def __str__(self):\n",
        "        return f'제목 : {self.title}, 내용 : {self.content[:5]}, 글쓴이 : {self.writer}'\n",
        "\n",
        "게시글1 = BlogFactory(\n",
        "        '오늘 제주의 날씨',\n",
        "        '오늘 제주의 날씨는 참 좋네요! 블라블라',\n",
        "        '0',\n",
        "        '이호준',\n",
        "        '2023/05/10',\n",
        "    )\n",
        "\n",
        "게시글2 = BlogFactory(\n",
        "        '오늘 부산의 날씨',\n",
        "        '오늘 부산의 날씨는 참 좋네요! 블라블라',\n",
        "        '1000000',\n",
        "        '김재현',\n",
        "        '2023/05/10',\n",
        "    )\n",
        "\n",
        "print(게시글1)\n",
        "print(게시글2)"
      ],
      "metadata": {
        "colab": {
          "base_uri": "https://localhost:8080/"
        },
        "id": "5sEId0DT-oVF",
        "outputId": "565e9ba9-28de-434b-f558-43fc63acdce4"
      },
      "execution_count": null,
      "outputs": [
        {
          "output_type": "stream",
          "name": "stdout",
          "text": [
            "제목 : 오늘 제주의 날씨, 내용 : 오늘 제주, 글쓴이 : 이호준\n",
            "제목 : 오늘 부산의 날씨, 내용 : 오늘 부산, 글쓴이 : 김재현\n"
          ]
        }
      ]
    },
    {
      "cell_type": "code",
      "source": [
        "# 중요한 예제입니다.\n",
        "class BlogFactory(object):\n",
        "    dataset = []\n",
        "\n",
        "    def __init__(self, 제목, 내용, 조회수, 글쓴이, 생성날짜):\n",
        "        self.title = 제목\n",
        "        self.content = 내용\n",
        "        self.count = 조회수\n",
        "        self.writer = 글쓴이\n",
        "        self.create_date = 생성날짜\n",
        "        self.dataset.append(self)\n",
        "\n",
        "    def __str__(self):\n",
        "        return f'{len(self.dataset)}. 제목 : {self.title}, 내용 : {self.content[:5]}, 글쓴이 : {self.writer}'\n",
        "\n",
        "게시글1 = BlogFactory(\n",
        "        '오늘 제주의 날씨',\n",
        "        '오늘 제주의 날씨는 참 좋네요! 블라블라',\n",
        "        '0',\n",
        "        '이호준',\n",
        "        '2023/05/10',\n",
        "    )\n",
        "print(게시글1)\n",
        "\n",
        "게시글2 = BlogFactory(\n",
        "        '오늘 부산의 날씨',\n",
        "        '오늘 부산의 날씨는 참 좋네요! 블라블라',\n",
        "        '1000000',\n",
        "        '김재현',\n",
        "        '2023/05/10',\n",
        "    )\n",
        "print(게시글2)"
      ],
      "metadata": {
        "colab": {
          "base_uri": "https://localhost:8080/"
        },
        "id": "bj93Sl78C32J",
        "outputId": "d23d74db-1135-4469-fd3c-539965c307c5"
      },
      "execution_count": null,
      "outputs": [
        {
          "output_type": "stream",
          "name": "stdout",
          "text": [
            "1. 제목 : 오늘 제주의 날씨, 내용 : 오늘 제주, 글쓴이 : 이호준\n",
            "2. 제목 : 오늘 부산의 날씨, 내용 : 오늘 부산, 글쓴이 : 김재현\n"
          ]
        }
      ]
    },
    {
      "cell_type": "code",
      "source": [
        "# 각각 class를 만들어주시고, instance를 2개 이상 넣어서\n",
        "# 활용(출력, 수정등) 해보세요.\n",
        "# 15분씩 총 30분\n",
        "class UserInfo(object):\n",
        "    pass\n",
        "\n",
        "class BookInfo(object):\n",
        "    pass"
      ],
      "metadata": {
        "id": "-Bits7qiDDCX"
      },
      "execution_count": null,
      "outputs": []
    },
    {
      "cell_type": "code",
      "source": [],
      "metadata": {
        "id": "eAxbbs1tK2XQ"
      },
      "execution_count": null,
      "outputs": []
    },
    {
      "cell_type": "code",
      "source": [
        "# 1번째 스탭\n",
        "# 공개되는 정보, 공개되지 않는 정보\n",
        "# 멤버(정적 수치, 문자열)와 메서드(기능)\n",
        "class Product(object):\n",
        "    def __init__(self, 품명, 가격):\n",
        "        self.product_name = 품명\n",
        "        self.price = 가격\n",
        "        \n",
        "자전거 = Product(\n",
        "    '자전거',\n",
        "    100000,\n",
        ")\n",
        "\n",
        "class UserInfo(object):\n",
        "    def __init__(self, \n",
        "                 이름, \n",
        "                 이메일,\n",
        "                 비밀번호, \n",
        "                 주요접속기기, \n",
        "                 주요접속국가, \n",
        "                 주요접속지역, \n",
        "                 마지막접속일자, \n",
        "                 회원가입날짜, \n",
        "                 별명, \n",
        "                 적립금, \n",
        "                 생일, \n",
        "                 휴대폰번호, \n",
        "                 휴대폰인증여부, \n",
        "                 고객등급, \n",
        "                 휴면계정여부):\n",
        "        self.이름 = 이름\n",
        "        self.고객등급 = 고객등급\n",
        "        self.적립금 = 적립금\n",
        "    \n",
        "    def 물품구매(self, product):\n",
        "        self.적립금 -= product.price\n",
        "\n",
        "    def 회원탈퇴(self):\n",
        "        pass\n",
        "\n",
        "    def 장바구니등록(self):\n",
        "        pass\n",
        "\n",
        "이호준 = UserInfo(\n",
        "    이름 = '이호준',\n",
        "    이메일 = 'hojun@gmail.com',\n",
        "    비밀번호 = '98d234db7e91f5ba026a25d0d6f17bc5ee0a347ea2216b0c9de06d43536d49f4',\n",
        "    주요접속기기 = 'Android',\n",
        "    주요접속국가 = 'Korea',\n",
        "    주요접속지역 = 'Jeju',\n",
        "    마지막접속일자 = '23/05/10',\n",
        "    회원가입날짜 = '23/05/10',\n",
        "    별명 = '준',\n",
        "    적립금 = 1000000000,\n",
        "    생일 = '13/13',\n",
        "    휴대폰번호 = '010-0000-0000',\n",
        "    휴대폰인증여부 = True,\n",
        "    고객등급 = 'VIP',\n",
        "    휴면계정여부 = False,\n",
        ")\n",
        "\n",
        "이호준.물품구매(자전거)\n",
        "이호준.적립금"
      ],
      "metadata": {
        "id": "BpVHqgXsKvx8"
      },
      "execution_count": null,
      "outputs": []
    },
    {
      "cell_type": "code",
      "source": [
        "class Car(object):\n",
        "    MaxSpeed = 300\n",
        "    MaxPeoeple = 5\n",
        "    def __init__(self):\n",
        "        pass\n",
        "    def move(self, x):\n",
        "        pass\n",
        "    def stop(self):\n",
        "        print('멈췄습니다.')\n",
        "    @staticmethod #decorator\n",
        "    def 스피드배속(현재스피드, 배속할스피드):\n",
        "        print(f'현재 {현재스피드 * 배속할스피드}의 스피드로 달리고 있습니다.')\n",
        "\n",
        "Car.스피드배속(100, 2) # 붕어빵 찍는 틀이 얼마나 붕어빵을 만들어 냈는가?"
      ],
      "metadata": {
        "colab": {
          "base_uri": "https://localhost:8080/"
        },
        "id": "jKcEonLdXd2W",
        "outputId": "fdf742a0-56ca-4628-ce97-e59d65ddf8e1"
      },
      "execution_count": null,
      "outputs": [
        {
          "output_type": "stream",
          "name": "stdout",
          "text": [
            "현재 200의 스피드로 달리고 있습니다.\n"
          ]
        }
      ]
    },
    {
      "cell_type": "code",
      "source": [
        "# 예를 들어\n",
        "class Hotel:\n",
        "    pass\n",
        "\n",
        "Hotel.빈방() # 전체 호텔에 빈방이 있는\n",
        "호텔1.빈방 # 호텔1에 빈방"
      ],
      "metadata": {
        "id": "1TCyIqn9X0TT"
      },
      "execution_count": null,
      "outputs": []
    },
    {
      "cell_type": "markdown",
      "source": [
        "### 상속"
      ],
      "metadata": {
        "id": "0Eux6_4dYqMq"
      }
    },
    {
      "cell_type": "code",
      "source": [
        "# 이 예제는 기억하고 있으셔야 합니다.\n",
        "class Car(object):\n",
        "    maxSpeed = 300\n",
        "    maxPeople = 5\n",
        "    def move(self, x):\n",
        "        print(x, '의 스피드로 달리고 있습니다.')\n",
        "    def stop(self):\n",
        "        print('멈췄습니다.')\n",
        "\n",
        "class HybridCar(Car):\n",
        "    battery = 1000\n",
        "    batteryKM = 300\n",
        "\n",
        "class ElectricCar(HybridCar):\n",
        "    battery = 2000\n",
        "    batteryKM = 600"
      ],
      "metadata": {
        "id": "yLbezUcOE8Wo"
      },
      "execution_count": null,
      "outputs": []
    },
    {
      "cell_type": "code",
      "source": [
        "dir(k3)"
      ],
      "metadata": {
        "id": "VAJ6Cym5ZPwS"
      },
      "execution_count": null,
      "outputs": []
    },
    {
      "cell_type": "code",
      "source": [
        "K3 = Car()\n",
        "HyK3 = HybridCar()\n",
        "ElHyK3 = ElectricCar()\n",
        "# id(K3.maxSpeed), id(HyK3.maxSpeed)\n",
        "# id(K3.move), id(HyK3.move)"
      ],
      "metadata": {
        "colab": {
          "base_uri": "https://localhost:8080/"
        },
        "id": "oLHcamdsZROa",
        "outputId": "1583b4b3-122a-44e1-ae33-26489258bbe7"
      },
      "execution_count": null,
      "outputs": [
        {
          "output_type": "execute_result",
          "data": {
            "text/plain": [
              "(140632457029824, 140632457029824)"
            ]
          },
          "metadata": {},
          "execution_count": 78
        }
      ]
    },
    {
      "cell_type": "markdown",
      "source": [],
      "metadata": {
        "id": "K__NBP34A5HO"
      }
    },
    {
      "cell_type": "markdown",
      "source": [
        "## !! 오늘 배운 것 정리\n",
        "* 클래스\n",
        "    * 클래스는 데이터(멤버)와 기능(메서드)을 가지고 있는 인스턴트 객체를 생성하기 위한 역할\n",
        "    * 우리가 배우고 있는 Python을 객체 지향 프로그래밍 언어\n",
        "        ```\n",
        "        현실                                코드\n",
        "        차 ---------------------------> class Car()\n",
        "        정수 -------------------------> class int()\n",
        "        실수 -------------------------> class float()\n",
        "\n",
        "        인간이 만들어 \n",
        "        놓은 현실 세계에서의 \n",
        "        정의 또는 약속 --------------> class\n",
        "        \n",
        "        1 + 1 = 2가 컴퓨터 입장에서는 10일 수도 있고\n",
        "        'A' + 'A' = 'AA'가 아니라 컴퓨터 입장에서는 130일 수 있습니다.\n",
        "        현실세계에서 '인간끼리' 약속을 코드에 세계로 옮긴거에요.\n",
        "        ```\n",
        "    * 예제 1\n",
        "        ```python\n",
        "        # 메서드 : 클래스 내에 함수\n",
        "        # 멤버 : 클래스 내에 변수\n",
        "        # 애트리뷰트 : 멤버 + 메서드\n",
        "        class CarFactory(object):\n",
        "            max_speed = 300\n",
        "            max_people = 5\n",
        "            def move(self):\n",
        "                print('차가 움직이고 있습니다.')\n",
        "            def stop(self):\n",
        "                print('차가 멈췄습니다.')\n",
        "\n",
        "        k5 = CarFactory()\n",
        "        k3 = CarFactory()\n",
        "        k5.move()\n",
        "        k3.move()\n",
        "        k5.stop()\n",
        "        k3.stop()\n",
        "        print(k5.max_speed)\n",
        "        ```\n",
        "    * 예제2\n",
        "        ```python\n",
        "        # 클래스 변수\n",
        "        # 클래스 바로 하위에 자리하고 있으며\n",
        "        # 모든 인스턴스가 공유합니다.\n",
        "        # 인스턴스 변수\n",
        "        # 인스턴스 영역 안에서만 사용하는 변수\n",
        "        class Car(object):\n",
        "            # kinds가 인스턴스에 없기에 class변수로 접근\n",
        "            # speed는 값을 = 로 할당했기에 인스턴스변수 생성\n",
        "            kinds = []\n",
        "            speed = 300\n",
        "            def add_kinds(self, name):\n",
        "                self.kinds.append(name) # self.kinds = [name]로 사용하면 인스턴스 변수가 됩니다.\n",
        "            def change_speed(self, speed):\n",
        "                self.speed = speed\n",
        "\n",
        "        k5 = Car()\n",
        "        k3 = Car()\n",
        "        k5.speed = 500\n",
        "        k3.speed # 클래스 변수는 값을 공유한다고 했는데?\n",
        "        ```\n",
        "    * 예제3\n",
        "        ```python\n",
        "        # 쉽고 중요한 예제!\n",
        "        # 이 코드는 가능하면 손으로 2 ~ 3번 써보시길 권해드립니다.\n",
        "\n",
        "        class BlogFactory(object):\n",
        "            def __init__(self, 제목, 내용, 조회수, 글쓴이, 생성날짜):\n",
        "                self.title = 제목\n",
        "                self.content = 내용\n",
        "                self.count = 조회수\n",
        "                self.writer = 글쓴이\n",
        "                self.create_date = 생성날짜\n",
        "\n",
        "        게시글1 = BlogFactory(\n",
        "                '오늘 제주의 날씨',\n",
        "                '오늘 제주의 날씨는 참 좋네요! 블라블라',\n",
        "                '0',\n",
        "                '이호준',\n",
        "                '2023/05/10',\n",
        "            )\n",
        "\n",
        "        게시글2 = BlogFactory(\n",
        "                '오늘 부산의 날씨',\n",
        "                '오늘 부산의 날씨는 참 좋네요! 블라블라',\n",
        "                '1000000',\n",
        "                '김재현',\n",
        "                '2023/05/10',\n",
        "            )\n",
        "\n",
        "        게시글3 = BlogFactory(\n",
        "                '오늘 강원의 날씨',\n",
        "                '오늘 강원의 날씨는 참 좋네요! 블라블라',\n",
        "                '10000',\n",
        "                '범남궁',\n",
        "                '2023/05/10',\n",
        "            )\n",
        "\n",
        "        data = [게시글1, 게시글2, 게시글3]\n",
        "        for i in data:\n",
        "            if i.writer == '이호준':\n",
        "                print(i.title)\n",
        "                print(i.content)\n",
        "                print(i.count)\n",
        "                print(i.create_date)\n",
        "        ```\n",
        "* 클래스 상속\n",
        "    * 클래스에서 상속은 상속해주는 클래스(Parent Class, Super class)의 내용(속성과 메소드)을 상속받는 클래스(Child class, sub class)가 가지게 되는 것\n",
        "    * 코드 예\n",
        "        ```python\n",
        "        # 이 예제는 기억하고 있으셔야 합니다.\n",
        "        class Car:\n",
        "            maxSpeed = 300\n",
        "            maxPeople = 5\n",
        "            def move(self, x):\n",
        "                print(x, '의 스피드로 달리고 있습니다.')\n",
        "            def stop(self):\n",
        "                print('멈췄습니다.')\n",
        "\n",
        "        class HybridCar(Car):\n",
        "            battery = 1000\n",
        "            batteryKM = 300\n",
        "\n",
        "        class ElectricCar(HybridCar):\n",
        "            battery = 2000\n",
        "            batteryKM = 600\n",
        "\n",
        "        K3 = Car()\n",
        "        HyK3 = HybridCar()\n",
        "        ElHyK3 = ElectricCar()\n",
        "        # id(K3.maxSpeed), id(HyK3.maxSpeed)\n",
        "        # id(K3.move), id(HyK3.move)\n",
        "\n",
        "        ElHyK3.move(10)\n",
        "        ```"
      ],
      "metadata": {
        "id": "xdAj_nGPIfIa"
      }
    },
    {
      "cell_type": "code",
      "source": [
        "# 우리가 앞으로 알고리즘에서 할 코드입니다.\n",
        "# 예방주사 차원에서 진행하도록 하겠습니다."
      ],
      "metadata": {
        "id": "_toqh4z6LlL5"
      },
      "execution_count": null,
      "outputs": []
    },
    {
      "cell_type": "code",
      "source": [
        "class Node:\n",
        "    def __init__(self, data1, data2):\n",
        "        self.data1 = data1\n",
        "        self.data2 = data2\n",
        "        self.next = None\n",
        "\n",
        "노드1 = Node(101, 201)\n",
        "노드2 = Node(301, 404)\n",
        "노드3 = Node(501, 601)\n",
        "\n",
        "# 노드1.data\n",
        "\n",
        "노드1.next = 노드2\n",
        "노드2.next = 노드3\n",
        "\n",
        "노드1.next = 노드2\n",
        "노드2.next = 노드3\n",
        "\n",
        "노드1.data1\n",
        "노드1.next.data1\n",
        "\n",
        "\n"
      ],
      "metadata": {
        "id": "mdyJUOnsitCZ",
        "colab": {
          "base_uri": "https://localhost:8080/"
        },
        "outputId": "47cbba7e-1d94-4580-a011-62489976117d"
      },
      "execution_count": null,
      "outputs": [
        {
          "output_type": "execute_result",
          "data": {
            "text/plain": [
              "301"
            ]
          },
          "metadata": {},
          "execution_count": 8
        }
      ]
    },
    {
      "cell_type": "markdown",
      "source": [
        "### 메서드 오버라이딩\n",
        "\n"
      ],
      "metadata": {
        "id": "ZlcXV6f8Q3hx"
      }
    },
    {
      "cell_type": "markdown",
      "source": [
        "* 부모클래스에서 상속받은 함수를 자식\n",
        "클래스에서 같은 이름으로 선언하여 사용하는 것"
      ],
      "metadata": {
        "id": "zeqTGGWxSMZq"
      }
    },
    {
      "cell_type": "code",
      "source": [
        "class Car(object):\n",
        "    maxSpeed = 300\n",
        "    maxPeople = 5\n",
        "    def move(self, x):\n",
        "        print(x, '의 스피드로 달리고 있습니다.')\n",
        "    def stop(self):\n",
        "        print('멈췄습니다.')\n",
        "\n",
        "class HybridCar(Car):\n",
        "    battery = 1000\n",
        "    batteryKM = 300\n",
        "\n",
        "class ElectricCar(HybridCar):\n",
        "    battery = 2000\n",
        "    batteryKM = 600\n",
        "\n",
        "    def move(self, x):\n",
        "        print(self.batteryKM, '만큼 달릴 수 있습니다.')\n",
        "        print(x, '스피드로 달리고 있습니다.')\n",
        "\n",
        "# 자신의 고유의 영역에서 선언된\n",
        "# 멤버와 메서드를 우선순위로 잡습니다.\n",
        "\n",
        "k5 = HybridCar()\n",
        "electricCarK5 = ElectricCar()\n",
        "k5.maxspeed\n",
        "electricCarK5.maxspeed\n",
        "electricCarK5.battery\n",
        "electricCarK5.move(10)"
      ],
      "metadata": {
        "id": "6l4w1Pm-iq0Q"
      },
      "execution_count": null,
      "outputs": []
    },
    {
      "cell_type": "markdown",
      "source": [
        "### 다중상속"
      ],
      "metadata": {
        "id": "PqlKQPPtRz9k"
      }
    },
    {
      "cell_type": "code",
      "source": [
        "class Car(object):\n",
        "    maxSpeed = 300\n",
        "    maxPeople = 5\n",
        "    def move(self, x):\n",
        "        print(x, '의 스피드로 달리고 있습니다.')\n",
        "    def stop(self):\n",
        "        print('멈췄습니다.')\n",
        "\n",
        "class HybridCar(Car):\n",
        "    battery = 1000\n",
        "    batteryKM = 300\n",
        "\n",
        "class ElectricCar(HybridCar):\n",
        "    battery = 2000\n",
        "    batteryKM = 600\n",
        "\n",
        "    def move(self, x):\n",
        "        print(x, '스피드로 달리고 있습니다.')\n",
        "\n",
        "class Test(ElectricCar):\n",
        "    pass\n",
        "\n",
        "test.mro() # MRO(Method Resolution Order)\n",
        "print(Test.battery)"
      ],
      "metadata": {
        "colab": {
          "base_uri": "https://localhost:8080/",
          "height": 229
        },
        "id": "nMW4u_2-U8Ue",
        "outputId": "4498f2b4-a093-4150-d3a5-d6917813b956"
      },
      "execution_count": null,
      "outputs": [
        {
          "output_type": "error",
          "ename": "NameError",
          "evalue": "ignored",
          "traceback": [
            "\u001b[0;31m---------------------------------------------------------------------------\u001b[0m",
            "\u001b[0;31mNameError\u001b[0m                                 Traceback (most recent call last)",
            "\u001b[0;32m<ipython-input-9-23716f989b0e>\u001b[0m in \u001b[0;36m<cell line: 23>\u001b[0;34m()\u001b[0m\n\u001b[1;32m     21\u001b[0m     \u001b[0;32mpass\u001b[0m\u001b[0;34m\u001b[0m\u001b[0;34m\u001b[0m\u001b[0m\n\u001b[1;32m     22\u001b[0m \u001b[0;34m\u001b[0m\u001b[0m\n\u001b[0;32m---> 23\u001b[0;31m \u001b[0mtest\u001b[0m\u001b[0;34m.\u001b[0m\u001b[0mmro\u001b[0m\u001b[0;34m(\u001b[0m\u001b[0;34m)\u001b[0m \u001b[0;31m# MRO (Method Resolution Order)\u001b[0m\u001b[0;34m\u001b[0m\u001b[0;34m\u001b[0m\u001b[0m\n\u001b[0m\u001b[1;32m     24\u001b[0m \u001b[0mprint\u001b[0m\u001b[0;34m(\u001b[0m\u001b[0mTest\u001b[0m\u001b[0;34m.\u001b[0m\u001b[0mbattery\u001b[0m\u001b[0;34m)\u001b[0m\u001b[0;34m\u001b[0m\u001b[0;34m\u001b[0m\u001b[0m\n",
            "\u001b[0;31mNameError\u001b[0m: name 'test' is not defined"
          ]
        }
      ]
    },
    {
      "cell_type": "code",
      "source": [
        "class A(object):\n",
        "    maxSpeed = 300\n",
        "\n",
        "class B(A):\n",
        "    battery = 1000\n",
        "\n",
        "class C(B):\n",
        "    battery = 2000\n",
        "\n",
        "class D(B, C):\n",
        "    pass\n",
        "\n",
        "D.mro()\n",
        "# D.battery\n",
        "\n"
      ],
      "metadata": {
        "colab": {
          "base_uri": "https://localhost:8080/",
          "height": 266
        },
        "id": "FLBGziy1V_93",
        "outputId": "ee598eea-3cfc-4f48-f6b4-30769c1939b7"
      },
      "execution_count": null,
      "outputs": [
        {
          "output_type": "error",
          "ename": "TypeError",
          "evalue": "ignored",
          "traceback": [
            "\u001b[0;31m---------------------------------------------------------------------------\u001b[0m",
            "\u001b[0;31mTypeError\u001b[0m                                 Traceback (most recent call last)",
            "\u001b[0;32m<ipython-input-11-2f37461340a1>\u001b[0m in \u001b[0;36m<cell line: 10>\u001b[0;34m()\u001b[0m\n\u001b[1;32m      8\u001b[0m     \u001b[0mbattery\u001b[0m \u001b[0;34m=\u001b[0m \u001b[0;36m2000\u001b[0m\u001b[0;34m\u001b[0m\u001b[0;34m\u001b[0m\u001b[0m\n\u001b[1;32m      9\u001b[0m \u001b[0;34m\u001b[0m\u001b[0m\n\u001b[0;32m---> 10\u001b[0;31m \u001b[0;32mclass\u001b[0m \u001b[0mD\u001b[0m\u001b[0;34m(\u001b[0m\u001b[0mB\u001b[0m\u001b[0;34m,\u001b[0m \u001b[0mC\u001b[0m\u001b[0;34m)\u001b[0m\u001b[0;34m:\u001b[0m\u001b[0;34m\u001b[0m\u001b[0;34m\u001b[0m\u001b[0m\n\u001b[0m\u001b[1;32m     11\u001b[0m     \u001b[0;32mpass\u001b[0m\u001b[0;34m\u001b[0m\u001b[0;34m\u001b[0m\u001b[0m\n\u001b[1;32m     12\u001b[0m \u001b[0;34m\u001b[0m\u001b[0m\n",
            "\u001b[0;31mTypeError\u001b[0m: Cannot create a consistent method resolution\norder (MRO) for bases B, C"
          ]
        }
      ]
    },
    {
      "cell_type": "code",
      "source": [
        "class A(object):\n",
        "    maxSpeed = 300\n",
        "\n",
        "class B(A):\n",
        "    battery = 1000\n",
        "\n",
        "class C(A):\n",
        "    battery = 2000\n",
        "\n",
        "class D(B, C):\n",
        "    pass\n",
        "\n",
        "D.mro()\n",
        "# D.battery"
      ],
      "metadata": {
        "colab": {
          "base_uri": "https://localhost:8080/"
        },
        "id": "ZGdSRvlpWiT1",
        "outputId": "16ba8629-a955-4c00-8e12-b2df141abc97"
      },
      "execution_count": null,
      "outputs": [
        {
          "output_type": "execute_result",
          "data": {
            "text/plain": [
              "[__main__.D, __main__.B, __main__.C, __main__.A, object]"
            ]
          },
          "metadata": {},
          "execution_count": 12
        }
      ]
    },
    {
      "cell_type": "code",
      "source": [
        "# __는 문법 적으로 접근이 안됩니다. : 변수를 보호할 수 있어요.\n",
        "# 변수를 변경하는 것을 보다 엄격하게 관리할수 있습니다.\n",
        "# _는 공식 X\n",
        "# _는 문법 적으로 접근이 됩니다(회사 컨벤션마다 다릅니다.)\n",
        "class Car(object):\n",
        "    __maxSpeed = 300\n",
        "    maxPeople = 5\n",
        "    def move(self, x):\n",
        "        print(x, '의 스피드로 움직이고 있습니다.')\n",
        "        print(self.__maxSpeed, '가 최고 속도입니다.')\n",
        "    def stop(self):\n",
        "        print('멈췄습니다')\n",
        "\n",
        "\n",
        "k5 = Car()\n",
        "k5.move(10)\n",
        "# k5.__maxSpeed # error"
      ],
      "metadata": {
        "id": "__2Pdsi8iMw0",
        "colab": {
          "base_uri": "https://localhost:8080/"
        },
        "outputId": "f6ec3248-253e-4799-8614-aecbdde83f40"
      },
      "execution_count": null,
      "outputs": [
        {
          "output_type": "stream",
          "name": "stdout",
          "text": [
            "10 의 스피트로 움직이고 있습니다.\n",
            "300 가 최고 속도입니다.\n"
          ]
        }
      ]
    },
    {
      "cell_type": "markdown",
      "source": [
        "### 이터레이터"
      ],
      "metadata": {
        "id": "Aqge9FjeYYo4"
      }
    },
    {
      "cell_type": "code",
      "source": [
        "class MyIter:\n",
        "    def __init__(self, stop):\n",
        "        self.currentValue = 0\n",
        "        self.stop = stop\n",
        "\n",
        "    def __iter__(self):\n",
        "        return self\n",
        "\n",
        "    def __next__(self):\n",
        "        if self.currentValue >= self.stop:\n",
        "            raise StopIteration\n",
        "        self.currentValue += 1\n",
        "        return self.currentValue\n",
        "\n",
        "li = MyIter(5)\n",
        "for i in  li:\n",
        "    print(i)\n",
        "\n",
        "for i in li:\n",
        "    print(i)"
      ],
      "metadata": {
        "colab": {
          "base_uri": "https://localhost:8080/"
        },
        "id": "3xELyFxWYZtW",
        "outputId": "684c8d46-d37e-42f2-826b-7d8b17e9bee0"
      },
      "execution_count": null,
      "outputs": [
        {
          "output_type": "stream",
          "name": "stdout",
          "text": [
            "1\n",
            "2\n",
            "3\n",
            "4\n",
            "5\n"
          ]
        }
      ]
    },
    {
      "cell_type": "code",
      "source": [
        "class MyIter:\n",
        "    def __init__(self, stop):\n",
        "        self.stop = stop\n",
        "    \n",
        "    def __iter__(self):\n",
        "        self.currentValue = 0\n",
        "        return self\n",
        "\n",
        "    def __next__(self):\n",
        "        if self.currentValue >= self.stop:\n",
        "            raise StopIteration\n",
        "        result = self.currentValue\n",
        "        self.currentValue += 1\n",
        "        return result\n",
        "\n",
        "li = MyIter(5)\n",
        "# for는 iter먼저 실행하고, next로 StopIteration\n",
        "i = iter(li)\n",
        "next(i)"
      ],
      "metadata": {
        "colab": {
          "base_uri": "https://localhost:8080/"
        },
        "id": "MWUozks0bD5V",
        "outputId": "9aa04b49-4fe0-4b91-ce7a-33e54577669e"
      },
      "execution_count": null,
      "outputs": [
        {
          "output_type": "execute_result",
          "data": {
            "text/plain": [
              "0"
            ]
          },
          "metadata": {},
          "execution_count": 23
        }
      ]
    },
    {
      "cell_type": "code",
      "source": [
        "next(i)"
      ],
      "metadata": {
        "id": "iBwCQ5rtb3bJ"
      },
      "execution_count": null,
      "outputs": []
    },
    {
      "cell_type": "code",
      "source": [
        "a, b, c, d = MyIter(4)\n",
        "print(a, b, c, d)"
      ],
      "metadata": {
        "colab": {
          "base_uri": "https://localhost:8080/"
        },
        "id": "f-fW9eu6cA3o",
        "outputId": "a32d27bb-b794-4745-d26e-856d6a890059"
      },
      "execution_count": null,
      "outputs": [
        {
          "output_type": "stream",
          "name": "stdout",
          "text": [
            "0 1 2 3\n"
          ]
        }
      ]
    },
    {
      "cell_type": "code",
      "source": [
        "a, b, c, d = range(4)\n",
        "print(a, b, c, d)"
      ],
      "metadata": {
        "colab": {
          "base_uri": "https://localhost:8080/"
        },
        "id": "EjJitM7acK4t",
        "outputId": "4a1b61a7-da1a-4a33-f7fe-340f8de05749"
      },
      "execution_count": null,
      "outputs": [
        {
          "output_type": "stream",
          "name": "stdout",
          "text": [
            "0 1 2 3\n"
          ]
        }
      ]
    },
    {
      "cell_type": "markdown",
      "source": [
        "## 제너레이터"
      ],
      "metadata": {
        "id": "IaD8vDxOclMX"
      }
    },
    {
      "cell_type": "markdown",
      "source": [
        "* 제너레이터란, 이터레이터를 생성해주는 함수"
      ],
      "metadata": {
        "id": "WvyxDOD6cnXS"
      }
    },
    {
      "cell_type": "code",
      "source": [
        "def gen():\n",
        "    count = 0\n",
        "    while True:\n",
        "        yield count\n",
        "        count += 1\n",
        "\n",
        "for i in gen():\n",
        "    print(i)\n",
        "    if i == 10:\n",
        "        break"
      ],
      "metadata": {
        "colab": {
          "base_uri": "https://localhost:8080/"
        },
        "id": "xH8Vpn_Mcmv9",
        "outputId": "d04fab62-9fdd-40ea-d7ac-cf79a9c13944"
      },
      "execution_count": null,
      "outputs": [
        {
          "output_type": "stream",
          "name": "stdout",
          "text": [
            "0\n",
            "1\n",
            "2\n",
            "3\n",
            "4\n",
            "5\n",
            "6\n",
            "7\n",
            "8\n",
            "9\n",
            "10\n"
          ]
        }
      ]
    },
    {
      "cell_type": "code",
      "source": [
        "def gen():\n",
        "    count = 0\n",
        "    while True:\n",
        "        yield count\n",
        "        count += 2\n",
        "\n",
        "l = [10, 20, 30, 40, 50]\n",
        "list(zip(l, gen()))"
      ],
      "metadata": {
        "colab": {
          "base_uri": "https://localhost:8080/"
        },
        "id": "u0nz38vjeNVk",
        "outputId": "8ca255c9-624a-413d-8563-94c6307e39f6"
      },
      "execution_count": null,
      "outputs": [
        {
          "output_type": "execute_result",
          "data": {
            "text/plain": [
              "[(10, 0), (20, 2), (30, 4), (40, 6), (50, 8)]"
            ]
          },
          "metadata": {},
          "execution_count": 40
        }
      ]
    },
    {
      "cell_type": "code",
      "source": [
        "def gen():\n",
        "    count = 0\n",
        "    while True:\n",
        "        yield f'{count} 주차'\n",
        "        count += 2\n",
        "\n",
        "과목 = ['HTML', 'CSS', 'JavaScript', 'Python']\n",
        "\n",
        "list(zip(과목, gen()))"
      ],
      "metadata": {
        "colab": {
          "base_uri": "https://localhost:8080/"
        },
        "id": "mIyE4L5Cep7C",
        "outputId": "e763e6af-39de-4c5c-d877-0d13b3a9b3b9"
      },
      "execution_count": null,
      "outputs": [
        {
          "output_type": "execute_result",
          "data": {
            "text/plain": [
              "[('HTML', '0 주차'), ('CSS', '2 주차'), ('JavaScript', '4 주차'), ('Python', '6 주차')]"
            ]
          },
          "metadata": {},
          "execution_count": 42
        }
      ]
    },
    {
      "cell_type": "code",
      "source": [
        "def gen():\n",
        "    count = 0\n",
        "    while True:\n",
        "        yield f'{count} 주차'\n",
        "        count += 1\n",
        "        if count == 6:\n",
        "            count = 0\n",
        "\n",
        "과목 = ['A', 'B', 'C', 'D', 'E', 'F', 'G', 'G', 'I', 'J', 'K']\n",
        "\n",
        "list(zip(과목, gen()))"
      ],
      "metadata": {
        "colab": {
          "base_uri": "https://localhost:8080/"
        },
        "id": "_qe49A4efXV7",
        "outputId": "7797c83a-2cba-483e-90dd-d502e45f0f3b"
      },
      "execution_count": null,
      "outputs": [
        {
          "output_type": "execute_result",
          "data": {
            "text/plain": [
              "[('A', '0 주차'),\n",
              " ('B', '1 주차'),\n",
              " ('C', '2 주차'),\n",
              " ('D', '3 주차'),\n",
              " ('E', '4 주차'),\n",
              " ('F', '5 주차'),\n",
              " ('G', '0 주차'),\n",
              " ('G', '1 주차'),\n",
              " ('I', '2 주차'),\n",
              " ('J', '3 주차'),\n",
              " ('K', '4 주차')]"
            ]
          },
          "metadata": {},
          "execution_count": 43
        }
      ]
    },
    {
      "cell_type": "code",
      "source": [
        "## 데코레이터 (데커레이터)"
      ],
      "metadata": {
        "id": "NDRcA0l7cDmw"
      },
      "execution_count": null,
      "outputs": []
    },
    {
      "cell_type": "code",
      "source": [
        "# 아래와 같이 실무에서 활용됩니다.\n",
        "\n",
        "@login\n",
        "def 비밀게시판():\n",
        "    return render()\n",
        "\n",
        "@check_vip\n",
        "def vip용쿠폰():\n",
        "    return render()\n",
        "\n",
        "# 데이터 전처리 : \n",
        "# 데이터에 이상치(이상한 값), 결측치(비어있는 값) 등을 처리\n",
        "# ['10', 1, 2, 3, '20'] -> [10, 1, 2, 3, 20]\n",
        "@데이터전처리\n",
        "sum(data)\n",
        "\n",
        "@데이터전처리후페센테이지\n",
        "sum(data)\n",
        "\n",
        "# [10, 20, 30] -> 60%"
      ],
      "metadata": {
        "colab": {
          "base_uri": "https://localhost:8080/",
          "height": 137
        },
        "id": "esOTpqzbbg7W",
        "outputId": "50248f29-6c6e-4828-c08d-a7389a2644c3"
      },
      "execution_count": null,
      "outputs": [
        {
          "output_type": "error",
          "ename": "SyntaxError",
          "evalue": "ignored",
          "traceback": [
            "\u001b[0;36m  File \u001b[0;32m\"<ipython-input-47-35b6353e6a70>\"\u001b[0;36m, line \u001b[0;32m15\u001b[0m\n\u001b[0;31m    sum(data)\u001b[0m\n\u001b[0m    ^\u001b[0m\n\u001b[0;31mSyntaxError\u001b[0m\u001b[0;31m:\u001b[0m invalid syntax\n"
          ]
        }
      ]
    },
    {
      "cell_type": "code",
      "source": [
        "def one():\n",
        "    return lambda x, y: x + y\n",
        "\n",
        "더하기 = one()\n",
        "더하기(10, 10)"
      ],
      "metadata": {
        "colab": {
          "base_uri": "https://localhost:8080/"
        },
        "id": "tt1vmq9KkejR",
        "outputId": "defdfa80-a5bc-41ef-dac7-02658aa37bac"
      },
      "execution_count": null,
      "outputs": [
        {
          "output_type": "execute_result",
          "data": {
            "text/plain": [
              "20"
            ]
          },
          "metadata": {},
          "execution_count": 46
        }
      ]
    },
    {
      "cell_type": "code",
      "source": [
        "def one():\n",
        "    def two(x, y):\n",
        "        return x + y\n",
        "    return two\n",
        "\n",
        "더하기 = one()\n",
        "더하기(10, 10)"
      ],
      "metadata": {
        "colab": {
          "base_uri": "https://localhost:8080/"
        },
        "id": "QR4RT_ZYkvNM",
        "outputId": "330d1199-0f01-482e-ad9c-4569dd9061dc"
      },
      "execution_count": null,
      "outputs": [
        {
          "output_type": "execute_result",
          "data": {
            "text/plain": [
              "20"
            ]
          },
          "metadata": {},
          "execution_count": 48
        }
      ]
    },
    {
      "cell_type": "code",
      "source": [
        "# 중요한 코드입니다.\n",
        "# 손으로 2~3번 써보시길 권해드립니다.\n",
        "def print_hello (func):\n",
        "    def wrap_func():\n",
        "        print('hello')\n",
        "        func()\n",
        "    return wrap_func\n",
        "\n",
        "@ print_hello\n",
        "def func1():\n",
        "    print('func1 입니다.')\n",
        "\n",
        "func1()"
      ],
      "metadata": {
        "colab": {
          "base_uri": "https://localhost:8080/"
        },
        "id": "A0uiGGqyliLJ",
        "outputId": "cc679060-e455-400d-d216-c11cb32a421a"
      },
      "execution_count": null,
      "outputs": [
        {
          "output_type": "stream",
          "name": "stdout",
          "text": [
            "hello\n",
            "func1 입니다.\n"
          ]
        }
      ]
    },
    {
      "cell_type": "code",
      "source": [
        "def 인사말(func):\n",
        "    def wrap_func():\n",
        "        print('안녕하세요.')\n",
        "        func()\n",
        "    return wrap_func\n",
        "\n",
        "@인사말\n",
        "def 자기소개1():\n",
        "    print('안녕하세요, 이호준입니다.')\n",
        "\n",
        "자기소개1()"
      ],
      "metadata": {
        "colab": {
          "base_uri": "https://localhost:8080/"
        },
        "id": "2Dy10R82l8hx",
        "outputId": "6312ea29-fbd1-4950-f4ae-7047a7fcb975"
      },
      "execution_count": null,
      "outputs": [
        {
          "output_type": "stream",
          "name": "stdout",
          "text": [
            "안녕하세요.\n",
            "안녕하세요, 이호준입니다.\n"
          ]
        }
      ]
    },
    {
      "cell_type": "code",
      "source": [
        "def 인사말(func):\n",
        "    def wrap_func():\n",
        "        print('안녕하세요.')\n",
        "        func()\n",
        "    return wrap_func\n",
        "\n",
        "@인사말\n",
        "def 자기소개1():\n",
        "    print('이호준입니다.')\n",
        "\n",
        "@인사말\n",
        "def 자기소개2():\n",
        "    print('홍길동입니다.')\n",
        "\n",
        "def 작별인사():\n",
        "    print('안녕히계세요.')\n",
        "\n",
        "자기소개1()\n",
        "자기소개2()\n",
        "작별인사()"
      ],
      "metadata": {
        "colab": {
          "base_uri": "https://localhost:8080/"
        },
        "id": "Vszm0fsLmuw5",
        "outputId": "22cc798a-d6b1-4acd-e685-922f10f6e167"
      },
      "execution_count": null,
      "outputs": [
        {
          "output_type": "stream",
          "name": "stdout",
          "text": [
            "안녕하세요.\n",
            "이호준입니다.\n",
            "안녕하세요.\n",
            "홍길동입니다.\n",
            "안녕히계세요.\n"
          ]
        }
      ]
    },
    {
      "cell_type": "code",
      "source": [
        "def 인사말(func):\n",
        "    def wrap_func(이름):\n",
        "        print('안녕하세요.')\n",
        "        func(이름)\n",
        "    return wrap_func\n",
        "\n",
        "@인사말\n",
        "def 자기소개1(name):\n",
        "    print(f'{name}입니다.')\n",
        "\n",
        "@인사말\n",
        "def 자기소개2(name):\n",
        "    print(f'{name}입니다.')\n",
        "\n",
        "def 작별인사():\n",
        "    print('안녕히계세요.')\n",
        "\n",
        "자기소개1('이호준')\n",
        "자기소개2('홍길동')\n",
        "작별인사()"
      ],
      "metadata": {
        "id": "5GATbdOAn697"
      },
      "execution_count": null,
      "outputs": []
    },
    {
      "cell_type": "code",
      "source": [
        "def 전처리(func):\n",
        "    def wrap_func(iterable):\n",
        "        return func(list(map(int, iterable)))\n",
        "    return wrap_func\n",
        "\n",
        "@전처리\n",
        "def 평균(l):\n",
        "    return sum(l) / len(l)\n",
        "\n",
        "평균(['1', 2, 3, '4'])"
      ],
      "metadata": {
        "id": "z1VwfET9qCa4"
      },
      "execution_count": null,
      "outputs": []
    },
    {
      "cell_type": "code",
      "source": [
        "def 전처리(func):\n",
        "    def wrap_func(iterable):\n",
        "        i = list(map(int, iterable))\n",
        "        calculate = func(i)\n",
        "        result = str(calculate) + '%'\n",
        "        return result\n",
        "    return wrap_func\n",
        "\n",
        "@전처리\n",
        "def 평균(l):\n",
        "    return sum(l) / len(l)\n",
        "\n",
        "평균(['1', 2, 3, '4'])"
      ],
      "metadata": {
        "id": "EdtCqQ8eqEBV"
      },
      "execution_count": null,
      "outputs": []
    },
    {
      "cell_type": "code",
      "source": [
        "# 데코레이터 실습 문제\n",
        "# 다음 값이 들어갔을 때, 숫자만 모두 더하는 코드를 완성하세요.\n",
        "['10', True, False, '21', 0, 10, 20]\n",
        "\n",
        "@전처리\n",
        "def custom_sum():\n",
        "    pass\n",
        "    \n",
        "custom_sum()"
      ],
      "metadata": {
        "id": "jcpnoutDquxv"
      },
      "execution_count": null,
      "outputs": []
    },
    {
      "cell_type": "code",
      "source": [
        "def decorator1(func):\n",
        "    def wrapper():\n",
        "        print('decorator1')\n",
        "        func()\n",
        "    return wrapper\n",
        " \n",
        "def decorator2(func):\n",
        "    def wrapper():\n",
        "        print('decorator2')\n",
        "        print(id(func))\n",
        "        func()\n",
        "    return wrapper\n",
        " \n",
        "# 데코레이터를 여러 개 지정\n",
        "@decorator1\n",
        "@decorator2\n",
        "def hello():\n",
        "    print('hello')\n",
        " \n",
        "hello()"
      ],
      "metadata": {
        "colab": {
          "base_uri": "https://localhost:8080/"
        },
        "id": "V465g0-qAqw5",
        "outputId": "48005f8d-c79c-4d24-ad5e-865111528b71"
      },
      "execution_count": null,
      "outputs": [
        {
          "output_type": "stream",
          "name": "stdout",
          "text": [
            "decorator1\n",
            "decorator2\n",
            "140224449848528\n",
            "hello\n"
          ]
        }
      ]
    },
    {
      "cell_type": "markdown",
      "source": [
        "## 모듈과 패키지"
      ],
      "metadata": {
        "id": "TLCkIaJ_Ct8L"
      }
    },
    {
      "cell_type": "code",
      "source": [
        "# 연습1(파일 1개 생성)\n",
        "# 현재 폴더에 test1.py 파일을 생성했고\n",
        "# name = 'leehojun'\n",
        "# age = 10\n",
        "\n",
        "# def hello():\n",
        "#     pass\n",
        "\n",
        "# class Human():\n",
        "#     pass"
      ],
      "metadata": {
        "id": "zklveTUDqCV6"
      },
      "execution_count": null,
      "outputs": []
    },
    {
      "cell_type": "code",
      "source": [
        "# 연습 2(파일 2개 생성)\n",
        "# 주의!! 같은 이름이 있었을 경우 마지막에\n",
        "# 마지막에 추가된 변수명으로 할당\n",
        "# import * 는 더더욱 포함시키는 변수, 메서드, 클래스 명을 알 수 없기에\n",
        "# 주의해서 사용해야 합니다.\n",
        "from test2 import name\n",
        "from test1 import name\n",
        "\n",
        "print(name)"
      ],
      "metadata": {
        "colab": {
          "base_uri": "https://localhost:8080/"
        },
        "id": "fGI_xyp-n65H",
        "outputId": "d1f30a81-ad11-4571-cd98-e61f264df507"
      },
      "execution_count": null,
      "outputs": [
        {
          "output_type": "stream",
          "name": "stdout",
          "text": [
            "None\n"
          ]
        }
      ]
    },
    {
      "cell_type": "code",
      "source": [
        "# 연습 3 (폴더 > 파일 생성)\n",
        "# one이라는 것이 여기서는 폴더입니다!\n",
        "# two가 file 이름이에요.\n",
        "from one import two\n",
        "\n",
        "print(two.name)"
      ],
      "metadata": {
        "colab": {
          "base_uri": "https://localhost:8080/"
        },
        "id": "fGavnoNzl3n5",
        "outputId": "01544ec0-1110-489d-b537-f0c449dcd1ec"
      },
      "execution_count": null,
      "outputs": [
        {
          "output_type": "stream",
          "name": "stdout",
          "text": [
            "hello world\n"
          ]
        }
      ]
    },
    {
      "cell_type": "code",
      "source": [
        "# 연습 4 (폴더 > 폴더 > 파일 생성)\n",
        "# 런타임 재시작 하세요!\n",
        "from one.two import three\n",
        "\n",
        "print(three.name)"
      ],
      "metadata": {
        "id": "MpiRdz6rZ7vh"
      },
      "execution_count": null,
      "outputs": []
    },
    {
      "cell_type": "code",
      "source": [
        "# 연습 5 \n",
        "import test1 as t\n",
        "\n",
        "t.hello()"
      ],
      "metadata": {
        "colab": {
          "base_uri": "https://localhost:8080/"
        },
        "id": "NjuQ5d94G7V5",
        "outputId": "9eb1a5e5-2b17-4e2b-926e-2dacf012667a"
      },
      "execution_count": null,
      "outputs": [
        {
          "output_type": "stream",
          "name": "stdout",
          "text": [
            "hello world\n"
          ]
        }
      ]
    },
    {
      "cell_type": "code",
      "source": [
        "# Python에 모듈\n",
        "import pandas as pd\n",
        "import numpy as np"
      ],
      "metadata": {
        "id": "_1SAyE33H-Gh"
      },
      "execution_count": null,
      "outputs": []
    },
    {
      "cell_type": "code",
      "source": [
        "!mkdir leehojun"
      ],
      "metadata": {
        "id": "GTgLiGM0ID79"
      },
      "execution_count": null,
      "outputs": []
    },
    {
      "cell_type": "code",
      "source": [
        "!pip install 패키지이름"
      ],
      "metadata": {
        "id": "RqrNcH_kIRpu"
      },
      "execution_count": null,
      "outputs": []
    },
    {
      "cell_type": "code",
      "source": [
        "!pip list"
      ],
      "metadata": {
        "id": "iKi8l1x1IlEv"
      },
      "execution_count": null,
      "outputs": []
    },
    {
      "cell_type": "code",
      "source": [
        "data1 = ['one', 'two', 'three']\n",
        "data2 = [10, 20, 30]\n",
        "'''\n",
        "{\n",
        "    \"one\" : 10,\n",
        "    \"two\" : 20,\n",
        "    \"three\" : 30\n",
        "}\n",
        "'''\n",
        "f = open('data.json', 'w')\n",
        "s = 'hello\\nworld'\n",
        "f.write(s)\n",
        "f.close()"
      ],
      "metadata": {
        "id": "hGAy0xpJOga_"
      },
      "execution_count": null,
      "outputs": []
    },
    {
      "cell_type": "code",
      "source": [
        "import json\n",
        "text = f'/////////////// 업데이트 방법 //////////////\\n\\\n",
        "// 1. 아래 데이터는 민감데이터로 크롤링에 의존하지 않는 데이터입니다.\\n\\\n",
        "//    긴급할 경우 아래 데이터만 수정하여 push 해주세요.\\n\\\n",
        "// 2. 크롤러_통합.py를 실행시키시고, 모두 push해주시면 됩니다.\\n\\\n",
        "//    크롤러_세계확진자.js, koreaRegionalData.js가 뽑힙니다.\\n\\\n",
        "// 3. 크롤러가 동작하지 않을 경우 수동업데이트해야 합니다.\\n\\\n",
        "////////////////////////////////////////////\\n\\\n",
        "// 존스홉킨스 : https://gisanddata.maps.arcgis.com/a\\n\\\n",
        "// https://www.worldometers.info/coronavirus/\\n\\\n",
        "// 질본 : http://ncov.mohw.go.kr/bdBoardLis\\n\\\n",
        "// 선차트용 데이터 - 제주도청 제공\\n\\\n",
        "var 입도객현황 = '\n",
        "\n",
        "data1 = ['one', 'two', 'three']\n",
        "data2 = [10, 20, 30]\n",
        "\n",
        "\n",
        "f = open('data.js', 'w')\n",
        "s = json.dumps(dict(zip(data1,data2)), indent=4)\n",
        "s = text + s\n",
        "f.write(s)\n",
        "f.close()"
      ],
      "metadata": {
        "id": "Kdyyzcv9VEy9"
      },
      "execution_count": null,
      "outputs": []
    },
    {
      "cell_type": "code",
      "source": [
        "text = f'//안내문구\\nvar 입도객현황 = '\n",
        "\n",
        "data1 = ['one', 'two', 'three']\n",
        "data2 = [10, 20, 30]\n",
        "\n",
        "f = open('data.js', 'w')\n",
        "s = str(dict(zip(data1,data2)))\n",
        "s = text + s\n",
        "f.write(s)\n",
        "f.close()"
      ],
      "metadata": {
        "id": "zxThzqDQVd8f"
      },
      "execution_count": null,
      "outputs": []
    },
    {
      "cell_type": "markdown",
      "source": [
        "## 파일 읽기"
      ],
      "metadata": {
        "id": "cXLWAwipWKhv"
      }
    },
    {
      "cell_type": "markdown",
      "source": [
        "* readline() : 라인 별로 읽습니다."
      ],
      "metadata": {
        "id": "IpFRht7fWWD_"
      }
    },
    {
      "cell_type": "code",
      "source": [
        "f = open('python.txt', 'r')\n",
        "while True:\n",
        "    line = f.readline()\n",
        "    if not line:\n",
        "        break\n",
        "    print(line)\n",
        "f.close()\n"
      ],
      "metadata": {
        "id": "HG17nrQ1WMby"
      },
      "execution_count": null,
      "outputs": []
    },
    {
      "cell_type": "markdown",
      "source": [
        "readlines() : 전체 텍스트를 한꺼번에 읽어옵니다."
      ],
      "metadata": {
        "id": "eVEyE40eWaVR"
      }
    },
    {
      "cell_type": "code",
      "source": [
        "f = open('test1.py', 'r')\n",
        "lines = f.readlines()\n",
        "for line in lines:\n",
        "    print(line)\n",
        "f.close()"
      ],
      "metadata": {
        "colab": {
          "base_uri": "https://localhost:8080/"
        },
        "id": "fz0KahRBVErw",
        "outputId": "e14ebe60-b2fd-4b88-b410-91a31a61a79f"
      },
      "execution_count": null,
      "outputs": [
        {
          "output_type": "stream",
          "name": "stdout",
          "text": [
            "name = 'leehojun'\n",
            "\n",
            "age = 10\n",
            "\n",
            "\n",
            "\n",
            "def hello():\n",
            "\n",
            "    print('hello world')\n",
            "\n",
            "\n",
            "\n",
            "class Human():\n",
            "\n",
            "    pass\n"
          ]
        }
      ]
    },
    {
      "cell_type": "markdown",
      "source": [
        "* read() : 파일 전체 내용을 읽어옵니다."
      ],
      "metadata": {
        "id": "2hHAVUOuWnBq"
      }
    },
    {
      "cell_type": "code",
      "source": [
        "# 개행이 2번 되었던 이유는 print 함수가 이미 개행 옵션\n",
        "f = open('test1.py', 'r')\n",
        "data = f.read()\n",
        "print(data)\n",
        "f.close()"
      ],
      "metadata": {
        "id": "xWbvakImWsr1"
      },
      "execution_count": null,
      "outputs": []
    },
    {
      "cell_type": "markdown",
      "source": [
        "## 파일 입출력 심화 과정"
      ],
      "metadata": {
        "id": "Y4LX-F-3ZzZN"
      }
    },
    {
      "cell_type": "markdown",
      "source": [
        "* github(https://github.com/paullabkorea/xlsxwriter) 에서 모든 소스코드를 다운로드 받으실 수 있습니다.\n",
        "* 무료책인 인공지능을 활용한 업무자동화 책(2021 Version Notion)을 활용하면 좀 더 활용성이 극대화된 코딩이 가능합니다.(크롤링, 워드파일 크롤링, PDF크롤링, 문자 보내기 등)\n",
        "* 업무자동화 Notion 링크 : https://paullabworkspace.notion.site/2021-6192ed4219fc4e7a96e10b22cfa27c80"
      ],
      "metadata": {
        "id": "bpWf_AYBaERL"
      }
    },
    {
      "cell_type": "code",
      "source": [
        "  !pip3 install xlsxwriter"
      ],
      "metadata": {
        "colab": {
          "base_uri": "https://localhost:8080/"
        },
        "id": "jG5IDibQZ4Ig",
        "outputId": "c566e8e2-33fd-49ee-b3eb-3d9eab6b5b91"
      },
      "execution_count": null,
      "outputs": [
        {
          "output_type": "stream",
          "name": "stdout",
          "text": [
            "Looking in indexes: https://pypi.org/simple, https://us-python.pkg.dev/colab-wheels/public/simple/\n",
            "Collecting xlsxwriter\n",
            "  Downloading XlsxWriter-3.1.0-py3-none-any.whl (152 kB)\n",
            "\u001b[2K     \u001b[90m━━━━━━━━━━━━━━━━━━━━━━━━━━━━━━━━━━━━━━━\u001b[0m \u001b[32m152.7/152.7 kB\u001b[0m \u001b[31m3.8 MB/s\u001b[0m eta \u001b[36m0:00:00\u001b[0m\n",
            "\u001b[?25hInstalling collected packages: xlsxwriter\n",
            "Successfully installed xlsxwriter-3.1.0\n"
          ]
        }
      ]
    },
    {
      "cell_type": "code",
      "source": [
        "# openpyxl, xlrd, wlwt...\n",
        "# 다른 사용자가 만든 모듈"
      ],
      "metadata": {
        "id": "vfmtdou0ai7o"
      },
      "execution_count": null,
      "outputs": []
    },
    {
      "cell_type": "code",
      "source": [
        "import xlsxwriter"
      ],
      "metadata": {
        "id": "lnOZ9TU6avTT"
      },
      "execution_count": null,
      "outputs": []
    },
    {
      "cell_type": "code",
      "source": [
        "# 엑셀 파일 생성하기\n",
        "workbook = xlsxwriter.Workbook('test.xlsx')\n",
        "\n",
        "# 파일 안에 워크 시트 생성하기\n",
        "worksheet = workbook.add_worksheet('test')\n",
        "\n",
        "data = ['AA', 'BB', 'CC', 'DD']\n",
        "worksheet.write('A1', data[0])\n",
        "worksheet.write('B1', data[1])\n",
        "worksheet.write('C1', data[2])\n",
        "worksheet.write('D1', data[3])\n",
        "\n",
        "worksheet.write('A2', 1)\n",
        "worksheet.write('B2', 2)\n",
        "worksheet.write('C2', 3)\n",
        "worksheet.write('D2', 4)\n",
        "            #(행, 열, 데이터)\n",
        "worksheet.write(2, 0, 10)\n",
        "worksheet.write(2, 1, 20)\n",
        "worksheet.write(2, 2, 30)\n",
        "worksheet.write(2, 3, 40)\n",
        "\n",
        "workbook.close()"
      ],
      "metadata": {
        "id": "a5iMZCHya2q8"
      },
      "execution_count": null,
      "outputs": []
    },
    {
      "cell_type": "code",
      "source": [
        "홍길동 = [33, 88, 24]\n",
        "이호준 = [34, 66, 77]\n",
        "김철수 = [78, 82, 36]"
      ],
      "metadata": {
        "id": "J_0kW3wLa0i3"
      },
      "execution_count": null,
      "outputs": []
    },
    {
      "cell_type": "code",
      "source": [
        "data = ['AA', 'BB', 'CC', 'DD']\n",
        "worksheet.write('A1', data[0])\n",
        "worksheet.write('B1', data[1])\n",
        "worksheet.write('C1', data[2])\n",
        "worksheet.write('D1', data[3])\n",
        "\n",
        "worksheet.write('A2', 1)\n",
        "worksheet.write('B2', 2)\n",
        "worksheet.write('C2', 3)\n",
        "worksheet.write('D2', 4)\n",
        "            #(행, 열, 데이터)\n",
        "worksheet.write(2, 0, 10)\n",
        "worksheet.write(2, 1, 20)\n",
        "worksheet.write(2, 2, 30)\n",
        "worksheet.write(2, 3, 40)\n",
        "\n",
        "workbook.close()"
      ],
      "metadata": {
        "id": "nCOBp7lodrDG"
      },
      "execution_count": null,
      "outputs": []
    },
    {
      "cell_type": "code",
      "source": [
        "# 배보다 배꼽이 더 큰지 꼭 확인 하세요.\n",
        "# 개발 시간 + 유지 보수"
      ],
      "metadata": {
        "id": "5F76r49sg8nC"
      },
      "execution_count": null,
      "outputs": []
    },
    {
      "cell_type": "markdown",
      "source": [
        "## 파일 내용 추가"
      ],
      "metadata": {
        "id": "M9nDRDzKU1my"
      }
    },
    {
      "cell_type": "code",
      "source": [
        "f = open('python.txt', 'w')\n",
        "s = ''\n",
        "for i in range(5):\n",
        "    s +=f'{i}명 참여 중입니다. \\n'\n",
        "f.write(s)\n",
        "f.close()"
      ],
      "metadata": {
        "id": "FUFZNHRxU252"
      },
      "execution_count": null,
      "outputs": []
    },
    {
      "cell_type": "code",
      "source": [
        "f = open('python.txt', 'a') # 다시 write 모드로 하면 처음부터 덮어 씁니다.\n",
        "s = ''\n",
        "for i in range(5, 11):\n",
        "    s +=f'{i}명 참여 중입니다. \\n'\n",
        "f.write(s)\n",
        "f.close()"
      ],
      "metadata": {
        "id": "czZf_bEDVOkE"
      },
      "execution_count": null,
      "outputs": []
    },
    {
      "cell_type": "markdown",
      "source": [
        "* 파일이 계속 열려잇는 상태가 유지\n",
        "* 메모리 관리"
      ],
      "metadata": {
        "id": "I91mABeNVc8H"
      }
    },
    {
      "cell_type": "markdown",
      "source": [
        "## 파일 열기와 닫기를 동시에"
      ],
      "metadata": {
        "id": "WoSk9kcZV5qu"
      }
    },
    {
      "cell_type": "code",
      "source": [
        "with open('test.txt', 'w') as f:\n",
        "    f.write('Life is too short, you need python')"
      ],
      "metadata": {
        "id": "Q3pipwf9V9lF"
      },
      "execution_count": null,
      "outputs": []
    },
    {
      "cell_type": "markdown",
      "source": [
        "## OS 모듈"
      ],
      "metadata": {
        "id": "9YYFOzR0hWUr"
      }
    },
    {
      "cell_type": "code",
      "source": [
        "import os\n",
        "\n",
        "os.getcwd() # os.getcwd() 함수는 현재 작업 디렉토리를 출력"
      ],
      "metadata": {
        "colab": {
          "base_uri": "https://localhost:8080/",
          "height": 35
        },
        "id": "d8bUPVkPhYHN",
        "outputId": "a15d771e-66d2-43d9-da0c-9c33707cb22e"
      },
      "execution_count": null,
      "outputs": [
        {
          "output_type": "execute_result",
          "data": {
            "text/plain": [
              "'/content'"
            ],
            "application/vnd.google.colaboratory.intrinsic+json": {
              "type": "string"
            }
          },
          "metadata": {},
          "execution_count": 13
        }
      ]
    },
    {
      "cell_type": "code",
      "source": [
        "os.listdir() # 경로에 존재하는 파일과 디렉토리를 리스트로 반환할 때 사용"
      ],
      "metadata": {
        "colab": {
          "base_uri": "https://localhost:8080/"
        },
        "id": "4pH6FB4MhlUJ",
        "outputId": "f2368f37-b300-40e4-eb17-7e5354679ad0"
      },
      "execution_count": null,
      "outputs": [
        {
          "output_type": "execute_result",
          "data": {
            "text/plain": [
              "['.config',\n",
              " 'leehojun',\n",
              " 'test.xlsx',\n",
              " 'test1.py',\n",
              " '__pycache__',\n",
              " 'data.js',\n",
              " '.ipynb_checkpoints',\n",
              " 'one',\n",
              " 'sample_data']"
            ]
          },
          "metadata": {},
          "execution_count": 14
        }
      ]
    },
    {
      "cell_type": "code",
      "source": [
        "for i in os.listdir():\n",
        "    if len(i.split('.')) >=2:        \n",
        "        if i.split('.')[1] == 'py' or i.split('.')[1] =='txt':\n",
        "            print(i)"
      ],
      "metadata": {
        "colab": {
          "base_uri": "https://localhost:8080/"
        },
        "id": "kKXQ9U8OiFvZ",
        "outputId": "f337f168-ca7b-448b-e5ee-5ccba2ef992c"
      },
      "execution_count": null,
      "outputs": [
        {
          "output_type": "stream",
          "name": "stdout",
          "text": [
            "test1.py\n"
          ]
        }
      ]
    },
    {
      "cell_type": "code",
      "source": [
        "import glob\n",
        "\n",
        "glob.glob(\"*.py\")"
      ],
      "metadata": {
        "colab": {
          "base_uri": "https://localhost:8080/"
        },
        "id": "t5XCQ75qjMy-",
        "outputId": "7bbb3901-9b24-4284-a2aa-e4f45688658c"
      },
      "execution_count": null,
      "outputs": [
        {
          "output_type": "execute_result",
          "data": {
            "text/plain": [
              "['test1.py']"
            ]
          },
          "metadata": {},
          "execution_count": 17
        }
      ]
    },
    {
      "cell_type": "code",
      "source": [
        "@writefile\n",
        "def add(a,b):\n",
        "    return a + b\n",
        "\n",
        "writefile의 데코레이터 기능은\n",
        "아래와 같은 형식으로 result.txt에 항상 저장되게 하는 것입니다.\n",
        "(\n",
        "    \"a\":10,\n",
        "    \"b\":20,\n",
        "    \"a+b\":30\n",
        ")"
      ],
      "metadata": {
        "id": "xkRts_IWj7qX"
      },
      "execution_count": null,
      "outputs": []
    },
    {
      "cell_type": "markdown",
      "source": [
        "## !! 오늘 배운 것 정리\n",
        "* 제너레이터\n",
        "    * 제너레이터란, 이터레이터(순회 가능한 객체)를 생성해주는 함수\n",
        "    * 예제 1\n",
        "        ```python\n",
        "        def gen():\n",
        "            count = 0\n",
        "            while True:\n",
        "                yield count\n",
        "                count += 1\n",
        "        for i in gen():\n",
        "            print(i)\n",
        "            if i == 10:\n",
        "                break\n",
        "        ```\n",
        "* 데코레이터\n",
        "    * 함수 앞 뒤로 다른 역활을 해주는 기능을 붙이고 싶을 때 사용\n",
        "    * 코드 예\n",
        "        ```python\n",
        "        def print_hello(func):\n",
        "            def wrap_func():\n",
        "                print('hello start')\n",
        "                func()\n",
        "                print('hello end')\n",
        "            return wrap_func\n",
        "\n",
        "        @print_hello\n",
        "        def func1():\n",
        "            print('func1 입니다.')\n",
        "\n",
        "        func1()\n",
        "        ```\n",
        "\n",
        "* 파이썬 모듈\n",
        "    * 모듈 : 함수나 변수 또는 클래스를 모아 놓은 파이썬 파일\n",
        "    * 패키지 : 파이썬 모듈들을 계층적으로 관리\n",
        "    * 모듈 사용 예1\n",
        "    ```python\n",
        "    # 같은 폴더 내 test1.py\n",
        "    name = 'leehojun'\n",
        "    age = 10\n",
        "\n",
        "    def hello():\n",
        "        pass\n",
        "\n",
        "    class Human():\n",
        "        pass\n",
        "\n",
        "    # 같은 폴더 내 실행 파일\n",
        "    import test1\n",
        "\n",
        "    print(test1.name)\n",
        "    print(test1.hello())\n",
        "    ```\n",
        "    * 예2\n",
        "    ```python\n",
        "    # 연습 3 (폴더 > 파일 생성)\n",
        "    # one이라는 것이 여기서는 폴더입니다!\n",
        "    # two가 file 이름이에요.\n",
        "    from one import two\n",
        "\n",
        "    print(two.name)\n",
        "    ```\n",
        "    * 예3\n",
        "    ```python\n",
        "    # 연습 4 (폴더 > 폴더 > 파일 생성)\n",
        "    # 런타임 재시작 하세요!\n",
        "    from one.two import three\n",
        "\n",
        "    print(three.name)\n",
        "    ```\n",
        "\n",
        "* 파일 입출력\n",
        "    * 파일을 읽고 쓰는 것\n",
        "        * 파일 쓰기\n",
        "        ```python\n",
        "        f = open('python.txt', 'w') \n",
        "        # 파일모드 : r(read), w(write, 처음부터 덮어씁니다.), a(append)\n",
        "        s = 'hello\\nworld'\n",
        "        f.write(s)\n",
        "        f.close()\n",
        "        ```\n",
        "        * 파일 읽기\n",
        "        ```python\n",
        "        f = open('python.txt', 'r')\n",
        "        while True:\n",
        "            line = f.readline()\n",
        "            if not line:\n",
        "                break\n",
        "            print(line)\n",
        "        f.close()\n",
        "        ```\n",
        "        ```python\n",
        "        f = open('python.txt', 'r')\n",
        "        data = f.read()\n",
        "        print(data)\n",
        "        f.close()\n",
        "        ```"
      ],
      "metadata": {
        "id": "JOC9cfEjR5Pb"
      }
    },
    {
      "cell_type": "code",
      "source": [],
      "metadata": {
        "id": "_wAeX_k7UEn8"
      },
      "execution_count": null,
      "outputs": []
    },
    {
      "cell_type": "markdown",
      "source": [
        "##초급자\n",
        "왕도는 없지만, 효율적으로 공부하는 방법은 있습니다.\n",
        "\n",
        "1) 강사님 colab 보고 다시 코딩 해보기 \n",
        "2) 이해 안되는 것 손코딩 \n",
        "3) 개발 블로그에 배운 거 정리 \n",
        "4) 깃헙 잔디 심기\n",
        "5) 하루 Lv0 2문제 \n",
        "(만약 못푸는 문제라면 15분 이상 고민하지 마시고, 답을 손코딩 하는 것을 권합니다.)\n",
        "(푼 문제는 깃헙에 잔디를 심기를 부탁드립니다.)\n",
        "주말 - Python 얕은물\n",
        "\n",
        "---\n",
        "전공자\n",
        "\n",
        "1) 더 채우려 하지 마시고, 부족한 부분이 어디에 있는가?\n",
        "2) 일주일 Lv3 ~ Lv4 2문제\n",
        "\n",
        "주말 - 중급자를 위한 Python + 라이브러리"
      ],
      "metadata": {
        "id": "-3kTLgr9TFLx"
      }
    },
    {
      "cell_type": "code",
      "source": [
        "# 동건님 코드 : 문제는 없으나 add를 실행시키긴 해야합니다!\n",
        "# 데코레이터 => 아래 코드는 데코할 대상이 없는거에요.\n",
        "\n",
        "'''\n",
        "추가로 부연 설명을 합니다. :)\n",
        "스토리로 굳이 표현하자면 아래와 같습니다.\n",
        "\n",
        "1. add라는 함수를 내가 1년 전에 만들었다. 문제 없이 잘 작동하는 함수이다.\n",
        "2. 이 add를 데코레이터를 써서 파일 입출력이 되게 하고 싶다.\n",
        "3. 데코레이터를 만든다.\n",
        "4. 기존의 코드도 정상적으로 작동이 되어야 한다.\n",
        "'''\n",
        "\n",
        "import json\n",
        "\n",
        "def writerfile(func):\n",
        "    def wrapper(a, b):\n",
        "        data1 = ['a', 'b', 'a+b']\n",
        "        data2 = [a, b, a+b]\n",
        "        f = open('writerfile.json', 'w')\n",
        "        json.dump(dict(zip(data1,data2)), f, indent = 4)\n",
        "        f.close()\n",
        "    return wrapper\n",
        "\n",
        "@writerfile\n",
        "def add(a,b):\n",
        "    return a + b\n",
        "\n",
        "add(10, 20)"
      ],
      "metadata": {
        "id": "TSSL1_89UJH5"
      },
      "execution_count": null,
      "outputs": []
    },
    {
      "cell_type": "code",
      "source": [
        "# 기존 코드\n",
        "def add(a,b):\n",
        "    return a + b\n",
        "\n",
        "result = add(10, 20) + add(10, 20)\n",
        "print(result)"
      ],
      "metadata": {
        "id": "jNWV0W7VULPs"
      },
      "execution_count": null,
      "outputs": []
    },
    {
      "cell_type": "code",
      "source": [
        "import json\n",
        "\n",
        "def writerfile(func):\n",
        "    def wrapper(a, b):\n",
        "        data1 = ['a', 'b', 'a+b']\n",
        "        data2 = [a, b, a+b]\n",
        "        f = open('writerfile.json', 'w')\n",
        "        json.dump(dict(zip(data1,data2)), f, indent = 4)\n",
        "        f.close()\n",
        "        return func(a, b)\n",
        "    return wrapper\n",
        "\n",
        "@writerfile\n",
        "def add(a,b):\n",
        "    return a + b\n",
        "\n",
        "result = add(10, 20) + add(10, 20)\n",
        "print(result)"
      ],
      "metadata": {
        "id": "7rKj_F0bULry"
      },
      "execution_count": null,
      "outputs": []
    },
    {
      "cell_type": "markdown",
      "source": [],
      "metadata": {
        "id": "-e_DTG8lUFNG"
      }
    },
    {
      "cell_type": "markdown",
      "source": [
        "Python Error 처리"
      ],
      "metadata": {
        "id": "9WxTvQ0pWpdR"
      }
    },
    {
      "cell_type": "markdown",
      "source": [
        "* Python에서는 에러를 만나면 코드가(서비스가) 멈춥니다.:\n",
        "* 여러분들이 짠 코드가 서비스에 영향이 끼쳐지지 않도록 시니어 분들이 많은 코드를 작성해놨을 겁니다.\n",
        "* TDD, 테스트 주도 개발 등 Test를 할 수 있는 환경 등이 갖춰져 있습니다.\n",
        "* 작성한 코드는 실서비스로 바로 배포되지 않습니다. 작성한 코드는 테스트 서버 일단 배포되서 잘 작동하는지 테스트 해봅니다."
      ],
      "metadata": {
        "id": "6Rqy2Y8tWrCQ"
      }
    },
    {
      "cell_type": "code",
      "source": [
        "for i in range(10)\n",
        "    print(i)"
      ],
      "metadata": {
        "id": "ShkymyFnYM41"
      },
      "execution_count": null,
      "outputs": []
    },
    {
      "cell_type": "code",
      "source": [
        "# Name Error\n",
        "print(x)"
      ],
      "metadata": {
        "id": "5LfZ7JsOYbye"
      },
      "execution_count": null,
      "outputs": []
    },
    {
      "cell_type": "code",
      "source": [
        "# Type Error\n",
        "x = 10\n",
        "y = '20'\n",
        "print(x + y)"
      ],
      "metadata": {
        "colab": {
          "base_uri": "https://localhost:8080/",
          "height": 211
        },
        "id": "dIMpwtaGYdss",
        "outputId": "a07e5045-c766-45a9-9e17-9c692f324d8e"
      },
      "execution_count": null,
      "outputs": [
        {
          "output_type": "error",
          "ename": "TypeError",
          "evalue": "ignored",
          "traceback": [
            "\u001b[0;31m---------------------------------------------------------------------------\u001b[0m",
            "\u001b[0;31mTypeError\u001b[0m                                 Traceback (most recent call last)",
            "\u001b[0;32m<ipython-input-6-62c7d5a446c2>\u001b[0m in \u001b[0;36m<cell line: 4>\u001b[0;34m()\u001b[0m\n\u001b[1;32m      2\u001b[0m \u001b[0mx\u001b[0m \u001b[0;34m=\u001b[0m \u001b[0;36m10\u001b[0m\u001b[0;34m\u001b[0m\u001b[0;34m\u001b[0m\u001b[0m\n\u001b[1;32m      3\u001b[0m \u001b[0my\u001b[0m \u001b[0;34m=\u001b[0m \u001b[0;34m'20'\u001b[0m\u001b[0;34m\u001b[0m\u001b[0;34m\u001b[0m\u001b[0m\n\u001b[0;32m----> 4\u001b[0;31m \u001b[0mprint\u001b[0m\u001b[0;34m(\u001b[0m\u001b[0mx\u001b[0m \u001b[0;34m+\u001b[0m \u001b[0my\u001b[0m\u001b[0;34m)\u001b[0m\u001b[0;34m\u001b[0m\u001b[0;34m\u001b[0m\u001b[0m\n\u001b[0m",
            "\u001b[0;31mTypeError\u001b[0m: unsupported operand type(s) for +: 'int' and 'str'"
          ]
        }
      ]
    },
    {
      "cell_type": "code",
      "source": [
        "# index Error\n",
        "my_list = [1, 2, 3]\n",
        "print(my_list[3])"
      ],
      "metadata": {
        "colab": {
          "base_uri": "https://localhost:8080/",
          "height": 211
        },
        "id": "Z1r7L9Y5Yhbc",
        "outputId": "8942f255-884e-402f-dff5-7375ea8ac363"
      },
      "execution_count": null,
      "outputs": [
        {
          "output_type": "error",
          "ename": "IndexError",
          "evalue": "ignored",
          "traceback": [
            "\u001b[0;31m---------------------------------------------------------------------------\u001b[0m",
            "\u001b[0;31mIndexError\u001b[0m                                Traceback (most recent call last)",
            "\u001b[0;32m<ipython-input-7-ea80c66de232>\u001b[0m in \u001b[0;36m<cell line: 3>\u001b[0;34m()\u001b[0m\n\u001b[1;32m      1\u001b[0m \u001b[0;31m# index Error\u001b[0m\u001b[0;34m\u001b[0m\u001b[0;34m\u001b[0m\u001b[0m\n\u001b[1;32m      2\u001b[0m \u001b[0mmy_list\u001b[0m \u001b[0;34m=\u001b[0m \u001b[0;34m[\u001b[0m\u001b[0;36m1\u001b[0m\u001b[0;34m,\u001b[0m \u001b[0;36m2\u001b[0m\u001b[0;34m,\u001b[0m \u001b[0;36m3\u001b[0m\u001b[0;34m]\u001b[0m\u001b[0;34m\u001b[0m\u001b[0;34m\u001b[0m\u001b[0m\n\u001b[0;32m----> 3\u001b[0;31m \u001b[0mprint\u001b[0m\u001b[0;34m(\u001b[0m\u001b[0mmy_list\u001b[0m\u001b[0;34m[\u001b[0m\u001b[0;36m3\u001b[0m\u001b[0;34m]\u001b[0m\u001b[0;34m)\u001b[0m\u001b[0;34m\u001b[0m\u001b[0;34m\u001b[0m\u001b[0m\n\u001b[0m",
            "\u001b[0;31mIndexError\u001b[0m: list index out of range"
          ]
        }
      ]
    },
    {
      "cell_type": "code",
      "source": [
        "# Key Error\n",
        "my_dict = {'a': 1, 'b': 2}\n",
        "print(my_dict['c'])"
      ],
      "metadata": {
        "colab": {
          "base_uri": "https://localhost:8080/",
          "height": 211
        },
        "id": "vnT6q2WkY_y0",
        "outputId": "9cd55a68-7741-4098-a9e6-599ed4c29819"
      },
      "execution_count": null,
      "outputs": [
        {
          "output_type": "error",
          "ename": "KeyError",
          "evalue": "ignored",
          "traceback": [
            "\u001b[0;31m---------------------------------------------------------------------------\u001b[0m",
            "\u001b[0;31mKeyError\u001b[0m                                  Traceback (most recent call last)",
            "\u001b[0;32m<ipython-input-8-8f9ea626777a>\u001b[0m in \u001b[0;36m<cell line: 3>\u001b[0;34m()\u001b[0m\n\u001b[1;32m      1\u001b[0m \u001b[0;31m# Key Error\u001b[0m\u001b[0;34m\u001b[0m\u001b[0;34m\u001b[0m\u001b[0m\n\u001b[1;32m      2\u001b[0m \u001b[0mmy_dict\u001b[0m \u001b[0;34m=\u001b[0m \u001b[0;34m{\u001b[0m\u001b[0;34m'a'\u001b[0m\u001b[0;34m:\u001b[0m \u001b[0;36m1\u001b[0m\u001b[0;34m,\u001b[0m \u001b[0;34m'b'\u001b[0m\u001b[0;34m:\u001b[0m \u001b[0;36m2\u001b[0m\u001b[0;34m}\u001b[0m\u001b[0;34m\u001b[0m\u001b[0;34m\u001b[0m\u001b[0m\n\u001b[0;32m----> 3\u001b[0;31m \u001b[0mprint\u001b[0m\u001b[0;34m(\u001b[0m\u001b[0mmy_dict\u001b[0m\u001b[0;34m[\u001b[0m\u001b[0;34m'c'\u001b[0m\u001b[0;34m]\u001b[0m\u001b[0;34m)\u001b[0m\u001b[0;34m\u001b[0m\u001b[0;34m\u001b[0m\u001b[0m\n\u001b[0m",
            "\u001b[0;31mKeyError\u001b[0m: 'c'"
          ]
        }
      ]
    },
    {
      "cell_type": "code",
      "source": [
        "# Value Error\n",
        "int('a')"
      ],
      "metadata": {
        "colab": {
          "base_uri": "https://localhost:8080/",
          "height": 193
        },
        "id": "VQmNRQO2ZLmq",
        "outputId": "2e9e902f-0fca-4c18-b9e3-ba41768154c0"
      },
      "execution_count": null,
      "outputs": [
        {
          "output_type": "error",
          "ename": "ValueError",
          "evalue": "ignored",
          "traceback": [
            "\u001b[0;31m---------------------------------------------------------------------------\u001b[0m",
            "\u001b[0;31mValueError\u001b[0m                                Traceback (most recent call last)",
            "\u001b[0;32m<ipython-input-9-b8f9f0574b88>\u001b[0m in \u001b[0;36m<cell line: 2>\u001b[0;34m()\u001b[0m\n\u001b[1;32m      1\u001b[0m \u001b[0;31m# Value Error\u001b[0m\u001b[0;34m\u001b[0m\u001b[0;34m\u001b[0m\u001b[0m\n\u001b[0;32m----> 2\u001b[0;31m \u001b[0mint\u001b[0m\u001b[0;34m(\u001b[0m\u001b[0;34m'a'\u001b[0m\u001b[0;34m)\u001b[0m\u001b[0;34m\u001b[0m\u001b[0;34m\u001b[0m\u001b[0m\n\u001b[0m",
            "\u001b[0;31mValueError\u001b[0m: invalid literal for int() with base 10: 'a'"
          ]
        }
      ]
    },
    {
      "cell_type": "code",
      "source": [
        "# Attribute Error\n",
        "my_list = [1, 2, 3]\n",
        "print(my_list.appeend(4))"
      ],
      "metadata": {
        "colab": {
          "base_uri": "https://localhost:8080/",
          "height": 211
        },
        "id": "6owaJvkeZNvg",
        "outputId": "798adbc8-8899-48c2-ad18-c91f6b483552"
      },
      "execution_count": null,
      "outputs": [
        {
          "output_type": "error",
          "ename": "AttributeError",
          "evalue": "ignored",
          "traceback": [
            "\u001b[0;31m---------------------------------------------------------------------------\u001b[0m",
            "\u001b[0;31mAttributeError\u001b[0m                            Traceback (most recent call last)",
            "\u001b[0;32m<ipython-input-11-dceecff01ea8>\u001b[0m in \u001b[0;36m<cell line: 3>\u001b[0;34m()\u001b[0m\n\u001b[1;32m      1\u001b[0m \u001b[0;31m# Attribute Error\u001b[0m\u001b[0;34m\u001b[0m\u001b[0;34m\u001b[0m\u001b[0m\n\u001b[1;32m      2\u001b[0m \u001b[0mmy_list\u001b[0m \u001b[0;34m=\u001b[0m \u001b[0;34m[\u001b[0m\u001b[0;36m1\u001b[0m\u001b[0;34m,\u001b[0m \u001b[0;36m2\u001b[0m\u001b[0;34m,\u001b[0m \u001b[0;36m3\u001b[0m\u001b[0;34m]\u001b[0m\u001b[0;34m\u001b[0m\u001b[0;34m\u001b[0m\u001b[0m\n\u001b[0;32m----> 3\u001b[0;31m \u001b[0mprint\u001b[0m\u001b[0;34m(\u001b[0m\u001b[0mmy_list\u001b[0m\u001b[0;34m.\u001b[0m\u001b[0mappeend\u001b[0m\u001b[0;34m(\u001b[0m\u001b[0;36m4\u001b[0m\u001b[0;34m)\u001b[0m\u001b[0;34m)\u001b[0m\u001b[0;34m\u001b[0m\u001b[0;34m\u001b[0m\u001b[0m\n\u001b[0m",
            "\u001b[0;31mAttributeError\u001b[0m: 'list' object has no attribute 'appeend'"
          ]
        }
      ]
    },
    {
      "cell_type": "code",
      "source": [
        "# Type Error\n",
        "def add(x, y):\n",
        "    return x + y\n",
        "\n",
        "add(1, 2, 3)"
      ],
      "metadata": {
        "colab": {
          "base_uri": "https://localhost:8080/",
          "height": 211
        },
        "id": "u_QijICzZkT-",
        "outputId": "91c2a059-05d6-4238-a914-11cf1a52991a"
      },
      "execution_count": null,
      "outputs": [
        {
          "output_type": "error",
          "ename": "TypeError",
          "evalue": "ignored",
          "traceback": [
            "\u001b[0;31m---------------------------------------------------------------------------\u001b[0m",
            "\u001b[0;31mTypeError\u001b[0m                                 Traceback (most recent call last)",
            "\u001b[0;32m<ipython-input-12-cbb8c8b9d43a>\u001b[0m in \u001b[0;36m<cell line: 5>\u001b[0;34m()\u001b[0m\n\u001b[1;32m      3\u001b[0m     \u001b[0;32mreturn\u001b[0m \u001b[0mx\u001b[0m \u001b[0;34m+\u001b[0m \u001b[0my\u001b[0m\u001b[0;34m\u001b[0m\u001b[0;34m\u001b[0m\u001b[0m\n\u001b[1;32m      4\u001b[0m \u001b[0;34m\u001b[0m\u001b[0m\n\u001b[0;32m----> 5\u001b[0;31m \u001b[0madd\u001b[0m\u001b[0;34m(\u001b[0m\u001b[0;36m1\u001b[0m\u001b[0;34m,\u001b[0m \u001b[0;36m2\u001b[0m\u001b[0;34m,\u001b[0m \u001b[0;36m3\u001b[0m\u001b[0;34m)\u001b[0m\u001b[0;34m\u001b[0m\u001b[0;34m\u001b[0m\u001b[0m\n\u001b[0m",
            "\u001b[0;31mTypeError\u001b[0m: add() takes 2 positional arguments but 3 were given"
          ]
        }
      ]
    },
    {
      "cell_type": "markdown",
      "source": [
        "## 예외 처리"
      ],
      "metadata": {
        "id": "rhj_gYdZZxf-"
      }
    },
    {
      "cell_type": "code",
      "source": [
        "try:\n",
        "    # 예외가 발생할 가능성이 있는 코드\n",
        "except:\n",
        "    # 예외 처리 코드"
      ],
      "metadata": {
        "id": "yO6dWcbiZ2J1"
      },
      "execution_count": null,
      "outputs": []
    },
    {
      "cell_type": "code",
      "source": [
        "def div(a, b):\n",
        "    return a / b\n",
        "\n",
        "try:\n",
        "    div(1, 0)\n",
        "except:\n",
        "    print('예외 발생')"
      ],
      "metadata": {
        "colab": {
          "base_uri": "https://localhost:8080/"
        },
        "id": "JYGybVXcZ8d7",
        "outputId": "02844d18-96a2-4b02-c039-66eb808176e0"
      },
      "execution_count": null,
      "outputs": [
        {
          "output_type": "stream",
          "name": "stdout",
          "text": [
            "예외 발생\n"
          ]
        }
      ]
    },
    {
      "cell_type": "code",
      "source": [
        "def div(a, b):\n",
        "    return a / b\n",
        "\n",
        "def f():\n",
        "    try:\n",
        "        return div(1, 0)\n",
        "    except:\n",
        "        print('예외 발생')\n",
        "\n",
        "result = f() + f() #result에는 float이 오길 기대하죠.\n",
        "print(result)"
      ],
      "metadata": {
        "id": "IRS78PslaRY1"
      },
      "execution_count": null,
      "outputs": []
    },
    {
      "cell_type": "code",
      "source": [
        "def div(a, b):\n",
        "    return a / b\n",
        "\n",
        "def f():\n",
        "    try:\n",
        "        return div(1, 0)\n",
        "    except:\n",
        "        return float('inf')\n",
        "\n",
        "result = f() + f() #result에는 float이 오길 기대하죠.\n",
        "print(result)"
      ],
      "metadata": {
        "colab": {
          "base_uri": "https://localhost:8080/"
        },
        "id": "YfyvVBwDayLc",
        "outputId": "9fc6a56c-477d-4eb5-db6e-fb02e46e287b"
      },
      "execution_count": null,
      "outputs": [
        {
          "output_type": "stream",
          "name": "stdout",
          "text": [
            "inf\n"
          ]
        }
      ]
    },
    {
      "cell_type": "code",
      "source": [
        "def div(a, b):\n",
        "    return a / b\n",
        "\n",
        "def f():\n",
        "    try:\n",
        "        return div(1, 0)\n",
        "    except:\n",
        "        return None\n",
        "\n",
        "result = f() + f() #result에는 float이 오길 기대하죠.\n",
        "print(result)"
      ],
      "metadata": {
        "id": "Ga_6WAxBbIdk"
      },
      "execution_count": null,
      "outputs": []
    },
    {
      "cell_type": "code",
      "source": [
        "def div(a, b):\n",
        "    return a / b\n",
        "\n",
        "def f():\n",
        "    try:\n",
        "        return div(1, 0)\n",
        "    except:\n",
        "        return 0\n",
        "\n",
        "result = f() + f() #result에는 float이 오길 기대하죠.\n",
        "print(result)"
      ],
      "metadata": {
        "colab": {
          "base_uri": "https://localhost:8080/"
        },
        "id": "jDagsTyubLhQ",
        "outputId": "6ebbdb37-d0bf-4ea2-9300-4d58c47d90e2"
      },
      "execution_count": null,
      "outputs": [
        {
          "output_type": "stream",
          "name": "stdout",
          "text": [
            "0\n"
          ]
        }
      ]
    },
    {
      "cell_type": "code",
      "source": [
        "try:\n",
        "    1/0\n",
        "except:\n",
        "    print('예외 발생!')\n",
        "else:\n",
        "    print('정상 종료!')"
      ],
      "metadata": {
        "colab": {
          "base_uri": "https://localhost:8080/"
        },
        "id": "R1-_dVVUbhpD",
        "outputId": "66b67930-20c6-45a7-c6b6-8c9380df9f62"
      },
      "execution_count": null,
      "outputs": [
        {
          "output_type": "stream",
          "name": "stdout",
          "text": [
            "예외 발생!\n"
          ]
        }
      ]
    },
    {
      "cell_type": "code",
      "source": [
        "# while, for, try-except 구문에서 else 는 언제 실행?\n",
        "# 정상 종료 되었을 떄"
      ],
      "metadata": {
        "id": "Gkt3ElcYeXv0"
      },
      "execution_count": null,
      "outputs": []
    },
    {
      "cell_type": "code",
      "source": [
        "try:\n",
        "    10/2\n",
        "except:\n",
        "    print('예외 발생!')\n",
        "else:\n",
        "    print('정상 종료!')"
      ],
      "metadata": {
        "colab": {
          "base_uri": "https://localhost:8080/"
        },
        "id": "Fuc2nov3eoOJ",
        "outputId": "3a47546a-39cc-446f-dd51-a80e263e0c56"
      },
      "execution_count": null,
      "outputs": [
        {
          "output_type": "stream",
          "name": "stdout",
          "text": [
            "정상 종료!\n"
          ]
        }
      ]
    },
    {
      "cell_type": "code",
      "source": [
        "# error가 나면 코드가 멈추기 때문에 보통 except와 함께 사용한다.\n",
        "try:\n",
        "    1/0\n",
        "finally:\n",
        "    print('finally')\n",
        "\n",
        "print('hello world')"
      ],
      "metadata": {
        "colab": {
          "base_uri": "https://localhost:8080/",
          "height": 266
        },
        "id": "0AWH5ak3ex3e",
        "outputId": "1b91d1a6-5543-49ae-820a-2ada36ea7645"
      },
      "execution_count": null,
      "outputs": [
        {
          "output_type": "stream",
          "name": "stdout",
          "text": [
            "finally\n"
          ]
        },
        {
          "output_type": "error",
          "ename": "ZeroDivisionError",
          "evalue": "ignored",
          "traceback": [
            "\u001b[0;31m---------------------------------------------------------------------------\u001b[0m",
            "\u001b[0;31mZeroDivisionError\u001b[0m                         Traceback (most recent call last)",
            "\u001b[0;32m<ipython-input-29-3c89f1d3cb5e>\u001b[0m in \u001b[0;36m<cell line: 1>\u001b[0;34m()\u001b[0m\n\u001b[1;32m      1\u001b[0m \u001b[0;32mtry\u001b[0m\u001b[0;34m:\u001b[0m\u001b[0;34m\u001b[0m\u001b[0;34m\u001b[0m\u001b[0m\n\u001b[0;32m----> 2\u001b[0;31m     \u001b[0;36m1\u001b[0m\u001b[0;34m/\u001b[0m\u001b[0;36m0\u001b[0m\u001b[0;34m\u001b[0m\u001b[0;34m\u001b[0m\u001b[0m\n\u001b[0m\u001b[1;32m      3\u001b[0m \u001b[0;32mfinally\u001b[0m\u001b[0;34m:\u001b[0m\u001b[0;34m\u001b[0m\u001b[0;34m\u001b[0m\u001b[0m\n\u001b[1;32m      4\u001b[0m     \u001b[0mprint\u001b[0m\u001b[0;34m(\u001b[0m\u001b[0;34m'finally'\u001b[0m\u001b[0;34m)\u001b[0m\u001b[0;34m\u001b[0m\u001b[0;34m\u001b[0m\u001b[0m\n\u001b[1;32m      5\u001b[0m \u001b[0;34m\u001b[0m\u001b[0m\n",
            "\u001b[0;31mZeroDivisionError\u001b[0m: division by zero"
          ]
        }
      ]
    },
    {
      "cell_type": "code",
      "source": [
        "try:\n",
        "    # 예외가 발생할 가능성이 있는 코드\n",
        "except:\n",
        "    # 예외 처리 코드\n",
        "finally:\n",
        "    # 예외 발생 여부와 상관없이 항상 실행되는 코드"
      ],
      "metadata": {
        "colab": {
          "base_uri": "https://localhost:8080/",
          "height": 137
        },
        "id": "lZUYR-kffNeG",
        "outputId": "0aa5a8e9-3fe5-45ee-a73e-a39b46662230"
      },
      "execution_count": null,
      "outputs": [
        {
          "output_type": "error",
          "ename": "IndentationError",
          "evalue": "ignored",
          "traceback": [
            "\u001b[0;36m  File \u001b[0;32m\"<ipython-input-30-5442974e7414>\"\u001b[0;36m, line \u001b[0;32m3\u001b[0m\n\u001b[0;31m    except:\u001b[0m\n\u001b[0m    ^\u001b[0m\n\u001b[0;31mIndentationError\u001b[0m\u001b[0;31m:\u001b[0m expected an indented block after 'try' statement on line 1\n"
          ]
        }
      ]
    },
    {
      "cell_type": "code",
      "source": [
        "try:\n",
        "    1/0\n",
        "except:\n",
        "    print('hello')\n",
        "finally:\n",
        "    print('world')"
      ],
      "metadata": {
        "colab": {
          "base_uri": "https://localhost:8080/"
        },
        "id": "Dr8KHpaMfSML",
        "outputId": "cd009a46-9282-4b61-f2d1-6e3449435e75"
      },
      "execution_count": null,
      "outputs": [
        {
          "output_type": "stream",
          "name": "stdout",
          "text": [
            "hello\n",
            "world\n"
          ]
        }
      ]
    },
    {
      "cell_type": "code",
      "source": [
        "try:\n",
        "    # 예외가 발생할 가능성이 있는 코드\n",
        "except:\n",
        "    # 예외 처리 코드\n",
        "else:\n",
        "    # 예외가 발생하지 않을 때 실행되는 코드\n",
        "finally:\n",
        "    # 예외 발생 여부와 상관없이 항상 실행되는 코드"
      ],
      "metadata": {
        "id": "Y5FSbK6FfgT0"
      },
      "execution_count": null,
      "outputs": []
    },
    {
      "cell_type": "code",
      "source": [
        "try:\n",
        "    10/2\n",
        "except:\n",
        "    rpint('except')\n",
        "else:\n",
        "    print('else')\n",
        "finally:\n",
        "    print('finally')"
      ],
      "metadata": {
        "colab": {
          "base_uri": "https://localhost:8080/"
        },
        "id": "2GY2gnhHfw0R",
        "outputId": "979d7bdb-ee0e-4b5f-c0b0-3c12eab0bcc9"
      },
      "execution_count": null,
      "outputs": [
        {
          "output_type": "stream",
          "name": "stdout",
          "text": [
            "else\n",
            "finally\n"
          ]
        }
      ]
    },
    {
      "cell_type": "code",
      "source": [
        "# raise 애러이름\n",
        "raise ValueError"
      ],
      "metadata": {
        "colab": {
          "base_uri": "https://localhost:8080/",
          "height": 193
        },
        "id": "A8hqFPJrf985",
        "outputId": "a5c64574-3a5b-4c02-8d17-c5b604b424e6"
      },
      "execution_count": null,
      "outputs": [
        {
          "output_type": "error",
          "ename": "ValueError",
          "evalue": "ignored",
          "traceback": [
            "\u001b[0;31m---------------------------------------------------------------------------\u001b[0m",
            "\u001b[0;31mValueError\u001b[0m                                Traceback (most recent call last)",
            "\u001b[0;32m<ipython-input-34-ea8ffc0226cd>\u001b[0m in \u001b[0;36m<cell line: 2>\u001b[0;34m()\u001b[0m\n\u001b[1;32m      1\u001b[0m \u001b[0;31m# raise 애러이름\u001b[0m\u001b[0;34m\u001b[0m\u001b[0;34m\u001b[0m\u001b[0m\n\u001b[0;32m----> 2\u001b[0;31m \u001b[0;32mraise\u001b[0m \u001b[0mValueError\u001b[0m\u001b[0;34m\u001b[0m\u001b[0;34m\u001b[0m\u001b[0m\n\u001b[0m",
            "\u001b[0;31mValueError\u001b[0m: "
          ]
        }
      ]
    },
    {
      "cell_type": "code",
      "source": [
        "raise LeeHojun"
      ],
      "metadata": {
        "colab": {
          "base_uri": "https://localhost:8080/",
          "height": 174
        },
        "id": "6I2P6zZLgJ8D",
        "outputId": "1e2be87a-efc3-41eb-9d05-45858de2df97"
      },
      "execution_count": null,
      "outputs": [
        {
          "output_type": "error",
          "ename": "NameError",
          "evalue": "ignored",
          "traceback": [
            "\u001b[0;31m---------------------------------------------------------------------------\u001b[0m",
            "\u001b[0;31mNameError\u001b[0m                                 Traceback (most recent call last)",
            "\u001b[0;32m<ipython-input-36-96965eba839a>\u001b[0m in \u001b[0;36m<cell line: 1>\u001b[0;34m()\u001b[0m\n\u001b[0;32m----> 1\u001b[0;31m \u001b[0;32mraise\u001b[0m \u001b[0mLeeHojun\u001b[0m\u001b[0;34m\u001b[0m\u001b[0;34m\u001b[0m\u001b[0m\n\u001b[0m",
            "\u001b[0;31mNameError\u001b[0m: name 'LeeHojun' is not defined"
          ]
        }
      ]
    },
    {
      "cell_type": "code",
      "source": [
        "raise ValueError('코드를 잘~~ 만들어주세요.')"
      ],
      "metadata": {
        "colab": {
          "base_uri": "https://localhost:8080/",
          "height": 174
        },
        "id": "A4_45KDugSnx",
        "outputId": "667087e8-30b6-4868-abe5-a375a2ce6b7a"
      },
      "execution_count": null,
      "outputs": [
        {
          "output_type": "error",
          "ename": "ValueError",
          "evalue": "ignored",
          "traceback": [
            "\u001b[0;31m---------------------------------------------------------------------------\u001b[0m",
            "\u001b[0;31mValueError\u001b[0m                                Traceback (most recent call last)",
            "\u001b[0;32m<ipython-input-37-805fbfed3b7d>\u001b[0m in \u001b[0;36m<cell line: 1>\u001b[0;34m()\u001b[0m\n\u001b[0;32m----> 1\u001b[0;31m \u001b[0;32mraise\u001b[0m \u001b[0mValueError\u001b[0m\u001b[0;34m(\u001b[0m\u001b[0;34m'코드를 잘~~ 만들어주세요.'\u001b[0m\u001b[0;34m)\u001b[0m\u001b[0;34m\u001b[0m\u001b[0;34m\u001b[0m\u001b[0m\n\u001b[0m",
            "\u001b[0;31mValueError\u001b[0m: 코드를 잘~~ 만들어주세요."
          ]
        }
      ]
    },
    {
      "cell_type": "code",
      "source": [
        "try:\n",
        "    1/0\n",
        "except ValueError:\n",
        "    print('ValueError')\n",
        "except ZeroDivisionError:\n",
        "    print('ZeroDivisionError')\n",
        "\n",
        "print(ZeroDivisionError)\n",
        "print(type(ZeroDivisionError))\n",
        "print(dir(ZeroDivisionError))\n",
        "\n"
      ],
      "metadata": {
        "colab": {
          "base_uri": "https://localhost:8080/"
        },
        "id": "nMxctH2Kgin4",
        "outputId": "e10d1d38-907a-4363-b94a-4985d60555ab"
      },
      "execution_count": null,
      "outputs": [
        {
          "output_type": "stream",
          "name": "stdout",
          "text": [
            "ZeroDivisionError\n",
            "<class 'ZeroDivisionError'>\n",
            "<class 'type'>\n",
            "['__cause__', '__class__', '__context__', '__delattr__', '__dict__', '__dir__', '__doc__', '__eq__', '__format__', '__ge__', '__getattribute__', '__gt__', '__hash__', '__init__', '__init_subclass__', '__le__', '__lt__', '__ne__', '__new__', '__reduce__', '__reduce_ex__', '__repr__', '__setattr__', '__setstate__', '__sizeof__', '__str__', '__subclasshook__', '__suppress_context__', '__traceback__', 'args', 'with_traceback']\n"
          ]
        }
      ]
    },
    {
      "cell_type": "markdown",
      "source": [],
      "metadata": {
        "id": "xfaKRV34ZxWg"
      }
    },
    {
      "cell_type": "code",
      "source": [
        "원주율 = 3.141592\n",
        "int(원주율)"
      ],
      "metadata": {
        "colab": {
          "base_uri": "https://localhost:8080/"
        },
        "id": "eWvsYoh2YgBj",
        "outputId": "a2290bf8-fccf-49a2-e021-c3f961415305"
      },
      "execution_count": null,
      "outputs": [
        {
          "output_type": "execute_result",
          "data": {
            "text/plain": [
              "3"
            ]
          },
          "metadata": {},
          "execution_count": 41
        }
      ]
    },
    {
      "cell_type": "code",
      "source": [
        "True로 사용되는것\n",
        "a. None\n",
        "b. 1\n",
        "c. \"\"\n",
        "d. 0\n",
        "e. bool(0)\n",
        "\n",
        "b. 1"
      ],
      "metadata": {
        "id": "UXBUO4oohq-3"
      },
      "execution_count": null,
      "outputs": []
    },
    {
      "cell_type": "code",
      "source": [
        "3.\n",
        "my_name = '김민석'\n",
        "\n",
        "print(f'안녕하세요 {my_name} 입니다.')"
      ],
      "metadata": {
        "colab": {
          "base_uri": "https://localhost:8080/"
        },
        "id": "dXsY2Zpph170",
        "outputId": "023896b8-8788-4759-adb1-ffd867a16b0d"
      },
      "execution_count": null,
      "outputs": [
        {
          "output_type": "stream",
          "name": "stdout",
          "text": [
            "안녕하세요 김민석 입니다.\n"
          ]
        }
      ]
    },
    {
      "cell_type": "code",
      "source": [
        "4. 리스트 요소 삭제 방법으로 맞지 않는 것은?\n",
        "a. del구문\n",
        "b. clear()\n",
        "c. reverse()\n",
        "d. remove()\n",
        "e. pop()\n",
        "\n",
        "c."
      ],
      "metadata": {
        "id": "q58JBcl1iPxS"
      },
      "execution_count": null,
      "outputs": []
    },
    {
      "cell_type": "code",
      "source": [
        "num = int(input(3))\n",
        "\n",
        "def divisor(num):\n",
        "    data = []\n",
        "\n",
        "    for i in range(1, num + 1):\n",
        "        if num % i == 0:\n",
        "            data.append(i)\n",
        "    return data\n",
        "\n",
        "divisor(3)"
      ],
      "metadata": {
        "id": "dTX0H5-Bw-d4"
      },
      "execution_count": null,
      "outputs": []
    },
    {
      "cell_type": "code",
      "source": [
        "7. 함수는 2차원 리스트를 입력받습니다.\n",
        " 아래와 같이 2차원 리스트를 두번째값을 \n",
        " 기준으로 내림차순 정렳하는 함수를 만들어 주세요.\n",
        "\n",
        " def solution(1):\n",
        "    return\n",
        "\n",
        "solution([[10, 50], [20, 3], [30, 4], [40, 1]])\n",
        "# 정답 : [[10, 5], [30, 4], [20, 3], [40, 1]]"
      ],
      "metadata": {
        "id": "5FR9BF-Oykja"
      },
      "execution_count": null,
      "outputs": []
    },
    {
      "cell_type": "code",
      "source": [
        "ㅁ"
      ],
      "metadata": {
        "id": "N7pySG9WzAe9"
      },
      "execution_count": null,
      "outputs": []
    },
    {
      "cell_type": "code",
      "source": [
        "8. 2차원 리스트가 주어졌을 때 각 값의 차를 저장한 리스트를 출력해주세요.\n",
        "\n",
        "l = []\n",
        "for i in [[10, 5], [20, 3], [30, 4], [40, 1]]:\n",
        "    l.append(i[0] - i[1])\n",
        "l"
      ],
      "metadata": {
        "id": "SGjV0j5czA3n"
      },
      "execution_count": null,
      "outputs": []
    },
    {
      "cell_type": "code",
      "source": [
        "l = []\n",
        "for i, j in [[10, 5], [20, 3], [30, 4], [40, 1]]:\n",
        "    l.append(i - j)\n",
        "l"
      ],
      "metadata": {
        "id": "5lVf2P7Lzn7W"
      },
      "execution_count": null,
      "outputs": []
    },
    {
      "cell_type": "code",
      "source": [
        "l = [i - j for i, j in [[10, 5], [20, 3], [30, 4], [40, 1]]]\n",
        "l"
      ],
      "metadata": {
        "id": "I42uUm9dzqU9"
      },
      "execution_count": null,
      "outputs": []
    },
    {
      "cell_type": "code",
      "source": [
        "l = [[10, 5], [20, 30], [30, 4], [40, 1]]\n",
        "map[lambda x: x[0]-x[1], l]"
      ],
      "metadata": {
        "id": "cx3OOQvqzsFO"
      },
      "execution_count": null,
      "outputs": []
    },
    {
      "cell_type": "code",
      "source": [
        "9. 주어진 문자열의 합을 구하는 코드를 작성하세요.\n",
        "\n",
        "def solution(s):\n",
        "    return\n",
        "\n",
        "solution('11123')\n",
        "# 정답 : 8"
      ],
      "metadata": {
        "id": "HljFJjG50C2y"
      },
      "execution_count": null,
      "outputs": []
    },
    {
      "cell_type": "code",
      "source": [
        "s = 0\n",
        "for i in  '11123':\n",
        "    s += int(i)\n",
        "s"
      ],
      "metadata": {
        "colab": {
          "base_uri": "https://localhost:8080/"
        },
        "id": "cliR8qJ50MLC",
        "outputId": "1d016b64-e0d1-445a-96d4-6a8a6e47a158"
      },
      "execution_count": null,
      "outputs": [
        {
          "output_type": "execute_result",
          "data": {
            "text/plain": [
              "8"
            ]
          },
          "metadata": {},
          "execution_count": 48
        }
      ]
    },
    {
      "cell_type": "code",
      "source": [
        "[int(i) for i in  '11123']"
      ],
      "metadata": {
        "colab": {
          "base_uri": "https://localhost:8080/"
        },
        "id": "QXrLjyXV0SNp",
        "outputId": "3340e2c2-40fc-406a-93fb-88e51a0a9101"
      },
      "execution_count": null,
      "outputs": [
        {
          "output_type": "execute_result",
          "data": {
            "text/plain": [
              "[1, 1, 1, 2, 3]"
            ]
          },
          "metadata": {},
          "execution_count": 49
        }
      ]
    },
    {
      "cell_type": "code",
      "source": [
        "sum([int(i) for i in  '11123'])"
      ],
      "metadata": {
        "colab": {
          "base_uri": "https://localhost:8080/"
        },
        "id": "vaWEjl3O0V3c",
        "outputId": "aa45ba0e-3e6e-48d8-8d47-208ceb70ce62"
      },
      "execution_count": null,
      "outputs": [
        {
          "output_type": "execute_result",
          "data": {
            "text/plain": [
              "8"
            ]
          },
          "metadata": {},
          "execution_count": 51
        }
      ]
    },
    {
      "cell_type": "code",
      "source": [
        "list(map(int, '11123'))"
      ],
      "metadata": {
        "colab": {
          "base_uri": "https://localhost:8080/"
        },
        "id": "a_6g0g8B0aCL",
        "outputId": "84963f59-040f-45b6-d26d-72ab798e0759"
      },
      "execution_count": null,
      "outputs": [
        {
          "output_type": "execute_result",
          "data": {
            "text/plain": [
              "[1, 1, 1, 2, 3]"
            ]
          },
          "metadata": {},
          "execution_count": 54
        }
      ]
    },
    {
      "cell_type": "code",
      "source": [
        "sum(map(int, '11123'))"
      ],
      "metadata": {
        "colab": {
          "base_uri": "https://localhost:8080/"
        },
        "id": "wZ4j4vHz0kD2",
        "outputId": "e73e91a1-ec91-4633-b392-606f5a13cc7c"
      },
      "execution_count": null,
      "outputs": [
        {
          "output_type": "execute_result",
          "data": {
            "text/plain": [
              "8"
            ]
          },
          "metadata": {},
          "execution_count": 56
        }
      ]
    },
    {
      "cell_type": "code",
      "source": [
        "10번 문제\n",
        "주어진 문자열에서 '!'와 공백을 없애는 코드를 작성하세요.\n",
        "\n",
        "def solution(s):\n",
        "    return"
      ],
      "metadata": {
        "id": "7mtiizac00gN"
      },
      "execution_count": null,
      "outputs": []
    },
    {
      "cell_type": "code",
      "source": [
        "'!hello!wor     ld     '.replace('!', '')"
      ],
      "metadata": {
        "colab": {
          "base_uri": "https://localhost:8080/",
          "height": 35
        },
        "id": "a6CfUDwN06HR",
        "outputId": "f7130aa2-2cc8-4cdb-fc1e-ee195c178dcf"
      },
      "execution_count": null,
      "outputs": [
        {
          "output_type": "execute_result",
          "data": {
            "text/plain": [
              "'hellowor     ld     '"
            ],
            "application/vnd.google.colaboratory.intrinsic+json": {
              "type": "string"
            }
          },
          "metadata": {},
          "execution_count": 57
        }
      ]
    },
    {
      "cell_type": "markdown",
      "source": [],
      "metadata": {
        "id": "9WPAL2WNXBVh"
      }
    },
    {
      "cell_type": "markdown",
      "source": [
        "## 클로저, 팩토리 함수"
      ],
      "metadata": {
        "id": "xRaPvhqF1O35"
      }
    },
    {
      "cell_type": "code",
      "source": [
        "def one(x):\n",
        "    def two(a, b):\n",
        "        return a + b + x\n",
        "    return two\n",
        "\n",
        "hello = one(10) # hello == two\n",
        "hello(2, 3) # hello() == two()"
      ],
      "metadata": {
        "colab": {
          "base_uri": "https://localhost:8080/"
        },
        "id": "kyIIwwYZ1QOU",
        "outputId": "0e9bfb74-338f-4c48-b8a0-51a11788286f"
      },
      "execution_count": null,
      "outputs": [
        {
          "output_type": "execute_result",
          "data": {
            "text/plain": [
              "15"
            ]
          },
          "metadata": {},
          "execution_count": 61
        }
      ]
    },
    {
      "cell_type": "code",
      "source": [
        "def user(username, usermoney):\n",
        "    def buy(productname, productprice):\n",
        "        leftmoney = usermoney - productprice\n",
        "        return f'{productname}를 {username}님이 구매하셔서 계좌에 {leftmoney}가 남아있습니다.'\n",
        "    return buy\n",
        "\n",
        "이호준구매 = user('leehojun', 1000000)\n",
        "이호준구매('자전거', 100000)\n",
        "\n",
        "홍길동구매 = user('hongildong', 1000000)\n",
        "홍길동구매('퀵보드', 50000)"
      ],
      "metadata": {
        "colab": {
          "base_uri": "https://localhost:8080/",
          "height": 35
        },
        "id": "TsAQW8luJCQz",
        "outputId": "05aa9de7-3aab-4d79-bfdb-227b77ce8d9d"
      },
      "execution_count": null,
      "outputs": [
        {
          "output_type": "execute_result",
          "data": {
            "text/plain": [
              "'퀵보드를 hongildong님이 구매하셔서 계좌에 950000가 남아있습니다.'"
            ],
            "application/vnd.google.colaboratory.intrinsic+json": {
              "type": "string"
            }
          },
          "metadata": {},
          "execution_count": 64
        }
      ]
    },
    {
      "cell_type": "code",
      "source": [
        "# S은행에 입사를 했습니다. 여러분들의 권한은 이호준구매 등에 구매함수만 조작할 수 있습니다.\n",
        "# 이렇게 되면 계좌 정보를 접근할 수가 없겠죠?\n",
        "# 접근 통제, 제한, 변수 보호 등으로 사용합니다."
      ],
      "metadata": {
        "id": "IBY6RcKaKgOw"
      },
      "execution_count": null,
      "outputs": []
    },
    {
      "cell_type": "code",
      "source": [],
      "metadata": {
        "id": "PJk2j0MGI6IA"
      },
      "execution_count": null,
      "outputs": []
    },
    {
      "cell_type": "code",
      "source": [],
      "metadata": {
        "id": "AerE78n4U_ri"
      },
      "execution_count": null,
      "outputs": []
    },
    {
      "cell_type": "code",
      "source": [],
      "metadata": {
        "id": "WoURxxIOIk_P"
      },
      "execution_count": null,
      "outputs": []
    }
  ]
}