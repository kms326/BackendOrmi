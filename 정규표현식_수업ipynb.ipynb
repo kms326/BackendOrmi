{
  "nbformat": 4,
  "nbformat_minor": 0,
  "metadata": {
    "colab": {
      "provenance": [],
      "authorship_tag": "ABX9TyNppoIfKhSZAmCQdkTps19G",
      "include_colab_link": true
    },
    "kernelspec": {
      "name": "python3",
      "display_name": "Python 3"
    },
    "language_info": {
      "name": "python"
    }
  },
  "cells": [
    {
      "cell_type": "markdown",
      "metadata": {
        "id": "view-in-github",
        "colab_type": "text"
      },
      "source": [
        "<a href=\"https://colab.research.google.com/github/kms326/BackendOrmi/blob/main/%EC%A0%95%EA%B7%9C%ED%91%9C%ED%98%84%EC%8B%9D_%EC%88%98%EC%97%85ipynb.ipynb\" target=\"_parent\"><img src=\"https://colab.research.google.com/assets/colab-badge.svg\" alt=\"Open In Colab\"/></a>"
      ]
    },
    {
      "cell_type": "markdown",
      "source": [
        "## 정규표현식\n",
        "    * Anchoprs (처음와 끝)\n",
        "    '''\n",
        "    /^hello/gm : 처음에 hello\n",
        "    /hello$/gm : 끝에 hello\n",
        "\n",
        "* dot (모든 문자)\n",
        "    '''\n",
        "    /.ello/gm : hello Hello, vello\n",
        "    /./gm : 모든 문자열(*과 같은 역할)\n",
        "    /...../gm : 모든 6개의 문자열\n",
        "\n",
        "* 대괄호 택(1)\n",
        "    '''\n",
        "    /h[eay]llo/gm : 대괄호 안에 문자는 문자\n",
        "    1개에 해당!\n",
        "    /h[ea]l../gm : 총 5개의 문자\n",
        "    '''\n",
        "\n",
        "* 대쉬 (범위)\n",
        "    '''\n",
        "\n",
        "    /h[a-f]llogm\n",
        "    /[a-zA-Z0-9]/gm : 모든 알파뱃과 숫자를\n",
        "    찾음\n",
        "    /[^a-zA-Z0]/gm : 나머지 문자열을 찾음\n",
        "    '''\n",
        "* 캐럿(caret) (대괄호 안에 들어가면 부정)\n",
        "    * 아래 경우 a와 e가 모두 부정\n",
        "    '''\n",
        "    /h[^ae]llo/gm: 대괄호 안에 있다면 not에\n",
        "    의미\n",
        "    '''\n",
        "\n",
        "* 소괄호 (서브패턴, 그룹)\n",
        "    '''\n",
        "    /(on|ues|rida)/gm : 그룹 1로 3개 중\n",
        "    매칭되는 패턴 찾음\n",
        "    '''\n",
        "\n",
        "* 수량자\n",
        "    '''\n",
        "    _* : 앞에 있는 문자가 0개 ~ N개\n",
        "    _+ : 앞에 있는 문자가 1개 ~ N개\n",
        "    _? : 앞에 있는 문자가 0개 ~ 1개\n",
        "\n",
        "    {3} : 3개\n",
        "    {3,] : 3개 이상\n",
        "    {1,3} : 1개 ~ 3개\n",
        "* 캐릭터 클래스\n",
        "    '''\n",
        "    \n",
        "\n",
        "* 전화번호\n",
        "    '''\n",
        "    010[-,. ]?[0-9]{4][-,. ]?[0-9]{4}\n",
        "    '''\n",
        "\n",
        "\n",
        "\n",
        "\n"
      ],
      "metadata": {
        "id": "qd_gXyMS1aZE"
      }
    },
    {
      "cell_type": "markdown",
      "source": [
        "* 공식문서 : https://docs.python.org/ko/3/library/re.html\n"
      ],
      "metadata": {
        "id": "pNL30atMAmVY"
      }
    },
    {
      "cell_type": "markdown",
      "source": [
        "* 정규표현식에서 자주 사용되는 패턴\n",
        "* 아래와 같이 2가지 방법으로 사용할 수 있습니다.\n",
        "\n",
        "    ```\n",
        "    # 1\n",
        "    p = re.compile(r'([0-9]|10)([SDT])([\\*\\#]?)')\n",
        "    p.findall('1S2D*3T')\n",
        "\n",
        "    # 2\n",
        "    re.findall(r'([0-9]|10)([SDT])([\\*\\#]?)', '1S2D*3T')\n",
        "    ```\n",
        "    * compile() : 패턴 컴파일\n",
        "    * match() : 문자열의 앞 부분이 매치되는가를 체크, 추출\n",
        "    * sub() : 매치된 부분을 치환(str에 replace와 같은 역할)\n",
        "    * search() : 선두에 한해서 매치하는지를 체크, 추출\n",
        "    * findall() : 매치된 부분 모두 리스트 반환\n",
        "    * finditer() : 정규식과 매치되는 모든 문자열(substring)을 반복 가능한 객체로 리턴한다.\n",
        "    * spilt() : 정규표현 패턴으로 문자열을 분할(str에 split과 같은 역할)\n",
        "\n",
        "* 반환 객체의 값\n",
        "    * group() : 매치된 문자열\n",
        "    * groups() : 매치된 문자열 전체\n",
        "    * start() : 매치된 문자열의 시작 위치\n",
        "    * end() : 매치된 문자열의 끝 위치\n",
        "    * span() : 매치된 문자열의 시작과 끝\n",
        "\n",
        "* 컴파일 옵션(플래그)\n",
        "    * 사용 예\n",
        "    ```\n",
        "    re.compile('[a-z]+', re.I)\n",
        "    ```\n",
        "    * re.DOTALL, re.S : 줄바꿈 문자까지 모두 매칭\n",
        "    * re.IGNORECASE, re.I : 대소문자 구분하지 않음\n",
        "    * re.MULTILINE, re.M : ^, & 등의 매칭 패턴을 라인마다 적용\n",
        "    * re.VERBOSE, re.X : 아래와 같이 #으로 주석문을 사용할 수 있음\n",
        "    ```\n",
        "    a = re.compile(r\"\"\"\\d +  # the integral part\n",
        "                   \\.    # the decimal point\n",
        "                   \\d *  # some fractional digits\"\"\", re.X)\n",
        "    b = re.compile(r\"\\d+\\.\\d*\")\n",
        "    ```\n",
        "\n",
        "* tip\n",
        "    * 같은 패턴입니다.\n",
        "    ```\n",
        "    re.compile('\\\\\\\\section')\n",
        "    re.compile(r'\\\\section')\n",
        "    ```\n",
        "    * {}를 표현하고 싶을 때에는 중괄호 2개, 또는 때에 따라 3개가 필요합니다.\n",
        "    ```\n",
        "    re.compile(f'{{section}}')\n",
        "    ```"
      ],
      "metadata": {
        "id": "0-X9zazhBEI7"
      }
    },
    {
      "cell_type": "code",
      "source": [
        "import re\n",
        "\n",
        "p = re.compile(r'([0-9]|10)([SDT])([\\*\\#]?)')\n",
        "p.findall('1S2D*3T')"
      ],
      "metadata": {
        "colab": {
          "base_uri": "https://localhost:8080/"
        },
        "id": "1e2wbkBeCxPs",
        "outputId": "2611d61f-9053-483f-cf1f-ef5849e358dc"
      },
      "execution_count": 2,
      "outputs": [
        {
          "output_type": "execute_result",
          "data": {
            "text/plain": [
              "[('1', 'S', ''), ('2', 'D', '*'), ('3', 'T', '')]"
            ]
          },
          "metadata": {},
          "execution_count": 2
        }
      ]
    },
    {
      "cell_type": "markdown",
      "source": [
        "## compile"
      ],
      "metadata": {
        "id": "o3DNV2UtE1ZH"
      }
    },
    {
      "cell_type": "code",
      "source": [
        "import re\n",
        "\n",
        "p = re.compile('h[eao]llo')"
      ],
      "metadata": {
        "id": "7tLPulPDE27u"
      },
      "execution_count": 4,
      "outputs": []
    },
    {
      "cell_type": "code",
      "source": [
        "text = '''hello\n",
        "hallo\n",
        "hollo\n",
        "'''\n",
        "text"
      ],
      "metadata": {
        "colab": {
          "base_uri": "https://localhost:8080/",
          "height": 35
        },
        "id": "Q7E51mtGDcvw",
        "outputId": "5c244511-25c3-4bbf-a39f-64edc7b53e38"
      },
      "execution_count": 3,
      "outputs": [
        {
          "output_type": "execute_result",
          "data": {
            "text/plain": [
              "'hello\\nhallo\\nhollo\\n'"
            ],
            "application/vnd.google.colaboratory.intrinsic+json": {
              "type": "string"
            }
          },
          "metadata": {},
          "execution_count": 3
        }
      ]
    },
    {
      "cell_type": "markdown",
      "source": [
        "## match"
      ],
      "metadata": {
        "id": "Ngj25bghFrEj"
      }
    },
    {
      "cell_type": "code",
      "source": [
        "# 실무에서는 특정한 패턴이 존재하는지만 사용하는 것으로 많이 사용합니다.\n",
        "# 찾아서 무언가를 하는 것은 findall이나 sub 이런 메서드를 많이 사용합니다."
      ],
      "metadata": {
        "id": "BNjoHJQAHQj5"
      },
      "execution_count": null,
      "outputs": []
    },
    {
      "cell_type": "code",
      "source": [
        "import re\n",
        "\n",
        "p = re.compile('h[eao]llo')\n",
        "p.match('hello hallo hollo hillo hallo')"
      ],
      "metadata": {
        "colab": {
          "base_uri": "https://localhost:8080/"
        },
        "id": "LjiUTGF5Fsg7",
        "outputId": "1eb1cda8-8a31-4f68-adf0-3b36d2044d72"
      },
      "execution_count": 5,
      "outputs": [
        {
          "output_type": "execute_result",
          "data": {
            "text/plain": [
              "<re.Match object; span=(0, 5), match='hello'>"
            ]
          },
          "metadata": {},
          "execution_count": 5
        }
      ]
    },
    {
      "cell_type": "code",
      "source": [
        "result = p.match('hello hallo hollo hillo hallo')\n",
        "# result.group(0)\n",
        "# result.group(1)\n",
        "\n"
      ],
      "metadata": {
        "colab": {
          "base_uri": "https://localhost:8080/",
          "height": 137
        },
        "id": "EM_FcPsMFiIH",
        "outputId": "339b67af-c78e-4f38-d1ff-5db881d6eee1"
      },
      "execution_count": 12,
      "outputs": [
        {
          "output_type": "error",
          "ename": "IndentationError",
          "evalue": "ignored",
          "traceback": [
            "\u001b[0;36m  File \u001b[0;32m\"<ipython-input-12-1547a66f6298>\"\u001b[0;36m, line \u001b[0;32m3\u001b[0m\n\u001b[0;31m    result.group(1)\u001b[0m\n\u001b[0m    ^\u001b[0m\n\u001b[0;31mIndentationError\u001b[0m\u001b[0;31m:\u001b[0m unexpected indent\n"
          ]
        }
      ]
    },
    {
      "cell_type": "code",
      "source": [
        "import re\n",
        "\n",
        "p = re.compile('(\\w+) (\\w+) (\\w+)')\n",
        "result = p.match('hello hallo hollo hillo hallo')\n",
        "result.group(0) # 전체 그룹\n",
        "result.group(1) # 그룹1\n",
        "result.group(2) # 그룹2\n",
        "result.group(3) # 그룹3\n"
      ],
      "metadata": {
        "colab": {
          "base_uri": "https://localhost:8080/",
          "height": 35
        },
        "id": "ZNA-MVFiGn7m",
        "outputId": "87f1a60e-f1b3-4a4c-f958-d4f826398ea8"
      },
      "execution_count": 11,
      "outputs": [
        {
          "output_type": "execute_result",
          "data": {
            "text/plain": [
              "'hello'"
            ],
            "application/vnd.google.colaboratory.intrinsic+json": {
              "type": "string"
            }
          },
          "metadata": {},
          "execution_count": 11
        }
      ]
    },
    {
      "cell_type": "code",
      "source": [
        "import re\n",
        "\n",
        "p = re.compile('(\\w+) (\\w+) (\\w+)')\n",
        "result = p.match('hello hallo hollo hillo hallo')\n",
        "result.group(1, 2) # 그룹1, 그룹2"
      ],
      "metadata": {
        "id": "mJMyQEbyHD0f"
      },
      "execution_count": null,
      "outputs": []
    },
    {
      "cell_type": "code",
      "execution_count": 13,
      "metadata": {
        "id": "NXeyu774zQTL"
      },
      "outputs": [],
      "source": [
        "import re\n",
        "\n",
        "p = re.compile('h[eao]llo')\n",
        "p.match('hillo hallo hollo hillo hallo') \n",
        "# None값이 출력된 것입니다.\n",
        "# 문자열 앞쪽이 매칭이 안된 것입니다."
      ]
    },
    {
      "cell_type": "code",
      "source": [
        "# 아래 문법은 match 마ㅣㄹ고도 다른 문법에서도 사용이 가능합니다.\n",
        "m = re.match(r\"(?P<first_name>\\w+) (?P<last_name>\\w+)\", \"Malcolm Reynolds\")\n",
        "m.group('first_name'), m.group('last_name')"
      ],
      "metadata": {
        "colab": {
          "base_uri": "https://localhost:8080/"
        },
        "id": "S7sGH1hxICIw",
        "outputId": "e719a87e-e5de-4f93-b2fe-3cc569f0f658"
      },
      "execution_count": 14,
      "outputs": [
        {
          "output_type": "execute_result",
          "data": {
            "text/plain": [
              "('Malcolm', 'Reynolds')"
            ]
          },
          "metadata": {},
          "execution_count": 14
        }
      ]
    },
    {
      "cell_type": "code",
      "source": [
        "m[0]"
      ],
      "metadata": {
        "colab": {
          "base_uri": "https://localhost:8080/",
          "height": 35
        },
        "id": "3foT_wvmImCh",
        "outputId": "faff6cbc-4c24-4cef-fb30-7f2f44ad3c96"
      },
      "execution_count": 15,
      "outputs": [
        {
          "output_type": "execute_result",
          "data": {
            "text/plain": [
              "'Malcolm Reynolds'"
            ],
            "application/vnd.google.colaboratory.intrinsic+json": {
              "type": "string"
            }
          },
          "metadata": {},
          "execution_count": 15
        }
      ]
    },
    {
      "cell_type": "code",
      "source": [
        "m[1], m[2]"
      ],
      "metadata": {
        "colab": {
          "base_uri": "https://localhost:8080/"
        },
        "id": "RrWqMJqYInwF",
        "outputId": "2151e74c-6378-4602-fa4b-0539e0ff8396"
      },
      "execution_count": 17,
      "outputs": [
        {
          "output_type": "execute_result",
          "data": {
            "text/plain": [
              "('Malcolm', 'Reynolds')"
            ]
          },
          "metadata": {},
          "execution_count": 17
        }
      ]
    },
    {
      "cell_type": "code",
      "source": [
        "m = re.match(r\"010-(?P<앞자리>[0-9]{4})-(?P<뒷자리>[0-9]{4})\", \"010-1000-2000\")\n",
        "m.group('앞자리'), m.group('뒷자리')"
      ],
      "metadata": {
        "colab": {
          "base_uri": "https://localhost:8080/"
        },
        "id": "y09PrxrzIyNb",
        "outputId": "51216ec0-f604-4062-a447-f62b3fdea603"
      },
      "execution_count": 20,
      "outputs": [
        {
          "output_type": "execute_result",
          "data": {
            "text/plain": [
              "('1000', '2000')"
            ]
          },
          "metadata": {},
          "execution_count": 20
        }
      ]
    },
    {
      "cell_type": "code",
      "source": [
        " # 문제 링크 : https://school.programmers.co.kr/learn/courses/30/lessons/120849"
      ],
      "metadata": {
        "id": "nxdq-PAcKYT7"
      },
      "execution_count": null,
      "outputs": []
    },
    {
      "cell_type": "code",
      "source": [
        "# 실제로 실무에서 match 사용되는 패턴 (공식문서)\n",
        "valid = re.compile(r\"^[a2-9tjqk]{5}$\")\n",
        "\n",
        "def displaymatch(match):\n",
        "    if match is None:\n",
        "        return None\n",
        "    return '해당 패턴에 매칭됩니다!'\n",
        "\n",
        "displaymatch(valid.match(\"akt5q\"))"
      ],
      "metadata": {
        "id": "cOi5wOiDJTAJ"
      },
      "execution_count": null,
      "outputs": []
    },
    {
      "cell_type": "code",
      "source": [
        "def solution(my_string):\n",
        "    string = 'aeiou'\n",
        "    for i in string:\n",
        "        my_string = my_string.replace(i, '')\n",
        "    return my_string"
      ],
      "metadata": {
        "id": "VYiPeKxbKN0L"
      },
      "execution_count": null,
      "outputs": []
    },
    {
      "cell_type": "code",
      "source": [
        "import re\n",
        "\n",
        "def solution(my_string):\n",
        "    return re.sub(r\"[aeiou]\", \"\", my_string)\n",
        "\n",
        "solution = lambda my_string: re.sub(r\"[aeiou]\", '', my_string)"
      ],
      "metadata": {
        "id": "nJKIIj1CKa5i"
      },
      "execution_count": null,
      "outputs": []
    },
    {
      "cell_type": "markdown",
      "source": [],
      "metadata": {
        "id": "QE_nzalTK7dI"
      }
    },
    {
      "cell_type": "markdown",
      "source": [],
      "metadata": {
        "id": "tNuGEAxUJjQt"
      }
    },
    {
      "cell_type": "markdown",
      "source": [],
      "metadata": {
        "id": "tQf6VhUNJjOE"
      }
    },
    {
      "cell_type": "markdown",
      "source": [
        "html -> 마크다운\n",
        "마크다운 -> html\n",
        "xml -> 마크다운"
      ],
      "metadata": {
        "id": "Zr6DnpHbIaLb"
      }
    },
    {
      "cell_type": "markdown",
      "source": [],
      "metadata": {
        "id": "mP5IuIl7IaGA"
      }
    }
  ]
}